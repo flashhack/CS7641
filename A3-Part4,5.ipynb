{
 "cells": [
  {
   "cell_type": "code",
   "execution_count": 1,
   "metadata": {},
   "outputs": [
    {
     "name": "stdout",
     "output_type": "stream",
     "text": [
      "Populating the interactive namespace from numpy and matplotlib\n"
     ]
    }
   ],
   "source": [
    "%pylab inline\n",
    "import pandas as pd\n",
    "import numpy as np\n",
    "from pandas import Series, DataFrame\n",
    "import re\n",
    "import datetime as dt\n",
    "import matplotlib.pyplot as plt\n",
    "import time\n",
    "import seaborn as sns"
   ]
  },
  {
   "cell_type": "code",
   "execution_count": 2,
   "metadata": {},
   "outputs": [],
   "source": [
    "def ht(df, n = 5):\n",
    "    print(df.shape)\n",
    "    if len(df) <= 2*n:\n",
    "        display(df)\n",
    "    else:\n",
    "        display(df.head(n).append(df.tail(n)))\n",
    "def pf(df):\n",
    "    pd.set_option('display.max_rows', len(df))\n",
    "    display(df)\n",
    "    pd.reset_option('display.max_rows')"
   ]
  },
  {
   "cell_type": "code",
   "execution_count": 3,
   "metadata": {},
   "outputs": [],
   "source": [
    "pd.set_option('display.max_columns', 100)\n",
    "plt.rc('figure', figsize=(13, 7))\n",
    "plt.style.use('ggplot')"
   ]
  },
  {
   "cell_type": "code",
   "execution_count": 4,
   "metadata": {},
   "outputs": [],
   "source": [
    "from sklearn import datasets"
   ]
  },
  {
   "cell_type": "code",
   "execution_count": 5,
   "metadata": {},
   "outputs": [],
   "source": [
    "from sklearn import preprocessing\n",
    "from sklearn import metrics\n",
    "from sklearn.model_selection import train_test_split"
   ]
  },
  {
   "cell_type": "code",
   "execution_count": 13,
   "metadata": {},
   "outputs": [],
   "source": [
    "from sklearn.preprocessing import StandardScaler"
   ]
  },
  {
   "cell_type": "code",
   "execution_count": 6,
   "metadata": {},
   "outputs": [],
   "source": [
    "breast_cancer = datasets.load_breast_cancer()"
   ]
  },
  {
   "cell_type": "code",
   "execution_count": 7,
   "metadata": {},
   "outputs": [
    {
     "data": {
      "text/plain": [
       "(569, 30)"
      ]
     },
     "execution_count": 7,
     "metadata": {},
     "output_type": "execute_result"
    }
   ],
   "source": [
    "breast_cancer.data.shape"
   ]
  },
  {
   "cell_type": "code",
   "execution_count": 9,
   "metadata": {},
   "outputs": [],
   "source": [
    "digits = datasets.load_digits()"
   ]
  },
  {
   "cell_type": "code",
   "execution_count": 10,
   "metadata": {
    "scrolled": true
   },
   "outputs": [
    {
     "name": "stdout",
     "output_type": "stream",
     "text": [
      ".. _digits_dataset:\n",
      "\n",
      "Optical recognition of handwritten digits dataset\n",
      "--------------------------------------------------\n",
      "\n",
      "**Data Set Characteristics:**\n",
      "\n",
      "    :Number of Instances: 5620\n",
      "    :Number of Attributes: 64\n",
      "    :Attribute Information: 8x8 image of integer pixels in the range 0..16.\n",
      "    :Missing Attribute Values: None\n",
      "    :Creator: E. Alpaydin (alpaydin '@' boun.edu.tr)\n",
      "    :Date: July; 1998\n",
      "\n",
      "This is a copy of the test set of the UCI ML hand-written digits datasets\n",
      "http://archive.ics.uci.edu/ml/datasets/Optical+Recognition+of+Handwritten+Digits\n",
      "\n",
      "The data set contains images of hand-written digits: 10 classes where\n",
      "each class refers to a digit.\n",
      "\n",
      "Preprocessing programs made available by NIST were used to extract\n",
      "normalized bitmaps of handwritten digits from a preprinted form. From a\n",
      "total of 43 people, 30 contributed to the training set and different 13\n",
      "to the test set. 32x32 bitmaps are divided into nonoverlapping blocks of\n",
      "4x4 and the number of on pixels are counted in each block. This generates\n",
      "an input matrix of 8x8 where each element is an integer in the range\n",
      "0..16. This reduces dimensionality and gives invariance to small\n",
      "distortions.\n",
      "\n",
      "For info on NIST preprocessing routines, see M. D. Garris, J. L. Blue, G.\n",
      "T. Candela, D. L. Dimmick, J. Geist, P. J. Grother, S. A. Janet, and C.\n",
      "L. Wilson, NIST Form-Based Handprint Recognition System, NISTIR 5469,\n",
      "1994.\n",
      "\n",
      ".. topic:: References\n",
      "\n",
      "  - C. Kaynak (1995) Methods of Combining Multiple Classifiers and Their\n",
      "    Applications to Handwritten Digit Recognition, MSc Thesis, Institute of\n",
      "    Graduate Studies in Science and Engineering, Bogazici University.\n",
      "  - E. Alpaydin, C. Kaynak (1998) Cascading Classifiers, Kybernetika.\n",
      "  - Ken Tang and Ponnuthurai N. Suganthan and Xi Yao and A. Kai Qin.\n",
      "    Linear dimensionalityreduction using relevance weighted LDA. School of\n",
      "    Electrical and Electronic Engineering Nanyang Technological University.\n",
      "    2005.\n",
      "  - Claudio Gentile. A New Approximate Maximal Margin Classification\n",
      "    Algorithm. NIPS. 2000.\n"
     ]
    }
   ],
   "source": [
    "print(digits.DESCR)"
   ]
  },
  {
   "cell_type": "code",
   "execution_count": 11,
   "metadata": {
    "scrolled": true
   },
   "outputs": [
    {
     "data": {
      "text/plain": [
       "(1797, 64)"
      ]
     },
     "execution_count": 11,
     "metadata": {},
     "output_type": "execute_result"
    }
   ],
   "source": [
    "digits.data.shape"
   ]
  },
  {
   "cell_type": "code",
   "execution_count": 16,
   "metadata": {},
   "outputs": [],
   "source": [
    "seed = 7"
   ]
  },
  {
   "cell_type": "code",
   "execution_count": 26,
   "metadata": {},
   "outputs": [],
   "source": [
    "from collections import Counter"
   ]
  },
  {
   "cell_type": "code",
   "execution_count": 27,
   "metadata": {},
   "outputs": [],
   "source": [
    "def is_balanced(seq):\n",
    "    n = len(seq)\n",
    "    classes = [(clas, float(count)) for clas, count in Counter(seq).items()]\n",
    "    k = len(classes)\n",
    "\n",
    "    H = -sum([(count/n) * np.log((count/n)) for clas, count in classes])\n",
    "    return H/np.log(k) > 0.75"
   ]
  },
  {
   "cell_type": "code",
   "execution_count": 28,
   "metadata": {},
   "outputs": [
    {
     "data": {
      "text/plain": [
       "True"
      ]
     },
     "execution_count": 28,
     "metadata": {},
     "output_type": "execute_result"
    }
   ],
   "source": [
    "is_balanced(digits.target)"
   ]
  },
  {
   "cell_type": "code",
   "execution_count": 29,
   "metadata": {
    "scrolled": true
   },
   "outputs": [
    {
     "data": {
      "text/plain": [
       "True"
      ]
     },
     "execution_count": 29,
     "metadata": {},
     "output_type": "execute_result"
    }
   ],
   "source": [
    "is_balanced(breast_cancer.target)"
   ]
  },
  {
   "cell_type": "code",
   "execution_count": 63,
   "metadata": {},
   "outputs": [],
   "source": [
    "import sklearn.model_selection as ms"
   ]
  },
  {
   "cell_type": "code",
   "execution_count": 64,
   "metadata": {},
   "outputs": [],
   "source": [
    "features = digits.data\n",
    "classes = digits.target"
   ]
  },
  {
   "cell_type": "code",
   "execution_count": 65,
   "metadata": {},
   "outputs": [],
   "source": [
    "test_size = 0.3"
   ]
  },
  {
   "cell_type": "code",
   "execution_count": 66,
   "metadata": {},
   "outputs": [],
   "source": [
    "training_x, testing_x, training_y, testing_y = ms.train_test_split(\n",
    "    features, classes, test_size=test_size, random_state=seed, stratify=classes\n",
    ")"
   ]
  },
  {
   "cell_type": "code",
   "execution_count": 68,
   "metadata": {},
   "outputs": [
    {
     "name": "stdout",
     "output_type": "stream",
     "text": [
      "(1257, 64)\n",
      "(540, 64)\n"
     ]
    }
   ],
   "source": [
    "print(training_x.shape)\n",
    "print(testing_x.shape)"
   ]
  },
  {
   "cell_type": "code",
   "execution_count": 69,
   "metadata": {},
   "outputs": [],
   "source": [
    "scaler = StandardScaler().fit(training_x)"
   ]
  },
  {
   "cell_type": "code",
   "execution_count": 70,
   "metadata": {},
   "outputs": [
    {
     "data": {
      "text/plain": [
       "array([[ 0.,  0.,  4., ...,  5.,  0.,  0.],\n",
       "       [ 0.,  0.,  3., ..., 16., 16., 16.],\n",
       "       [ 0.,  0.,  4., ..., 11.,  0.,  0.],\n",
       "       ...,\n",
       "       [ 0.,  0., 13., ..., 11.,  1.,  0.],\n",
       "       [ 0.,  1., 10., ...,  7.,  0.,  0.],\n",
       "       [ 0.,  0.,  3., ...,  8.,  0.,  0.]])"
      ]
     },
     "execution_count": 70,
     "metadata": {},
     "output_type": "execute_result"
    }
   ],
   "source": [
    "training_x"
   ]
  },
  {
   "cell_type": "code",
   "execution_count": 71,
   "metadata": {},
   "outputs": [],
   "source": [
    "training_x = scaler.transform(training_x)"
   ]
  },
  {
   "cell_type": "code",
   "execution_count": 72,
   "metadata": {},
   "outputs": [],
   "source": [
    "testing_x = scaler.transform(testing_x)"
   ]
  },
  {
   "cell_type": "markdown",
   "metadata": {},
   "source": [
    "## Baseline"
   ]
  },
  {
   "cell_type": "code",
   "execution_count": 75,
   "metadata": {},
   "outputs": [],
   "source": [
    "from sklearn.neural_network import MLPClassifier"
   ]
  },
  {
   "cell_type": "code",
   "execution_count": 76,
   "metadata": {},
   "outputs": [],
   "source": [
    "from sklearn.pipeline import Pipeline"
   ]
  },
  {
   "cell_type": "code",
   "execution_count": 77,
   "metadata": {},
   "outputs": [],
   "source": [
    "_nn_arch = [(50, 50), (50,), (25,), (25, 25), (100, 25, 100)]\n",
    "_nn_reg = [10 ** -x for x in range(1, 5)]"
   ]
  },
  {
   "cell_type": "code",
   "execution_count": 78,
   "metadata": {},
   "outputs": [],
   "source": [
    "grid = {'NN__alpha': _nn_reg, 'NN__hidden_layer_sizes': _nn_arch}\n",
    "mlp = MLPClassifier(activation='relu', max_iter=2000, early_stopping=True, random_state=seed)\n",
    "pipe = Pipeline([('NN', mlp)])"
   ]
  },
  {
   "cell_type": "code",
   "execution_count": 79,
   "metadata": {},
   "outputs": [],
   "source": [
    "from sklearn.model_selection import GridSearchCV"
   ]
  },
  {
   "cell_type": "code",
   "execution_count": 80,
   "metadata": {},
   "outputs": [],
   "source": [
    "from sklearn.metrics import make_scorer, accuracy_score, f1_score"
   ]
  },
  {
   "cell_type": "code",
   "execution_count": 81,
   "metadata": {},
   "outputs": [],
   "source": [
    "from sklearn.utils import compute_sample_weight"
   ]
  },
  {
   "cell_type": "code",
   "execution_count": 82,
   "metadata": {},
   "outputs": [],
   "source": [
    "def balanced_accuracy(truth, pred):\n",
    "    wts = compute_sample_weight('balanced', truth)\n",
    "    return accuracy_score(truth, pred, sample_weight=wts)\n",
    "\n",
    "scorer = make_scorer(balanced_accuracy)"
   ]
  },
  {
   "cell_type": "code",
   "execution_count": 83,
   "metadata": {},
   "outputs": [],
   "source": [
    "def gs_with_best_estimator(pipe, grid):\n",
    "    gs = GridSearchCV(pipe, grid, verbose=10, cv=5, scoring=scorer)\n",
    "    gs.fit(training_x, training_y)\n",
    "\n",
    "    best_estimator = gs.best_estimator_.fit(training_x, training_y)\n",
    "    final_estimator = best_estimator._final_estimator\n",
    "    best_params = pd.DataFrame([best_estimator.get_params()])\n",
    "    final_estimator_params = pd.DataFrame([final_estimator.get_params()])\n",
    "\n",
    "    return gs, best_estimator, final_estimator"
   ]
  },
  {
   "cell_type": "code",
   "execution_count": 84,
   "metadata": {
    "scrolled": true
   },
   "outputs": [
    {
     "name": "stdout",
     "output_type": "stream",
     "text": [
      "Fitting 5 folds for each of 20 candidates, totalling 100 fits\n",
      "[CV] NN__alpha=0.1, NN__hidden_layer_sizes=(50, 50) ..................\n"
     ]
    },
    {
     "name": "stderr",
     "output_type": "stream",
     "text": [
      "[Parallel(n_jobs=1)]: Using backend SequentialBackend with 1 concurrent workers.\n"
     ]
    },
    {
     "name": "stdout",
     "output_type": "stream",
     "text": [
      "[CV]  NN__alpha=0.1, NN__hidden_layer_sizes=(50, 50), score=0.9455384615384614, total=   0.4s\n",
      "[CV] NN__alpha=0.1, NN__hidden_layer_sizes=(50, 50) ..................\n"
     ]
    },
    {
     "name": "stderr",
     "output_type": "stream",
     "text": [
      "[Parallel(n_jobs=1)]: Done   1 out of   1 | elapsed:    0.4s remaining:    0.0s\n"
     ]
    },
    {
     "name": "stdout",
     "output_type": "stream",
     "text": [
      "[CV]  NN__alpha=0.1, NN__hidden_layer_sizes=(50, 50), score=0.9564615384615385, total=   0.3s\n",
      "[CV] NN__alpha=0.1, NN__hidden_layer_sizes=(50, 50) ..................\n"
     ]
    },
    {
     "name": "stderr",
     "output_type": "stream",
     "text": [
      "[Parallel(n_jobs=1)]: Done   2 out of   2 | elapsed:    0.7s remaining:    0.0s\n"
     ]
    },
    {
     "name": "stdout",
     "output_type": "stream",
     "text": [
      "[CV]  NN__alpha=0.1, NN__hidden_layer_sizes=(50, 50), score=0.9438076923076923, total=   0.2s\n",
      "[CV] NN__alpha=0.1, NN__hidden_layer_sizes=(50, 50) ..................\n",
      "[CV]  NN__alpha=0.1, NN__hidden_layer_sizes=(50, 50), score=0.8868333333333334, total=   0.2s\n",
      "[CV] NN__alpha=0.1, NN__hidden_layer_sizes=(50, 50) ..................\n"
     ]
    },
    {
     "name": "stderr",
     "output_type": "stream",
     "text": [
      "[Parallel(n_jobs=1)]: Done   3 out of   3 | elapsed:    1.0s remaining:    0.0s\n",
      "[Parallel(n_jobs=1)]: Done   4 out of   4 | elapsed:    1.1s remaining:    0.0s\n"
     ]
    },
    {
     "name": "stdout",
     "output_type": "stream",
     "text": [
      "[CV]  NN__alpha=0.1, NN__hidden_layer_sizes=(50, 50), score=0.9475, total=   0.4s\n",
      "[CV] NN__alpha=0.1, NN__hidden_layer_sizes=(50,) .....................\n",
      "[CV]  NN__alpha=0.1, NN__hidden_layer_sizes=(50,), score=0.9061538461538461, total=   0.1s\n",
      "[CV] NN__alpha=0.1, NN__hidden_layer_sizes=(50,) .....................\n"
     ]
    },
    {
     "name": "stderr",
     "output_type": "stream",
     "text": [
      "[Parallel(n_jobs=1)]: Done   5 out of   5 | elapsed:    1.5s remaining:    0.0s\n",
      "[Parallel(n_jobs=1)]: Done   6 out of   6 | elapsed:    1.6s remaining:    0.0s\n"
     ]
    },
    {
     "name": "stdout",
     "output_type": "stream",
     "text": [
      "[CV]  NN__alpha=0.1, NN__hidden_layer_sizes=(50,), score=0.9447692307692307, total=   0.2s\n",
      "[CV] NN__alpha=0.1, NN__hidden_layer_sizes=(50,) .....................\n",
      "[CV]  NN__alpha=0.1, NN__hidden_layer_sizes=(50,), score=0.9396410256410256, total=   0.2s\n",
      "[CV] NN__alpha=0.1, NN__hidden_layer_sizes=(50,) .....................\n"
     ]
    },
    {
     "name": "stderr",
     "output_type": "stream",
     "text": [
      "[Parallel(n_jobs=1)]: Done   7 out of   7 | elapsed:    1.9s remaining:    0.0s\n",
      "[Parallel(n_jobs=1)]: Done   8 out of   8 | elapsed:    2.0s remaining:    0.0s\n"
     ]
    },
    {
     "name": "stdout",
     "output_type": "stream",
     "text": [
      "[CV]  NN__alpha=0.1, NN__hidden_layer_sizes=(50,), score=0.9191666666666668, total=   0.2s\n",
      "[CV] NN__alpha=0.1, NN__hidden_layer_sizes=(50,) .....................\n",
      "[CV]  NN__alpha=0.1, NN__hidden_layer_sizes=(50,), score=0.947, total=   0.2s\n",
      "[CV] NN__alpha=0.1, NN__hidden_layer_sizes=(25,) .....................\n"
     ]
    },
    {
     "name": "stderr",
     "output_type": "stream",
     "text": [
      "[Parallel(n_jobs=1)]: Done   9 out of   9 | elapsed:    2.2s remaining:    0.0s\n"
     ]
    },
    {
     "name": "stdout",
     "output_type": "stream",
     "text": [
      "[CV]  NN__alpha=0.1, NN__hidden_layer_sizes=(25,), score=0.8944615384615384, total=   0.2s\n",
      "[CV] NN__alpha=0.1, NN__hidden_layer_sizes=(25,) .....................\n",
      "[CV]  NN__alpha=0.1, NN__hidden_layer_sizes=(25,), score=0.8572307692307694, total=   0.2s\n",
      "[CV] NN__alpha=0.1, NN__hidden_layer_sizes=(25,) .....................\n",
      "[CV]  NN__alpha=0.1, NN__hidden_layer_sizes=(25,), score=0.9638333333333332, total=   0.2s\n",
      "[CV] NN__alpha=0.1, NN__hidden_layer_sizes=(25,) .....................\n",
      "[CV]  NN__alpha=0.1, NN__hidden_layer_sizes=(25,), score=0.9110000000000001, total=   0.2s\n",
      "[CV] NN__alpha=0.1, NN__hidden_layer_sizes=(25,) .....................\n",
      "[CV]  NN__alpha=0.1, NN__hidden_layer_sizes=(25,), score=0.9595000000000001, total=   0.2s\n",
      "[CV] NN__alpha=0.1, NN__hidden_layer_sizes=(25, 25) ..................\n",
      "[CV]  NN__alpha=0.1, NN__hidden_layer_sizes=(25, 25), score=0.9332307692307691, total=   0.3s\n",
      "[CV] NN__alpha=0.1, NN__hidden_layer_sizes=(25, 25) ..................\n",
      "[CV]  NN__alpha=0.1, NN__hidden_layer_sizes=(25, 25), score=0.9169230769230771, total=   0.2s\n",
      "[CV] NN__alpha=0.1, NN__hidden_layer_sizes=(25, 25) ..................\n",
      "[CV]  NN__alpha=0.1, NN__hidden_layer_sizes=(25, 25), score=0.9481410256410256, total=   0.4s\n",
      "[CV] NN__alpha=0.1, NN__hidden_layer_sizes=(25, 25) ..................\n",
      "[CV]  NN__alpha=0.1, NN__hidden_layer_sizes=(25, 25), score=0.9068333333333334, total=   0.2s\n",
      "[CV] NN__alpha=0.1, NN__hidden_layer_sizes=(25, 25) ..................\n",
      "[CV]  NN__alpha=0.1, NN__hidden_layer_sizes=(25, 25), score=0.9511666666666667, total=   0.3s\n",
      "[CV] NN__alpha=0.1, NN__hidden_layer_sizes=(100, 25, 100) ............\n",
      "[CV]  NN__alpha=0.1, NN__hidden_layer_sizes=(100, 25, 100), score=0.9063076923076923, total=   0.2s\n",
      "[CV] NN__alpha=0.1, NN__hidden_layer_sizes=(100, 25, 100) ............\n",
      "[CV]  NN__alpha=0.1, NN__hidden_layer_sizes=(100, 25, 100), score=0.9246153846153846, total=   0.3s\n",
      "[CV] NN__alpha=0.1, NN__hidden_layer_sizes=(100, 25, 100) ............\n",
      "[CV]  NN__alpha=0.1, NN__hidden_layer_sizes=(100, 25, 100), score=0.9599871794871795, total=   0.4s\n",
      "[CV] NN__alpha=0.1, NN__hidden_layer_sizes=(100, 25, 100) ............\n",
      "[CV]  NN__alpha=0.1, NN__hidden_layer_sizes=(100, 25, 100), score=0.9676666666666668, total=   0.4s\n",
      "[CV] NN__alpha=0.1, NN__hidden_layer_sizes=(100, 25, 100) ............\n",
      "[CV]  NN__alpha=0.1, NN__hidden_layer_sizes=(100, 25, 100), score=0.9675, total=   0.4s\n",
      "[CV] NN__alpha=0.01, NN__hidden_layer_sizes=(50, 50) .................\n",
      "[CV]  NN__alpha=0.01, NN__hidden_layer_sizes=(50, 50), score=0.9455384615384614, total=   0.3s\n",
      "[CV] NN__alpha=0.01, NN__hidden_layer_sizes=(50, 50) .................\n",
      "[CV]  NN__alpha=0.01, NN__hidden_layer_sizes=(50, 50), score=0.9604615384615385, total=   0.3s\n",
      "[CV] NN__alpha=0.01, NN__hidden_layer_sizes=(50, 50) .................\n",
      "[CV]  NN__alpha=0.01, NN__hidden_layer_sizes=(50, 50), score=0.9438076923076923, total=   0.2s\n",
      "[CV] NN__alpha=0.01, NN__hidden_layer_sizes=(50, 50) .................\n",
      "[CV]  NN__alpha=0.01, NN__hidden_layer_sizes=(50, 50), score=0.8868333333333334, total=   0.2s\n",
      "[CV] NN__alpha=0.01, NN__hidden_layer_sizes=(50, 50) .................\n",
      "[CV]  NN__alpha=0.01, NN__hidden_layer_sizes=(50, 50), score=0.9556666666666667, total=   0.3s\n",
      "[CV] NN__alpha=0.01, NN__hidden_layer_sizes=(50,) ....................\n",
      "[CV]  NN__alpha=0.01, NN__hidden_layer_sizes=(50,), score=0.9061538461538461, total=   0.1s\n",
      "[CV] NN__alpha=0.01, NN__hidden_layer_sizes=(50,) ....................\n",
      "[CV]  NN__alpha=0.01, NN__hidden_layer_sizes=(50,), score=0.9447692307692307, total=   0.2s\n",
      "[CV] NN__alpha=0.01, NN__hidden_layer_sizes=(50,) ....................\n",
      "[CV]  NN__alpha=0.01, NN__hidden_layer_sizes=(50,), score=0.9396410256410256, total=   0.2s\n",
      "[CV] NN__alpha=0.01, NN__hidden_layer_sizes=(50,) ....................\n",
      "[CV]  NN__alpha=0.01, NN__hidden_layer_sizes=(50,), score=0.9395000000000001, total=   0.3s\n",
      "[CV] NN__alpha=0.01, NN__hidden_layer_sizes=(50,) ....................\n",
      "[CV]  NN__alpha=0.01, NN__hidden_layer_sizes=(50,), score=0.943, total=   0.2s\n",
      "[CV] NN__alpha=0.01, NN__hidden_layer_sizes=(25,) ....................\n",
      "[CV]  NN__alpha=0.01, NN__hidden_layer_sizes=(25,), score=0.8944615384615384, total=   0.2s\n",
      "[CV] NN__alpha=0.01, NN__hidden_layer_sizes=(25,) ....................\n",
      "[CV]  NN__alpha=0.01, NN__hidden_layer_sizes=(25,), score=0.8572307692307694, total=   0.2s\n",
      "[CV] NN__alpha=0.01, NN__hidden_layer_sizes=(25,) ....................\n",
      "[CV]  NN__alpha=0.01, NN__hidden_layer_sizes=(25,), score=0.9516666666666667, total=   0.3s\n",
      "[CV] NN__alpha=0.01, NN__hidden_layer_sizes=(25,) ....................\n",
      "[CV]  NN__alpha=0.01, NN__hidden_layer_sizes=(25,), score=0.915, total=   0.2s\n",
      "[CV] NN__alpha=0.01, NN__hidden_layer_sizes=(25,) ....................\n",
      "[CV]  NN__alpha=0.01, NN__hidden_layer_sizes=(25,), score=0.9595000000000001, total=   0.2s\n",
      "[CV] NN__alpha=0.01, NN__hidden_layer_sizes=(25, 25) .................\n",
      "[CV]  NN__alpha=0.01, NN__hidden_layer_sizes=(25, 25), score=0.9332307692307691, total=   0.3s\n",
      "[CV] NN__alpha=0.01, NN__hidden_layer_sizes=(25, 25) .................\n",
      "[CV]  NN__alpha=0.01, NN__hidden_layer_sizes=(25, 25), score=0.9249230769230768, total=   0.3s\n",
      "[CV] NN__alpha=0.01, NN__hidden_layer_sizes=(25, 25) .................\n",
      "[CV]  NN__alpha=0.01, NN__hidden_layer_sizes=(25, 25), score=0.9481410256410256, total=   0.3s\n",
      "[CV] NN__alpha=0.01, NN__hidden_layer_sizes=(25, 25) .................\n",
      "[CV]  NN__alpha=0.01, NN__hidden_layer_sizes=(25, 25), score=0.9026666666666668, total=   0.2s\n",
      "[CV] NN__alpha=0.01, NN__hidden_layer_sizes=(25, 25) .................\n",
      "[CV]  NN__alpha=0.01, NN__hidden_layer_sizes=(25, 25), score=0.9511666666666667, total=   0.3s\n",
      "[CV] NN__alpha=0.01, NN__hidden_layer_sizes=(100, 25, 100) ...........\n",
      "[CV]  NN__alpha=0.01, NN__hidden_layer_sizes=(100, 25, 100), score=0.9101538461538461, total=   0.3s\n",
      "[CV] NN__alpha=0.01, NN__hidden_layer_sizes=(100, 25, 100) ...........\n",
      "[CV]  NN__alpha=0.01, NN__hidden_layer_sizes=(100, 25, 100), score=0.9444615384615384, total=   0.3s\n",
      "[CV] NN__alpha=0.01, NN__hidden_layer_sizes=(100, 25, 100) ...........\n",
      "[CV]  NN__alpha=0.01, NN__hidden_layer_sizes=(100, 25, 100), score=0.9519871794871795, total=   0.5s\n",
      "[CV] NN__alpha=0.01, NN__hidden_layer_sizes=(100, 25, 100) ...........\n",
      "[CV]  NN__alpha=0.01, NN__hidden_layer_sizes=(100, 25, 100), score=0.9635, total=   0.5s\n",
      "[CV] NN__alpha=0.01, NN__hidden_layer_sizes=(100, 25, 100) ...........\n",
      "[CV]  NN__alpha=0.01, NN__hidden_layer_sizes=(100, 25, 100), score=0.9675, total=   0.4s\n",
      "[CV] NN__alpha=0.001, NN__hidden_layer_sizes=(50, 50) ................\n",
      "[CV]  NN__alpha=0.001, NN__hidden_layer_sizes=(50, 50), score=0.9455384615384614, total=   0.4s\n",
      "[CV] NN__alpha=0.001, NN__hidden_layer_sizes=(50, 50) ................\n",
      "[CV]  NN__alpha=0.001, NN__hidden_layer_sizes=(50, 50), score=0.9604615384615385, total=   0.3s\n",
      "[CV] NN__alpha=0.001, NN__hidden_layer_sizes=(50, 50) ................\n",
      "[CV]  NN__alpha=0.001, NN__hidden_layer_sizes=(50, 50), score=0.9438076923076923, total=   0.2s\n",
      "[CV] NN__alpha=0.001, NN__hidden_layer_sizes=(50, 50) ................\n",
      "[CV]  NN__alpha=0.001, NN__hidden_layer_sizes=(50, 50), score=0.8868333333333334, total=   0.2s\n",
      "[CV] NN__alpha=0.001, NN__hidden_layer_sizes=(50, 50) ................\n",
      "[CV]  NN__alpha=0.001, NN__hidden_layer_sizes=(50, 50), score=0.9556666666666667, total=   0.3s\n",
      "[CV] NN__alpha=0.001, NN__hidden_layer_sizes=(50,) ...................\n",
      "[CV]  NN__alpha=0.001, NN__hidden_layer_sizes=(50,), score=0.9061538461538461, total=   0.1s\n",
      "[CV] NN__alpha=0.001, NN__hidden_layer_sizes=(50,) ...................\n",
      "[CV]  NN__alpha=0.001, NN__hidden_layer_sizes=(50,), score=0.9447692307692307, total=   0.2s\n",
      "[CV] NN__alpha=0.001, NN__hidden_layer_sizes=(50,) ...................\n",
      "[CV]  NN__alpha=0.001, NN__hidden_layer_sizes=(50,), score=0.9396410256410256, total=   0.2s\n",
      "[CV] NN__alpha=0.001, NN__hidden_layer_sizes=(50,) ...................\n",
      "[CV]  NN__alpha=0.001, NN__hidden_layer_sizes=(50,), score=0.9395000000000001, total=   0.3s\n",
      "[CV] NN__alpha=0.001, NN__hidden_layer_sizes=(50,) ...................\n",
      "[CV]  NN__alpha=0.001, NN__hidden_layer_sizes=(50,), score=0.943, total=   0.2s\n",
      "[CV] NN__alpha=0.001, NN__hidden_layer_sizes=(25,) ...................\n"
     ]
    },
    {
     "name": "stdout",
     "output_type": "stream",
     "text": [
      "[CV]  NN__alpha=0.001, NN__hidden_layer_sizes=(25,), score=0.8944615384615384, total=   0.2s\n",
      "[CV] NN__alpha=0.001, NN__hidden_layer_sizes=(25,) ...................\n",
      "[CV]  NN__alpha=0.001, NN__hidden_layer_sizes=(25,), score=0.8572307692307694, total=   0.1s\n",
      "[CV] NN__alpha=0.001, NN__hidden_layer_sizes=(25,) ...................\n",
      "[CV]  NN__alpha=0.001, NN__hidden_layer_sizes=(25,), score=0.9638333333333332, total=   0.2s\n",
      "[CV] NN__alpha=0.001, NN__hidden_layer_sizes=(25,) ...................\n",
      "[CV]  NN__alpha=0.001, NN__hidden_layer_sizes=(25,), score=0.915, total=   0.2s\n",
      "[CV] NN__alpha=0.001, NN__hidden_layer_sizes=(25,) ...................\n",
      "[CV]  NN__alpha=0.001, NN__hidden_layer_sizes=(25,), score=0.9595000000000001, total=   0.2s\n",
      "[CV] NN__alpha=0.001, NN__hidden_layer_sizes=(25, 25) ................\n",
      "[CV]  NN__alpha=0.001, NN__hidden_layer_sizes=(25, 25), score=0.9332307692307691, total=   0.3s\n",
      "[CV] NN__alpha=0.001, NN__hidden_layer_sizes=(25, 25) ................\n",
      "[CV]  NN__alpha=0.001, NN__hidden_layer_sizes=(25, 25), score=0.9249230769230768, total=   0.3s\n",
      "[CV] NN__alpha=0.001, NN__hidden_layer_sizes=(25, 25) ................\n",
      "[CV]  NN__alpha=0.001, NN__hidden_layer_sizes=(25, 25), score=0.9399743589743589, total=   0.3s\n",
      "[CV] NN__alpha=0.001, NN__hidden_layer_sizes=(25, 25) ................\n",
      "[CV]  NN__alpha=0.001, NN__hidden_layer_sizes=(25, 25), score=0.9026666666666668, total=   0.3s\n",
      "[CV] NN__alpha=0.001, NN__hidden_layer_sizes=(25, 25) ................\n",
      "[CV]  NN__alpha=0.001, NN__hidden_layer_sizes=(25, 25), score=0.9511666666666667, total=   0.4s\n",
      "[CV] NN__alpha=0.001, NN__hidden_layer_sizes=(100, 25, 100) ..........\n",
      "[CV]  NN__alpha=0.001, NN__hidden_layer_sizes=(100, 25, 100), score=0.9101538461538461, total=   0.3s\n",
      "[CV] NN__alpha=0.001, NN__hidden_layer_sizes=(100, 25, 100) ..........\n",
      "[CV]  NN__alpha=0.001, NN__hidden_layer_sizes=(100, 25, 100), score=0.9444615384615384, total=   0.4s\n",
      "[CV] NN__alpha=0.001, NN__hidden_layer_sizes=(100, 25, 100) ..........\n",
      "[CV]  NN__alpha=0.001, NN__hidden_layer_sizes=(100, 25, 100), score=0.9519871794871795, total=   0.5s\n",
      "[CV] NN__alpha=0.001, NN__hidden_layer_sizes=(100, 25, 100) ..........\n",
      "[CV]  NN__alpha=0.001, NN__hidden_layer_sizes=(100, 25, 100), score=0.9636666666666668, total=   0.4s\n",
      "[CV] NN__alpha=0.001, NN__hidden_layer_sizes=(100, 25, 100) ..........\n",
      "[CV]  NN__alpha=0.001, NN__hidden_layer_sizes=(100, 25, 100), score=0.9675, total=   0.4s\n",
      "[CV] NN__alpha=0.0001, NN__hidden_layer_sizes=(50, 50) ...............\n",
      "[CV]  NN__alpha=0.0001, NN__hidden_layer_sizes=(50, 50), score=0.9455384615384614, total=   0.3s\n",
      "[CV] NN__alpha=0.0001, NN__hidden_layer_sizes=(50, 50) ...............\n",
      "[CV]  NN__alpha=0.0001, NN__hidden_layer_sizes=(50, 50), score=0.9604615384615385, total=   0.3s\n",
      "[CV] NN__alpha=0.0001, NN__hidden_layer_sizes=(50, 50) ...............\n",
      "[CV]  NN__alpha=0.0001, NN__hidden_layer_sizes=(50, 50), score=0.9438076923076923, total=   0.2s\n",
      "[CV] NN__alpha=0.0001, NN__hidden_layer_sizes=(50, 50) ...............\n",
      "[CV]  NN__alpha=0.0001, NN__hidden_layer_sizes=(50, 50), score=0.8868333333333334, total=   0.2s\n",
      "[CV] NN__alpha=0.0001, NN__hidden_layer_sizes=(50, 50) ...............\n",
      "[CV]  NN__alpha=0.0001, NN__hidden_layer_sizes=(50, 50), score=0.9556666666666667, total=   0.3s\n",
      "[CV] NN__alpha=0.0001, NN__hidden_layer_sizes=(50,) ..................\n",
      "[CV]  NN__alpha=0.0001, NN__hidden_layer_sizes=(50,), score=0.9061538461538461, total=   0.2s\n",
      "[CV] NN__alpha=0.0001, NN__hidden_layer_sizes=(50,) ..................\n",
      "[CV]  NN__alpha=0.0001, NN__hidden_layer_sizes=(50,), score=0.9447692307692307, total=   0.2s\n",
      "[CV] NN__alpha=0.0001, NN__hidden_layer_sizes=(50,) ..................\n",
      "[CV]  NN__alpha=0.0001, NN__hidden_layer_sizes=(50,), score=0.9396410256410256, total=   0.2s\n",
      "[CV] NN__alpha=0.0001, NN__hidden_layer_sizes=(50,) ..................\n",
      "[CV]  NN__alpha=0.0001, NN__hidden_layer_sizes=(50,), score=0.9395000000000001, total=   0.3s\n",
      "[CV] NN__alpha=0.0001, NN__hidden_layer_sizes=(50,) ..................\n",
      "[CV]  NN__alpha=0.0001, NN__hidden_layer_sizes=(50,), score=0.943, total=   0.2s\n",
      "[CV] NN__alpha=0.0001, NN__hidden_layer_sizes=(25,) ..................\n",
      "[CV]  NN__alpha=0.0001, NN__hidden_layer_sizes=(25,), score=0.8944615384615384, total=   0.2s\n",
      "[CV] NN__alpha=0.0001, NN__hidden_layer_sizes=(25,) ..................\n",
      "[CV]  NN__alpha=0.0001, NN__hidden_layer_sizes=(25,), score=0.8572307692307694, total=   0.1s\n",
      "[CV] NN__alpha=0.0001, NN__hidden_layer_sizes=(25,) ..................\n",
      "[CV]  NN__alpha=0.0001, NN__hidden_layer_sizes=(25,), score=0.9638333333333332, total=   0.3s\n",
      "[CV] NN__alpha=0.0001, NN__hidden_layer_sizes=(25,) ..................\n",
      "[CV]  NN__alpha=0.0001, NN__hidden_layer_sizes=(25,), score=0.915, total=   0.2s\n",
      "[CV] NN__alpha=0.0001, NN__hidden_layer_sizes=(25,) ..................\n",
      "[CV]  NN__alpha=0.0001, NN__hidden_layer_sizes=(25,), score=0.9595000000000001, total=   0.2s\n",
      "[CV] NN__alpha=0.0001, NN__hidden_layer_sizes=(25, 25) ...............\n",
      "[CV]  NN__alpha=0.0001, NN__hidden_layer_sizes=(25, 25), score=0.937076923076923, total=   0.3s\n",
      "[CV] NN__alpha=0.0001, NN__hidden_layer_sizes=(25, 25) ...............\n",
      "[CV]  NN__alpha=0.0001, NN__hidden_layer_sizes=(25, 25), score=0.9249230769230768, total=   0.3s\n",
      "[CV] NN__alpha=0.0001, NN__hidden_layer_sizes=(25, 25) ...............\n",
      "[CV]  NN__alpha=0.0001, NN__hidden_layer_sizes=(25, 25), score=0.9481410256410256, total=   0.4s\n",
      "[CV] NN__alpha=0.0001, NN__hidden_layer_sizes=(25, 25) ...............\n",
      "[CV]  NN__alpha=0.0001, NN__hidden_layer_sizes=(25, 25), score=0.9026666666666668, total=   0.2s\n",
      "[CV] NN__alpha=0.0001, NN__hidden_layer_sizes=(25, 25) ...............\n",
      "[CV]  NN__alpha=0.0001, NN__hidden_layer_sizes=(25, 25), score=0.9511666666666667, total=   0.3s\n",
      "[CV] NN__alpha=0.0001, NN__hidden_layer_sizes=(100, 25, 100) .........\n",
      "[CV]  NN__alpha=0.0001, NN__hidden_layer_sizes=(100, 25, 100), score=0.9101538461538461, total=   0.3s\n",
      "[CV] NN__alpha=0.0001, NN__hidden_layer_sizes=(100, 25, 100) .........\n",
      "[CV]  NN__alpha=0.0001, NN__hidden_layer_sizes=(100, 25, 100), score=0.9444615384615384, total=   0.3s\n",
      "[CV] NN__alpha=0.0001, NN__hidden_layer_sizes=(100, 25, 100) .........\n",
      "[CV]  NN__alpha=0.0001, NN__hidden_layer_sizes=(100, 25, 100), score=0.9519871794871795, total=   0.4s\n",
      "[CV] NN__alpha=0.0001, NN__hidden_layer_sizes=(100, 25, 100) .........\n",
      "[CV]  NN__alpha=0.0001, NN__hidden_layer_sizes=(100, 25, 100), score=0.9636666666666668, total=   0.5s\n",
      "[CV] NN__alpha=0.0001, NN__hidden_layer_sizes=(100, 25, 100) .........\n",
      "[CV]  NN__alpha=0.0001, NN__hidden_layer_sizes=(100, 25, 100), score=0.9675, total=   0.4s\n"
     ]
    },
    {
     "name": "stderr",
     "output_type": "stream",
     "text": [
      "[Parallel(n_jobs=1)]: Done 100 out of 100 | elapsed:   27.2s finished\n",
      "/Users/frankz/anaconda3/lib/python3.7/site-packages/sklearn/model_selection/_search.py:841: DeprecationWarning: The default of the `iid` parameter will change from True to False in version 0.22 and will be removed in 0.24. This will change numeric results when test-set sizes are unequal.\n",
      "  DeprecationWarning)\n"
     ]
    }
   ],
   "source": [
    "gs, best_estimator, final_estimator = gs_with_best_estimator(pipe, grid)"
   ]
  },
  {
   "cell_type": "code",
   "execution_count": 87,
   "metadata": {},
   "outputs": [
    {
     "data": {
      "text/plain": [
       "Pipeline(memory=None,\n",
       "     steps=[('NN', MLPClassifier(activation='relu', alpha=0.001, batch_size='auto', beta_1=0.9,\n",
       "       beta_2=0.999, early_stopping=True, epsilon=1e-08,\n",
       "       hidden_layer_sizes=(100, 25, 100), learning_rate='constant',\n",
       "       learning_rate_init=0.001, max_iter=2000, momentum=0.9,\n",
       "       n_iter_no_change=10, nesterovs_momentum=True, power_t=0.5,\n",
       "       random_state=7, shuffle=True, solver='adam', tol=0.0001,\n",
       "       validation_fraction=0.1, verbose=False, warm_start=False))])"
      ]
     },
     "execution_count": 87,
     "metadata": {},
     "output_type": "execute_result"
    }
   ],
   "source": [
    "best_estimator"
   ]
  },
  {
   "cell_type": "code",
   "execution_count": 89,
   "metadata": {
    "scrolled": true
   },
   "outputs": [
    {
     "data": {
      "text/plain": [
       "0.9936356404136834"
      ]
     },
     "execution_count": 89,
     "metadata": {},
     "output_type": "execute_result"
    }
   ],
   "source": [
    "best_estimator.score(training_x, training_y)"
   ]
  },
  {
   "cell_type": "code",
   "execution_count": 86,
   "metadata": {
    "scrolled": true
   },
   "outputs": [
    {
     "data": {
      "text/plain": [
       "0.9611111111111111"
      ]
     },
     "execution_count": 86,
     "metadata": {},
     "output_type": "execute_result"
    }
   ],
   "source": [
    "best_estimator.score(testing_x, testing_y)"
   ]
  },
  {
   "cell_type": "markdown",
   "metadata": {},
   "source": [
    "## Dimensionality Reduction"
   ]
  },
  {
   "cell_type": "markdown",
   "metadata": {},
   "source": [
    "### PCA"
   ]
  },
  {
   "cell_type": "code",
   "execution_count": 100,
   "metadata": {},
   "outputs": [],
   "source": [
    "from sklearn.decomposition import PCA"
   ]
  },
  {
   "cell_type": "code",
   "execution_count": 101,
   "metadata": {},
   "outputs": [],
   "source": [
    "pca = PCA(n_components=8, random_state=seed)"
   ]
  },
  {
   "cell_type": "code",
   "execution_count": 103,
   "metadata": {},
   "outputs": [],
   "source": [
    "grid = {'NN__alpha': _nn_reg, 'NN__hidden_layer_sizes': _nn_arch}\n",
    "mlp = MLPClassifier(activation='relu', max_iter=2000, early_stopping=True, random_state=seed)\n",
    "pipe = Pipeline([('pca', pca), ('NN', mlp)])"
   ]
  },
  {
   "cell_type": "code",
   "execution_count": 105,
   "metadata": {
    "scrolled": true
   },
   "outputs": [
    {
     "name": "stdout",
     "output_type": "stream",
     "text": [
      "Fitting 5 folds for each of 20 candidates, totalling 100 fits\n",
      "[CV] NN__alpha=0.1, NN__hidden_layer_sizes=(50, 50) ..................\n"
     ]
    },
    {
     "name": "stderr",
     "output_type": "stream",
     "text": [
      "[Parallel(n_jobs=1)]: Using backend SequentialBackend with 1 concurrent workers.\n"
     ]
    },
    {
     "name": "stdout",
     "output_type": "stream",
     "text": [
      "[CV]  NN__alpha=0.1, NN__hidden_layer_sizes=(50, 50), score=0.8470769230769231, total=   0.2s\n",
      "[CV] NN__alpha=0.1, NN__hidden_layer_sizes=(50, 50) ..................\n"
     ]
    },
    {
     "name": "stderr",
     "output_type": "stream",
     "text": [
      "[Parallel(n_jobs=1)]: Done   1 out of   1 | elapsed:    0.2s remaining:    0.0s\n"
     ]
    },
    {
     "name": "stdout",
     "output_type": "stream",
     "text": [
      "[CV]  NN__alpha=0.1, NN__hidden_layer_sizes=(50, 50), score=0.8772307692307694, total=   0.5s\n",
      "[CV] NN__alpha=0.1, NN__hidden_layer_sizes=(50, 50) ..................\n"
     ]
    },
    {
     "name": "stderr",
     "output_type": "stream",
     "text": [
      "[Parallel(n_jobs=1)]: Done   2 out of   2 | elapsed:    0.7s remaining:    0.0s\n"
     ]
    },
    {
     "name": "stdout",
     "output_type": "stream",
     "text": [
      "[CV]  NN__alpha=0.1, NN__hidden_layer_sizes=(50, 50), score=0.8219230769230769, total=   0.2s\n",
      "[CV] NN__alpha=0.1, NN__hidden_layer_sizes=(50, 50) ..................\n"
     ]
    },
    {
     "name": "stderr",
     "output_type": "stream",
     "text": [
      "[Parallel(n_jobs=1)]: Done   3 out of   3 | elapsed:    1.0s remaining:    0.0s\n"
     ]
    },
    {
     "name": "stdout",
     "output_type": "stream",
     "text": [
      "[CV]  NN__alpha=0.1, NN__hidden_layer_sizes=(50, 50), score=0.8461666666666667, total=   0.3s\n",
      "[CV] NN__alpha=0.1, NN__hidden_layer_sizes=(50, 50) ..................\n"
     ]
    },
    {
     "name": "stderr",
     "output_type": "stream",
     "text": [
      "[Parallel(n_jobs=1)]: Done   4 out of   4 | elapsed:    1.3s remaining:    0.0s\n"
     ]
    },
    {
     "name": "stdout",
     "output_type": "stream",
     "text": [
      "[CV]  NN__alpha=0.1, NN__hidden_layer_sizes=(50, 50), score=0.8776666666666668, total=   0.3s\n",
      "[CV] NN__alpha=0.1, NN__hidden_layer_sizes=(50,) .....................\n",
      "[CV]  NN__alpha=0.1, NN__hidden_layer_sizes=(50,), score=0.8273846153846153, total=   0.2s\n",
      "[CV] NN__alpha=0.1, NN__hidden_layer_sizes=(50,) .....................\n"
     ]
    },
    {
     "name": "stderr",
     "output_type": "stream",
     "text": [
      "[Parallel(n_jobs=1)]: Done   5 out of   5 | elapsed:    1.6s remaining:    0.0s\n",
      "[Parallel(n_jobs=1)]: Done   6 out of   6 | elapsed:    1.8s remaining:    0.0s\n"
     ]
    },
    {
     "name": "stdout",
     "output_type": "stream",
     "text": [
      "[CV]  NN__alpha=0.1, NN__hidden_layer_sizes=(50,), score=0.841846153846154, total=   0.2s\n",
      "[CV] NN__alpha=0.1, NN__hidden_layer_sizes=(50,) .....................\n",
      "[CV]  NN__alpha=0.1, NN__hidden_layer_sizes=(50,), score=0.8060769230769231, total=   0.2s\n",
      "[CV] NN__alpha=0.1, NN__hidden_layer_sizes=(50,) .....................\n"
     ]
    },
    {
     "name": "stderr",
     "output_type": "stream",
     "text": [
      "[Parallel(n_jobs=1)]: Done   7 out of   7 | elapsed:    1.9s remaining:    0.0s\n",
      "[Parallel(n_jobs=1)]: Done   8 out of   8 | elapsed:    2.1s remaining:    0.0s\n"
     ]
    },
    {
     "name": "stdout",
     "output_type": "stream",
     "text": [
      "[CV]  NN__alpha=0.1, NN__hidden_layer_sizes=(50,), score=0.8460000000000001, total=   0.2s\n",
      "[CV] NN__alpha=0.1, NN__hidden_layer_sizes=(50,) .....................\n",
      "[CV]  NN__alpha=0.1, NN__hidden_layer_sizes=(50,), score=0.8365, total=   0.2s\n",
      "[CV] NN__alpha=0.1, NN__hidden_layer_sizes=(25,) .....................\n"
     ]
    },
    {
     "name": "stderr",
     "output_type": "stream",
     "text": [
      "[Parallel(n_jobs=1)]: Done   9 out of   9 | elapsed:    2.3s remaining:    0.0s\n"
     ]
    },
    {
     "name": "stdout",
     "output_type": "stream",
     "text": [
      "[CV]  NN__alpha=0.1, NN__hidden_layer_sizes=(25,), score=0.8036923076923077, total=   0.2s\n",
      "[CV] NN__alpha=0.1, NN__hidden_layer_sizes=(25,) .....................\n",
      "[CV]  NN__alpha=0.1, NN__hidden_layer_sizes=(25,), score=0.8255384615384617, total=   0.2s\n",
      "[CV] NN__alpha=0.1, NN__hidden_layer_sizes=(25,) .....................\n",
      "[CV]  NN__alpha=0.1, NN__hidden_layer_sizes=(25,), score=0.7852435897435898, total=   0.2s\n",
      "[CV] NN__alpha=0.1, NN__hidden_layer_sizes=(25,) .....................\n",
      "[CV]  NN__alpha=0.1, NN__hidden_layer_sizes=(25,), score=0.7280000000000001, total=   0.1s\n",
      "[CV] NN__alpha=0.1, NN__hidden_layer_sizes=(25,) .....................\n",
      "[CV]  NN__alpha=0.1, NN__hidden_layer_sizes=(25,), score=0.8248333333333334, total=   0.2s\n",
      "[CV] NN__alpha=0.1, NN__hidden_layer_sizes=(25, 25) ..................\n",
      "[CV]  NN__alpha=0.1, NN__hidden_layer_sizes=(25, 25), score=0.8036923076923076, total=   0.2s\n",
      "[CV] NN__alpha=0.1, NN__hidden_layer_sizes=(25, 25) ..................\n",
      "[CV]  NN__alpha=0.1, NN__hidden_layer_sizes=(25, 25), score=0.8496923076923077, total=   0.3s\n",
      "[CV] NN__alpha=0.1, NN__hidden_layer_sizes=(25, 25) ..................\n",
      "[CV]  NN__alpha=0.1, NN__hidden_layer_sizes=(25, 25), score=0.7687692307692308, total=   0.1s\n",
      "[CV] NN__alpha=0.1, NN__hidden_layer_sizes=(25, 25) ..................\n",
      "[CV]  NN__alpha=0.1, NN__hidden_layer_sizes=(25, 25), score=0.8256666666666668, total=   0.2s\n",
      "[CV] NN__alpha=0.1, NN__hidden_layer_sizes=(25, 25) ..................\n",
      "[CV]  NN__alpha=0.1, NN__hidden_layer_sizes=(25, 25), score=0.8328333333333334, total=   0.1s\n",
      "[CV] NN__alpha=0.1, NN__hidden_layer_sizes=(100, 25, 100) ............\n",
      "[CV]  NN__alpha=0.1, NN__hidden_layer_sizes=(100, 25, 100), score=0.8907692307692308, total=   0.4s\n",
      "[CV] NN__alpha=0.1, NN__hidden_layer_sizes=(100, 25, 100) ............\n",
      "[CV]  NN__alpha=0.1, NN__hidden_layer_sizes=(100, 25, 100), score=0.8929230769230769, total=   0.4s\n",
      "[CV] NN__alpha=0.1, NN__hidden_layer_sizes=(100, 25, 100) ............\n",
      "[CV]  NN__alpha=0.1, NN__hidden_layer_sizes=(100, 25, 100), score=0.8911153846153845, total=   0.3s\n",
      "[CV] NN__alpha=0.1, NN__hidden_layer_sizes=(100, 25, 100) ............\n",
      "[CV]  NN__alpha=0.1, NN__hidden_layer_sizes=(100, 25, 100), score=0.8581666666666667, total=   0.3s\n",
      "[CV] NN__alpha=0.1, NN__hidden_layer_sizes=(100, 25, 100) ............\n",
      "[CV]  NN__alpha=0.1, NN__hidden_layer_sizes=(100, 25, 100), score=0.8738333333333334, total=   0.4s\n",
      "[CV] NN__alpha=0.01, NN__hidden_layer_sizes=(50, 50) .................\n",
      "[CV]  NN__alpha=0.01, NN__hidden_layer_sizes=(50, 50), score=0.8787692307692307, total=   0.3s\n",
      "[CV] NN__alpha=0.01, NN__hidden_layer_sizes=(50, 50) .................\n",
      "[CV]  NN__alpha=0.01, NN__hidden_layer_sizes=(50, 50), score=0.8813846153846154, total=   0.4s\n",
      "[CV] NN__alpha=0.01, NN__hidden_layer_sizes=(50, 50) .................\n",
      "[CV]  NN__alpha=0.01, NN__hidden_layer_sizes=(50, 50), score=0.8219230769230769, total=   0.2s\n",
      "[CV] NN__alpha=0.01, NN__hidden_layer_sizes=(50, 50) .................\n",
      "[CV]  NN__alpha=0.01, NN__hidden_layer_sizes=(50, 50), score=0.8461666666666667, total=   0.2s\n",
      "[CV] NN__alpha=0.01, NN__hidden_layer_sizes=(50, 50) .................\n",
      "[CV]  NN__alpha=0.01, NN__hidden_layer_sizes=(50, 50), score=0.9066666666666667, total=   0.3s\n",
      "[CV] NN__alpha=0.01, NN__hidden_layer_sizes=(50,) ....................\n",
      "[CV]  NN__alpha=0.01, NN__hidden_layer_sizes=(50,), score=0.8272307692307692, total=   0.1s\n",
      "[CV] NN__alpha=0.01, NN__hidden_layer_sizes=(50,) ....................\n",
      "[CV]  NN__alpha=0.01, NN__hidden_layer_sizes=(50,), score=0.841846153846154, total=   0.1s\n",
      "[CV] NN__alpha=0.01, NN__hidden_layer_sizes=(50,) ....................\n",
      "[CV]  NN__alpha=0.01, NN__hidden_layer_sizes=(50,), score=0.8060769230769231, total=   0.1s\n",
      "[CV] NN__alpha=0.01, NN__hidden_layer_sizes=(50,) ....................\n",
      "[CV]  NN__alpha=0.01, NN__hidden_layer_sizes=(50,), score=0.8501666666666668, total=   0.2s\n",
      "[CV] NN__alpha=0.01, NN__hidden_layer_sizes=(50,) ....................\n",
      "[CV]  NN__alpha=0.01, NN__hidden_layer_sizes=(50,), score=0.8365, total=   0.1s\n",
      "[CV] NN__alpha=0.01, NN__hidden_layer_sizes=(25,) ....................\n",
      "[CV]  NN__alpha=0.01, NN__hidden_layer_sizes=(25,), score=0.8036923076923077, total=   0.2s\n",
      "[CV] NN__alpha=0.01, NN__hidden_layer_sizes=(25,) ....................\n",
      "[CV]  NN__alpha=0.01, NN__hidden_layer_sizes=(25,), score=0.8255384615384617, total=   0.2s\n",
      "[CV] NN__alpha=0.01, NN__hidden_layer_sizes=(25,) ....................\n",
      "[CV]  NN__alpha=0.01, NN__hidden_layer_sizes=(25,), score=0.7852435897435898, total=   0.1s\n",
      "[CV] NN__alpha=0.01, NN__hidden_layer_sizes=(25,) ....................\n",
      "[CV]  NN__alpha=0.01, NN__hidden_layer_sizes=(25,), score=0.7280000000000001, total=   0.1s\n",
      "[CV] NN__alpha=0.01, NN__hidden_layer_sizes=(25,) ....................\n",
      "[CV]  NN__alpha=0.01, NN__hidden_layer_sizes=(25,), score=0.8248333333333334, total=   0.1s\n",
      "[CV] NN__alpha=0.01, NN__hidden_layer_sizes=(25, 25) .................\n",
      "[CV]  NN__alpha=0.01, NN__hidden_layer_sizes=(25, 25), score=0.8075384615384615, total=   0.2s\n",
      "[CV] NN__alpha=0.01, NN__hidden_layer_sizes=(25, 25) .................\n",
      "[CV]  NN__alpha=0.01, NN__hidden_layer_sizes=(25, 25), score=0.8458461538461539, total=   0.2s\n",
      "[CV] NN__alpha=0.01, NN__hidden_layer_sizes=(25, 25) .................\n",
      "[CV]  NN__alpha=0.01, NN__hidden_layer_sizes=(25, 25), score=0.7769358974358974, total=   0.1s\n",
      "[CV] NN__alpha=0.01, NN__hidden_layer_sizes=(25, 25) .................\n",
      "[CV]  NN__alpha=0.01, NN__hidden_layer_sizes=(25, 25), score=0.8298333333333333, total=   0.2s\n",
      "[CV] NN__alpha=0.01, NN__hidden_layer_sizes=(25, 25) .................\n",
      "[CV]  NN__alpha=0.01, NN__hidden_layer_sizes=(25, 25), score=0.8286666666666668, total=   0.1s\n",
      "[CV] NN__alpha=0.01, NN__hidden_layer_sizes=(100, 25, 100) ...........\n",
      "[CV]  NN__alpha=0.01, NN__hidden_layer_sizes=(100, 25, 100), score=0.887076923076923, total=   0.4s\n",
      "[CV] NN__alpha=0.01, NN__hidden_layer_sizes=(100, 25, 100) ...........\n",
      "[CV]  NN__alpha=0.01, NN__hidden_layer_sizes=(100, 25, 100), score=0.8929230769230769, total=   0.4s\n",
      "[CV] NN__alpha=0.01, NN__hidden_layer_sizes=(100, 25, 100) ...........\n",
      "[CV]  NN__alpha=0.01, NN__hidden_layer_sizes=(100, 25, 100), score=0.8952820512820513, total=   0.4s\n",
      "[CV] NN__alpha=0.01, NN__hidden_layer_sizes=(100, 25, 100) ...........\n",
      "[CV]  NN__alpha=0.01, NN__hidden_layer_sizes=(100, 25, 100), score=0.8621666666666666, total=   0.3s\n",
      "[CV] NN__alpha=0.01, NN__hidden_layer_sizes=(100, 25, 100) ...........\n",
      "[CV]  NN__alpha=0.01, NN__hidden_layer_sizes=(100, 25, 100), score=0.8738333333333334, total=   0.4s\n",
      "[CV] NN__alpha=0.001, NN__hidden_layer_sizes=(50, 50) ................\n",
      "[CV]  NN__alpha=0.001, NN__hidden_layer_sizes=(50, 50), score=0.8470769230769231, total=   0.2s\n",
      "[CV] NN__alpha=0.001, NN__hidden_layer_sizes=(50, 50) ................\n",
      "[CV]  NN__alpha=0.001, NN__hidden_layer_sizes=(50, 50), score=0.8852307692307693, total=   0.4s\n",
      "[CV] NN__alpha=0.001, NN__hidden_layer_sizes=(50, 50) ................\n",
      "[CV]  NN__alpha=0.001, NN__hidden_layer_sizes=(50, 50), score=0.8219230769230769, total=   0.2s\n",
      "[CV] NN__alpha=0.001, NN__hidden_layer_sizes=(50, 50) ................\n",
      "[CV]  NN__alpha=0.001, NN__hidden_layer_sizes=(50, 50), score=0.8461666666666667, total=   0.3s\n",
      "[CV] NN__alpha=0.001, NN__hidden_layer_sizes=(50, 50) ................\n",
      "[CV]  NN__alpha=0.001, NN__hidden_layer_sizes=(50, 50), score=0.8575000000000002, total=   0.2s\n",
      "[CV] NN__alpha=0.001, NN__hidden_layer_sizes=(50,) ...................\n",
      "[CV]  NN__alpha=0.001, NN__hidden_layer_sizes=(50,), score=0.8272307692307692, total=   0.1s\n",
      "[CV] NN__alpha=0.001, NN__hidden_layer_sizes=(50,) ...................\n",
      "[CV]  NN__alpha=0.001, NN__hidden_layer_sizes=(50,), score=0.841846153846154, total=   0.1s\n",
      "[CV] NN__alpha=0.001, NN__hidden_layer_sizes=(50,) ...................\n",
      "[CV]  NN__alpha=0.001, NN__hidden_layer_sizes=(50,), score=0.8060769230769231, total=   0.1s\n",
      "[CV] NN__alpha=0.001, NN__hidden_layer_sizes=(50,) ...................\n",
      "[CV]  NN__alpha=0.001, NN__hidden_layer_sizes=(50,), score=0.8501666666666668, total=   0.2s\n",
      "[CV] NN__alpha=0.001, NN__hidden_layer_sizes=(50,) ...................\n",
      "[CV]  NN__alpha=0.001, NN__hidden_layer_sizes=(50,), score=0.8365, total=   0.2s\n",
      "[CV] NN__alpha=0.001, NN__hidden_layer_sizes=(25,) ...................\n"
     ]
    },
    {
     "name": "stdout",
     "output_type": "stream",
     "text": [
      "[CV]  NN__alpha=0.001, NN__hidden_layer_sizes=(25,), score=0.8036923076923077, total=   0.2s\n",
      "[CV] NN__alpha=0.001, NN__hidden_layer_sizes=(25,) ...................\n",
      "[CV]  NN__alpha=0.001, NN__hidden_layer_sizes=(25,), score=0.8255384615384617, total=   0.3s\n",
      "[CV] NN__alpha=0.001, NN__hidden_layer_sizes=(25,) ...................\n",
      "[CV]  NN__alpha=0.001, NN__hidden_layer_sizes=(25,), score=0.7852435897435898, total=   0.2s\n",
      "[CV] NN__alpha=0.001, NN__hidden_layer_sizes=(25,) ...................\n",
      "[CV]  NN__alpha=0.001, NN__hidden_layer_sizes=(25,), score=0.7280000000000001, total=   0.1s\n",
      "[CV] NN__alpha=0.001, NN__hidden_layer_sizes=(25,) ...................\n",
      "[CV]  NN__alpha=0.001, NN__hidden_layer_sizes=(25,), score=0.8248333333333334, total=   0.2s\n",
      "[CV] NN__alpha=0.001, NN__hidden_layer_sizes=(25, 25) ................\n",
      "[CV]  NN__alpha=0.001, NN__hidden_layer_sizes=(25, 25), score=0.8075384615384615, total=   0.2s\n",
      "[CV] NN__alpha=0.001, NN__hidden_layer_sizes=(25, 25) ................\n",
      "[CV]  NN__alpha=0.001, NN__hidden_layer_sizes=(25, 25), score=0.8458461538461539, total=   0.2s\n",
      "[CV] NN__alpha=0.001, NN__hidden_layer_sizes=(25, 25) ................\n",
      "[CV]  NN__alpha=0.001, NN__hidden_layer_sizes=(25, 25), score=0.7769358974358974, total=   0.1s\n",
      "[CV] NN__alpha=0.001, NN__hidden_layer_sizes=(25, 25) ................\n",
      "[CV]  NN__alpha=0.001, NN__hidden_layer_sizes=(25, 25), score=0.8298333333333333, total=   0.2s\n",
      "[CV] NN__alpha=0.001, NN__hidden_layer_sizes=(25, 25) ................\n",
      "[CV]  NN__alpha=0.001, NN__hidden_layer_sizes=(25, 25), score=0.8286666666666668, total=   0.1s\n",
      "[CV] NN__alpha=0.001, NN__hidden_layer_sizes=(100, 25, 100) ..........\n",
      "[CV]  NN__alpha=0.001, NN__hidden_layer_sizes=(100, 25, 100), score=0.883076923076923, total=   0.4s\n",
      "[CV] NN__alpha=0.001, NN__hidden_layer_sizes=(100, 25, 100) ..........\n",
      "[CV]  NN__alpha=0.001, NN__hidden_layer_sizes=(100, 25, 100), score=0.8929230769230769, total=   0.4s\n",
      "[CV] NN__alpha=0.001, NN__hidden_layer_sizes=(100, 25, 100) ..........\n",
      "[CV]  NN__alpha=0.001, NN__hidden_layer_sizes=(100, 25, 100), score=0.8952820512820513, total=   0.4s\n",
      "[CV] NN__alpha=0.001, NN__hidden_layer_sizes=(100, 25, 100) ..........\n",
      "[CV]  NN__alpha=0.001, NN__hidden_layer_sizes=(100, 25, 100), score=0.883, total=   0.5s\n",
      "[CV] NN__alpha=0.001, NN__hidden_layer_sizes=(100, 25, 100) ..........\n",
      "[CV]  NN__alpha=0.001, NN__hidden_layer_sizes=(100, 25, 100), score=0.8778333333333334, total=   0.4s\n",
      "[CV] NN__alpha=0.0001, NN__hidden_layer_sizes=(50, 50) ...............\n",
      "[CV]  NN__alpha=0.0001, NN__hidden_layer_sizes=(50, 50), score=0.8470769230769231, total=   0.2s\n",
      "[CV] NN__alpha=0.0001, NN__hidden_layer_sizes=(50, 50) ...............\n",
      "[CV]  NN__alpha=0.0001, NN__hidden_layer_sizes=(50, 50), score=0.8813846153846154, total=   0.4s\n",
      "[CV] NN__alpha=0.0001, NN__hidden_layer_sizes=(50, 50) ...............\n",
      "[CV]  NN__alpha=0.0001, NN__hidden_layer_sizes=(50, 50), score=0.8219230769230769, total=   0.3s\n",
      "[CV] NN__alpha=0.0001, NN__hidden_layer_sizes=(50, 50) ...............\n",
      "[CV]  NN__alpha=0.0001, NN__hidden_layer_sizes=(50, 50), score=0.8461666666666667, total=   0.3s\n",
      "[CV] NN__alpha=0.0001, NN__hidden_layer_sizes=(50, 50) ...............\n",
      "[CV]  NN__alpha=0.0001, NN__hidden_layer_sizes=(50, 50), score=0.8575000000000002, total=   0.2s\n",
      "[CV] NN__alpha=0.0001, NN__hidden_layer_sizes=(50,) ..................\n",
      "[CV]  NN__alpha=0.0001, NN__hidden_layer_sizes=(50,), score=0.8272307692307692, total=   0.2s\n",
      "[CV] NN__alpha=0.0001, NN__hidden_layer_sizes=(50,) ..................\n",
      "[CV]  NN__alpha=0.0001, NN__hidden_layer_sizes=(50,), score=0.841846153846154, total=   0.2s\n",
      "[CV] NN__alpha=0.0001, NN__hidden_layer_sizes=(50,) ..................\n",
      "[CV]  NN__alpha=0.0001, NN__hidden_layer_sizes=(50,), score=0.8060769230769231, total=   0.2s\n",
      "[CV] NN__alpha=0.0001, NN__hidden_layer_sizes=(50,) ..................\n",
      "[CV]  NN__alpha=0.0001, NN__hidden_layer_sizes=(50,), score=0.8501666666666668, total=   0.2s\n",
      "[CV] NN__alpha=0.0001, NN__hidden_layer_sizes=(50,) ..................\n",
      "[CV]  NN__alpha=0.0001, NN__hidden_layer_sizes=(50,), score=0.8365, total=   0.2s\n",
      "[CV] NN__alpha=0.0001, NN__hidden_layer_sizes=(25,) ..................\n",
      "[CV]  NN__alpha=0.0001, NN__hidden_layer_sizes=(25,), score=0.8036923076923077, total=   0.2s\n",
      "[CV] NN__alpha=0.0001, NN__hidden_layer_sizes=(25,) ..................\n",
      "[CV]  NN__alpha=0.0001, NN__hidden_layer_sizes=(25,), score=0.8255384615384617, total=   0.2s\n",
      "[CV] NN__alpha=0.0001, NN__hidden_layer_sizes=(25,) ..................\n",
      "[CV]  NN__alpha=0.0001, NN__hidden_layer_sizes=(25,), score=0.7852435897435898, total=   0.2s\n",
      "[CV] NN__alpha=0.0001, NN__hidden_layer_sizes=(25,) ..................\n",
      "[CV]  NN__alpha=0.0001, NN__hidden_layer_sizes=(25,), score=0.7280000000000001, total=   0.1s\n",
      "[CV] NN__alpha=0.0001, NN__hidden_layer_sizes=(25,) ..................\n",
      "[CV]  NN__alpha=0.0001, NN__hidden_layer_sizes=(25,), score=0.8248333333333334, total=   0.2s\n",
      "[CV] NN__alpha=0.0001, NN__hidden_layer_sizes=(25, 25) ...............\n",
      "[CV]  NN__alpha=0.0001, NN__hidden_layer_sizes=(25, 25), score=0.8075384615384615, total=   0.2s\n",
      "[CV] NN__alpha=0.0001, NN__hidden_layer_sizes=(25, 25) ...............\n",
      "[CV]  NN__alpha=0.0001, NN__hidden_layer_sizes=(25, 25), score=0.8420000000000001, total=   0.2s\n",
      "[CV] NN__alpha=0.0001, NN__hidden_layer_sizes=(25, 25) ...............\n",
      "[CV]  NN__alpha=0.0001, NN__hidden_layer_sizes=(25, 25), score=0.7769358974358974, total=   0.1s\n",
      "[CV] NN__alpha=0.0001, NN__hidden_layer_sizes=(25, 25) ...............\n",
      "[CV]  NN__alpha=0.0001, NN__hidden_layer_sizes=(25, 25), score=0.8298333333333333, total=   0.2s\n",
      "[CV] NN__alpha=0.0001, NN__hidden_layer_sizes=(25, 25) ...............\n",
      "[CV]  NN__alpha=0.0001, NN__hidden_layer_sizes=(25, 25), score=0.8286666666666668, total=   0.2s\n",
      "[CV] NN__alpha=0.0001, NN__hidden_layer_sizes=(100, 25, 100) .........\n",
      "[CV]  NN__alpha=0.0001, NN__hidden_layer_sizes=(100, 25, 100), score=0.8909230769230769, total=   0.5s\n",
      "[CV] NN__alpha=0.0001, NN__hidden_layer_sizes=(100, 25, 100) .........\n",
      "[CV]  NN__alpha=0.0001, NN__hidden_layer_sizes=(100, 25, 100), score=0.8929230769230769, total=   0.5s\n",
      "[CV] NN__alpha=0.0001, NN__hidden_layer_sizes=(100, 25, 100) .........\n",
      "[CV]  NN__alpha=0.0001, NN__hidden_layer_sizes=(100, 25, 100), score=0.8952820512820513, total=   0.4s\n",
      "[CV] NN__alpha=0.0001, NN__hidden_layer_sizes=(100, 25, 100) .........\n",
      "[CV]  NN__alpha=0.0001, NN__hidden_layer_sizes=(100, 25, 100), score=0.8621666666666666, total=   0.3s\n",
      "[CV] NN__alpha=0.0001, NN__hidden_layer_sizes=(100, 25, 100) .........\n",
      "[CV]  NN__alpha=0.0001, NN__hidden_layer_sizes=(100, 25, 100), score=0.8738333333333334, total=   0.4s\n"
     ]
    },
    {
     "name": "stderr",
     "output_type": "stream",
     "text": [
      "[Parallel(n_jobs=1)]: Done 100 out of 100 | elapsed:   24.4s finished\n"
     ]
    }
   ],
   "source": [
    "gs, best_estimator, final_estimator = gs_with_best_estimator(pipe, grid)"
   ]
  },
  {
   "cell_type": "code",
   "execution_count": 110,
   "metadata": {},
   "outputs": [
    {
     "data": {
      "text/plain": [
       "MLPClassifier(activation='relu', alpha=0.001, batch_size='auto', beta_1=0.9,\n",
       "       beta_2=0.999, early_stopping=True, epsilon=1e-08,\n",
       "       hidden_layer_sizes=(100, 25, 100), learning_rate='constant',\n",
       "       learning_rate_init=0.001, max_iter=2000, momentum=0.9,\n",
       "       n_iter_no_change=10, nesterovs_momentum=True, power_t=0.5,\n",
       "       random_state=7, shuffle=True, solver='adam', tol=0.0001,\n",
       "       validation_fraction=0.1, verbose=False, warm_start=False)"
      ]
     },
     "execution_count": 110,
     "metadata": {},
     "output_type": "execute_result"
    }
   ],
   "source": [
    "final_estimator"
   ]
  },
  {
   "cell_type": "code",
   "execution_count": 107,
   "metadata": {
    "scrolled": true
   },
   "outputs": [
    {
     "data": {
      "text/plain": [
       "0.9172633253778838"
      ]
     },
     "execution_count": 107,
     "metadata": {},
     "output_type": "execute_result"
    }
   ],
   "source": [
    "best_estimator.score(training_x, training_y)"
   ]
  },
  {
   "cell_type": "code",
   "execution_count": 108,
   "metadata": {
    "scrolled": true
   },
   "outputs": [
    {
     "data": {
      "text/plain": [
       "0.8851851851851852"
      ]
     },
     "execution_count": 108,
     "metadata": {},
     "output_type": "execute_result"
    }
   ],
   "source": [
    "best_estimator.score(testing_x, testing_y)"
   ]
  },
  {
   "cell_type": "markdown",
   "metadata": {},
   "source": [
    "### ICA"
   ]
  },
  {
   "cell_type": "code",
   "execution_count": 113,
   "metadata": {},
   "outputs": [],
   "source": [
    "from sklearn.decomposition import FastICA"
   ]
  },
  {
   "cell_type": "code",
   "execution_count": 114,
   "metadata": {},
   "outputs": [],
   "source": [
    "ica = FastICA(n_components=13, random_state=seed)"
   ]
  },
  {
   "cell_type": "code",
   "execution_count": 115,
   "metadata": {},
   "outputs": [],
   "source": [
    "grid = {'NN__alpha': _nn_reg, 'NN__hidden_layer_sizes': _nn_arch}\n",
    "mlp = MLPClassifier(activation='relu', max_iter=2000, early_stopping=True, random_state=seed)\n",
    "pipe = Pipeline([('ica', ica), ('NN', mlp)])"
   ]
  },
  {
   "cell_type": "code",
   "execution_count": 116,
   "metadata": {
    "scrolled": true
   },
   "outputs": [
    {
     "name": "stdout",
     "output_type": "stream",
     "text": [
      "Fitting 5 folds for each of 20 candidates, totalling 100 fits\n",
      "[CV] NN__alpha=0.1, NN__hidden_layer_sizes=(50, 50) ..................\n"
     ]
    },
    {
     "name": "stderr",
     "output_type": "stream",
     "text": [
      "[Parallel(n_jobs=1)]: Using backend SequentialBackend with 1 concurrent workers.\n",
      "/Users/frankz/anaconda3/lib/python3.7/site-packages/sklearn/decomposition/fastica_.py:121: ConvergenceWarning: FastICA did not converge. Consider increasing tolerance or the maximum number of iterations.\n",
      "  ConvergenceWarning)\n",
      "/Users/frankz/anaconda3/lib/python3.7/site-packages/scipy/linalg/basic.py:1321: RuntimeWarning: internal gelsd driver lwork query error, required iwork dimension not returned. This is likely the result of LAPACK bug 0038, fixed in LAPACK 3.2.2 (released July 21, 2010). Falling back to 'gelss' driver.\n",
      "  x, resids, rank, s = lstsq(a, b, cond=cond, check_finite=False)\n"
     ]
    },
    {
     "name": "stdout",
     "output_type": "stream",
     "text": [
      "[CV]  NN__alpha=0.1, NN__hidden_layer_sizes=(50, 50), score=0.8192307692307692, total=   0.6s\n",
      "[CV] NN__alpha=0.1, NN__hidden_layer_sizes=(50, 50) ..................\n",
      "[CV]  NN__alpha=0.1, NN__hidden_layer_sizes=(50, 50), score=0.18461538461538465, total=   0.2s\n",
      "[CV] NN__alpha=0.1, NN__hidden_layer_sizes=(50, 50) ..................\n"
     ]
    },
    {
     "name": "stderr",
     "output_type": "stream",
     "text": [
      "[Parallel(n_jobs=1)]: Done   1 out of   1 | elapsed:    0.6s remaining:    0.0s\n",
      "/Users/frankz/anaconda3/lib/python3.7/site-packages/sklearn/decomposition/fastica_.py:121: ConvergenceWarning: FastICA did not converge. Consider increasing tolerance or the maximum number of iterations.\n",
      "  ConvergenceWarning)\n",
      "[Parallel(n_jobs=1)]: Done   2 out of   2 | elapsed:    0.8s remaining:    0.0s\n",
      "/Users/frankz/anaconda3/lib/python3.7/site-packages/sklearn/decomposition/fastica_.py:121: ConvergenceWarning: FastICA did not converge. Consider increasing tolerance or the maximum number of iterations.\n",
      "  ConvergenceWarning)\n"
     ]
    },
    {
     "name": "stdout",
     "output_type": "stream",
     "text": [
      "[CV]  NN__alpha=0.1, NN__hidden_layer_sizes=(50, 50), score=0.6690897435897436, total=   0.4s\n",
      "[CV] NN__alpha=0.1, NN__hidden_layer_sizes=(50, 50) ..................\n",
      "[CV]  NN__alpha=0.1, NN__hidden_layer_sizes=(50, 50), score=0.09999999999999999, total=   0.2s\n",
      "[CV] NN__alpha=0.1, NN__hidden_layer_sizes=(50, 50) ..................\n"
     ]
    },
    {
     "name": "stderr",
     "output_type": "stream",
     "text": [
      "[Parallel(n_jobs=1)]: Done   3 out of   3 | elapsed:    1.1s remaining:    0.0s\n",
      "/Users/frankz/anaconda3/lib/python3.7/site-packages/sklearn/decomposition/fastica_.py:121: ConvergenceWarning: FastICA did not converge. Consider increasing tolerance or the maximum number of iterations.\n",
      "  ConvergenceWarning)\n",
      "[Parallel(n_jobs=1)]: Done   4 out of   4 | elapsed:    1.3s remaining:    0.0s\n"
     ]
    },
    {
     "name": "stdout",
     "output_type": "stream",
     "text": [
      "[CV]  NN__alpha=0.1, NN__hidden_layer_sizes=(50, 50), score=0.8526666666666667, total=   0.6s\n",
      "[CV] NN__alpha=0.1, NN__hidden_layer_sizes=(50,) .....................\n",
      "[CV]  NN__alpha=0.1, NN__hidden_layer_sizes=(50,), score=0.09999999999999998, total=   0.2s\n",
      "[CV] NN__alpha=0.1, NN__hidden_layer_sizes=(50,) .....................\n"
     ]
    },
    {
     "name": "stderr",
     "output_type": "stream",
     "text": [
      "[Parallel(n_jobs=1)]: Done   5 out of   5 | elapsed:    1.9s remaining:    0.0s\n",
      "/Users/frankz/anaconda3/lib/python3.7/site-packages/sklearn/decomposition/fastica_.py:121: ConvergenceWarning: FastICA did not converge. Consider increasing tolerance or the maximum number of iterations.\n",
      "  ConvergenceWarning)\n",
      "[Parallel(n_jobs=1)]: Done   6 out of   6 | elapsed:    2.1s remaining:    0.0s\n",
      "/Users/frankz/anaconda3/lib/python3.7/site-packages/sklearn/decomposition/fastica_.py:121: ConvergenceWarning: FastICA did not converge. Consider increasing tolerance or the maximum number of iterations.\n",
      "  ConvergenceWarning)\n",
      "[Parallel(n_jobs=1)]: Done   7 out of   7 | elapsed:    2.2s remaining:    0.0s\n",
      "/Users/frankz/anaconda3/lib/python3.7/site-packages/sklearn/decomposition/fastica_.py:121: ConvergenceWarning: FastICA did not converge. Consider increasing tolerance or the maximum number of iterations.\n",
      "  ConvergenceWarning)\n",
      "[Parallel(n_jobs=1)]: Done   8 out of   8 | elapsed:    2.4s remaining:    0.0s\n"
     ]
    },
    {
     "name": "stdout",
     "output_type": "stream",
     "text": [
      "[CV]  NN__alpha=0.1, NN__hidden_layer_sizes=(50,), score=0.1, total=   0.1s\n",
      "[CV] NN__alpha=0.1, NN__hidden_layer_sizes=(50,) .....................\n",
      "[CV]  NN__alpha=0.1, NN__hidden_layer_sizes=(50,), score=0.1, total=   0.2s\n",
      "[CV] NN__alpha=0.1, NN__hidden_layer_sizes=(50,) .....................\n"
     ]
    },
    {
     "name": "stderr",
     "output_type": "stream",
     "text": [
      "/Users/frankz/anaconda3/lib/python3.7/site-packages/sklearn/decomposition/fastica_.py:121: ConvergenceWarning: FastICA did not converge. Consider increasing tolerance or the maximum number of iterations.\n",
      "  ConvergenceWarning)\n",
      "[Parallel(n_jobs=1)]: Done   9 out of   9 | elapsed:    2.5s remaining:    0.0s\n"
     ]
    },
    {
     "name": "stdout",
     "output_type": "stream",
     "text": [
      "[CV]  NN__alpha=0.1, NN__hidden_layer_sizes=(50,), score=0.09999999999999998, total=   0.2s\n",
      "[CV] NN__alpha=0.1, NN__hidden_layer_sizes=(50,) .....................\n",
      "[CV]  NN__alpha=0.1, NN__hidden_layer_sizes=(50,), score=0.10000000000000003, total=   0.1s\n",
      "[CV] NN__alpha=0.1, NN__hidden_layer_sizes=(25,) .....................\n"
     ]
    },
    {
     "name": "stderr",
     "output_type": "stream",
     "text": [
      "/Users/frankz/anaconda3/lib/python3.7/site-packages/sklearn/decomposition/fastica_.py:121: ConvergenceWarning: FastICA did not converge. Consider increasing tolerance or the maximum number of iterations.\n",
      "  ConvergenceWarning)\n",
      "/Users/frankz/anaconda3/lib/python3.7/site-packages/sklearn/decomposition/fastica_.py:121: ConvergenceWarning: FastICA did not converge. Consider increasing tolerance or the maximum number of iterations.\n",
      "  ConvergenceWarning)\n"
     ]
    },
    {
     "name": "stdout",
     "output_type": "stream",
     "text": [
      "[CV]  NN__alpha=0.1, NN__hidden_layer_sizes=(25,), score=0.10384615384615381, total=   0.1s\n",
      "[CV] NN__alpha=0.1, NN__hidden_layer_sizes=(25,) .....................\n",
      "[CV]  NN__alpha=0.1, NN__hidden_layer_sizes=(25,), score=0.10384615384615387, total=   0.1s\n",
      "[CV] NN__alpha=0.1, NN__hidden_layer_sizes=(25,) .....................\n"
     ]
    },
    {
     "name": "stderr",
     "output_type": "stream",
     "text": [
      "/Users/frankz/anaconda3/lib/python3.7/site-packages/sklearn/decomposition/fastica_.py:121: ConvergenceWarning: FastICA did not converge. Consider increasing tolerance or the maximum number of iterations.\n",
      "  ConvergenceWarning)\n",
      "/Users/frankz/anaconda3/lib/python3.7/site-packages/sklearn/decomposition/fastica_.py:121: ConvergenceWarning: FastICA did not converge. Consider increasing tolerance or the maximum number of iterations.\n",
      "  ConvergenceWarning)\n"
     ]
    },
    {
     "name": "stdout",
     "output_type": "stream",
     "text": [
      "[CV]  NN__alpha=0.1, NN__hidden_layer_sizes=(25,), score=0.14, total=   0.2s\n",
      "[CV] NN__alpha=0.1, NN__hidden_layer_sizes=(25,) .....................\n",
      "[CV]  NN__alpha=0.1, NN__hidden_layer_sizes=(25,), score=0.108, total=   0.2s\n",
      "[CV] NN__alpha=0.1, NN__hidden_layer_sizes=(25,) .....................\n",
      "[CV]  NN__alpha=0.1, NN__hidden_layer_sizes=(25,), score=0.26000000000000006, total=   0.2s\n",
      "[CV] NN__alpha=0.1, NN__hidden_layer_sizes=(25, 25) ..................\n",
      "[CV]  NN__alpha=0.1, NN__hidden_layer_sizes=(25, 25), score=0.09999999999999998, total=   0.2s\n",
      "[CV] NN__alpha=0.1, NN__hidden_layer_sizes=(25, 25) ..................\n"
     ]
    },
    {
     "name": "stderr",
     "output_type": "stream",
     "text": [
      "/Users/frankz/anaconda3/lib/python3.7/site-packages/sklearn/decomposition/fastica_.py:121: ConvergenceWarning: FastICA did not converge. Consider increasing tolerance or the maximum number of iterations.\n",
      "  ConvergenceWarning)\n",
      "/Users/frankz/anaconda3/lib/python3.7/site-packages/sklearn/decomposition/fastica_.py:121: ConvergenceWarning: FastICA did not converge. Consider increasing tolerance or the maximum number of iterations.\n",
      "  ConvergenceWarning)\n"
     ]
    },
    {
     "name": "stdout",
     "output_type": "stream",
     "text": [
      "[CV]  NN__alpha=0.1, NN__hidden_layer_sizes=(25, 25), score=0.7430769230769232, total=   0.6s\n",
      "[CV] NN__alpha=0.1, NN__hidden_layer_sizes=(25, 25) ..................\n",
      "[CV]  NN__alpha=0.1, NN__hidden_layer_sizes=(25, 25), score=0.084, total=   0.2s\n",
      "[CV] NN__alpha=0.1, NN__hidden_layer_sizes=(25, 25) ..................\n"
     ]
    },
    {
     "name": "stderr",
     "output_type": "stream",
     "text": [
      "/Users/frankz/anaconda3/lib/python3.7/site-packages/sklearn/decomposition/fastica_.py:121: ConvergenceWarning: FastICA did not converge. Consider increasing tolerance or the maximum number of iterations.\n",
      "  ConvergenceWarning)\n",
      "/Users/frankz/anaconda3/lib/python3.7/site-packages/sklearn/decomposition/fastica_.py:121: ConvergenceWarning: FastICA did not converge. Consider increasing tolerance or the maximum number of iterations.\n",
      "  ConvergenceWarning)\n"
     ]
    },
    {
     "name": "stdout",
     "output_type": "stream",
     "text": [
      "[CV]  NN__alpha=0.1, NN__hidden_layer_sizes=(25, 25), score=0.10416666666666666, total=   0.2s\n",
      "[CV] NN__alpha=0.1, NN__hidden_layer_sizes=(25, 25) ..................\n",
      "[CV]  NN__alpha=0.1, NN__hidden_layer_sizes=(25, 25), score=0.10416666666666669, total=   0.1s\n",
      "[CV] NN__alpha=0.1, NN__hidden_layer_sizes=(100, 25, 100) ............\n"
     ]
    },
    {
     "name": "stderr",
     "output_type": "stream",
     "text": [
      "/Users/frankz/anaconda3/lib/python3.7/site-packages/sklearn/decomposition/fastica_.py:121: ConvergenceWarning: FastICA did not converge. Consider increasing tolerance or the maximum number of iterations.\n",
      "  ConvergenceWarning)\n"
     ]
    },
    {
     "name": "stdout",
     "output_type": "stream",
     "text": [
      "[CV]  NN__alpha=0.1, NN__hidden_layer_sizes=(100, 25, 100), score=0.7307692307692307, total=   0.8s\n",
      "[CV] NN__alpha=0.1, NN__hidden_layer_sizes=(100, 25, 100) ............\n"
     ]
    },
    {
     "name": "stderr",
     "output_type": "stream",
     "text": [
      "/Users/frankz/anaconda3/lib/python3.7/site-packages/sklearn/decomposition/fastica_.py:121: ConvergenceWarning: FastICA did not converge. Consider increasing tolerance or the maximum number of iterations.\n",
      "  ConvergenceWarning)\n"
     ]
    },
    {
     "name": "stdout",
     "output_type": "stream",
     "text": [
      "[CV]  NN__alpha=0.1, NN__hidden_layer_sizes=(100, 25, 100), score=0.16400000000000003, total=   0.2s\n",
      "[CV] NN__alpha=0.1, NN__hidden_layer_sizes=(100, 25, 100) ............\n"
     ]
    },
    {
     "name": "stderr",
     "output_type": "stream",
     "text": [
      "/Users/frankz/anaconda3/lib/python3.7/site-packages/sklearn/decomposition/fastica_.py:121: ConvergenceWarning: FastICA did not converge. Consider increasing tolerance or the maximum number of iterations.\n",
      "  ConvergenceWarning)\n"
     ]
    },
    {
     "name": "stdout",
     "output_type": "stream",
     "text": [
      "[CV]  NN__alpha=0.1, NN__hidden_layer_sizes=(100, 25, 100), score=0.508, total=   0.3s\n",
      "[CV] NN__alpha=0.1, NN__hidden_layer_sizes=(100, 25, 100) ............\n"
     ]
    },
    {
     "name": "stderr",
     "output_type": "stream",
     "text": [
      "/Users/frankz/anaconda3/lib/python3.7/site-packages/sklearn/decomposition/fastica_.py:121: ConvergenceWarning: FastICA did not converge. Consider increasing tolerance or the maximum number of iterations.\n",
      "  ConvergenceWarning)\n"
     ]
    },
    {
     "name": "stdout",
     "output_type": "stream",
     "text": [
      "[CV]  NN__alpha=0.1, NN__hidden_layer_sizes=(100, 25, 100), score=0.636, total=   0.4s\n",
      "[CV] NN__alpha=0.1, NN__hidden_layer_sizes=(100, 25, 100) ............\n",
      "[CV]  NN__alpha=0.1, NN__hidden_layer_sizes=(100, 25, 100), score=0.5068333333333334, total=   0.3s\n",
      "[CV] NN__alpha=0.01, NN__hidden_layer_sizes=(50, 50) .................\n"
     ]
    },
    {
     "name": "stderr",
     "output_type": "stream",
     "text": [
      "/Users/frankz/anaconda3/lib/python3.7/site-packages/sklearn/decomposition/fastica_.py:121: ConvergenceWarning: FastICA did not converge. Consider increasing tolerance or the maximum number of iterations.\n",
      "  ConvergenceWarning)\n"
     ]
    },
    {
     "name": "stdout",
     "output_type": "stream",
     "text": [
      "[CV]  NN__alpha=0.01, NN__hidden_layer_sizes=(50, 50), score=0.8630769230769231, total=   0.6s\n",
      "[CV] NN__alpha=0.01, NN__hidden_layer_sizes=(50, 50) .................\n"
     ]
    },
    {
     "name": "stderr",
     "output_type": "stream",
     "text": [
      "/Users/frankz/anaconda3/lib/python3.7/site-packages/sklearn/decomposition/fastica_.py:121: ConvergenceWarning: FastICA did not converge. Consider increasing tolerance or the maximum number of iterations.\n",
      "  ConvergenceWarning)\n"
     ]
    },
    {
     "name": "stdout",
     "output_type": "stream",
     "text": [
      "[CV]  NN__alpha=0.01, NN__hidden_layer_sizes=(50, 50), score=0.7236923076923077, total=   0.4s\n",
      "[CV] NN__alpha=0.01, NN__hidden_layer_sizes=(50, 50) .................\n"
     ]
    },
    {
     "name": "stderr",
     "output_type": "stream",
     "text": [
      "/Users/frankz/anaconda3/lib/python3.7/site-packages/sklearn/decomposition/fastica_.py:121: ConvergenceWarning: FastICA did not converge. Consider increasing tolerance or the maximum number of iterations.\n",
      "  ConvergenceWarning)\n"
     ]
    },
    {
     "name": "stdout",
     "output_type": "stream",
     "text": [
      "[CV]  NN__alpha=0.01, NN__hidden_layer_sizes=(50, 50), score=0.8190897435897435, total=   0.5s\n",
      "[CV] NN__alpha=0.01, NN__hidden_layer_sizes=(50, 50) .................\n",
      "[CV]  NN__alpha=0.01, NN__hidden_layer_sizes=(50, 50), score=0.09999999999999999, total=   0.2s\n",
      "[CV] NN__alpha=0.01, NN__hidden_layer_sizes=(50, 50) .................\n"
     ]
    },
    {
     "name": "stderr",
     "output_type": "stream",
     "text": [
      "/Users/frankz/anaconda3/lib/python3.7/site-packages/sklearn/decomposition/fastica_.py:121: ConvergenceWarning: FastICA did not converge. Consider increasing tolerance or the maximum number of iterations.\n",
      "  ConvergenceWarning)\n"
     ]
    },
    {
     "name": "stdout",
     "output_type": "stream",
     "text": [
      "[CV]  NN__alpha=0.01, NN__hidden_layer_sizes=(50, 50), score=0.663, total=   0.3s\n",
      "[CV] NN__alpha=0.01, NN__hidden_layer_sizes=(50,) ....................\n",
      "[CV]  NN__alpha=0.01, NN__hidden_layer_sizes=(50,), score=0.09999999999999998, total=   0.1s\n",
      "[CV] NN__alpha=0.01, NN__hidden_layer_sizes=(50,) ....................\n"
     ]
    },
    {
     "name": "stderr",
     "output_type": "stream",
     "text": [
      "/Users/frankz/anaconda3/lib/python3.7/site-packages/sklearn/decomposition/fastica_.py:121: ConvergenceWarning: FastICA did not converge. Consider increasing tolerance or the maximum number of iterations.\n",
      "  ConvergenceWarning)\n",
      "/Users/frankz/anaconda3/lib/python3.7/site-packages/sklearn/decomposition/fastica_.py:121: ConvergenceWarning: FastICA did not converge. Consider increasing tolerance or the maximum number of iterations.\n",
      "  ConvergenceWarning)\n"
     ]
    },
    {
     "name": "stdout",
     "output_type": "stream",
     "text": [
      "[CV]  NN__alpha=0.01, NN__hidden_layer_sizes=(50,), score=0.1, total=   0.1s\n",
      "[CV] NN__alpha=0.01, NN__hidden_layer_sizes=(50,) ....................\n",
      "[CV]  NN__alpha=0.01, NN__hidden_layer_sizes=(50,), score=0.1, total=   0.1s\n",
      "[CV] NN__alpha=0.01, NN__hidden_layer_sizes=(50,) ....................\n"
     ]
    },
    {
     "name": "stderr",
     "output_type": "stream",
     "text": [
      "/Users/frankz/anaconda3/lib/python3.7/site-packages/sklearn/decomposition/fastica_.py:121: ConvergenceWarning: FastICA did not converge. Consider increasing tolerance or the maximum number of iterations.\n",
      "  ConvergenceWarning)\n",
      "/Users/frankz/anaconda3/lib/python3.7/site-packages/sklearn/decomposition/fastica_.py:121: ConvergenceWarning: FastICA did not converge. Consider increasing tolerance or the maximum number of iterations.\n",
      "  ConvergenceWarning)\n"
     ]
    },
    {
     "name": "stdout",
     "output_type": "stream",
     "text": [
      "[CV]  NN__alpha=0.01, NN__hidden_layer_sizes=(50,), score=0.09999999999999998, total=   0.2s\n",
      "[CV] NN__alpha=0.01, NN__hidden_layer_sizes=(50,) ....................\n",
      "[CV]  NN__alpha=0.01, NN__hidden_layer_sizes=(50,), score=0.10000000000000003, total=   0.1s\n",
      "[CV] NN__alpha=0.01, NN__hidden_layer_sizes=(25,) ....................\n"
     ]
    },
    {
     "name": "stderr",
     "output_type": "stream",
     "text": [
      "/Users/frankz/anaconda3/lib/python3.7/site-packages/sklearn/decomposition/fastica_.py:121: ConvergenceWarning: FastICA did not converge. Consider increasing tolerance or the maximum number of iterations.\n",
      "  ConvergenceWarning)\n",
      "/Users/frankz/anaconda3/lib/python3.7/site-packages/sklearn/decomposition/fastica_.py:121: ConvergenceWarning: FastICA did not converge. Consider increasing tolerance or the maximum number of iterations.\n",
      "  ConvergenceWarning)\n"
     ]
    },
    {
     "name": "stdout",
     "output_type": "stream",
     "text": [
      "[CV]  NN__alpha=0.01, NN__hidden_layer_sizes=(25,), score=0.10384615384615381, total=   0.2s\n",
      "[CV] NN__alpha=0.01, NN__hidden_layer_sizes=(25,) ....................\n",
      "[CV]  NN__alpha=0.01, NN__hidden_layer_sizes=(25,), score=0.10384615384615387, total=   0.2s\n",
      "[CV] NN__alpha=0.01, NN__hidden_layer_sizes=(25,) ....................\n"
     ]
    },
    {
     "name": "stderr",
     "output_type": "stream",
     "text": [
      "/Users/frankz/anaconda3/lib/python3.7/site-packages/sklearn/decomposition/fastica_.py:121: ConvergenceWarning: FastICA did not converge. Consider increasing tolerance or the maximum number of iterations.\n",
      "  ConvergenceWarning)\n",
      "/Users/frankz/anaconda3/lib/python3.7/site-packages/sklearn/decomposition/fastica_.py:121: ConvergenceWarning: FastICA did not converge. Consider increasing tolerance or the maximum number of iterations.\n",
      "  ConvergenceWarning)\n"
     ]
    },
    {
     "name": "stdout",
     "output_type": "stream",
     "text": [
      "[CV]  NN__alpha=0.01, NN__hidden_layer_sizes=(25,), score=0.14, total=   0.2s\n",
      "[CV] NN__alpha=0.01, NN__hidden_layer_sizes=(25,) ....................\n",
      "[CV]  NN__alpha=0.01, NN__hidden_layer_sizes=(25,), score=0.108, total=   0.1s\n",
      "[CV] NN__alpha=0.01, NN__hidden_layer_sizes=(25,) ....................\n",
      "[CV]  NN__alpha=0.01, NN__hidden_layer_sizes=(25,), score=0.26800000000000007, total=   0.1s\n",
      "[CV] NN__alpha=0.01, NN__hidden_layer_sizes=(25, 25) .................\n",
      "[CV]  NN__alpha=0.01, NN__hidden_layer_sizes=(25, 25), score=0.09999999999999998, total=   0.2s\n",
      "[CV] NN__alpha=0.01, NN__hidden_layer_sizes=(25, 25) .................\n"
     ]
    },
    {
     "name": "stderr",
     "output_type": "stream",
     "text": [
      "/Users/frankz/anaconda3/lib/python3.7/site-packages/sklearn/decomposition/fastica_.py:121: ConvergenceWarning: FastICA did not converge. Consider increasing tolerance or the maximum number of iterations.\n",
      "  ConvergenceWarning)\n",
      "/Users/frankz/anaconda3/lib/python3.7/site-packages/sklearn/decomposition/fastica_.py:121: ConvergenceWarning: FastICA did not converge. Consider increasing tolerance or the maximum number of iterations.\n",
      "  ConvergenceWarning)\n"
     ]
    },
    {
     "name": "stdout",
     "output_type": "stream",
     "text": [
      "[CV]  NN__alpha=0.01, NN__hidden_layer_sizes=(25, 25), score=0.7470769230769233, total=   0.6s\n",
      "[CV] NN__alpha=0.01, NN__hidden_layer_sizes=(25, 25) .................\n",
      "[CV]  NN__alpha=0.01, NN__hidden_layer_sizes=(25, 25), score=0.084, total=   0.2s\n",
      "[CV] NN__alpha=0.01, NN__hidden_layer_sizes=(25, 25) .................\n"
     ]
    },
    {
     "name": "stderr",
     "output_type": "stream",
     "text": [
      "/Users/frankz/anaconda3/lib/python3.7/site-packages/sklearn/decomposition/fastica_.py:121: ConvergenceWarning: FastICA did not converge. Consider increasing tolerance or the maximum number of iterations.\n",
      "  ConvergenceWarning)\n",
      "/Users/frankz/anaconda3/lib/python3.7/site-packages/sklearn/decomposition/fastica_.py:121: ConvergenceWarning: FastICA did not converge. Consider increasing tolerance or the maximum number of iterations.\n",
      "  ConvergenceWarning)\n"
     ]
    },
    {
     "name": "stdout",
     "output_type": "stream",
     "text": [
      "[CV]  NN__alpha=0.01, NN__hidden_layer_sizes=(25, 25), score=0.10416666666666666, total=   0.2s\n",
      "[CV] NN__alpha=0.01, NN__hidden_layer_sizes=(25, 25) .................\n",
      "[CV]  NN__alpha=0.01, NN__hidden_layer_sizes=(25, 25), score=0.10416666666666669, total=   0.1s\n",
      "[CV] NN__alpha=0.01, NN__hidden_layer_sizes=(100, 25, 100) ...........\n"
     ]
    },
    {
     "name": "stderr",
     "output_type": "stream",
     "text": [
      "/Users/frankz/anaconda3/lib/python3.7/site-packages/sklearn/decomposition/fastica_.py:121: ConvergenceWarning: FastICA did not converge. Consider increasing tolerance or the maximum number of iterations.\n",
      "  ConvergenceWarning)\n"
     ]
    },
    {
     "name": "stdout",
     "output_type": "stream",
     "text": [
      "[CV]  NN__alpha=0.01, NN__hidden_layer_sizes=(100, 25, 100), score=0.9026153846153845, total=   1.5s\n",
      "[CV] NN__alpha=0.01, NN__hidden_layer_sizes=(100, 25, 100) ...........\n"
     ]
    },
    {
     "name": "stderr",
     "output_type": "stream",
     "text": [
      "/Users/frankz/anaconda3/lib/python3.7/site-packages/sklearn/decomposition/fastica_.py:121: ConvergenceWarning: FastICA did not converge. Consider increasing tolerance or the maximum number of iterations.\n",
      "  ConvergenceWarning)\n"
     ]
    },
    {
     "name": "stdout",
     "output_type": "stream",
     "text": [
      "[CV]  NN__alpha=0.01, NN__hidden_layer_sizes=(100, 25, 100), score=0.16400000000000003, total=   0.2s\n",
      "[CV] NN__alpha=0.01, NN__hidden_layer_sizes=(100, 25, 100) ...........\n"
     ]
    },
    {
     "name": "stderr",
     "output_type": "stream",
     "text": [
      "/Users/frankz/anaconda3/lib/python3.7/site-packages/sklearn/decomposition/fastica_.py:121: ConvergenceWarning: FastICA did not converge. Consider increasing tolerance or the maximum number of iterations.\n",
      "  ConvergenceWarning)\n"
     ]
    },
    {
     "name": "stdout",
     "output_type": "stream",
     "text": [
      "[CV]  NN__alpha=0.01, NN__hidden_layer_sizes=(100, 25, 100), score=0.544, total=   0.4s\n",
      "[CV] NN__alpha=0.01, NN__hidden_layer_sizes=(100, 25, 100) ...........\n"
     ]
    },
    {
     "name": "stderr",
     "output_type": "stream",
     "text": [
      "/Users/frankz/anaconda3/lib/python3.7/site-packages/sklearn/decomposition/fastica_.py:121: ConvergenceWarning: FastICA did not converge. Consider increasing tolerance or the maximum number of iterations.\n",
      "  ConvergenceWarning)\n"
     ]
    },
    {
     "name": "stdout",
     "output_type": "stream",
     "text": [
      "[CV]  NN__alpha=0.01, NN__hidden_layer_sizes=(100, 25, 100), score=0.6200000000000001, total=   0.4s\n",
      "[CV] NN__alpha=0.01, NN__hidden_layer_sizes=(100, 25, 100) ...........\n",
      "[CV]  NN__alpha=0.01, NN__hidden_layer_sizes=(100, 25, 100), score=0.5355000000000001, total=   0.3s\n",
      "[CV] NN__alpha=0.001, NN__hidden_layer_sizes=(50, 50) ................\n"
     ]
    },
    {
     "name": "stderr",
     "output_type": "stream",
     "text": [
      "/Users/frankz/anaconda3/lib/python3.7/site-packages/sklearn/decomposition/fastica_.py:121: ConvergenceWarning: FastICA did not converge. Consider increasing tolerance or the maximum number of iterations.\n",
      "  ConvergenceWarning)\n"
     ]
    },
    {
     "name": "stdout",
     "output_type": "stream",
     "text": [
      "[CV]  NN__alpha=0.001, NN__hidden_layer_sizes=(50, 50), score=0.8826153846153846, total=   0.7s\n",
      "[CV] NN__alpha=0.001, NN__hidden_layer_sizes=(50, 50) ................\n",
      "[CV]  NN__alpha=0.001, NN__hidden_layer_sizes=(50, 50), score=0.18461538461538465, total=   0.2s\n",
      "[CV] NN__alpha=0.001, NN__hidden_layer_sizes=(50, 50) ................\n"
     ]
    },
    {
     "name": "stderr",
     "output_type": "stream",
     "text": [
      "/Users/frankz/anaconda3/lib/python3.7/site-packages/sklearn/decomposition/fastica_.py:121: ConvergenceWarning: FastICA did not converge. Consider increasing tolerance or the maximum number of iterations.\n",
      "  ConvergenceWarning)\n",
      "/Users/frankz/anaconda3/lib/python3.7/site-packages/sklearn/decomposition/fastica_.py:121: ConvergenceWarning: FastICA did not converge. Consider increasing tolerance or the maximum number of iterations.\n",
      "  ConvergenceWarning)\n"
     ]
    },
    {
     "name": "stdout",
     "output_type": "stream",
     "text": [
      "[CV]  NN__alpha=0.001, NN__hidden_layer_sizes=(50, 50), score=0.6449358974358974, total=   0.4s\n",
      "[CV] NN__alpha=0.001, NN__hidden_layer_sizes=(50, 50) ................\n",
      "[CV]  NN__alpha=0.001, NN__hidden_layer_sizes=(50, 50), score=0.09999999999999999, total=   0.2s\n",
      "[CV] NN__alpha=0.001, NN__hidden_layer_sizes=(50, 50) ................\n"
     ]
    },
    {
     "name": "stderr",
     "output_type": "stream",
     "text": [
      "/Users/frankz/anaconda3/lib/python3.7/site-packages/sklearn/decomposition/fastica_.py:121: ConvergenceWarning: FastICA did not converge. Consider increasing tolerance or the maximum number of iterations.\n",
      "  ConvergenceWarning)\n"
     ]
    },
    {
     "name": "stdout",
     "output_type": "stream",
     "text": [
      "[CV]  NN__alpha=0.001, NN__hidden_layer_sizes=(50, 50), score=0.647, total=   0.3s\n",
      "[CV] NN__alpha=0.001, NN__hidden_layer_sizes=(50,) ...................\n",
      "[CV]  NN__alpha=0.001, NN__hidden_layer_sizes=(50,), score=0.09999999999999998, total=   0.2s\n",
      "[CV] NN__alpha=0.001, NN__hidden_layer_sizes=(50,) ...................\n"
     ]
    },
    {
     "name": "stderr",
     "output_type": "stream",
     "text": [
      "/Users/frankz/anaconda3/lib/python3.7/site-packages/sklearn/decomposition/fastica_.py:121: ConvergenceWarning: FastICA did not converge. Consider increasing tolerance or the maximum number of iterations.\n",
      "  ConvergenceWarning)\n",
      "/Users/frankz/anaconda3/lib/python3.7/site-packages/sklearn/decomposition/fastica_.py:121: ConvergenceWarning: FastICA did not converge. Consider increasing tolerance or the maximum number of iterations.\n",
      "  ConvergenceWarning)\n"
     ]
    },
    {
     "name": "stdout",
     "output_type": "stream",
     "text": [
      "[CV]  NN__alpha=0.001, NN__hidden_layer_sizes=(50,), score=0.1, total=   0.2s\n",
      "[CV] NN__alpha=0.001, NN__hidden_layer_sizes=(50,) ...................\n"
     ]
    },
    {
     "name": "stderr",
     "output_type": "stream",
     "text": [
      "/Users/frankz/anaconda3/lib/python3.7/site-packages/sklearn/decomposition/fastica_.py:121: ConvergenceWarning: FastICA did not converge. Consider increasing tolerance or the maximum number of iterations.\n",
      "  ConvergenceWarning)\n"
     ]
    },
    {
     "name": "stdout",
     "output_type": "stream",
     "text": [
      "[CV]  NN__alpha=0.001, NN__hidden_layer_sizes=(50,), score=0.1, total=   0.3s\n",
      "[CV] NN__alpha=0.001, NN__hidden_layer_sizes=(50,) ...................\n"
     ]
    },
    {
     "name": "stderr",
     "output_type": "stream",
     "text": [
      "/Users/frankz/anaconda3/lib/python3.7/site-packages/sklearn/decomposition/fastica_.py:121: ConvergenceWarning: FastICA did not converge. Consider increasing tolerance or the maximum number of iterations.\n",
      "  ConvergenceWarning)\n"
     ]
    },
    {
     "name": "stdout",
     "output_type": "stream",
     "text": [
      "[CV]  NN__alpha=0.001, NN__hidden_layer_sizes=(50,), score=0.09999999999999998, total=   0.5s\n",
      "[CV] NN__alpha=0.001, NN__hidden_layer_sizes=(50,) ...................\n",
      "[CV]  NN__alpha=0.001, NN__hidden_layer_sizes=(50,), score=0.10000000000000003, total=   0.1s\n",
      "[CV] NN__alpha=0.001, NN__hidden_layer_sizes=(25,) ...................\n"
     ]
    },
    {
     "name": "stderr",
     "output_type": "stream",
     "text": [
      "/Users/frankz/anaconda3/lib/python3.7/site-packages/sklearn/decomposition/fastica_.py:121: ConvergenceWarning: FastICA did not converge. Consider increasing tolerance or the maximum number of iterations.\n",
      "  ConvergenceWarning)\n"
     ]
    },
    {
     "name": "stdout",
     "output_type": "stream",
     "text": [
      "[CV]  NN__alpha=0.001, NN__hidden_layer_sizes=(25,), score=0.10384615384615381, total=   0.2s\n",
      "[CV] NN__alpha=0.001, NN__hidden_layer_sizes=(25,) ...................\n"
     ]
    },
    {
     "name": "stderr",
     "output_type": "stream",
     "text": [
      "/Users/frankz/anaconda3/lib/python3.7/site-packages/sklearn/decomposition/fastica_.py:121: ConvergenceWarning: FastICA did not converge. Consider increasing tolerance or the maximum number of iterations.\n",
      "  ConvergenceWarning)\n",
      "/Users/frankz/anaconda3/lib/python3.7/site-packages/sklearn/decomposition/fastica_.py:121: ConvergenceWarning: FastICA did not converge. Consider increasing tolerance or the maximum number of iterations.\n",
      "  ConvergenceWarning)\n"
     ]
    },
    {
     "name": "stdout",
     "output_type": "stream",
     "text": [
      "[CV]  NN__alpha=0.001, NN__hidden_layer_sizes=(25,), score=0.10384615384615387, total=   0.2s\n",
      "[CV] NN__alpha=0.001, NN__hidden_layer_sizes=(25,) ...................\n",
      "[CV]  NN__alpha=0.001, NN__hidden_layer_sizes=(25,), score=0.14, total=   0.2s\n",
      "[CV] NN__alpha=0.001, NN__hidden_layer_sizes=(25,) ...................\n"
     ]
    },
    {
     "name": "stderr",
     "output_type": "stream",
     "text": [
      "/Users/frankz/anaconda3/lib/python3.7/site-packages/sklearn/decomposition/fastica_.py:121: ConvergenceWarning: FastICA did not converge. Consider increasing tolerance or the maximum number of iterations.\n",
      "  ConvergenceWarning)\n"
     ]
    },
    {
     "name": "stdout",
     "output_type": "stream",
     "text": [
      "[CV]  NN__alpha=0.001, NN__hidden_layer_sizes=(25,), score=0.108, total=   0.2s\n",
      "[CV] NN__alpha=0.001, NN__hidden_layer_sizes=(25,) ...................\n",
      "[CV]  NN__alpha=0.001, NN__hidden_layer_sizes=(25,), score=0.26800000000000007, total=   0.2s\n",
      "[CV] NN__alpha=0.001, NN__hidden_layer_sizes=(25, 25) ................\n"
     ]
    },
    {
     "name": "stderr",
     "output_type": "stream",
     "text": [
      "/Users/frankz/anaconda3/lib/python3.7/site-packages/sklearn/decomposition/fastica_.py:121: ConvergenceWarning: FastICA did not converge. Consider increasing tolerance or the maximum number of iterations.\n",
      "  ConvergenceWarning)\n",
      "/Users/frankz/anaconda3/lib/python3.7/site-packages/sklearn/decomposition/fastica_.py:121: ConvergenceWarning: FastICA did not converge. Consider increasing tolerance or the maximum number of iterations.\n",
      "  ConvergenceWarning)\n"
     ]
    },
    {
     "name": "stdout",
     "output_type": "stream",
     "text": [
      "[CV]  NN__alpha=0.001, NN__hidden_layer_sizes=(25, 25), score=0.09999999999999998, total=   0.2s\n",
      "[CV] NN__alpha=0.001, NN__hidden_layer_sizes=(25, 25) ................\n",
      "[CV]  NN__alpha=0.001, NN__hidden_layer_sizes=(25, 25), score=0.7630769230769232, total=   0.6s\n",
      "[CV] NN__alpha=0.001, NN__hidden_layer_sizes=(25, 25) ................\n",
      "[CV]  NN__alpha=0.001, NN__hidden_layer_sizes=(25, 25), score=0.084, total=   0.2s\n",
      "[CV] NN__alpha=0.001, NN__hidden_layer_sizes=(25, 25) ................\n"
     ]
    },
    {
     "name": "stderr",
     "output_type": "stream",
     "text": [
      "/Users/frankz/anaconda3/lib/python3.7/site-packages/sklearn/decomposition/fastica_.py:121: ConvergenceWarning: FastICA did not converge. Consider increasing tolerance or the maximum number of iterations.\n",
      "  ConvergenceWarning)\n",
      "/Users/frankz/anaconda3/lib/python3.7/site-packages/sklearn/decomposition/fastica_.py:121: ConvergenceWarning: FastICA did not converge. Consider increasing tolerance or the maximum number of iterations.\n",
      "  ConvergenceWarning)\n"
     ]
    },
    {
     "name": "stdout",
     "output_type": "stream",
     "text": [
      "[CV]  NN__alpha=0.001, NN__hidden_layer_sizes=(25, 25), score=0.10416666666666666, total=   0.1s\n",
      "[CV] NN__alpha=0.001, NN__hidden_layer_sizes=(25, 25) ................\n",
      "[CV]  NN__alpha=0.001, NN__hidden_layer_sizes=(25, 25), score=0.10416666666666669, total=   0.1s\n",
      "[CV] NN__alpha=0.001, NN__hidden_layer_sizes=(100, 25, 100) ..........\n"
     ]
    },
    {
     "name": "stderr",
     "output_type": "stream",
     "text": [
      "/Users/frankz/anaconda3/lib/python3.7/site-packages/sklearn/decomposition/fastica_.py:121: ConvergenceWarning: FastICA did not converge. Consider increasing tolerance or the maximum number of iterations.\n",
      "  ConvergenceWarning)\n"
     ]
    },
    {
     "name": "stdout",
     "output_type": "stream",
     "text": [
      "[CV]  NN__alpha=0.001, NN__hidden_layer_sizes=(100, 25, 100), score=0.49415384615384605, total=   0.3s\n",
      "[CV] NN__alpha=0.001, NN__hidden_layer_sizes=(100, 25, 100) ..........\n"
     ]
    },
    {
     "name": "stderr",
     "output_type": "stream",
     "text": [
      "/Users/frankz/anaconda3/lib/python3.7/site-packages/sklearn/decomposition/fastica_.py:121: ConvergenceWarning: FastICA did not converge. Consider increasing tolerance or the maximum number of iterations.\n",
      "  ConvergenceWarning)\n",
      "/Users/frankz/anaconda3/lib/python3.7/site-packages/sklearn/decomposition/fastica_.py:121: ConvergenceWarning: FastICA did not converge. Consider increasing tolerance or the maximum number of iterations.\n",
      "  ConvergenceWarning)\n"
     ]
    },
    {
     "name": "stdout",
     "output_type": "stream",
     "text": [
      "[CV]  NN__alpha=0.001, NN__hidden_layer_sizes=(100, 25, 100), score=0.18400000000000005, total=   0.2s\n",
      "[CV] NN__alpha=0.001, NN__hidden_layer_sizes=(100, 25, 100) ..........\n",
      "[CV]  NN__alpha=0.001, NN__hidden_layer_sizes=(100, 25, 100), score=0.544, total=   0.4s\n",
      "[CV] NN__alpha=0.001, NN__hidden_layer_sizes=(100, 25, 100) ..........\n"
     ]
    },
    {
     "name": "stderr",
     "output_type": "stream",
     "text": [
      "/Users/frankz/anaconda3/lib/python3.7/site-packages/sklearn/decomposition/fastica_.py:121: ConvergenceWarning: FastICA did not converge. Consider increasing tolerance or the maximum number of iterations.\n",
      "  ConvergenceWarning)\n"
     ]
    },
    {
     "name": "stdout",
     "output_type": "stream",
     "text": [
      "[CV]  NN__alpha=0.001, NN__hidden_layer_sizes=(100, 25, 100), score=0.6960000000000001, total=   0.5s\n",
      "[CV] NN__alpha=0.001, NN__hidden_layer_sizes=(100, 25, 100) ..........\n",
      "[CV]  NN__alpha=0.001, NN__hidden_layer_sizes=(100, 25, 100), score=0.5273333333333334, total=   0.3s\n",
      "[CV] NN__alpha=0.0001, NN__hidden_layer_sizes=(50, 50) ...............\n"
     ]
    },
    {
     "name": "stderr",
     "output_type": "stream",
     "text": [
      "/Users/frankz/anaconda3/lib/python3.7/site-packages/sklearn/decomposition/fastica_.py:121: ConvergenceWarning: FastICA did not converge. Consider increasing tolerance or the maximum number of iterations.\n",
      "  ConvergenceWarning)\n"
     ]
    },
    {
     "name": "stdout",
     "output_type": "stream",
     "text": [
      "[CV]  NN__alpha=0.0001, NN__hidden_layer_sizes=(50, 50), score=0.8630769230769231, total=   0.7s\n",
      "[CV] NN__alpha=0.0001, NN__hidden_layer_sizes=(50, 50) ...............\n",
      "[CV]  NN__alpha=0.0001, NN__hidden_layer_sizes=(50, 50), score=0.1807692307692308, total=   0.2s\n",
      "[CV] NN__alpha=0.0001, NN__hidden_layer_sizes=(50, 50) ...............\n"
     ]
    },
    {
     "name": "stderr",
     "output_type": "stream",
     "text": [
      "/Users/frankz/anaconda3/lib/python3.7/site-packages/sklearn/decomposition/fastica_.py:121: ConvergenceWarning: FastICA did not converge. Consider increasing tolerance or the maximum number of iterations.\n",
      "  ConvergenceWarning)\n",
      "/Users/frankz/anaconda3/lib/python3.7/site-packages/sklearn/decomposition/fastica_.py:121: ConvergenceWarning: FastICA did not converge. Consider increasing tolerance or the maximum number of iterations.\n",
      "  ConvergenceWarning)\n"
     ]
    },
    {
     "name": "stdout",
     "output_type": "stream",
     "text": [
      "[CV]  NN__alpha=0.0001, NN__hidden_layer_sizes=(50, 50), score=0.6611025641025642, total=   0.3s\n",
      "[CV] NN__alpha=0.0001, NN__hidden_layer_sizes=(50, 50) ...............\n",
      "[CV]  NN__alpha=0.0001, NN__hidden_layer_sizes=(50, 50), score=0.09999999999999999, total=   0.2s\n",
      "[CV] NN__alpha=0.0001, NN__hidden_layer_sizes=(50, 50) ...............\n"
     ]
    },
    {
     "name": "stderr",
     "output_type": "stream",
     "text": [
      "/Users/frankz/anaconda3/lib/python3.7/site-packages/sklearn/decomposition/fastica_.py:121: ConvergenceWarning: FastICA did not converge. Consider increasing tolerance or the maximum number of iterations.\n",
      "  ConvergenceWarning)\n"
     ]
    },
    {
     "name": "stdout",
     "output_type": "stream",
     "text": [
      "[CV]  NN__alpha=0.0001, NN__hidden_layer_sizes=(50, 50), score=0.667, total=   0.3s\n",
      "[CV] NN__alpha=0.0001, NN__hidden_layer_sizes=(50,) ..................\n",
      "[CV]  NN__alpha=0.0001, NN__hidden_layer_sizes=(50,), score=0.09999999999999998, total=   0.1s\n",
      "[CV] NN__alpha=0.0001, NN__hidden_layer_sizes=(50,) ..................\n"
     ]
    },
    {
     "name": "stderr",
     "output_type": "stream",
     "text": [
      "/Users/frankz/anaconda3/lib/python3.7/site-packages/sklearn/decomposition/fastica_.py:121: ConvergenceWarning: FastICA did not converge. Consider increasing tolerance or the maximum number of iterations.\n",
      "  ConvergenceWarning)\n",
      "/Users/frankz/anaconda3/lib/python3.7/site-packages/sklearn/decomposition/fastica_.py:121: ConvergenceWarning: FastICA did not converge. Consider increasing tolerance or the maximum number of iterations.\n",
      "  ConvergenceWarning)\n"
     ]
    },
    {
     "name": "stdout",
     "output_type": "stream",
     "text": [
      "[CV]  NN__alpha=0.0001, NN__hidden_layer_sizes=(50,), score=0.1, total=   0.2s\n",
      "[CV] NN__alpha=0.0001, NN__hidden_layer_sizes=(50,) ..................\n",
      "[CV]  NN__alpha=0.0001, NN__hidden_layer_sizes=(50,), score=0.1, total=   0.2s\n",
      "[CV] NN__alpha=0.0001, NN__hidden_layer_sizes=(50,) ..................\n"
     ]
    },
    {
     "name": "stderr",
     "output_type": "stream",
     "text": [
      "/Users/frankz/anaconda3/lib/python3.7/site-packages/sklearn/decomposition/fastica_.py:121: ConvergenceWarning: FastICA did not converge. Consider increasing tolerance or the maximum number of iterations.\n",
      "  ConvergenceWarning)\n",
      "/Users/frankz/anaconda3/lib/python3.7/site-packages/sklearn/decomposition/fastica_.py:121: ConvergenceWarning: FastICA did not converge. Consider increasing tolerance or the maximum number of iterations.\n",
      "  ConvergenceWarning)\n"
     ]
    },
    {
     "name": "stdout",
     "output_type": "stream",
     "text": [
      "[CV]  NN__alpha=0.0001, NN__hidden_layer_sizes=(50,), score=0.09999999999999998, total=   0.2s\n",
      "[CV] NN__alpha=0.0001, NN__hidden_layer_sizes=(50,) ..................\n",
      "[CV]  NN__alpha=0.0001, NN__hidden_layer_sizes=(50,), score=0.10000000000000003, total=   0.1s\n",
      "[CV] NN__alpha=0.0001, NN__hidden_layer_sizes=(25,) ..................\n"
     ]
    },
    {
     "name": "stderr",
     "output_type": "stream",
     "text": [
      "/Users/frankz/anaconda3/lib/python3.7/site-packages/sklearn/decomposition/fastica_.py:121: ConvergenceWarning: FastICA did not converge. Consider increasing tolerance or the maximum number of iterations.\n",
      "  ConvergenceWarning)\n",
      "/Users/frankz/anaconda3/lib/python3.7/site-packages/sklearn/decomposition/fastica_.py:121: ConvergenceWarning: FastICA did not converge. Consider increasing tolerance or the maximum number of iterations.\n",
      "  ConvergenceWarning)\n"
     ]
    },
    {
     "name": "stdout",
     "output_type": "stream",
     "text": [
      "[CV]  NN__alpha=0.0001, NN__hidden_layer_sizes=(25,), score=0.10384615384615381, total=   0.2s\n",
      "[CV] NN__alpha=0.0001, NN__hidden_layer_sizes=(25,) ..................\n",
      "[CV]  NN__alpha=0.0001, NN__hidden_layer_sizes=(25,), score=0.10384615384615387, total=   0.1s\n",
      "[CV] NN__alpha=0.0001, NN__hidden_layer_sizes=(25,) ..................\n"
     ]
    },
    {
     "name": "stderr",
     "output_type": "stream",
     "text": [
      "/Users/frankz/anaconda3/lib/python3.7/site-packages/sklearn/decomposition/fastica_.py:121: ConvergenceWarning: FastICA did not converge. Consider increasing tolerance or the maximum number of iterations.\n",
      "  ConvergenceWarning)\n",
      "/Users/frankz/anaconda3/lib/python3.7/site-packages/sklearn/decomposition/fastica_.py:121: ConvergenceWarning: FastICA did not converge. Consider increasing tolerance or the maximum number of iterations.\n",
      "  ConvergenceWarning)\n"
     ]
    },
    {
     "name": "stdout",
     "output_type": "stream",
     "text": [
      "[CV]  NN__alpha=0.0001, NN__hidden_layer_sizes=(25,), score=0.14, total=   0.2s\n",
      "[CV] NN__alpha=0.0001, NN__hidden_layer_sizes=(25,) ..................\n",
      "[CV]  NN__alpha=0.0001, NN__hidden_layer_sizes=(25,), score=0.108, total=   0.2s\n",
      "[CV] NN__alpha=0.0001, NN__hidden_layer_sizes=(25,) ..................\n",
      "[CV]  NN__alpha=0.0001, NN__hidden_layer_sizes=(25,), score=0.26800000000000007, total=   0.2s\n",
      "[CV] NN__alpha=0.0001, NN__hidden_layer_sizes=(25, 25) ...............\n",
      "[CV]  NN__alpha=0.0001, NN__hidden_layer_sizes=(25, 25), score=0.09999999999999998, total=   0.2s\n",
      "[CV] NN__alpha=0.0001, NN__hidden_layer_sizes=(25, 25) ...............\n"
     ]
    },
    {
     "name": "stderr",
     "output_type": "stream",
     "text": [
      "/Users/frankz/anaconda3/lib/python3.7/site-packages/sklearn/decomposition/fastica_.py:121: ConvergenceWarning: FastICA did not converge. Consider increasing tolerance or the maximum number of iterations.\n",
      "  ConvergenceWarning)\n",
      "/Users/frankz/anaconda3/lib/python3.7/site-packages/sklearn/decomposition/fastica_.py:121: ConvergenceWarning: FastICA did not converge. Consider increasing tolerance or the maximum number of iterations.\n",
      "  ConvergenceWarning)\n"
     ]
    },
    {
     "name": "stdout",
     "output_type": "stream",
     "text": [
      "[CV]  NN__alpha=0.0001, NN__hidden_layer_sizes=(25, 25), score=0.5841538461538462, total=   0.4s\n",
      "[CV] NN__alpha=0.0001, NN__hidden_layer_sizes=(25, 25) ...............\n",
      "[CV]  NN__alpha=0.0001, NN__hidden_layer_sizes=(25, 25), score=0.084, total=   0.2s\n",
      "[CV] NN__alpha=0.0001, NN__hidden_layer_sizes=(25, 25) ...............\n"
     ]
    },
    {
     "name": "stderr",
     "output_type": "stream",
     "text": [
      "/Users/frankz/anaconda3/lib/python3.7/site-packages/sklearn/decomposition/fastica_.py:121: ConvergenceWarning: FastICA did not converge. Consider increasing tolerance or the maximum number of iterations.\n",
      "  ConvergenceWarning)\n",
      "/Users/frankz/anaconda3/lib/python3.7/site-packages/sklearn/decomposition/fastica_.py:121: ConvergenceWarning: FastICA did not converge. Consider increasing tolerance or the maximum number of iterations.\n",
      "  ConvergenceWarning)\n"
     ]
    },
    {
     "name": "stdout",
     "output_type": "stream",
     "text": [
      "[CV]  NN__alpha=0.0001, NN__hidden_layer_sizes=(25, 25), score=0.10416666666666666, total=   0.2s\n",
      "[CV] NN__alpha=0.0001, NN__hidden_layer_sizes=(25, 25) ...............\n",
      "[CV]  NN__alpha=0.0001, NN__hidden_layer_sizes=(25, 25), score=0.10416666666666669, total=   0.1s\n",
      "[CV] NN__alpha=0.0001, NN__hidden_layer_sizes=(100, 25, 100) .........\n"
     ]
    },
    {
     "name": "stderr",
     "output_type": "stream",
     "text": [
      "/Users/frankz/anaconda3/lib/python3.7/site-packages/sklearn/decomposition/fastica_.py:121: ConvergenceWarning: FastICA did not converge. Consider increasing tolerance or the maximum number of iterations.\n",
      "  ConvergenceWarning)\n"
     ]
    },
    {
     "name": "stdout",
     "output_type": "stream",
     "text": [
      "[CV]  NN__alpha=0.0001, NN__hidden_layer_sizes=(100, 25, 100), score=0.5098461538461537, total=   0.4s\n",
      "[CV] NN__alpha=0.0001, NN__hidden_layer_sizes=(100, 25, 100) .........\n"
     ]
    },
    {
     "name": "stderr",
     "output_type": "stream",
     "text": [
      "/Users/frankz/anaconda3/lib/python3.7/site-packages/sklearn/decomposition/fastica_.py:121: ConvergenceWarning: FastICA did not converge. Consider increasing tolerance or the maximum number of iterations.\n",
      "  ConvergenceWarning)\n"
     ]
    },
    {
     "name": "stdout",
     "output_type": "stream",
     "text": [
      "[CV]  NN__alpha=0.0001, NN__hidden_layer_sizes=(100, 25, 100), score=0.18400000000000005, total=   0.2s\n",
      "[CV] NN__alpha=0.0001, NN__hidden_layer_sizes=(100, 25, 100) .........\n"
     ]
    },
    {
     "name": "stderr",
     "output_type": "stream",
     "text": [
      "/Users/frankz/anaconda3/lib/python3.7/site-packages/sklearn/decomposition/fastica_.py:121: ConvergenceWarning: FastICA did not converge. Consider increasing tolerance or the maximum number of iterations.\n",
      "  ConvergenceWarning)\n"
     ]
    },
    {
     "name": "stdout",
     "output_type": "stream",
     "text": [
      "[CV]  NN__alpha=0.0001, NN__hidden_layer_sizes=(100, 25, 100), score=0.7856410256410257, total=   0.9s\n",
      "[CV] NN__alpha=0.0001, NN__hidden_layer_sizes=(100, 25, 100) .........\n"
     ]
    },
    {
     "name": "stderr",
     "output_type": "stream",
     "text": [
      "/Users/frankz/anaconda3/lib/python3.7/site-packages/sklearn/decomposition/fastica_.py:121: ConvergenceWarning: FastICA did not converge. Consider increasing tolerance or the maximum number of iterations.\n",
      "  ConvergenceWarning)\n"
     ]
    },
    {
     "name": "stdout",
     "output_type": "stream",
     "text": [
      "[CV]  NN__alpha=0.0001, NN__hidden_layer_sizes=(100, 25, 100), score=0.6920000000000002, total=   0.5s\n",
      "[CV] NN__alpha=0.0001, NN__hidden_layer_sizes=(100, 25, 100) .........\n",
      "[CV]  NN__alpha=0.0001, NN__hidden_layer_sizes=(100, 25, 100), score=0.5355000000000001, total=   0.3s\n"
     ]
    },
    {
     "name": "stderr",
     "output_type": "stream",
     "text": [
      "[Parallel(n_jobs=1)]: Done 100 out of 100 | elapsed:   27.8s finished\n",
      "/Users/frankz/anaconda3/lib/python3.7/site-packages/sklearn/model_selection/_search.py:841: DeprecationWarning: The default of the `iid` parameter will change from True to False in version 0.22 and will be removed in 0.24. This will change numeric results when test-set sizes are unequal.\n",
      "  DeprecationWarning)\n",
      "/Users/frankz/anaconda3/lib/python3.7/site-packages/sklearn/decomposition/fastica_.py:121: ConvergenceWarning: FastICA did not converge. Consider increasing tolerance or the maximum number of iterations.\n",
      "  ConvergenceWarning)\n",
      "/Users/frankz/anaconda3/lib/python3.7/site-packages/sklearn/decomposition/fastica_.py:121: ConvergenceWarning: FastICA did not converge. Consider increasing tolerance or the maximum number of iterations.\n",
      "  ConvergenceWarning)\n"
     ]
    }
   ],
   "source": [
    "gs, best_estimator, final_estimator = gs_with_best_estimator(pipe, grid)"
   ]
  },
  {
   "cell_type": "code",
   "execution_count": 117,
   "metadata": {},
   "outputs": [
    {
     "data": {
      "text/plain": [
       "MLPClassifier(activation='relu', alpha=0.01, batch_size='auto', beta_1=0.9,\n",
       "       beta_2=0.999, early_stopping=True, epsilon=1e-08,\n",
       "       hidden_layer_sizes=(50, 50), learning_rate='constant',\n",
       "       learning_rate_init=0.001, max_iter=2000, momentum=0.9,\n",
       "       n_iter_no_change=10, nesterovs_momentum=True, power_t=0.5,\n",
       "       random_state=7, shuffle=True, solver='adam', tol=0.0001,\n",
       "       validation_fraction=0.1, verbose=False, warm_start=False)"
      ]
     },
     "execution_count": 117,
     "metadata": {},
     "output_type": "execute_result"
    }
   ],
   "source": [
    "final_estimator"
   ]
  },
  {
   "cell_type": "code",
   "execution_count": 118,
   "metadata": {
    "scrolled": true
   },
   "outputs": [
    {
     "data": {
      "text/plain": [
       "0.8870326173428799"
      ]
     },
     "execution_count": 118,
     "metadata": {},
     "output_type": "execute_result"
    }
   ],
   "source": [
    "best_estimator.score(training_x, training_y)"
   ]
  },
  {
   "cell_type": "code",
   "execution_count": 119,
   "metadata": {
    "scrolled": true
   },
   "outputs": [
    {
     "data": {
      "text/plain": [
       "0.8944444444444445"
      ]
     },
     "execution_count": 119,
     "metadata": {},
     "output_type": "execute_result"
    }
   ],
   "source": [
    "best_estimator.score(testing_x, testing_y)"
   ]
  },
  {
   "cell_type": "markdown",
   "metadata": {},
   "source": [
    "### RP"
   ]
  },
  {
   "cell_type": "code",
   "execution_count": 123,
   "metadata": {},
   "outputs": [],
   "source": [
    "from sklearn.random_projection import SparseRandomProjection, GaussianRandomProjection"
   ]
  },
  {
   "cell_type": "code",
   "execution_count": 124,
   "metadata": {},
   "outputs": [],
   "source": [
    "rp = SparseRandomProjection(n_components=9, random_state=seed)"
   ]
  },
  {
   "cell_type": "code",
   "execution_count": 125,
   "metadata": {},
   "outputs": [],
   "source": [
    "grid = {'NN__alpha': _nn_reg, 'NN__hidden_layer_sizes': _nn_arch}\n",
    "mlp = MLPClassifier(activation='relu', max_iter=2000, early_stopping=True, random_state=seed)\n",
    "pipe = Pipeline([('rp', rp), ('NN', mlp)])"
   ]
  },
  {
   "cell_type": "code",
   "execution_count": 126,
   "metadata": {
    "scrolled": true
   },
   "outputs": [
    {
     "name": "stdout",
     "output_type": "stream",
     "text": [
      "Fitting 5 folds for each of 20 candidates, totalling 100 fits\n",
      "[CV] NN__alpha=0.1, NN__hidden_layer_sizes=(50, 50) ..................\n"
     ]
    },
    {
     "name": "stderr",
     "output_type": "stream",
     "text": [
      "[Parallel(n_jobs=1)]: Using backend SequentialBackend with 1 concurrent workers.\n"
     ]
    },
    {
     "name": "stdout",
     "output_type": "stream",
     "text": [
      "[CV]  NN__alpha=0.1, NN__hidden_layer_sizes=(50, 50), score=0.7459999999999999, total=   0.3s\n",
      "[CV] NN__alpha=0.1, NN__hidden_layer_sizes=(50, 50) ..................\n"
     ]
    },
    {
     "name": "stderr",
     "output_type": "stream",
     "text": [
      "[Parallel(n_jobs=1)]: Done   1 out of   1 | elapsed:    0.3s remaining:    0.0s\n"
     ]
    },
    {
     "name": "stdout",
     "output_type": "stream",
     "text": [
      "[CV]  NN__alpha=0.1, NN__hidden_layer_sizes=(50, 50), score=0.7713846153846156, total=   0.3s\n",
      "[CV] NN__alpha=0.1, NN__hidden_layer_sizes=(50, 50) ..................\n"
     ]
    },
    {
     "name": "stderr",
     "output_type": "stream",
     "text": [
      "[Parallel(n_jobs=1)]: Done   2 out of   2 | elapsed:    0.7s remaining:    0.0s\n"
     ]
    },
    {
     "name": "stdout",
     "output_type": "stream",
     "text": [
      "[CV]  NN__alpha=0.1, NN__hidden_layer_sizes=(50, 50), score=0.8314102564102563, total=   0.4s\n",
      "[CV] NN__alpha=0.1, NN__hidden_layer_sizes=(50, 50) ..................\n"
     ]
    },
    {
     "name": "stderr",
     "output_type": "stream",
     "text": [
      "[Parallel(n_jobs=1)]: Done   3 out of   3 | elapsed:    1.0s remaining:    0.0s\n"
     ]
    },
    {
     "name": "stdout",
     "output_type": "stream",
     "text": [
      "[CV]  NN__alpha=0.1, NN__hidden_layer_sizes=(50, 50), score=0.7901666666666667, total=   0.4s\n",
      "[CV] NN__alpha=0.1, NN__hidden_layer_sizes=(50, 50) ..................\n"
     ]
    },
    {
     "name": "stderr",
     "output_type": "stream",
     "text": [
      "[Parallel(n_jobs=1)]: Done   4 out of   4 | elapsed:    1.5s remaining:    0.0s\n"
     ]
    },
    {
     "name": "stdout",
     "output_type": "stream",
     "text": [
      "[CV]  NN__alpha=0.1, NN__hidden_layer_sizes=(50, 50), score=0.7158333333333334, total=   0.2s\n",
      "[CV] NN__alpha=0.1, NN__hidden_layer_sizes=(50,) .....................\n"
     ]
    },
    {
     "name": "stderr",
     "output_type": "stream",
     "text": [
      "[Parallel(n_jobs=1)]: Done   5 out of   5 | elapsed:    1.7s remaining:    0.0s\n"
     ]
    },
    {
     "name": "stdout",
     "output_type": "stream",
     "text": [
      "[CV]  NN__alpha=0.1, NN__hidden_layer_sizes=(50,), score=0.7067692307692307, total=   0.2s\n",
      "[CV] NN__alpha=0.1, NN__hidden_layer_sizes=(50,) .....................\n"
     ]
    },
    {
     "name": "stderr",
     "output_type": "stream",
     "text": [
      "[Parallel(n_jobs=1)]: Done   6 out of   6 | elapsed:    1.9s remaining:    0.0s\n"
     ]
    },
    {
     "name": "stdout",
     "output_type": "stream",
     "text": [
      "[CV]  NN__alpha=0.1, NN__hidden_layer_sizes=(50,), score=0.763846153846154, total=   0.2s\n",
      "[CV] NN__alpha=0.1, NN__hidden_layer_sizes=(50,) .....................\n",
      "[CV]  NN__alpha=0.1, NN__hidden_layer_sizes=(50,), score=0.7669230769230769, total=   0.2s\n",
      "[CV] NN__alpha=0.1, NN__hidden_layer_sizes=(50,) .....................\n"
     ]
    },
    {
     "name": "stderr",
     "output_type": "stream",
     "text": [
      "[Parallel(n_jobs=1)]: Done   7 out of   7 | elapsed:    2.1s remaining:    0.0s\n",
      "[Parallel(n_jobs=1)]: Done   8 out of   8 | elapsed:    2.3s remaining:    0.0s\n"
     ]
    },
    {
     "name": "stdout",
     "output_type": "stream",
     "text": [
      "[CV]  NN__alpha=0.1, NN__hidden_layer_sizes=(50,), score=0.762, total=   0.3s\n",
      "[CV] NN__alpha=0.1, NN__hidden_layer_sizes=(50,) .....................\n"
     ]
    },
    {
     "name": "stderr",
     "output_type": "stream",
     "text": [
      "[Parallel(n_jobs=1)]: Done   9 out of   9 | elapsed:    2.6s remaining:    0.0s\n"
     ]
    },
    {
     "name": "stdout",
     "output_type": "stream",
     "text": [
      "[CV]  NN__alpha=0.1, NN__hidden_layer_sizes=(50,), score=0.7166666666666668, total=   0.2s\n",
      "[CV] NN__alpha=0.1, NN__hidden_layer_sizes=(25,) .....................\n",
      "[CV]  NN__alpha=0.1, NN__hidden_layer_sizes=(25,), score=0.6561538461538461, total=   0.2s\n",
      "[CV] NN__alpha=0.1, NN__hidden_layer_sizes=(25,) .....................\n",
      "[CV]  NN__alpha=0.1, NN__hidden_layer_sizes=(25,), score=0.6432307692307693, total=   0.2s\n",
      "[CV] NN__alpha=0.1, NN__hidden_layer_sizes=(25,) .....................\n",
      "[CV]  NN__alpha=0.1, NN__hidden_layer_sizes=(25,), score=0.699076923076923, total=   0.2s\n",
      "[CV] NN__alpha=0.1, NN__hidden_layer_sizes=(25,) .....................\n",
      "[CV]  NN__alpha=0.1, NN__hidden_layer_sizes=(25,), score=0.6258333333333335, total=   0.2s\n",
      "[CV] NN__alpha=0.1, NN__hidden_layer_sizes=(25,) .....................\n",
      "[CV]  NN__alpha=0.1, NN__hidden_layer_sizes=(25,), score=0.7130000000000001, total=   0.2s\n",
      "[CV] NN__alpha=0.1, NN__hidden_layer_sizes=(25, 25) ..................\n",
      "[CV]  NN__alpha=0.1, NN__hidden_layer_sizes=(25, 25), score=0.7230769230769231, total=   0.3s\n",
      "[CV] NN__alpha=0.1, NN__hidden_layer_sizes=(25, 25) ..................\n",
      "[CV]  NN__alpha=0.1, NN__hidden_layer_sizes=(25, 25), score=0.7283076923076924, total=   0.2s\n",
      "[CV] NN__alpha=0.1, NN__hidden_layer_sizes=(25, 25) ..................\n",
      "[CV]  NN__alpha=0.1, NN__hidden_layer_sizes=(25, 25), score=0.7157179487179487, total=   0.2s\n",
      "[CV] NN__alpha=0.1, NN__hidden_layer_sizes=(25, 25) ..................\n",
      "[CV]  NN__alpha=0.1, NN__hidden_layer_sizes=(25, 25), score=0.698, total=   0.2s\n",
      "[CV] NN__alpha=0.1, NN__hidden_layer_sizes=(25, 25) ..................\n",
      "[CV]  NN__alpha=0.1, NN__hidden_layer_sizes=(25, 25), score=0.7371666666666667, total=   0.3s\n",
      "[CV] NN__alpha=0.1, NN__hidden_layer_sizes=(100, 25, 100) ............\n",
      "[CV]  NN__alpha=0.1, NN__hidden_layer_sizes=(100, 25, 100), score=0.8049230769230769, total=   0.6s\n",
      "[CV] NN__alpha=0.1, NN__hidden_layer_sizes=(100, 25, 100) ............\n",
      "[CV]  NN__alpha=0.1, NN__hidden_layer_sizes=(100, 25, 100), score=0.814923076923077, total=   0.5s\n",
      "[CV] NN__alpha=0.1, NN__hidden_layer_sizes=(100, 25, 100) ............\n",
      "[CV]  NN__alpha=0.1, NN__hidden_layer_sizes=(100, 25, 100), score=0.8357307692307692, total=   0.4s\n",
      "[CV] NN__alpha=0.1, NN__hidden_layer_sizes=(100, 25, 100) ............\n",
      "[CV]  NN__alpha=0.1, NN__hidden_layer_sizes=(100, 25, 100), score=0.8108333333333334, total=   0.5s\n",
      "[CV] NN__alpha=0.1, NN__hidden_layer_sizes=(100, 25, 100) ............\n",
      "[CV]  NN__alpha=0.1, NN__hidden_layer_sizes=(100, 25, 100), score=0.8058333333333334, total=   0.5s\n",
      "[CV] NN__alpha=0.01, NN__hidden_layer_sizes=(50, 50) .................\n",
      "[CV]  NN__alpha=0.01, NN__hidden_layer_sizes=(50, 50), score=0.7773846153846152, total=   0.4s\n",
      "[CV] NN__alpha=0.01, NN__hidden_layer_sizes=(50, 50) .................\n",
      "[CV]  NN__alpha=0.01, NN__hidden_layer_sizes=(50, 50), score=0.7713846153846156, total=   0.3s\n",
      "[CV] NN__alpha=0.01, NN__hidden_layer_sizes=(50, 50) .................\n",
      "[CV]  NN__alpha=0.01, NN__hidden_layer_sizes=(50, 50), score=0.8314102564102563, total=   0.4s\n",
      "[CV] NN__alpha=0.01, NN__hidden_layer_sizes=(50, 50) .................\n",
      "[CV]  NN__alpha=0.01, NN__hidden_layer_sizes=(50, 50), score=0.75, total=   0.2s\n",
      "[CV] NN__alpha=0.01, NN__hidden_layer_sizes=(50, 50) .................\n",
      "[CV]  NN__alpha=0.01, NN__hidden_layer_sizes=(50, 50), score=0.7158333333333334, total=   0.2s\n",
      "[CV] NN__alpha=0.01, NN__hidden_layer_sizes=(50,) ....................\n",
      "[CV]  NN__alpha=0.01, NN__hidden_layer_sizes=(50,), score=0.7067692307692307, total=   0.2s\n",
      "[CV] NN__alpha=0.01, NN__hidden_layer_sizes=(50,) ....................\n",
      "[CV]  NN__alpha=0.01, NN__hidden_layer_sizes=(50,), score=0.763846153846154, total=   0.2s\n",
      "[CV] NN__alpha=0.01, NN__hidden_layer_sizes=(50,) ....................\n",
      "[CV]  NN__alpha=0.01, NN__hidden_layer_sizes=(50,), score=0.7669230769230769, total=   0.2s\n",
      "[CV] NN__alpha=0.01, NN__hidden_layer_sizes=(50,) ....................\n",
      "[CV]  NN__alpha=0.01, NN__hidden_layer_sizes=(50,), score=0.77, total=   0.3s\n",
      "[CV] NN__alpha=0.01, NN__hidden_layer_sizes=(50,) ....................\n",
      "[CV]  NN__alpha=0.01, NN__hidden_layer_sizes=(50,), score=0.7166666666666668, total=   0.2s\n",
      "[CV] NN__alpha=0.01, NN__hidden_layer_sizes=(25,) ....................\n",
      "[CV]  NN__alpha=0.01, NN__hidden_layer_sizes=(25,), score=0.6561538461538461, total=   0.2s\n",
      "[CV] NN__alpha=0.01, NN__hidden_layer_sizes=(25,) ....................\n",
      "[CV]  NN__alpha=0.01, NN__hidden_layer_sizes=(25,), score=0.6432307692307693, total=   0.2s\n",
      "[CV] NN__alpha=0.01, NN__hidden_layer_sizes=(25,) ....................\n",
      "[CV]  NN__alpha=0.01, NN__hidden_layer_sizes=(25,), score=0.699076923076923, total=   0.2s\n",
      "[CV] NN__alpha=0.01, NN__hidden_layer_sizes=(25,) ....................\n",
      "[CV]  NN__alpha=0.01, NN__hidden_layer_sizes=(25,), score=0.6258333333333335, total=   0.2s\n",
      "[CV] NN__alpha=0.01, NN__hidden_layer_sizes=(25,) ....................\n",
      "[CV]  NN__alpha=0.01, NN__hidden_layer_sizes=(25,), score=0.7331666666666666, total=   0.3s\n",
      "[CV] NN__alpha=0.01, NN__hidden_layer_sizes=(25, 25) .................\n",
      "[CV]  NN__alpha=0.01, NN__hidden_layer_sizes=(25, 25), score=0.7190769230769231, total=   0.3s\n",
      "[CV] NN__alpha=0.01, NN__hidden_layer_sizes=(25, 25) .................\n",
      "[CV]  NN__alpha=0.01, NN__hidden_layer_sizes=(25, 25), score=0.7680000000000001, total=   0.4s\n",
      "[CV] NN__alpha=0.01, NN__hidden_layer_sizes=(25, 25) .................\n",
      "[CV]  NN__alpha=0.01, NN__hidden_layer_sizes=(25, 25), score=0.7393974358974359, total=   0.2s\n",
      "[CV] NN__alpha=0.01, NN__hidden_layer_sizes=(25, 25) .................\n",
      "[CV]  NN__alpha=0.01, NN__hidden_layer_sizes=(25, 25), score=0.6940000000000001, total=   0.2s\n",
      "[CV] NN__alpha=0.01, NN__hidden_layer_sizes=(25, 25) .................\n",
      "[CV]  NN__alpha=0.01, NN__hidden_layer_sizes=(25, 25), score=0.7133333333333335, total=   0.2s\n",
      "[CV] NN__alpha=0.01, NN__hidden_layer_sizes=(100, 25, 100) ...........\n",
      "[CV]  NN__alpha=0.01, NN__hidden_layer_sizes=(100, 25, 100), score=0.8007692307692307, total=   0.8s\n",
      "[CV] NN__alpha=0.01, NN__hidden_layer_sizes=(100, 25, 100) ...........\n",
      "[CV]  NN__alpha=0.01, NN__hidden_layer_sizes=(100, 25, 100), score=0.8346153846153848, total=   0.7s\n",
      "[CV] NN__alpha=0.01, NN__hidden_layer_sizes=(100, 25, 100) ...........\n",
      "[CV]  NN__alpha=0.01, NN__hidden_layer_sizes=(100, 25, 100), score=0.8315641025641025, total=   0.4s\n",
      "[CV] NN__alpha=0.01, NN__hidden_layer_sizes=(100, 25, 100) ...........\n",
      "[CV]  NN__alpha=0.01, NN__hidden_layer_sizes=(100, 25, 100), score=0.8068333333333334, total=   0.7s\n",
      "[CV] NN__alpha=0.01, NN__hidden_layer_sizes=(100, 25, 100) ...........\n",
      "[CV]  NN__alpha=0.01, NN__hidden_layer_sizes=(100, 25, 100), score=0.8058333333333334, total=   0.6s\n",
      "[CV] NN__alpha=0.001, NN__hidden_layer_sizes=(50, 50) ................\n",
      "[CV]  NN__alpha=0.001, NN__hidden_layer_sizes=(50, 50), score=0.7459999999999999, total=   0.3s\n",
      "[CV] NN__alpha=0.001, NN__hidden_layer_sizes=(50, 50) ................\n",
      "[CV]  NN__alpha=0.001, NN__hidden_layer_sizes=(50, 50), score=0.7713846153846156, total=   0.2s\n",
      "[CV] NN__alpha=0.001, NN__hidden_layer_sizes=(50, 50) ................\n",
      "[CV]  NN__alpha=0.001, NN__hidden_layer_sizes=(50, 50), score=0.8314102564102563, total=   0.3s\n",
      "[CV] NN__alpha=0.001, NN__hidden_layer_sizes=(50, 50) ................\n",
      "[CV]  NN__alpha=0.001, NN__hidden_layer_sizes=(50, 50), score=0.75, total=   0.2s\n",
      "[CV] NN__alpha=0.001, NN__hidden_layer_sizes=(50, 50) ................\n",
      "[CV]  NN__alpha=0.001, NN__hidden_layer_sizes=(50, 50), score=0.7158333333333334, total=   0.2s\n",
      "[CV] NN__alpha=0.001, NN__hidden_layer_sizes=(50,) ...................\n",
      "[CV]  NN__alpha=0.001, NN__hidden_layer_sizes=(50,), score=0.7067692307692307, total=   0.2s\n",
      "[CV] NN__alpha=0.001, NN__hidden_layer_sizes=(50,) ...................\n",
      "[CV]  NN__alpha=0.001, NN__hidden_layer_sizes=(50,), score=0.763846153846154, total=   0.2s\n",
      "[CV] NN__alpha=0.001, NN__hidden_layer_sizes=(50,) ...................\n",
      "[CV]  NN__alpha=0.001, NN__hidden_layer_sizes=(50,), score=0.7669230769230769, total=   0.2s\n",
      "[CV] NN__alpha=0.001, NN__hidden_layer_sizes=(50,) ...................\n",
      "[CV]  NN__alpha=0.001, NN__hidden_layer_sizes=(50,), score=0.77, total=   0.3s\n",
      "[CV] NN__alpha=0.001, NN__hidden_layer_sizes=(50,) ...................\n"
     ]
    },
    {
     "name": "stdout",
     "output_type": "stream",
     "text": [
      "[CV]  NN__alpha=0.001, NN__hidden_layer_sizes=(50,), score=0.7208333333333333, total=   0.2s\n",
      "[CV] NN__alpha=0.001, NN__hidden_layer_sizes=(25,) ...................\n",
      "[CV]  NN__alpha=0.001, NN__hidden_layer_sizes=(25,), score=0.6561538461538461, total=   0.2s\n",
      "[CV] NN__alpha=0.001, NN__hidden_layer_sizes=(25,) ...................\n",
      "[CV]  NN__alpha=0.001, NN__hidden_layer_sizes=(25,), score=0.6432307692307693, total=   0.2s\n",
      "[CV] NN__alpha=0.001, NN__hidden_layer_sizes=(25,) ...................\n",
      "[CV]  NN__alpha=0.001, NN__hidden_layer_sizes=(25,), score=0.699076923076923, total=   0.1s\n",
      "[CV] NN__alpha=0.001, NN__hidden_layer_sizes=(25,) ...................\n",
      "[CV]  NN__alpha=0.001, NN__hidden_layer_sizes=(25,), score=0.6258333333333335, total=   0.1s\n",
      "[CV] NN__alpha=0.001, NN__hidden_layer_sizes=(25,) ...................\n",
      "[CV]  NN__alpha=0.001, NN__hidden_layer_sizes=(25,), score=0.7331666666666666, total=   0.2s\n",
      "[CV] NN__alpha=0.001, NN__hidden_layer_sizes=(25, 25) ................\n",
      "[CV]  NN__alpha=0.001, NN__hidden_layer_sizes=(25, 25), score=0.7190769230769231, total=   0.3s\n",
      "[CV] NN__alpha=0.001, NN__hidden_layer_sizes=(25, 25) ................\n",
      "[CV]  NN__alpha=0.001, NN__hidden_layer_sizes=(25, 25), score=0.7680000000000001, total=   0.3s\n",
      "[CV] NN__alpha=0.001, NN__hidden_layer_sizes=(25, 25) ................\n",
      "[CV]  NN__alpha=0.001, NN__hidden_layer_sizes=(25, 25), score=0.7393974358974359, total=   0.2s\n",
      "[CV] NN__alpha=0.001, NN__hidden_layer_sizes=(25, 25) ................\n",
      "[CV]  NN__alpha=0.001, NN__hidden_layer_sizes=(25, 25), score=0.6940000000000001, total=   0.2s\n",
      "[CV] NN__alpha=0.001, NN__hidden_layer_sizes=(25, 25) ................\n",
      "[CV]  NN__alpha=0.001, NN__hidden_layer_sizes=(25, 25), score=0.7133333333333335, total=   0.2s\n",
      "[CV] NN__alpha=0.001, NN__hidden_layer_sizes=(100, 25, 100) ..........\n",
      "[CV]  NN__alpha=0.001, NN__hidden_layer_sizes=(100, 25, 100), score=0.7932307692307692, total=   0.6s\n",
      "[CV] NN__alpha=0.001, NN__hidden_layer_sizes=(100, 25, 100) ..........\n",
      "[CV]  NN__alpha=0.001, NN__hidden_layer_sizes=(100, 25, 100), score=0.8307692307692309, total=   0.7s\n",
      "[CV] NN__alpha=0.001, NN__hidden_layer_sizes=(100, 25, 100) ..........\n",
      "[CV]  NN__alpha=0.001, NN__hidden_layer_sizes=(100, 25, 100), score=0.8315641025641025, total=   0.4s\n",
      "[CV] NN__alpha=0.001, NN__hidden_layer_sizes=(100, 25, 100) ..........\n",
      "[CV]  NN__alpha=0.001, NN__hidden_layer_sizes=(100, 25, 100), score=0.8068333333333334, total=   0.8s\n",
      "[CV] NN__alpha=0.001, NN__hidden_layer_sizes=(100, 25, 100) ..........\n",
      "[CV]  NN__alpha=0.001, NN__hidden_layer_sizes=(100, 25, 100), score=0.8298333333333333, total=   0.6s\n",
      "[CV] NN__alpha=0.0001, NN__hidden_layer_sizes=(50, 50) ...............\n",
      "[CV]  NN__alpha=0.0001, NN__hidden_layer_sizes=(50, 50), score=0.7459999999999999, total=   0.3s\n",
      "[CV] NN__alpha=0.0001, NN__hidden_layer_sizes=(50, 50) ...............\n",
      "[CV]  NN__alpha=0.0001, NN__hidden_layer_sizes=(50, 50), score=0.7713846153846156, total=   0.2s\n",
      "[CV] NN__alpha=0.0001, NN__hidden_layer_sizes=(50, 50) ...............\n",
      "[CV]  NN__alpha=0.0001, NN__hidden_layer_sizes=(50, 50), score=0.8314102564102563, total=   0.3s\n",
      "[CV] NN__alpha=0.0001, NN__hidden_layer_sizes=(50, 50) ...............\n",
      "[CV]  NN__alpha=0.0001, NN__hidden_layer_sizes=(50, 50), score=0.7981666666666667, total=   0.4s\n",
      "[CV] NN__alpha=0.0001, NN__hidden_layer_sizes=(50, 50) ...............\n",
      "[CV]  NN__alpha=0.0001, NN__hidden_layer_sizes=(50, 50), score=0.7158333333333334, total=   0.2s\n",
      "[CV] NN__alpha=0.0001, NN__hidden_layer_sizes=(50,) ..................\n",
      "[CV]  NN__alpha=0.0001, NN__hidden_layer_sizes=(50,), score=0.7067692307692307, total=   0.2s\n",
      "[CV] NN__alpha=0.0001, NN__hidden_layer_sizes=(50,) ..................\n",
      "[CV]  NN__alpha=0.0001, NN__hidden_layer_sizes=(50,), score=0.763846153846154, total=   0.2s\n",
      "[CV] NN__alpha=0.0001, NN__hidden_layer_sizes=(50,) ..................\n",
      "[CV]  NN__alpha=0.0001, NN__hidden_layer_sizes=(50,), score=0.7669230769230769, total=   0.2s\n",
      "[CV] NN__alpha=0.0001, NN__hidden_layer_sizes=(50,) ..................\n",
      "[CV]  NN__alpha=0.0001, NN__hidden_layer_sizes=(50,), score=0.77, total=   0.3s\n",
      "[CV] NN__alpha=0.0001, NN__hidden_layer_sizes=(50,) ..................\n",
      "[CV]  NN__alpha=0.0001, NN__hidden_layer_sizes=(50,), score=0.7208333333333333, total=   0.2s\n",
      "[CV] NN__alpha=0.0001, NN__hidden_layer_sizes=(25,) ..................\n",
      "[CV]  NN__alpha=0.0001, NN__hidden_layer_sizes=(25,), score=0.6561538461538461, total=   0.2s\n",
      "[CV] NN__alpha=0.0001, NN__hidden_layer_sizes=(25,) ..................\n",
      "[CV]  NN__alpha=0.0001, NN__hidden_layer_sizes=(25,), score=0.6432307692307693, total=   0.2s\n",
      "[CV] NN__alpha=0.0001, NN__hidden_layer_sizes=(25,) ..................\n",
      "[CV]  NN__alpha=0.0001, NN__hidden_layer_sizes=(25,), score=0.699076923076923, total=   0.2s\n",
      "[CV] NN__alpha=0.0001, NN__hidden_layer_sizes=(25,) ..................\n",
      "[CV]  NN__alpha=0.0001, NN__hidden_layer_sizes=(25,), score=0.6258333333333335, total=   0.2s\n",
      "[CV] NN__alpha=0.0001, NN__hidden_layer_sizes=(25,) ..................\n",
      "[CV]  NN__alpha=0.0001, NN__hidden_layer_sizes=(25,), score=0.7331666666666666, total=   0.3s\n",
      "[CV] NN__alpha=0.0001, NN__hidden_layer_sizes=(25, 25) ...............\n",
      "[CV]  NN__alpha=0.0001, NN__hidden_layer_sizes=(25, 25), score=0.7190769230769231, total=   0.2s\n",
      "[CV] NN__alpha=0.0001, NN__hidden_layer_sizes=(25, 25) ...............\n",
      "[CV]  NN__alpha=0.0001, NN__hidden_layer_sizes=(25, 25), score=0.7680000000000001, total=   0.3s\n",
      "[CV] NN__alpha=0.0001, NN__hidden_layer_sizes=(25, 25) ...............\n",
      "[CV]  NN__alpha=0.0001, NN__hidden_layer_sizes=(25, 25), score=0.7393974358974359, total=   0.2s\n",
      "[CV] NN__alpha=0.0001, NN__hidden_layer_sizes=(25, 25) ...............\n",
      "[CV]  NN__alpha=0.0001, NN__hidden_layer_sizes=(25, 25), score=0.6940000000000001, total=   0.2s\n",
      "[CV] NN__alpha=0.0001, NN__hidden_layer_sizes=(25, 25) ...............\n",
      "[CV]  NN__alpha=0.0001, NN__hidden_layer_sizes=(25, 25), score=0.7133333333333335, total=   0.2s\n",
      "[CV] NN__alpha=0.0001, NN__hidden_layer_sizes=(100, 25, 100) .........\n",
      "[CV]  NN__alpha=0.0001, NN__hidden_layer_sizes=(100, 25, 100), score=0.8087692307692307, total=   0.6s\n",
      "[CV] NN__alpha=0.0001, NN__hidden_layer_sizes=(100, 25, 100) .........\n",
      "[CV]  NN__alpha=0.0001, NN__hidden_layer_sizes=(100, 25, 100), score=0.814923076923077, total=   0.4s\n",
      "[CV] NN__alpha=0.0001, NN__hidden_layer_sizes=(100, 25, 100) .........\n",
      "[CV]  NN__alpha=0.0001, NN__hidden_layer_sizes=(100, 25, 100), score=0.8315641025641025, total=   0.4s\n",
      "[CV] NN__alpha=0.0001, NN__hidden_layer_sizes=(100, 25, 100) .........\n",
      "[CV]  NN__alpha=0.0001, NN__hidden_layer_sizes=(100, 25, 100), score=0.8150000000000001, total=   0.8s\n",
      "[CV] NN__alpha=0.0001, NN__hidden_layer_sizes=(100, 25, 100) .........\n",
      "[CV]  NN__alpha=0.0001, NN__hidden_layer_sizes=(100, 25, 100), score=0.7896666666666668, total=   0.5s\n"
     ]
    },
    {
     "name": "stderr",
     "output_type": "stream",
     "text": [
      "[Parallel(n_jobs=1)]: Done 100 out of 100 | elapsed:   30.7s finished\n",
      "/Users/frankz/anaconda3/lib/python3.7/site-packages/sklearn/model_selection/_search.py:841: DeprecationWarning: The default of the `iid` parameter will change from True to False in version 0.22 and will be removed in 0.24. This will change numeric results when test-set sizes are unequal.\n",
      "  DeprecationWarning)\n"
     ]
    }
   ],
   "source": [
    "gs, best_estimator, final_estimator = gs_with_best_estimator(pipe, grid)"
   ]
  },
  {
   "cell_type": "code",
   "execution_count": 127,
   "metadata": {},
   "outputs": [
    {
     "data": {
      "text/plain": [
       "MLPClassifier(activation='relu', alpha=0.001, batch_size='auto', beta_1=0.9,\n",
       "       beta_2=0.999, early_stopping=True, epsilon=1e-08,\n",
       "       hidden_layer_sizes=(100, 25, 100), learning_rate='constant',\n",
       "       learning_rate_init=0.001, max_iter=2000, momentum=0.9,\n",
       "       n_iter_no_change=10, nesterovs_momentum=True, power_t=0.5,\n",
       "       random_state=7, shuffle=True, solver='adam', tol=0.0001,\n",
       "       validation_fraction=0.1, verbose=False, warm_start=False)"
      ]
     },
     "execution_count": 127,
     "metadata": {},
     "output_type": "execute_result"
    }
   ],
   "source": [
    "final_estimator"
   ]
  },
  {
   "cell_type": "code",
   "execution_count": 128,
   "metadata": {
    "scrolled": true
   },
   "outputs": [
    {
     "data": {
      "text/plain": [
       "0.883054892601432"
      ]
     },
     "execution_count": 128,
     "metadata": {},
     "output_type": "execute_result"
    }
   ],
   "source": [
    "best_estimator.score(training_x, training_y)"
   ]
  },
  {
   "cell_type": "code",
   "execution_count": 129,
   "metadata": {
    "scrolled": true
   },
   "outputs": [
    {
     "data": {
      "text/plain": [
       "0.8185185185185185"
      ]
     },
     "execution_count": 129,
     "metadata": {},
     "output_type": "execute_result"
    }
   ],
   "source": [
    "best_estimator.score(testing_x, testing_y)"
   ]
  },
  {
   "cell_type": "markdown",
   "metadata": {},
   "source": [
    "### RF"
   ]
  },
  {
   "cell_type": "code",
   "execution_count": 134,
   "metadata": {},
   "outputs": [],
   "source": [
    "from sklearn.ensemble import RandomForestClassifier"
   ]
  },
  {
   "cell_type": "code",
   "execution_count": 135,
   "metadata": {},
   "outputs": [],
   "source": [
    "from sklearn.base import TransformerMixin,BaseEstimator"
   ]
  },
  {
   "cell_type": "code",
   "execution_count": 136,
   "metadata": {},
   "outputs": [],
   "source": [
    "class ImportanceSelect(BaseEstimator, TransformerMixin):\n",
    "    def __init__(self, model, n=1):\n",
    "        self.model = model\n",
    "        self.n = n\n",
    "\n",
    "    def fit(self, *args, **kwargs):\n",
    "        self.model.fit(*args, **kwargs)\n",
    "        return self\n",
    "\n",
    "    def transform(self, X):\n",
    "        return X[:, self.model.feature_importances_.argsort()[::-1][:self.n]]"
   ]
  },
  {
   "cell_type": "code",
   "execution_count": 137,
   "metadata": {},
   "outputs": [],
   "source": [
    "rfc = RandomForestClassifier(n_estimators=100, class_weight='balanced', random_state=seed)\n",
    "filtr = ImportanceSelect(rfc, 11)"
   ]
  },
  {
   "cell_type": "code",
   "execution_count": 138,
   "metadata": {},
   "outputs": [],
   "source": [
    "grid = {'NN__alpha': _nn_reg, 'NN__hidden_layer_sizes': _nn_arch}\n",
    "mlp = MLPClassifier(activation='relu', max_iter=2000, early_stopping=True, random_state=seed)\n",
    "pipe = Pipeline([('filter', filtr), ('NN', mlp)])"
   ]
  },
  {
   "cell_type": "code",
   "execution_count": 139,
   "metadata": {
    "scrolled": true
   },
   "outputs": [
    {
     "name": "stdout",
     "output_type": "stream",
     "text": [
      "Fitting 5 folds for each of 20 candidates, totalling 100 fits\n",
      "[CV] NN__alpha=0.1, NN__hidden_layer_sizes=(50, 50) ..................\n"
     ]
    },
    {
     "name": "stderr",
     "output_type": "stream",
     "text": [
      "[Parallel(n_jobs=1)]: Using backend SequentialBackend with 1 concurrent workers.\n"
     ]
    },
    {
     "name": "stdout",
     "output_type": "stream",
     "text": [
      "[CV]  NN__alpha=0.1, NN__hidden_layer_sizes=(50, 50), score=0.8513846153846154, total=   0.5s\n",
      "[CV] NN__alpha=0.1, NN__hidden_layer_sizes=(50, 50) ..................\n"
     ]
    },
    {
     "name": "stderr",
     "output_type": "stream",
     "text": [
      "[Parallel(n_jobs=1)]: Done   1 out of   1 | elapsed:    0.5s remaining:    0.0s\n"
     ]
    },
    {
     "name": "stdout",
     "output_type": "stream",
     "text": [
      "[CV]  NN__alpha=0.1, NN__hidden_layer_sizes=(50, 50), score=0.8243076923076924, total=   0.4s\n",
      "[CV] NN__alpha=0.1, NN__hidden_layer_sizes=(50, 50) ..................\n"
     ]
    },
    {
     "name": "stderr",
     "output_type": "stream",
     "text": [
      "[Parallel(n_jobs=1)]: Done   2 out of   2 | elapsed:    0.9s remaining:    0.0s\n"
     ]
    },
    {
     "name": "stdout",
     "output_type": "stream",
     "text": [
      "[CV]  NN__alpha=0.1, NN__hidden_layer_sizes=(50, 50), score=0.8557948717948718, total=   0.5s\n",
      "[CV] NN__alpha=0.1, NN__hidden_layer_sizes=(50, 50) ..................\n"
     ]
    },
    {
     "name": "stderr",
     "output_type": "stream",
     "text": [
      "[Parallel(n_jobs=1)]: Done   3 out of   3 | elapsed:    1.4s remaining:    0.0s\n"
     ]
    },
    {
     "name": "stdout",
     "output_type": "stream",
     "text": [
      "[CV]  NN__alpha=0.1, NN__hidden_layer_sizes=(50, 50), score=0.8383333333333335, total=   0.5s\n",
      "[CV] NN__alpha=0.1, NN__hidden_layer_sizes=(50, 50) ..................\n"
     ]
    },
    {
     "name": "stderr",
     "output_type": "stream",
     "text": [
      "[Parallel(n_jobs=1)]: Done   4 out of   4 | elapsed:    1.9s remaining:    0.0s\n"
     ]
    },
    {
     "name": "stdout",
     "output_type": "stream",
     "text": [
      "[CV]  NN__alpha=0.1, NN__hidden_layer_sizes=(50, 50), score=0.8701666666666668, total=   0.4s\n",
      "[CV] NN__alpha=0.1, NN__hidden_layer_sizes=(50,) .....................\n"
     ]
    },
    {
     "name": "stderr",
     "output_type": "stream",
     "text": [
      "[Parallel(n_jobs=1)]: Done   5 out of   5 | elapsed:    2.3s remaining:    0.0s\n"
     ]
    },
    {
     "name": "stdout",
     "output_type": "stream",
     "text": [
      "[CV]  NN__alpha=0.1, NN__hidden_layer_sizes=(50,), score=0.8079999999999998, total=   0.3s\n",
      "[CV] NN__alpha=0.1, NN__hidden_layer_sizes=(50,) .....................\n"
     ]
    },
    {
     "name": "stderr",
     "output_type": "stream",
     "text": [
      "[Parallel(n_jobs=1)]: Done   6 out of   6 | elapsed:    2.7s remaining:    0.0s\n"
     ]
    },
    {
     "name": "stdout",
     "output_type": "stream",
     "text": [
      "[CV]  NN__alpha=0.1, NN__hidden_layer_sizes=(50,), score=0.8006153846153847, total=   0.4s\n",
      "[CV] NN__alpha=0.1, NN__hidden_layer_sizes=(50,) .....................\n"
     ]
    },
    {
     "name": "stderr",
     "output_type": "stream",
     "text": [
      "[Parallel(n_jobs=1)]: Done   7 out of   7 | elapsed:    3.1s remaining:    0.0s\n"
     ]
    },
    {
     "name": "stdout",
     "output_type": "stream",
     "text": [
      "[CV]  NN__alpha=0.1, NN__hidden_layer_sizes=(50,), score=0.811128205128205, total=   0.4s\n",
      "[CV] NN__alpha=0.1, NN__hidden_layer_sizes=(50,) .....................\n"
     ]
    },
    {
     "name": "stderr",
     "output_type": "stream",
     "text": [
      "[Parallel(n_jobs=1)]: Done   8 out of   8 | elapsed:    3.4s remaining:    0.0s\n"
     ]
    },
    {
     "name": "stdout",
     "output_type": "stream",
     "text": [
      "[CV]  NN__alpha=0.1, NN__hidden_layer_sizes=(50,), score=0.7981666666666667, total=   0.3s\n",
      "[CV] NN__alpha=0.1, NN__hidden_layer_sizes=(50,) .....................\n"
     ]
    },
    {
     "name": "stderr",
     "output_type": "stream",
     "text": [
      "[Parallel(n_jobs=1)]: Done   9 out of   9 | elapsed:    3.8s remaining:    0.0s\n"
     ]
    },
    {
     "name": "stdout",
     "output_type": "stream",
     "text": [
      "[CV]  NN__alpha=0.1, NN__hidden_layer_sizes=(50,), score=0.7653333333333334, total=   0.3s\n",
      "[CV] NN__alpha=0.1, NN__hidden_layer_sizes=(25,) .....................\n",
      "[CV]  NN__alpha=0.1, NN__hidden_layer_sizes=(25,), score=0.796153846153846, total=   0.3s\n",
      "[CV] NN__alpha=0.1, NN__hidden_layer_sizes=(25,) .....................\n",
      "[CV]  NN__alpha=0.1, NN__hidden_layer_sizes=(25,), score=0.7646153846153847, total=   0.3s\n",
      "[CV] NN__alpha=0.1, NN__hidden_layer_sizes=(25,) .....................\n",
      "[CV]  NN__alpha=0.1, NN__hidden_layer_sizes=(25,), score=0.7948205128205129, total=   0.4s\n",
      "[CV] NN__alpha=0.1, NN__hidden_layer_sizes=(25,) .....................\n",
      "[CV]  NN__alpha=0.1, NN__hidden_layer_sizes=(25,), score=0.7655000000000001, total=   0.3s\n",
      "[CV] NN__alpha=0.1, NN__hidden_layer_sizes=(25,) .....................\n",
      "[CV]  NN__alpha=0.1, NN__hidden_layer_sizes=(25,), score=0.8301666666666667, total=   0.3s\n",
      "[CV] NN__alpha=0.1, NN__hidden_layer_sizes=(25, 25) ..................\n",
      "[CV]  NN__alpha=0.1, NN__hidden_layer_sizes=(25, 25), score=0.8510769230769231, total=   0.4s\n",
      "[CV] NN__alpha=0.1, NN__hidden_layer_sizes=(25, 25) ..................\n",
      "[CV]  NN__alpha=0.1, NN__hidden_layer_sizes=(25, 25), score=0.862923076923077, total=   0.5s\n",
      "[CV] NN__alpha=0.1, NN__hidden_layer_sizes=(25, 25) ..................\n",
      "[CV]  NN__alpha=0.1, NN__hidden_layer_sizes=(25, 25), score=0.802, total=   0.4s\n",
      "[CV] NN__alpha=0.1, NN__hidden_layer_sizes=(25, 25) ..................\n",
      "[CV]  NN__alpha=0.1, NN__hidden_layer_sizes=(25, 25), score=0.7818333333333334, total=   0.4s\n",
      "[CV] NN__alpha=0.1, NN__hidden_layer_sizes=(25, 25) ..................\n",
      "[CV]  NN__alpha=0.1, NN__hidden_layer_sizes=(25, 25), score=0.8500000000000002, total=   0.4s\n",
      "[CV] NN__alpha=0.1, NN__hidden_layer_sizes=(100, 25, 100) ............\n",
      "[CV]  NN__alpha=0.1, NN__hidden_layer_sizes=(100, 25, 100), score=0.8712307692307691, total=   0.4s\n",
      "[CV] NN__alpha=0.1, NN__hidden_layer_sizes=(100, 25, 100) ............\n",
      "[CV]  NN__alpha=0.1, NN__hidden_layer_sizes=(100, 25, 100), score=0.8590769230769232, total=   0.6s\n",
      "[CV] NN__alpha=0.1, NN__hidden_layer_sizes=(100, 25, 100) ............\n",
      "[CV]  NN__alpha=0.1, NN__hidden_layer_sizes=(100, 25, 100), score=0.8876282051282051, total=   0.5s\n",
      "[CV] NN__alpha=0.1, NN__hidden_layer_sizes=(100, 25, 100) ............\n",
      "[CV]  NN__alpha=0.1, NN__hidden_layer_sizes=(100, 25, 100), score=0.907, total=   0.9s\n",
      "[CV] NN__alpha=0.1, NN__hidden_layer_sizes=(100, 25, 100) ............\n",
      "[CV]  NN__alpha=0.1, NN__hidden_layer_sizes=(100, 25, 100), score=0.9025000000000001, total=   0.7s\n",
      "[CV] NN__alpha=0.01, NN__hidden_layer_sizes=(50, 50) .................\n",
      "[CV]  NN__alpha=0.01, NN__hidden_layer_sizes=(50, 50), score=0.8435384615384615, total=   0.5s\n",
      "[CV] NN__alpha=0.01, NN__hidden_layer_sizes=(50, 50) .................\n",
      "[CV]  NN__alpha=0.01, NN__hidden_layer_sizes=(50, 50), score=0.8126153846153849, total=   0.3s\n",
      "[CV] NN__alpha=0.01, NN__hidden_layer_sizes=(50, 50) .................\n",
      "[CV]  NN__alpha=0.01, NN__hidden_layer_sizes=(50, 50), score=0.8597948717948718, total=   0.4s\n",
      "[CV] NN__alpha=0.01, NN__hidden_layer_sizes=(50, 50) .................\n",
      "[CV]  NN__alpha=0.01, NN__hidden_layer_sizes=(50, 50), score=0.8383333333333335, total=   0.4s\n",
      "[CV] NN__alpha=0.01, NN__hidden_layer_sizes=(50, 50) .................\n",
      "[CV]  NN__alpha=0.01, NN__hidden_layer_sizes=(50, 50), score=0.8741666666666668, total=   0.4s\n",
      "[CV] NN__alpha=0.01, NN__hidden_layer_sizes=(50,) ....................\n",
      "[CV]  NN__alpha=0.01, NN__hidden_layer_sizes=(50,), score=0.8079999999999998, total=   0.3s\n",
      "[CV] NN__alpha=0.01, NN__hidden_layer_sizes=(50,) ....................\n",
      "[CV]  NN__alpha=0.01, NN__hidden_layer_sizes=(50,), score=0.8006153846153847, total=   0.3s\n",
      "[CV] NN__alpha=0.01, NN__hidden_layer_sizes=(50,) ....................\n",
      "[CV]  NN__alpha=0.01, NN__hidden_layer_sizes=(50,), score=0.811128205128205, total=   0.3s\n",
      "[CV] NN__alpha=0.01, NN__hidden_layer_sizes=(50,) ....................\n",
      "[CV]  NN__alpha=0.01, NN__hidden_layer_sizes=(50,), score=0.7781666666666667, total=   0.3s\n",
      "[CV] NN__alpha=0.01, NN__hidden_layer_sizes=(50,) ....................\n",
      "[CV]  NN__alpha=0.01, NN__hidden_layer_sizes=(50,), score=0.7653333333333334, total=   0.3s\n",
      "[CV] NN__alpha=0.01, NN__hidden_layer_sizes=(25,) ....................\n",
      "[CV]  NN__alpha=0.01, NN__hidden_layer_sizes=(25,), score=0.796153846153846, total=   0.4s\n",
      "[CV] NN__alpha=0.01, NN__hidden_layer_sizes=(25,) ....................\n",
      "[CV]  NN__alpha=0.01, NN__hidden_layer_sizes=(25,), score=0.7646153846153847, total=   0.3s\n",
      "[CV] NN__alpha=0.01, NN__hidden_layer_sizes=(25,) ....................\n",
      "[CV]  NN__alpha=0.01, NN__hidden_layer_sizes=(25,), score=0.7948205128205129, total=   0.4s\n",
      "[CV] NN__alpha=0.01, NN__hidden_layer_sizes=(25,) ....................\n",
      "[CV]  NN__alpha=0.01, NN__hidden_layer_sizes=(25,), score=0.7655000000000001, total=   0.3s\n",
      "[CV] NN__alpha=0.01, NN__hidden_layer_sizes=(25,) ....................\n",
      "[CV]  NN__alpha=0.01, NN__hidden_layer_sizes=(25,), score=0.8301666666666667, total=   0.3s\n",
      "[CV] NN__alpha=0.01, NN__hidden_layer_sizes=(25, 25) .................\n",
      "[CV]  NN__alpha=0.01, NN__hidden_layer_sizes=(25, 25), score=0.8549230769230769, total=   0.5s\n",
      "[CV] NN__alpha=0.01, NN__hidden_layer_sizes=(25, 25) .................\n",
      "[CV]  NN__alpha=0.01, NN__hidden_layer_sizes=(25, 25), score=0.823846153846154, total=   0.5s\n",
      "[CV] NN__alpha=0.01, NN__hidden_layer_sizes=(25, 25) .................\n",
      "[CV]  NN__alpha=0.01, NN__hidden_layer_sizes=(25, 25), score=0.8388076923076923, total=   0.5s\n",
      "[CV] NN__alpha=0.01, NN__hidden_layer_sizes=(25, 25) .................\n",
      "[CV]  NN__alpha=0.01, NN__hidden_layer_sizes=(25, 25), score=0.7818333333333334, total=   0.4s\n",
      "[CV] NN__alpha=0.01, NN__hidden_layer_sizes=(25, 25) .................\n",
      "[CV]  NN__alpha=0.01, NN__hidden_layer_sizes=(25, 25), score=0.8458333333333333, total=   0.3s\n",
      "[CV] NN__alpha=0.01, NN__hidden_layer_sizes=(100, 25, 100) ...........\n",
      "[CV]  NN__alpha=0.01, NN__hidden_layer_sizes=(100, 25, 100), score=0.8712307692307691, total=   0.4s\n",
      "[CV] NN__alpha=0.01, NN__hidden_layer_sizes=(100, 25, 100) ...........\n",
      "[CV]  NN__alpha=0.01, NN__hidden_layer_sizes=(100, 25, 100), score=0.8712307692307693, total=   0.4s\n",
      "[CV] NN__alpha=0.01, NN__hidden_layer_sizes=(100, 25, 100) ...........\n",
      "[CV]  NN__alpha=0.01, NN__hidden_layer_sizes=(100, 25, 100), score=0.8836282051282051, total=   0.4s\n",
      "[CV] NN__alpha=0.01, NN__hidden_layer_sizes=(100, 25, 100) ...........\n",
      "[CV]  NN__alpha=0.01, NN__hidden_layer_sizes=(100, 25, 100), score=0.9071666666666668, total=   0.7s\n",
      "[CV] NN__alpha=0.01, NN__hidden_layer_sizes=(100, 25, 100) ...........\n",
      "[CV]  NN__alpha=0.01, NN__hidden_layer_sizes=(100, 25, 100), score=0.8701666666666668, total=   0.5s\n",
      "[CV] NN__alpha=0.001, NN__hidden_layer_sizes=(50, 50) ................\n",
      "[CV]  NN__alpha=0.001, NN__hidden_layer_sizes=(50, 50), score=0.8513846153846154, total=   0.4s\n",
      "[CV] NN__alpha=0.001, NN__hidden_layer_sizes=(50, 50) ................\n",
      "[CV]  NN__alpha=0.001, NN__hidden_layer_sizes=(50, 50), score=0.8126153846153849, total=   0.3s\n",
      "[CV] NN__alpha=0.001, NN__hidden_layer_sizes=(50, 50) ................\n",
      "[CV]  NN__alpha=0.001, NN__hidden_layer_sizes=(50, 50), score=0.8597948717948718, total=   0.4s\n",
      "[CV] NN__alpha=0.001, NN__hidden_layer_sizes=(50, 50) ................\n",
      "[CV]  NN__alpha=0.001, NN__hidden_layer_sizes=(50, 50), score=0.8383333333333335, total=   0.4s\n",
      "[CV] NN__alpha=0.001, NN__hidden_layer_sizes=(50, 50) ................\n",
      "[CV]  NN__alpha=0.001, NN__hidden_layer_sizes=(50, 50), score=0.8741666666666668, total=   0.4s\n",
      "[CV] NN__alpha=0.001, NN__hidden_layer_sizes=(50,) ...................\n",
      "[CV]  NN__alpha=0.001, NN__hidden_layer_sizes=(50,), score=0.8079999999999998, total=   0.3s\n",
      "[CV] NN__alpha=0.001, NN__hidden_layer_sizes=(50,) ...................\n",
      "[CV]  NN__alpha=0.001, NN__hidden_layer_sizes=(50,), score=0.8006153846153847, total=   0.3s\n",
      "[CV] NN__alpha=0.001, NN__hidden_layer_sizes=(50,) ...................\n",
      "[CV]  NN__alpha=0.001, NN__hidden_layer_sizes=(50,), score=0.811128205128205, total=   0.3s\n",
      "[CV] NN__alpha=0.001, NN__hidden_layer_sizes=(50,) ...................\n",
      "[CV]  NN__alpha=0.001, NN__hidden_layer_sizes=(50,), score=0.7781666666666667, total=   0.3s\n",
      "[CV] NN__alpha=0.001, NN__hidden_layer_sizes=(50,) ...................\n"
     ]
    },
    {
     "name": "stdout",
     "output_type": "stream",
     "text": [
      "[CV]  NN__alpha=0.001, NN__hidden_layer_sizes=(50,), score=0.7653333333333334, total=   0.3s\n",
      "[CV] NN__alpha=0.001, NN__hidden_layer_sizes=(25,) ...................\n",
      "[CV]  NN__alpha=0.001, NN__hidden_layer_sizes=(25,), score=0.796153846153846, total=   0.3s\n",
      "[CV] NN__alpha=0.001, NN__hidden_layer_sizes=(25,) ...................\n",
      "[CV]  NN__alpha=0.001, NN__hidden_layer_sizes=(25,), score=0.7646153846153847, total=   0.3s\n",
      "[CV] NN__alpha=0.001, NN__hidden_layer_sizes=(25,) ...................\n",
      "[CV]  NN__alpha=0.001, NN__hidden_layer_sizes=(25,), score=0.7948205128205129, total=   0.3s\n",
      "[CV] NN__alpha=0.001, NN__hidden_layer_sizes=(25,) ...................\n",
      "[CV]  NN__alpha=0.001, NN__hidden_layer_sizes=(25,), score=0.7655000000000001, total=   0.3s\n",
      "[CV] NN__alpha=0.001, NN__hidden_layer_sizes=(25,) ...................\n",
      "[CV]  NN__alpha=0.001, NN__hidden_layer_sizes=(25,), score=0.8301666666666667, total=   0.3s\n",
      "[CV] NN__alpha=0.001, NN__hidden_layer_sizes=(25, 25) ................\n",
      "[CV]  NN__alpha=0.001, NN__hidden_layer_sizes=(25, 25), score=0.7849230769230768, total=   0.3s\n",
      "[CV] NN__alpha=0.001, NN__hidden_layer_sizes=(25, 25) ................\n",
      "[CV]  NN__alpha=0.001, NN__hidden_layer_sizes=(25, 25), score=0.823846153846154, total=   0.3s\n",
      "[CV] NN__alpha=0.001, NN__hidden_layer_sizes=(25, 25) ................\n",
      "[CV]  NN__alpha=0.001, NN__hidden_layer_sizes=(25, 25), score=0.8389743589743589, total=   0.4s\n",
      "[CV] NN__alpha=0.001, NN__hidden_layer_sizes=(25, 25) ................\n",
      "[CV]  NN__alpha=0.001, NN__hidden_layer_sizes=(25, 25), score=0.8181666666666668, total=   0.5s\n",
      "[CV] NN__alpha=0.001, NN__hidden_layer_sizes=(25, 25) ................\n",
      "[CV]  NN__alpha=0.001, NN__hidden_layer_sizes=(25, 25), score=0.8496666666666668, total=   0.4s\n",
      "[CV] NN__alpha=0.001, NN__hidden_layer_sizes=(100, 25, 100) ..........\n",
      "[CV]  NN__alpha=0.001, NN__hidden_layer_sizes=(100, 25, 100), score=0.8712307692307691, total=   0.6s\n",
      "[CV] NN__alpha=0.001, NN__hidden_layer_sizes=(100, 25, 100) ..........\n",
      "[CV]  NN__alpha=0.001, NN__hidden_layer_sizes=(100, 25, 100), score=0.8752307692307694, total=   0.6s\n",
      "[CV] NN__alpha=0.001, NN__hidden_layer_sizes=(100, 25, 100) ..........\n",
      "[CV]  NN__alpha=0.001, NN__hidden_layer_sizes=(100, 25, 100), score=0.8916282051282051, total=   0.5s\n",
      "[CV] NN__alpha=0.001, NN__hidden_layer_sizes=(100, 25, 100) ..........\n",
      "[CV]  NN__alpha=0.001, NN__hidden_layer_sizes=(100, 25, 100), score=0.9071666666666668, total=   0.9s\n",
      "[CV] NN__alpha=0.001, NN__hidden_layer_sizes=(100, 25, 100) ..........\n",
      "[CV]  NN__alpha=0.001, NN__hidden_layer_sizes=(100, 25, 100), score=0.8701666666666668, total=   0.6s\n",
      "[CV] NN__alpha=0.0001, NN__hidden_layer_sizes=(50, 50) ...............\n",
      "[CV]  NN__alpha=0.0001, NN__hidden_layer_sizes=(50, 50), score=0.8513846153846154, total=   0.6s\n",
      "[CV] NN__alpha=0.0001, NN__hidden_layer_sizes=(50, 50) ...............\n",
      "[CV]  NN__alpha=0.0001, NN__hidden_layer_sizes=(50, 50), score=0.8126153846153849, total=   0.4s\n",
      "[CV] NN__alpha=0.0001, NN__hidden_layer_sizes=(50, 50) ...............\n",
      "[CV]  NN__alpha=0.0001, NN__hidden_layer_sizes=(50, 50), score=0.8597948717948718, total=   0.4s\n",
      "[CV] NN__alpha=0.0001, NN__hidden_layer_sizes=(50, 50) ...............\n",
      "[CV]  NN__alpha=0.0001, NN__hidden_layer_sizes=(50, 50), score=0.8383333333333335, total=   0.4s\n",
      "[CV] NN__alpha=0.0001, NN__hidden_layer_sizes=(50, 50) ...............\n",
      "[CV]  NN__alpha=0.0001, NN__hidden_layer_sizes=(50, 50), score=0.8741666666666668, total=   0.5s\n",
      "[CV] NN__alpha=0.0001, NN__hidden_layer_sizes=(50,) ..................\n",
      "[CV]  NN__alpha=0.0001, NN__hidden_layer_sizes=(50,), score=0.8079999999999998, total=   0.3s\n",
      "[CV] NN__alpha=0.0001, NN__hidden_layer_sizes=(50,) ..................\n",
      "[CV]  NN__alpha=0.0001, NN__hidden_layer_sizes=(50,), score=0.8006153846153847, total=   0.3s\n",
      "[CV] NN__alpha=0.0001, NN__hidden_layer_sizes=(50,) ..................\n",
      "[CV]  NN__alpha=0.0001, NN__hidden_layer_sizes=(50,), score=0.811128205128205, total=   0.3s\n",
      "[CV] NN__alpha=0.0001, NN__hidden_layer_sizes=(50,) ..................\n",
      "[CV]  NN__alpha=0.0001, NN__hidden_layer_sizes=(50,), score=0.7781666666666667, total=   0.3s\n",
      "[CV] NN__alpha=0.0001, NN__hidden_layer_sizes=(50,) ..................\n",
      "[CV]  NN__alpha=0.0001, NN__hidden_layer_sizes=(50,), score=0.7653333333333334, total=   0.3s\n",
      "[CV] NN__alpha=0.0001, NN__hidden_layer_sizes=(25,) ..................\n",
      "[CV]  NN__alpha=0.0001, NN__hidden_layer_sizes=(25,), score=0.796153846153846, total=   0.4s\n",
      "[CV] NN__alpha=0.0001, NN__hidden_layer_sizes=(25,) ..................\n",
      "[CV]  NN__alpha=0.0001, NN__hidden_layer_sizes=(25,), score=0.7646153846153847, total=   0.3s\n",
      "[CV] NN__alpha=0.0001, NN__hidden_layer_sizes=(25,) ..................\n",
      "[CV]  NN__alpha=0.0001, NN__hidden_layer_sizes=(25,), score=0.7948205128205129, total=   0.3s\n",
      "[CV] NN__alpha=0.0001, NN__hidden_layer_sizes=(25,) ..................\n",
      "[CV]  NN__alpha=0.0001, NN__hidden_layer_sizes=(25,), score=0.7655000000000001, total=   0.3s\n",
      "[CV] NN__alpha=0.0001, NN__hidden_layer_sizes=(25,) ..................\n",
      "[CV]  NN__alpha=0.0001, NN__hidden_layer_sizes=(25,), score=0.8301666666666667, total=   0.4s\n",
      "[CV] NN__alpha=0.0001, NN__hidden_layer_sizes=(25, 25) ...............\n",
      "[CV]  NN__alpha=0.0001, NN__hidden_layer_sizes=(25, 25), score=0.7849230769230768, total=   0.4s\n",
      "[CV] NN__alpha=0.0001, NN__hidden_layer_sizes=(25, 25) ...............\n",
      "[CV]  NN__alpha=0.0001, NN__hidden_layer_sizes=(25, 25), score=0.823846153846154, total=   0.4s\n",
      "[CV] NN__alpha=0.0001, NN__hidden_layer_sizes=(25, 25) ...............\n",
      "[CV]  NN__alpha=0.0001, NN__hidden_layer_sizes=(25, 25), score=0.8388076923076923, total=   0.4s\n",
      "[CV] NN__alpha=0.0001, NN__hidden_layer_sizes=(25, 25) ...............\n",
      "[CV]  NN__alpha=0.0001, NN__hidden_layer_sizes=(25, 25), score=0.8181666666666667, total=   0.5s\n",
      "[CV] NN__alpha=0.0001, NN__hidden_layer_sizes=(25, 25) ...............\n",
      "[CV]  NN__alpha=0.0001, NN__hidden_layer_sizes=(25, 25), score=0.8496666666666668, total=   0.4s\n",
      "[CV] NN__alpha=0.0001, NN__hidden_layer_sizes=(100, 25, 100) .........\n",
      "[CV]  NN__alpha=0.0001, NN__hidden_layer_sizes=(100, 25, 100), score=0.8712307692307691, total=   0.7s\n",
      "[CV] NN__alpha=0.0001, NN__hidden_layer_sizes=(100, 25, 100) .........\n",
      "[CV]  NN__alpha=0.0001, NN__hidden_layer_sizes=(100, 25, 100), score=0.8752307692307694, total=   0.6s\n",
      "[CV] NN__alpha=0.0001, NN__hidden_layer_sizes=(100, 25, 100) .........\n",
      "[CV]  NN__alpha=0.0001, NN__hidden_layer_sizes=(100, 25, 100), score=0.8836282051282051, total=   0.5s\n",
      "[CV] NN__alpha=0.0001, NN__hidden_layer_sizes=(100, 25, 100) .........\n",
      "[CV]  NN__alpha=0.0001, NN__hidden_layer_sizes=(100, 25, 100), score=0.9111666666666667, total=   1.0s\n",
      "[CV] NN__alpha=0.0001, NN__hidden_layer_sizes=(100, 25, 100) .........\n",
      "[CV]  NN__alpha=0.0001, NN__hidden_layer_sizes=(100, 25, 100), score=0.9066666666666666, total=   0.7s\n"
     ]
    },
    {
     "name": "stderr",
     "output_type": "stream",
     "text": [
      "[Parallel(n_jobs=1)]: Done 100 out of 100 | elapsed:   42.5s finished\n",
      "/Users/frankz/anaconda3/lib/python3.7/site-packages/sklearn/model_selection/_search.py:841: DeprecationWarning: The default of the `iid` parameter will change from True to False in version 0.22 and will be removed in 0.24. This will change numeric results when test-set sizes are unequal.\n",
      "  DeprecationWarning)\n"
     ]
    }
   ],
   "source": [
    "gs, best_estimator, final_estimator = gs_with_best_estimator(pipe, grid)"
   ]
  },
  {
   "cell_type": "code",
   "execution_count": 140,
   "metadata": {},
   "outputs": [
    {
     "data": {
      "text/plain": [
       "MLPClassifier(activation='relu', alpha=0.0001, batch_size='auto', beta_1=0.9,\n",
       "       beta_2=0.999, early_stopping=True, epsilon=1e-08,\n",
       "       hidden_layer_sizes=(100, 25, 100), learning_rate='constant',\n",
       "       learning_rate_init=0.001, max_iter=2000, momentum=0.9,\n",
       "       n_iter_no_change=10, nesterovs_momentum=True, power_t=0.5,\n",
       "       random_state=7, shuffle=True, solver='adam', tol=0.0001,\n",
       "       validation_fraction=0.1, verbose=False, warm_start=False)"
      ]
     },
     "execution_count": 140,
     "metadata": {},
     "output_type": "execute_result"
    }
   ],
   "source": [
    "final_estimator"
   ]
  },
  {
   "cell_type": "code",
   "execution_count": 141,
   "metadata": {
    "scrolled": true
   },
   "outputs": [
    {
     "data": {
      "text/plain": [
       "0.9371519490851233"
      ]
     },
     "execution_count": 141,
     "metadata": {},
     "output_type": "execute_result"
    }
   ],
   "source": [
    "best_estimator.score(training_x, training_y)"
   ]
  },
  {
   "cell_type": "code",
   "execution_count": 142,
   "metadata": {
    "scrolled": true
   },
   "outputs": [
    {
     "data": {
      "text/plain": [
       "0.9055555555555556"
      ]
     },
     "execution_count": 142,
     "metadata": {},
     "output_type": "execute_result"
    }
   ],
   "source": [
    "best_estimator.score(testing_x, testing_y)"
   ]
  },
  {
   "cell_type": "markdown",
   "metadata": {},
   "source": [
    "## Clustering after DR"
   ]
  },
  {
   "cell_type": "markdown",
   "metadata": {},
   "source": [
    "### PCA"
   ]
  },
  {
   "cell_type": "code",
   "execution_count": 148,
   "metadata": {},
   "outputs": [],
   "source": [
    "from sklearn.decomposition import PCA"
   ]
  },
  {
   "cell_type": "code",
   "execution_count": 160,
   "metadata": {},
   "outputs": [],
   "source": [
    "from sklearn.cluster import KMeans as kmeans\n",
    "from sklearn.mixture import GaussianMixture as GMM\n",
    "class CustomGMM(GMM):\n",
    "    def transform(self, x):\n",
    "        return self.predict_proba(x)"
   ]
  },
  {
   "cell_type": "code",
   "execution_count": 161,
   "metadata": {},
   "outputs": [
    {
     "data": {
      "text/plain": [
       "CustomGMM(covariance_type='full', init_params='kmeans', max_iter=100,\n",
       "     means_init=None, n_components=10, n_init=1, precisions_init=None,\n",
       "     random_state=7, reg_covar=1e-06, tol=0.001, verbose=0,\n",
       "     verbose_interval=10, warm_start=False, weights_init=None)"
      ]
     },
     "execution_count": 161,
     "metadata": {},
     "output_type": "execute_result"
    }
   ],
   "source": [
    "grid = {'NN__alpha': _nn_reg, 'NN__hidden_layer_sizes': _nn_arch}\n",
    "mlp = MLPClassifier(activation='relu', max_iter=2000, early_stopping=True, random_state=seed)\n",
    "pca = PCA(n_components=8, random_state=seed)\n",
    "km = kmeans(random_state=seed)\n",
    "km.set_params(n_clusters=10)\n",
    "gmm = CustomGMM(random_state=seed)\n",
    "gmm.set_params(n_components=10)"
   ]
  },
  {
   "cell_type": "code",
   "execution_count": 151,
   "metadata": {
    "scrolled": true
   },
   "outputs": [
    {
     "name": "stdout",
     "output_type": "stream",
     "text": [
      "Fitting 5 folds for each of 20 candidates, totalling 100 fits\n",
      "[CV] NN__alpha=0.1, NN__hidden_layer_sizes=(50, 50) ..................\n"
     ]
    },
    {
     "name": "stderr",
     "output_type": "stream",
     "text": [
      "[Parallel(n_jobs=1)]: Using backend SequentialBackend with 1 concurrent workers.\n"
     ]
    },
    {
     "name": "stdout",
     "output_type": "stream",
     "text": [
      "[CV]  NN__alpha=0.1, NN__hidden_layer_sizes=(50, 50), score=0.800153846153846, total=   0.5s\n",
      "[CV] NN__alpha=0.1, NN__hidden_layer_sizes=(50, 50) ..................\n"
     ]
    },
    {
     "name": "stderr",
     "output_type": "stream",
     "text": [
      "[Parallel(n_jobs=1)]: Done   1 out of   1 | elapsed:    0.5s remaining:    0.0s\n"
     ]
    },
    {
     "name": "stdout",
     "output_type": "stream",
     "text": [
      "[CV]  NN__alpha=0.1, NN__hidden_layer_sizes=(50, 50), score=0.7790769230769232, total=   0.3s\n",
      "[CV] NN__alpha=0.1, NN__hidden_layer_sizes=(50, 50) ..................\n"
     ]
    },
    {
     "name": "stderr",
     "output_type": "stream",
     "text": [
      "[Parallel(n_jobs=1)]: Done   2 out of   2 | elapsed:    0.8s remaining:    0.0s\n"
     ]
    },
    {
     "name": "stdout",
     "output_type": "stream",
     "text": [
      "[CV]  NN__alpha=0.1, NN__hidden_layer_sizes=(50, 50), score=0.7706025641025642, total=   0.5s\n",
      "[CV] NN__alpha=0.1, NN__hidden_layer_sizes=(50, 50) ..................\n"
     ]
    },
    {
     "name": "stderr",
     "output_type": "stream",
     "text": [
      "[Parallel(n_jobs=1)]: Done   3 out of   3 | elapsed:    1.3s remaining:    0.0s\n"
     ]
    },
    {
     "name": "stdout",
     "output_type": "stream",
     "text": [
      "[CV]  NN__alpha=0.1, NN__hidden_layer_sizes=(50, 50), score=0.7823333333333334, total=   0.5s\n",
      "[CV] NN__alpha=0.1, NN__hidden_layer_sizes=(50, 50) ..................\n"
     ]
    },
    {
     "name": "stderr",
     "output_type": "stream",
     "text": [
      "[Parallel(n_jobs=1)]: Done   4 out of   4 | elapsed:    1.8s remaining:    0.0s\n"
     ]
    },
    {
     "name": "stdout",
     "output_type": "stream",
     "text": [
      "[CV]  NN__alpha=0.1, NN__hidden_layer_sizes=(50, 50), score=0.8018333333333334, total=   0.4s\n",
      "[CV] NN__alpha=0.1, NN__hidden_layer_sizes=(50,) .....................\n",
      "[CV]  NN__alpha=0.1, NN__hidden_layer_sizes=(50,), score=0.11999999999999998, total=   0.2s\n",
      "[CV] NN__alpha=0.1, NN__hidden_layer_sizes=(50,) .....................\n"
     ]
    },
    {
     "name": "stderr",
     "output_type": "stream",
     "text": [
      "[Parallel(n_jobs=1)]: Done   5 out of   5 | elapsed:    2.2s remaining:    0.0s\n",
      "[Parallel(n_jobs=1)]: Done   6 out of   6 | elapsed:    2.4s remaining:    0.0s\n"
     ]
    },
    {
     "name": "stdout",
     "output_type": "stream",
     "text": [
      "[CV]  NN__alpha=0.1, NN__hidden_layer_sizes=(50,), score=0.7093846153846156, total=   0.2s\n",
      "[CV] NN__alpha=0.1, NN__hidden_layer_sizes=(50,) .....................\n",
      "[CV]  NN__alpha=0.1, NN__hidden_layer_sizes=(50,), score=0.152, total=   0.1s\n",
      "[CV] NN__alpha=0.1, NN__hidden_layer_sizes=(50,) .....................\n"
     ]
    },
    {
     "name": "stderr",
     "output_type": "stream",
     "text": [
      "[Parallel(n_jobs=1)]: Done   7 out of   7 | elapsed:    2.7s remaining:    0.0s\n",
      "[Parallel(n_jobs=1)]: Done   8 out of   8 | elapsed:    2.8s remaining:    0.0s\n"
     ]
    },
    {
     "name": "stdout",
     "output_type": "stream",
     "text": [
      "[CV]  NN__alpha=0.1, NN__hidden_layer_sizes=(50,), score=0.8109999999999999, total=   0.4s\n",
      "[CV] NN__alpha=0.1, NN__hidden_layer_sizes=(50,) .....................\n"
     ]
    },
    {
     "name": "stderr",
     "output_type": "stream",
     "text": [
      "[Parallel(n_jobs=1)]: Done   9 out of   9 | elapsed:    3.2s remaining:    0.0s\n"
     ]
    },
    {
     "name": "stdout",
     "output_type": "stream",
     "text": [
      "[CV]  NN__alpha=0.1, NN__hidden_layer_sizes=(50,), score=0.8585, total=   0.5s\n",
      "[CV] NN__alpha=0.1, NN__hidden_layer_sizes=(25,) .....................\n",
      "[CV]  NN__alpha=0.1, NN__hidden_layer_sizes=(25,), score=0.15999999999999998, total=   0.1s\n",
      "[CV] NN__alpha=0.1, NN__hidden_layer_sizes=(25,) .....................\n",
      "[CV]  NN__alpha=0.1, NN__hidden_layer_sizes=(25,), score=0.3003076923076924, total=   0.2s\n",
      "[CV] NN__alpha=0.1, NN__hidden_layer_sizes=(25,) .....................\n",
      "[CV]  NN__alpha=0.1, NN__hidden_layer_sizes=(25,), score=0.1, total=   0.1s\n",
      "[CV] NN__alpha=0.1, NN__hidden_layer_sizes=(25,) .....................\n",
      "[CV]  NN__alpha=0.1, NN__hidden_layer_sizes=(25,), score=0.129, total=   0.1s\n",
      "[CV] NN__alpha=0.1, NN__hidden_layer_sizes=(25,) .....................\n",
      "[CV]  NN__alpha=0.1, NN__hidden_layer_sizes=(25,), score=0.08016666666666669, total=   0.2s\n",
      "[CV] NN__alpha=0.1, NN__hidden_layer_sizes=(25, 25) ..................\n",
      "[CV]  NN__alpha=0.1, NN__hidden_layer_sizes=(25, 25), score=0.14661538461538462, total=   0.2s\n",
      "[CV] NN__alpha=0.1, NN__hidden_layer_sizes=(25, 25) ..................\n",
      "[CV]  NN__alpha=0.1, NN__hidden_layer_sizes=(25, 25), score=0.7515384615384616, total=   0.3s\n",
      "[CV] NN__alpha=0.1, NN__hidden_layer_sizes=(25, 25) ..................\n",
      "[CV]  NN__alpha=0.1, NN__hidden_layer_sizes=(25, 25), score=0.8074230769230769, total=   0.4s\n",
      "[CV] NN__alpha=0.1, NN__hidden_layer_sizes=(25, 25) ..................\n",
      "[CV]  NN__alpha=0.1, NN__hidden_layer_sizes=(25, 25), score=0.6580000000000001, total=   0.2s\n",
      "[CV] NN__alpha=0.1, NN__hidden_layer_sizes=(25, 25) ..................\n",
      "[CV]  NN__alpha=0.1, NN__hidden_layer_sizes=(25, 25), score=0.8145000000000001, total=   0.4s\n",
      "[CV] NN__alpha=0.1, NN__hidden_layer_sizes=(100, 25, 100) ............\n",
      "[CV]  NN__alpha=0.1, NN__hidden_layer_sizes=(100, 25, 100), score=0.789076923076923, total=   0.5s\n",
      "[CV] NN__alpha=0.1, NN__hidden_layer_sizes=(100, 25, 100) ............\n",
      "[CV]  NN__alpha=0.1, NN__hidden_layer_sizes=(100, 25, 100), score=0.7984615384615386, total=   0.4s\n",
      "[CV] NN__alpha=0.1, NN__hidden_layer_sizes=(100, 25, 100) ............\n",
      "[CV]  NN__alpha=0.1, NN__hidden_layer_sizes=(100, 25, 100), score=0.8074358974358975, total=   0.3s\n",
      "[CV] NN__alpha=0.1, NN__hidden_layer_sizes=(100, 25, 100) ............\n",
      "[CV]  NN__alpha=0.1, NN__hidden_layer_sizes=(100, 25, 100), score=0.8145000000000001, total=   0.5s\n",
      "[CV] NN__alpha=0.1, NN__hidden_layer_sizes=(100, 25, 100) ............\n",
      "[CV]  NN__alpha=0.1, NN__hidden_layer_sizes=(100, 25, 100), score=0.8828333333333334, total=   0.5s\n",
      "[CV] NN__alpha=0.01, NN__hidden_layer_sizes=(50, 50) .................\n",
      "[CV]  NN__alpha=0.01, NN__hidden_layer_sizes=(50, 50), score=0.7846153846153845, total=   0.4s\n",
      "[CV] NN__alpha=0.01, NN__hidden_layer_sizes=(50, 50) .................\n",
      "[CV]  NN__alpha=0.01, NN__hidden_layer_sizes=(50, 50), score=0.7830769230769232, total=   0.3s\n",
      "[CV] NN__alpha=0.01, NN__hidden_layer_sizes=(50, 50) .................\n",
      "[CV]  NN__alpha=0.01, NN__hidden_layer_sizes=(50, 50), score=0.8109487179487179, total=   0.5s\n",
      "[CV] NN__alpha=0.01, NN__hidden_layer_sizes=(50, 50) .................\n",
      "[CV]  NN__alpha=0.01, NN__hidden_layer_sizes=(50, 50), score=0.7866666666666667, total=   0.5s\n",
      "[CV] NN__alpha=0.01, NN__hidden_layer_sizes=(50, 50) .................\n",
      "[CV]  NN__alpha=0.01, NN__hidden_layer_sizes=(50, 50), score=0.8220000000000002, total=   0.4s\n",
      "[CV] NN__alpha=0.01, NN__hidden_layer_sizes=(50,) ....................\n",
      "[CV]  NN__alpha=0.01, NN__hidden_layer_sizes=(50,), score=0.11999999999999998, total=   0.1s\n",
      "[CV] NN__alpha=0.01, NN__hidden_layer_sizes=(50,) ....................\n",
      "[CV]  NN__alpha=0.01, NN__hidden_layer_sizes=(50,), score=0.8104615384615386, total=   0.5s\n",
      "[CV] NN__alpha=0.01, NN__hidden_layer_sizes=(50,) ....................\n",
      "[CV]  NN__alpha=0.01, NN__hidden_layer_sizes=(50,), score=0.152, total=   0.1s\n",
      "[CV] NN__alpha=0.01, NN__hidden_layer_sizes=(50,) ....................\n",
      "[CV]  NN__alpha=0.01, NN__hidden_layer_sizes=(50,), score=0.8068333333333334, total=   0.3s\n",
      "[CV] NN__alpha=0.01, NN__hidden_layer_sizes=(50,) ....................\n",
      "[CV]  NN__alpha=0.01, NN__hidden_layer_sizes=(50,), score=0.782, total=   0.3s\n",
      "[CV] NN__alpha=0.01, NN__hidden_layer_sizes=(25,) ....................\n",
      "[CV]  NN__alpha=0.01, NN__hidden_layer_sizes=(25,), score=0.15999999999999998, total=   0.1s\n",
      "[CV] NN__alpha=0.01, NN__hidden_layer_sizes=(25,) ....................\n",
      "[CV]  NN__alpha=0.01, NN__hidden_layer_sizes=(25,), score=0.3003076923076924, total=   0.2s\n",
      "[CV] NN__alpha=0.01, NN__hidden_layer_sizes=(25,) ....................\n",
      "[CV]  NN__alpha=0.01, NN__hidden_layer_sizes=(25,), score=0.1, total=   0.1s\n",
      "[CV] NN__alpha=0.01, NN__hidden_layer_sizes=(25,) ....................\n",
      "[CV]  NN__alpha=0.01, NN__hidden_layer_sizes=(25,), score=0.129, total=   0.1s\n",
      "[CV] NN__alpha=0.01, NN__hidden_layer_sizes=(25,) ....................\n",
      "[CV]  NN__alpha=0.01, NN__hidden_layer_sizes=(25,), score=0.08016666666666669, total=   0.1s\n",
      "[CV] NN__alpha=0.01, NN__hidden_layer_sizes=(25, 25) .................\n",
      "[CV]  NN__alpha=0.01, NN__hidden_layer_sizes=(25, 25), score=0.14661538461538462, total=   0.2s\n",
      "[CV] NN__alpha=0.01, NN__hidden_layer_sizes=(25, 25) .................\n",
      "[CV]  NN__alpha=0.01, NN__hidden_layer_sizes=(25, 25), score=0.758923076923077, total=   0.3s\n",
      "[CV] NN__alpha=0.01, NN__hidden_layer_sizes=(25, 25) .................\n",
      "[CV]  NN__alpha=0.01, NN__hidden_layer_sizes=(25, 25), score=0.8074230769230769, total=   0.4s\n",
      "[CV] NN__alpha=0.01, NN__hidden_layer_sizes=(25, 25) .................\n",
      "[CV]  NN__alpha=0.01, NN__hidden_layer_sizes=(25, 25), score=0.6341666666666667, total=   0.2s\n",
      "[CV] NN__alpha=0.01, NN__hidden_layer_sizes=(25, 25) .................\n",
      "[CV]  NN__alpha=0.01, NN__hidden_layer_sizes=(25, 25), score=0.8145000000000001, total=   0.4s\n",
      "[CV] NN__alpha=0.01, NN__hidden_layer_sizes=(100, 25, 100) ...........\n",
      "[CV]  NN__alpha=0.01, NN__hidden_layer_sizes=(100, 25, 100), score=0.793076923076923, total=   0.5s\n",
      "[CV] NN__alpha=0.01, NN__hidden_layer_sizes=(100, 25, 100) ...........\n",
      "[CV]  NN__alpha=0.01, NN__hidden_layer_sizes=(100, 25, 100), score=0.7984615384615386, total=   0.5s\n",
      "[CV] NN__alpha=0.01, NN__hidden_layer_sizes=(100, 25, 100) ...........\n",
      "[CV]  NN__alpha=0.01, NN__hidden_layer_sizes=(100, 25, 100), score=0.8111025641025641, total=   0.4s\n",
      "[CV] NN__alpha=0.01, NN__hidden_layer_sizes=(100, 25, 100) ...........\n",
      "[CV]  NN__alpha=0.01, NN__hidden_layer_sizes=(100, 25, 100), score=0.7905000000000001, total=   0.6s\n",
      "[CV] NN__alpha=0.01, NN__hidden_layer_sizes=(100, 25, 100) ...........\n",
      "[CV]  NN__alpha=0.01, NN__hidden_layer_sizes=(100, 25, 100), score=0.8788333333333334, total=   0.6s\n",
      "[CV] NN__alpha=0.001, NN__hidden_layer_sizes=(50, 50) ................\n",
      "[CV]  NN__alpha=0.001, NN__hidden_layer_sizes=(50, 50), score=0.7846153846153845, total=   0.4s\n",
      "[CV] NN__alpha=0.001, NN__hidden_layer_sizes=(50, 50) ................\n",
      "[CV]  NN__alpha=0.001, NN__hidden_layer_sizes=(50, 50), score=0.7830769230769232, total=   0.3s\n",
      "[CV] NN__alpha=0.001, NN__hidden_layer_sizes=(50, 50) ................\n",
      "[CV]  NN__alpha=0.001, NN__hidden_layer_sizes=(50, 50), score=0.8069487179487179, total=   0.5s\n",
      "[CV] NN__alpha=0.001, NN__hidden_layer_sizes=(50, 50) ................\n",
      "[CV]  NN__alpha=0.001, NN__hidden_layer_sizes=(50, 50), score=0.7905000000000001, total=   0.5s\n",
      "[CV] NN__alpha=0.001, NN__hidden_layer_sizes=(50, 50) ................\n",
      "[CV]  NN__alpha=0.001, NN__hidden_layer_sizes=(50, 50), score=0.8143333333333332, total=   0.4s\n",
      "[CV] NN__alpha=0.001, NN__hidden_layer_sizes=(50,) ...................\n",
      "[CV]  NN__alpha=0.001, NN__hidden_layer_sizes=(50,), score=0.11999999999999998, total=   0.1s\n",
      "[CV] NN__alpha=0.001, NN__hidden_layer_sizes=(50,) ...................\n",
      "[CV]  NN__alpha=0.001, NN__hidden_layer_sizes=(50,), score=0.7906153846153847, total=   0.4s\n",
      "[CV] NN__alpha=0.001, NN__hidden_layer_sizes=(50,) ...................\n",
      "[CV]  NN__alpha=0.001, NN__hidden_layer_sizes=(50,), score=0.152, total=   0.1s\n",
      "[CV] NN__alpha=0.001, NN__hidden_layer_sizes=(50,) ...................\n",
      "[CV]  NN__alpha=0.001, NN__hidden_layer_sizes=(50,), score=0.7666666666666667, total=   0.3s\n",
      "[CV] NN__alpha=0.001, NN__hidden_layer_sizes=(50,) ...................\n",
      "[CV]  NN__alpha=0.001, NN__hidden_layer_sizes=(50,), score=0.782, total=   0.3s\n",
      "[CV] NN__alpha=0.001, NN__hidden_layer_sizes=(25,) ...................\n",
      "[CV]  NN__alpha=0.001, NN__hidden_layer_sizes=(25,), score=0.15999999999999998, total=   0.1s\n",
      "[CV] NN__alpha=0.001, NN__hidden_layer_sizes=(25,) ...................\n"
     ]
    },
    {
     "name": "stdout",
     "output_type": "stream",
     "text": [
      "[CV]  NN__alpha=0.001, NN__hidden_layer_sizes=(25,), score=0.3003076923076924, total=   0.2s\n",
      "[CV] NN__alpha=0.001, NN__hidden_layer_sizes=(25,) ...................\n",
      "[CV]  NN__alpha=0.001, NN__hidden_layer_sizes=(25,), score=0.1, total=   0.1s\n",
      "[CV] NN__alpha=0.001, NN__hidden_layer_sizes=(25,) ...................\n",
      "[CV]  NN__alpha=0.001, NN__hidden_layer_sizes=(25,), score=0.129, total=   0.1s\n",
      "[CV] NN__alpha=0.001, NN__hidden_layer_sizes=(25,) ...................\n",
      "[CV]  NN__alpha=0.001, NN__hidden_layer_sizes=(25,), score=0.08016666666666669, total=   0.1s\n",
      "[CV] NN__alpha=0.001, NN__hidden_layer_sizes=(25, 25) ................\n",
      "[CV]  NN__alpha=0.001, NN__hidden_layer_sizes=(25, 25), score=0.7964615384615383, total=   0.4s\n",
      "[CV] NN__alpha=0.001, NN__hidden_layer_sizes=(25, 25) ................\n",
      "[CV]  NN__alpha=0.001, NN__hidden_layer_sizes=(25, 25), score=0.7512307692307694, total=   0.2s\n",
      "[CV] NN__alpha=0.001, NN__hidden_layer_sizes=(25, 25) ................\n",
      "[CV]  NN__alpha=0.001, NN__hidden_layer_sizes=(25, 25), score=0.8197435897435899, total=   0.3s\n",
      "[CV] NN__alpha=0.001, NN__hidden_layer_sizes=(25, 25) ................\n",
      "[CV]  NN__alpha=0.001, NN__hidden_layer_sizes=(25, 25), score=0.6421666666666667, total=   0.2s\n",
      "[CV] NN__alpha=0.001, NN__hidden_layer_sizes=(25, 25) ................\n",
      "[CV]  NN__alpha=0.001, NN__hidden_layer_sizes=(25, 25), score=0.798, total=   0.3s\n",
      "[CV] NN__alpha=0.001, NN__hidden_layer_sizes=(100, 25, 100) ..........\n",
      "[CV]  NN__alpha=0.001, NN__hidden_layer_sizes=(100, 25, 100), score=0.789076923076923, total=   0.5s\n",
      "[CV] NN__alpha=0.001, NN__hidden_layer_sizes=(100, 25, 100) ..........\n",
      "[CV]  NN__alpha=0.001, NN__hidden_layer_sizes=(100, 25, 100), score=0.8301538461538462, total=   0.6s\n",
      "[CV] NN__alpha=0.001, NN__hidden_layer_sizes=(100, 25, 100) ..........\n",
      "[CV]  NN__alpha=0.001, NN__hidden_layer_sizes=(100, 25, 100), score=0.8037564102564103, total=   0.3s\n",
      "[CV] NN__alpha=0.001, NN__hidden_layer_sizes=(100, 25, 100) ..........\n",
      "[CV]  NN__alpha=0.001, NN__hidden_layer_sizes=(100, 25, 100), score=0.8186666666666668, total=   0.5s\n",
      "[CV] NN__alpha=0.001, NN__hidden_layer_sizes=(100, 25, 100) ..........\n",
      "[CV]  NN__alpha=0.001, NN__hidden_layer_sizes=(100, 25, 100), score=0.8628333333333335, total=   0.5s\n",
      "[CV] NN__alpha=0.0001, NN__hidden_layer_sizes=(50, 50) ...............\n",
      "[CV]  NN__alpha=0.0001, NN__hidden_layer_sizes=(50, 50), score=0.7929230769230768, total=   0.5s\n",
      "[CV] NN__alpha=0.0001, NN__hidden_layer_sizes=(50, 50) ...............\n",
      "[CV]  NN__alpha=0.0001, NN__hidden_layer_sizes=(50, 50), score=0.7753846153846156, total=   0.3s\n",
      "[CV] NN__alpha=0.0001, NN__hidden_layer_sizes=(50, 50) ...............\n",
      "[CV]  NN__alpha=0.0001, NN__hidden_layer_sizes=(50, 50), score=0.7987820512820513, total=   0.5s\n",
      "[CV] NN__alpha=0.0001, NN__hidden_layer_sizes=(50, 50) ...............\n",
      "[CV]  NN__alpha=0.0001, NN__hidden_layer_sizes=(50, 50), score=0.7426666666666667, total=   0.5s\n",
      "[CV] NN__alpha=0.0001, NN__hidden_layer_sizes=(50, 50) ...............\n",
      "[CV]  NN__alpha=0.0001, NN__hidden_layer_sizes=(50, 50), score=0.8505, total=   0.6s\n",
      "[CV] NN__alpha=0.0001, NN__hidden_layer_sizes=(50,) ..................\n",
      "[CV]  NN__alpha=0.0001, NN__hidden_layer_sizes=(50,), score=0.12399999999999999, total=   0.1s\n",
      "[CV] NN__alpha=0.0001, NN__hidden_layer_sizes=(50,) ..................\n",
      "[CV]  NN__alpha=0.0001, NN__hidden_layer_sizes=(50,), score=0.7906153846153847, total=   0.4s\n",
      "[CV] NN__alpha=0.0001, NN__hidden_layer_sizes=(50,) ..................\n",
      "[CV]  NN__alpha=0.0001, NN__hidden_layer_sizes=(50,), score=0.152, total=   0.1s\n",
      "[CV] NN__alpha=0.0001, NN__hidden_layer_sizes=(50,) ..................\n",
      "[CV]  NN__alpha=0.0001, NN__hidden_layer_sizes=(50,), score=0.40800000000000003, total=   0.2s\n",
      "[CV] NN__alpha=0.0001, NN__hidden_layer_sizes=(50,) ..................\n",
      "[CV]  NN__alpha=0.0001, NN__hidden_layer_sizes=(50,), score=0.8465, total=   0.5s\n",
      "[CV] NN__alpha=0.0001, NN__hidden_layer_sizes=(25,) ..................\n",
      "[CV]  NN__alpha=0.0001, NN__hidden_layer_sizes=(25,), score=0.15999999999999998, total=   0.1s\n",
      "[CV] NN__alpha=0.0001, NN__hidden_layer_sizes=(25,) ..................\n",
      "[CV]  NN__alpha=0.0001, NN__hidden_layer_sizes=(25,), score=0.2606153846153847, total=   0.1s\n",
      "[CV] NN__alpha=0.0001, NN__hidden_layer_sizes=(25,) ..................\n",
      "[CV]  NN__alpha=0.0001, NN__hidden_layer_sizes=(25,), score=0.1, total=   0.1s\n",
      "[CV] NN__alpha=0.0001, NN__hidden_layer_sizes=(25,) ..................\n",
      "[CV]  NN__alpha=0.0001, NN__hidden_layer_sizes=(25,), score=0.129, total=   0.1s\n",
      "[CV] NN__alpha=0.0001, NN__hidden_layer_sizes=(25,) ..................\n",
      "[CV]  NN__alpha=0.0001, NN__hidden_layer_sizes=(25,), score=0.08016666666666669, total=   0.1s\n",
      "[CV] NN__alpha=0.0001, NN__hidden_layer_sizes=(25, 25) ...............\n",
      "[CV]  NN__alpha=0.0001, NN__hidden_layer_sizes=(25, 25), score=0.3661538461538461, total=   0.2s\n",
      "[CV] NN__alpha=0.0001, NN__hidden_layer_sizes=(25, 25) ...............\n",
      "[CV]  NN__alpha=0.0001, NN__hidden_layer_sizes=(25, 25), score=0.7627692307692309, total=   0.3s\n",
      "[CV] NN__alpha=0.0001, NN__hidden_layer_sizes=(25, 25) ...............\n",
      "[CV]  NN__alpha=0.0001, NN__hidden_layer_sizes=(25, 25), score=0.7872564102564102, total=   0.4s\n",
      "[CV] NN__alpha=0.0001, NN__hidden_layer_sizes=(25, 25) ...............\n",
      "[CV]  NN__alpha=0.0001, NN__hidden_layer_sizes=(25, 25), score=0.7141666666666667, total=   0.4s\n",
      "[CV] NN__alpha=0.0001, NN__hidden_layer_sizes=(25, 25) ...............\n",
      "[CV]  NN__alpha=0.0001, NN__hidden_layer_sizes=(25, 25), score=0.8261666666666667, total=   0.4s\n",
      "[CV] NN__alpha=0.0001, NN__hidden_layer_sizes=(100, 25, 100) .........\n",
      "[CV]  NN__alpha=0.0001, NN__hidden_layer_sizes=(100, 25, 100), score=0.8198461538461538, total=   0.7s\n",
      "[CV] NN__alpha=0.0001, NN__hidden_layer_sizes=(100, 25, 100) .........\n",
      "[CV]  NN__alpha=0.0001, NN__hidden_layer_sizes=(100, 25, 100), score=0.7747692307692309, total=   0.4s\n",
      "[CV] NN__alpha=0.0001, NN__hidden_layer_sizes=(100, 25, 100) .........\n",
      "[CV]  NN__alpha=0.0001, NN__hidden_layer_sizes=(100, 25, 100), score=0.7999102564102564, total=   0.4s\n",
      "[CV] NN__alpha=0.0001, NN__hidden_layer_sizes=(100, 25, 100) .........\n",
      "[CV]  NN__alpha=0.0001, NN__hidden_layer_sizes=(100, 25, 100), score=0.8106666666666666, total=   0.6s\n",
      "[CV] NN__alpha=0.0001, NN__hidden_layer_sizes=(100, 25, 100) .........\n",
      "[CV]  NN__alpha=0.0001, NN__hidden_layer_sizes=(100, 25, 100), score=0.8586666666666666, total=   0.5s\n"
     ]
    },
    {
     "name": "stderr",
     "output_type": "stream",
     "text": [
      "[Parallel(n_jobs=1)]: Done 100 out of 100 | elapsed:   32.9s finished\n",
      "/Users/frankz/anaconda3/lib/python3.7/site-packages/sklearn/model_selection/_search.py:841: DeprecationWarning: The default of the `iid` parameter will change from True to False in version 0.22 and will be removed in 0.24. This will change numeric results when test-set sizes are unequal.\n",
      "  DeprecationWarning)\n"
     ]
    }
   ],
   "source": [
    "pipe = Pipeline([('pca', pca), ('km', km), ('NN', mlp)])\n",
    "gs, best_estimator, final_estimator = gs_with_best_estimator(pipe, grid)"
   ]
  },
  {
   "cell_type": "code",
   "execution_count": 152,
   "metadata": {},
   "outputs": [
    {
     "data": {
      "text/plain": [
       "Pipeline(memory=None,\n",
       "     steps=[('pca', PCA(copy=True, iterated_power='auto', n_components=8, random_state=7,\n",
       "  svd_solver='auto', tol=0.0, whiten=False)), ('km', KMeans(algorithm='auto', copy_x=True, init='k-means++', max_iter=300,\n",
       "    n_clusters=10, n_init=10, n_jobs=None, precompute_distances='auto',\n",
       "    random_state=7, ...=True, solver='adam', tol=0.0001,\n",
       "       validation_fraction=0.1, verbose=False, warm_start=False))])"
      ]
     },
     "execution_count": 152,
     "metadata": {},
     "output_type": "execute_result"
    }
   ],
   "source": [
    "best_estimator"
   ]
  },
  {
   "cell_type": "code",
   "execution_count": 153,
   "metadata": {},
   "outputs": [
    {
     "data": {
      "text/plain": [
       "MLPClassifier(activation='relu', alpha=0.001, batch_size='auto', beta_1=0.9,\n",
       "       beta_2=0.999, early_stopping=True, epsilon=1e-08,\n",
       "       hidden_layer_sizes=(100, 25, 100), learning_rate='constant',\n",
       "       learning_rate_init=0.001, max_iter=2000, momentum=0.9,\n",
       "       n_iter_no_change=10, nesterovs_momentum=True, power_t=0.5,\n",
       "       random_state=7, shuffle=True, solver='adam', tol=0.0001,\n",
       "       validation_fraction=0.1, verbose=False, warm_start=False)"
      ]
     },
     "execution_count": 153,
     "metadata": {},
     "output_type": "execute_result"
    }
   ],
   "source": [
    "final_estimator"
   ]
  },
  {
   "cell_type": "code",
   "execution_count": 154,
   "metadata": {
    "scrolled": true
   },
   "outputs": [
    {
     "data": {
      "text/plain": [
       "0.847255369928401"
      ]
     },
     "execution_count": 154,
     "metadata": {},
     "output_type": "execute_result"
    }
   ],
   "source": [
    "best_estimator.score(training_x, training_y)"
   ]
  },
  {
   "cell_type": "code",
   "execution_count": 155,
   "metadata": {
    "scrolled": true
   },
   "outputs": [
    {
     "data": {
      "text/plain": [
       "0.8222222222222222"
      ]
     },
     "execution_count": 155,
     "metadata": {},
     "output_type": "execute_result"
    }
   ],
   "source": [
    "best_estimator.score(testing_x, testing_y)"
   ]
  },
  {
   "cell_type": "code",
   "execution_count": 162,
   "metadata": {
    "scrolled": true
   },
   "outputs": [
    {
     "name": "stdout",
     "output_type": "stream",
     "text": [
      "Fitting 5 folds for each of 20 candidates, totalling 100 fits\n",
      "[CV] NN__alpha=0.1, NN__hidden_layer_sizes=(50, 50) ..................\n"
     ]
    },
    {
     "name": "stderr",
     "output_type": "stream",
     "text": [
      "[Parallel(n_jobs=1)]: Using backend SequentialBackend with 1 concurrent workers.\n"
     ]
    },
    {
     "name": "stdout",
     "output_type": "stream",
     "text": [
      "[CV]  NN__alpha=0.1, NN__hidden_layer_sizes=(50, 50), score=0.6163076923076922, total=   0.3s\n",
      "[CV] NN__alpha=0.1, NN__hidden_layer_sizes=(50, 50) ..................\n",
      "[CV]  NN__alpha=0.1, NN__hidden_layer_sizes=(50, 50), score=0.6755384615384616, total=   0.2s\n",
      "[CV] NN__alpha=0.1, NN__hidden_layer_sizes=(50, 50) ..................\n"
     ]
    },
    {
     "name": "stderr",
     "output_type": "stream",
     "text": [
      "[Parallel(n_jobs=1)]: Done   1 out of   1 | elapsed:    0.3s remaining:    0.0s\n",
      "[Parallel(n_jobs=1)]: Done   2 out of   2 | elapsed:    0.5s remaining:    0.0s\n"
     ]
    },
    {
     "name": "stdout",
     "output_type": "stream",
     "text": [
      "[CV]  NN__alpha=0.1, NN__hidden_layer_sizes=(50, 50), score=0.6443076923076924, total=   0.2s\n",
      "[CV] NN__alpha=0.1, NN__hidden_layer_sizes=(50, 50) ..................\n"
     ]
    },
    {
     "name": "stderr",
     "output_type": "stream",
     "text": [
      "[Parallel(n_jobs=1)]: Done   3 out of   3 | elapsed:    0.7s remaining:    0.0s\n"
     ]
    },
    {
     "name": "stdout",
     "output_type": "stream",
     "text": [
      "[CV]  NN__alpha=0.1, NN__hidden_layer_sizes=(50, 50), score=0.5973333333333334, total=   0.3s\n",
      "[CV] NN__alpha=0.1, NN__hidden_layer_sizes=(50, 50) ..................\n"
     ]
    },
    {
     "name": "stderr",
     "output_type": "stream",
     "text": [
      "[Parallel(n_jobs=1)]: Done   4 out of   4 | elapsed:    1.0s remaining:    0.0s\n"
     ]
    },
    {
     "name": "stdout",
     "output_type": "stream",
     "text": [
      "[CV]  NN__alpha=0.1, NN__hidden_layer_sizes=(50, 50), score=0.6463333333333333, total=   0.3s\n",
      "[CV] NN__alpha=0.1, NN__hidden_layer_sizes=(50,) .....................\n",
      "[CV]  NN__alpha=0.1, NN__hidden_layer_sizes=(50,), score=0.5878461538461538, total=   0.1s\n",
      "[CV] NN__alpha=0.1, NN__hidden_layer_sizes=(50,) .....................\n"
     ]
    },
    {
     "name": "stderr",
     "output_type": "stream",
     "text": [
      "[Parallel(n_jobs=1)]: Done   5 out of   5 | elapsed:    1.3s remaining:    0.0s\n",
      "[Parallel(n_jobs=1)]: Done   6 out of   6 | elapsed:    1.4s remaining:    0.0s\n"
     ]
    },
    {
     "name": "stdout",
     "output_type": "stream",
     "text": [
      "[CV]  NN__alpha=0.1, NN__hidden_layer_sizes=(50,), score=0.651846153846154, total=   0.2s\n",
      "[CV] NN__alpha=0.1, NN__hidden_layer_sizes=(50,) .....................\n",
      "[CV]  NN__alpha=0.1, NN__hidden_layer_sizes=(50,), score=0.6364615384615384, total=   0.2s\n",
      "[CV] NN__alpha=0.1, NN__hidden_layer_sizes=(50,) .....................\n"
     ]
    },
    {
     "name": "stderr",
     "output_type": "stream",
     "text": [
      "[Parallel(n_jobs=1)]: Done   7 out of   7 | elapsed:    1.6s remaining:    0.0s\n",
      "[Parallel(n_jobs=1)]: Done   8 out of   8 | elapsed:    1.8s remaining:    0.0s\n"
     ]
    },
    {
     "name": "stdout",
     "output_type": "stream",
     "text": [
      "[CV]  NN__alpha=0.1, NN__hidden_layer_sizes=(50,), score=0.5960000000000001, total=   0.1s\n",
      "[CV] NN__alpha=0.1, NN__hidden_layer_sizes=(50,) .....................\n",
      "[CV]  NN__alpha=0.1, NN__hidden_layer_sizes=(50,), score=0.6338333333333332, total=   0.1s\n",
      "[CV] NN__alpha=0.1, NN__hidden_layer_sizes=(25,) .....................\n"
     ]
    },
    {
     "name": "stderr",
     "output_type": "stream",
     "text": [
      "[Parallel(n_jobs=1)]: Done   9 out of   9 | elapsed:    1.9s remaining:    0.0s\n"
     ]
    },
    {
     "name": "stdout",
     "output_type": "stream",
     "text": [
      "[CV]  NN__alpha=0.1, NN__hidden_layer_sizes=(25,), score=0.09999999999999998, total=   0.1s\n",
      "[CV] NN__alpha=0.1, NN__hidden_layer_sizes=(25,) .....................\n",
      "[CV]  NN__alpha=0.1, NN__hidden_layer_sizes=(25,), score=0.6620000000000001, total=   0.2s\n",
      "[CV] NN__alpha=0.1, NN__hidden_layer_sizes=(25,) .....................\n",
      "[CV]  NN__alpha=0.1, NN__hidden_layer_sizes=(25,), score=0.1, total=   0.1s\n",
      "[CV] NN__alpha=0.1, NN__hidden_layer_sizes=(25,) .....................\n",
      "[CV]  NN__alpha=0.1, NN__hidden_layer_sizes=(25,), score=0.5616666666666666, total=   0.2s\n",
      "[CV] NN__alpha=0.1, NN__hidden_layer_sizes=(25,) .....................\n",
      "[CV]  NN__alpha=0.1, NN__hidden_layer_sizes=(25,), score=0.1, total=   0.1s\n",
      "[CV] NN__alpha=0.1, NN__hidden_layer_sizes=(25, 25) ..................\n",
      "[CV]  NN__alpha=0.1, NN__hidden_layer_sizes=(25, 25), score=0.607076923076923, total=   0.2s\n",
      "[CV] NN__alpha=0.1, NN__hidden_layer_sizes=(25, 25) ..................\n",
      "[CV]  NN__alpha=0.1, NN__hidden_layer_sizes=(25, 25), score=0.6549230769230772, total=   0.2s\n",
      "[CV] NN__alpha=0.1, NN__hidden_layer_sizes=(25, 25) ..................\n",
      "[CV]  NN__alpha=0.1, NN__hidden_layer_sizes=(25, 25), score=0.6367820512820512, total=   0.2s\n",
      "[CV] NN__alpha=0.1, NN__hidden_layer_sizes=(25, 25) ..................\n",
      "[CV]  NN__alpha=0.1, NN__hidden_layer_sizes=(25, 25), score=0.5734999999999999, total=   0.3s\n",
      "[CV] NN__alpha=0.1, NN__hidden_layer_sizes=(25, 25) ..................\n",
      "[CV]  NN__alpha=0.1, NN__hidden_layer_sizes=(25, 25), score=0.6545, total=   0.3s\n",
      "[CV] NN__alpha=0.1, NN__hidden_layer_sizes=(100, 25, 100) ............\n",
      "[CV]  NN__alpha=0.1, NN__hidden_layer_sizes=(100, 25, 100), score=0.5989230769230769, total=   0.2s\n",
      "[CV] NN__alpha=0.1, NN__hidden_layer_sizes=(100, 25, 100) ............\n",
      "[CV]  NN__alpha=0.1, NN__hidden_layer_sizes=(100, 25, 100), score=0.6676923076923078, total=   0.3s\n",
      "[CV] NN__alpha=0.1, NN__hidden_layer_sizes=(100, 25, 100) ............\n",
      "[CV]  NN__alpha=0.1, NN__hidden_layer_sizes=(100, 25, 100), score=0.6324615384615384, total=   0.2s\n",
      "[CV] NN__alpha=0.1, NN__hidden_layer_sizes=(100, 25, 100) ............\n",
      "[CV]  NN__alpha=0.1, NN__hidden_layer_sizes=(100, 25, 100), score=0.5931666666666667, total=   0.5s\n",
      "[CV] NN__alpha=0.1, NN__hidden_layer_sizes=(100, 25, 100) ............\n",
      "[CV]  NN__alpha=0.1, NN__hidden_layer_sizes=(100, 25, 100), score=0.6501666666666667, total=   0.4s\n",
      "[CV] NN__alpha=0.01, NN__hidden_layer_sizes=(50, 50) .................\n",
      "[CV]  NN__alpha=0.01, NN__hidden_layer_sizes=(50, 50), score=0.6241538461538461, total=   0.3s\n",
      "[CV] NN__alpha=0.01, NN__hidden_layer_sizes=(50, 50) .................\n",
      "[CV]  NN__alpha=0.01, NN__hidden_layer_sizes=(50, 50), score=0.6755384615384616, total=   0.2s\n",
      "[CV] NN__alpha=0.01, NN__hidden_layer_sizes=(50, 50) .................\n",
      "[CV]  NN__alpha=0.01, NN__hidden_layer_sizes=(50, 50), score=0.6443076923076924, total=   0.2s\n",
      "[CV] NN__alpha=0.01, NN__hidden_layer_sizes=(50, 50) .................\n",
      "[CV]  NN__alpha=0.01, NN__hidden_layer_sizes=(50, 50), score=0.6053333333333333, total=   0.3s\n",
      "[CV] NN__alpha=0.01, NN__hidden_layer_sizes=(50, 50) .................\n",
      "[CV]  NN__alpha=0.01, NN__hidden_layer_sizes=(50, 50), score=0.6545, total=   0.2s\n",
      "[CV] NN__alpha=0.01, NN__hidden_layer_sizes=(50,) ....................\n",
      "[CV]  NN__alpha=0.01, NN__hidden_layer_sizes=(50,), score=0.5878461538461538, total=   0.2s\n",
      "[CV] NN__alpha=0.01, NN__hidden_layer_sizes=(50,) ....................\n",
      "[CV]  NN__alpha=0.01, NN__hidden_layer_sizes=(50,), score=0.656, total=   0.2s\n",
      "[CV] NN__alpha=0.01, NN__hidden_layer_sizes=(50,) ....................\n",
      "[CV]  NN__alpha=0.01, NN__hidden_layer_sizes=(50,), score=0.6364615384615384, total=   0.2s\n",
      "[CV] NN__alpha=0.01, NN__hidden_layer_sizes=(50,) ....................\n",
      "[CV]  NN__alpha=0.01, NN__hidden_layer_sizes=(50,), score=0.5960000000000001, total=   0.2s\n",
      "[CV] NN__alpha=0.01, NN__hidden_layer_sizes=(50,) ....................\n",
      "[CV]  NN__alpha=0.01, NN__hidden_layer_sizes=(50,), score=0.6338333333333332, total=   0.1s\n",
      "[CV] NN__alpha=0.01, NN__hidden_layer_sizes=(25,) ....................\n",
      "[CV]  NN__alpha=0.01, NN__hidden_layer_sizes=(25,), score=0.09999999999999998, total=   0.1s\n",
      "[CV] NN__alpha=0.01, NN__hidden_layer_sizes=(25,) ....................\n",
      "[CV]  NN__alpha=0.01, NN__hidden_layer_sizes=(25,), score=0.6620000000000001, total=   0.2s\n",
      "[CV] NN__alpha=0.01, NN__hidden_layer_sizes=(25,) ....................\n",
      "[CV]  NN__alpha=0.01, NN__hidden_layer_sizes=(25,), score=0.1, total=   0.1s\n",
      "[CV] NN__alpha=0.01, NN__hidden_layer_sizes=(25,) ....................\n",
      "[CV]  NN__alpha=0.01, NN__hidden_layer_sizes=(25,), score=0.5385, total=   0.2s\n",
      "[CV] NN__alpha=0.01, NN__hidden_layer_sizes=(25,) ....................\n",
      "[CV]  NN__alpha=0.01, NN__hidden_layer_sizes=(25,), score=0.6378333333333333, total=   0.2s\n",
      "[CV] NN__alpha=0.01, NN__hidden_layer_sizes=(25, 25) .................\n",
      "[CV]  NN__alpha=0.01, NN__hidden_layer_sizes=(25, 25), score=0.607076923076923, total=   0.2s\n",
      "[CV] NN__alpha=0.01, NN__hidden_layer_sizes=(25, 25) .................\n",
      "[CV]  NN__alpha=0.01, NN__hidden_layer_sizes=(25, 25), score=0.6510769230769232, total=   0.2s\n",
      "[CV] NN__alpha=0.01, NN__hidden_layer_sizes=(25, 25) .................\n",
      "[CV]  NN__alpha=0.01, NN__hidden_layer_sizes=(25, 25), score=0.6407820512820512, total=   0.2s\n",
      "[CV] NN__alpha=0.01, NN__hidden_layer_sizes=(25, 25) .................\n",
      "[CV]  NN__alpha=0.01, NN__hidden_layer_sizes=(25, 25), score=0.5734999999999999, total=   0.3s\n",
      "[CV] NN__alpha=0.01, NN__hidden_layer_sizes=(25, 25) .................\n",
      "[CV]  NN__alpha=0.01, NN__hidden_layer_sizes=(25, 25), score=0.6503333333333333, total=   0.3s\n",
      "[CV] NN__alpha=0.01, NN__hidden_layer_sizes=(100, 25, 100) ...........\n",
      "[CV]  NN__alpha=0.01, NN__hidden_layer_sizes=(100, 25, 100), score=0.6066153846153847, total=   0.3s\n",
      "[CV] NN__alpha=0.01, NN__hidden_layer_sizes=(100, 25, 100) ...........\n",
      "[CV]  NN__alpha=0.01, NN__hidden_layer_sizes=(100, 25, 100), score=0.6676923076923078, total=   0.2s\n",
      "[CV] NN__alpha=0.01, NN__hidden_layer_sizes=(100, 25, 100) ...........\n",
      "[CV]  NN__alpha=0.01, NN__hidden_layer_sizes=(100, 25, 100), score=0.6324615384615384, total=   0.2s\n",
      "[CV] NN__alpha=0.01, NN__hidden_layer_sizes=(100, 25, 100) ...........\n",
      "[CV]  NN__alpha=0.01, NN__hidden_layer_sizes=(100, 25, 100), score=0.6133333333333334, total=   0.5s\n",
      "[CV] NN__alpha=0.01, NN__hidden_layer_sizes=(100, 25, 100) ...........\n",
      "[CV]  NN__alpha=0.01, NN__hidden_layer_sizes=(100, 25, 100), score=0.6501666666666667, total=   0.4s\n",
      "[CV] NN__alpha=0.001, NN__hidden_layer_sizes=(50, 50) ................\n",
      "[CV]  NN__alpha=0.001, NN__hidden_layer_sizes=(50, 50), score=0.6243076923076922, total=   0.4s\n",
      "[CV] NN__alpha=0.001, NN__hidden_layer_sizes=(50, 50) ................\n",
      "[CV]  NN__alpha=0.001, NN__hidden_layer_sizes=(50, 50), score=0.6755384615384616, total=   0.2s\n",
      "[CV] NN__alpha=0.001, NN__hidden_layer_sizes=(50, 50) ................\n",
      "[CV]  NN__alpha=0.001, NN__hidden_layer_sizes=(50, 50), score=0.6443076923076924, total=   0.2s\n",
      "[CV] NN__alpha=0.001, NN__hidden_layer_sizes=(50, 50) ................\n",
      "[CV]  NN__alpha=0.001, NN__hidden_layer_sizes=(50, 50), score=0.6013333333333334, total=   0.3s\n",
      "[CV] NN__alpha=0.001, NN__hidden_layer_sizes=(50, 50) ................\n",
      "[CV]  NN__alpha=0.001, NN__hidden_layer_sizes=(50, 50), score=0.66, total=   0.3s\n",
      "[CV] NN__alpha=0.001, NN__hidden_layer_sizes=(50,) ...................\n",
      "[CV]  NN__alpha=0.001, NN__hidden_layer_sizes=(50,), score=0.5878461538461538, total=   0.1s\n",
      "[CV] NN__alpha=0.001, NN__hidden_layer_sizes=(50,) ...................\n",
      "[CV]  NN__alpha=0.001, NN__hidden_layer_sizes=(50,), score=0.6760000000000002, total=   0.2s\n",
      "[CV] NN__alpha=0.001, NN__hidden_layer_sizes=(50,) ...................\n",
      "[CV]  NN__alpha=0.001, NN__hidden_layer_sizes=(50,), score=0.6364615384615384, total=   0.1s\n",
      "[CV] NN__alpha=0.001, NN__hidden_layer_sizes=(50,) ...................\n",
      "[CV]  NN__alpha=0.001, NN__hidden_layer_sizes=(50,), score=0.5960000000000001, total=   0.1s\n",
      "[CV] NN__alpha=0.001, NN__hidden_layer_sizes=(50,) ...................\n",
      "[CV]  NN__alpha=0.001, NN__hidden_layer_sizes=(50,), score=0.6338333333333332, total=   0.1s\n",
      "[CV] NN__alpha=0.001, NN__hidden_layer_sizes=(25,) ...................\n",
      "[CV]  NN__alpha=0.001, NN__hidden_layer_sizes=(25,), score=0.09999999999999998, total=   0.1s\n",
      "[CV] NN__alpha=0.001, NN__hidden_layer_sizes=(25,) ...................\n",
      "[CV]  NN__alpha=0.001, NN__hidden_layer_sizes=(25,), score=0.665846153846154, total=   0.2s\n",
      "[CV] NN__alpha=0.001, NN__hidden_layer_sizes=(25,) ...................\n"
     ]
    },
    {
     "name": "stdout",
     "output_type": "stream",
     "text": [
      "[CV]  NN__alpha=0.001, NN__hidden_layer_sizes=(25,), score=0.1, total=   0.1s\n",
      "[CV] NN__alpha=0.001, NN__hidden_layer_sizes=(25,) ...................\n",
      "[CV]  NN__alpha=0.001, NN__hidden_layer_sizes=(25,), score=0.5574999999999999, total=   0.2s\n",
      "[CV] NN__alpha=0.001, NN__hidden_layer_sizes=(25,) ...................\n",
      "[CV]  NN__alpha=0.001, NN__hidden_layer_sizes=(25,), score=0.1, total=   0.1s\n",
      "[CV] NN__alpha=0.001, NN__hidden_layer_sizes=(25, 25) ................\n",
      "[CV]  NN__alpha=0.001, NN__hidden_layer_sizes=(25, 25), score=0.607076923076923, total=   0.2s\n",
      "[CV] NN__alpha=0.001, NN__hidden_layer_sizes=(25, 25) ................\n",
      "[CV]  NN__alpha=0.001, NN__hidden_layer_sizes=(25, 25), score=0.6549230769230772, total=   0.2s\n",
      "[CV] NN__alpha=0.001, NN__hidden_layer_sizes=(25, 25) ................\n",
      "[CV]  NN__alpha=0.001, NN__hidden_layer_sizes=(25, 25), score=0.6, total=   0.2s\n",
      "[CV] NN__alpha=0.001, NN__hidden_layer_sizes=(25, 25) ................\n",
      "[CV]  NN__alpha=0.001, NN__hidden_layer_sizes=(25, 25), score=0.5734999999999999, total=   0.3s\n",
      "[CV] NN__alpha=0.001, NN__hidden_layer_sizes=(25, 25) ................\n",
      "[CV]  NN__alpha=0.001, NN__hidden_layer_sizes=(25, 25), score=0.6306666666666667, total=   0.2s\n",
      "[CV] NN__alpha=0.001, NN__hidden_layer_sizes=(100, 25, 100) ..........\n",
      "[CV]  NN__alpha=0.001, NN__hidden_layer_sizes=(100, 25, 100), score=0.6066153846153847, total=   0.3s\n",
      "[CV] NN__alpha=0.001, NN__hidden_layer_sizes=(100, 25, 100) ..........\n",
      "[CV]  NN__alpha=0.001, NN__hidden_layer_sizes=(100, 25, 100), score=0.6676923076923078, total=   0.3s\n",
      "[CV] NN__alpha=0.001, NN__hidden_layer_sizes=(100, 25, 100) ..........\n",
      "[CV]  NN__alpha=0.001, NN__hidden_layer_sizes=(100, 25, 100), score=0.6324615384615384, total=   0.2s\n",
      "[CV] NN__alpha=0.001, NN__hidden_layer_sizes=(100, 25, 100) ..........\n",
      "[CV]  NN__alpha=0.001, NN__hidden_layer_sizes=(100, 25, 100), score=0.6093333333333333, total=   0.4s\n",
      "[CV] NN__alpha=0.001, NN__hidden_layer_sizes=(100, 25, 100) ..........\n",
      "[CV]  NN__alpha=0.001, NN__hidden_layer_sizes=(100, 25, 100), score=0.6501666666666667, total=   0.4s\n",
      "[CV] NN__alpha=0.0001, NN__hidden_layer_sizes=(50, 50) ...............\n",
      "[CV]  NN__alpha=0.0001, NN__hidden_layer_sizes=(50, 50), score=0.6203076923076922, total=   0.3s\n",
      "[CV] NN__alpha=0.0001, NN__hidden_layer_sizes=(50, 50) ...............\n",
      "[CV]  NN__alpha=0.0001, NN__hidden_layer_sizes=(50, 50), score=0.6755384615384616, total=   0.2s\n",
      "[CV] NN__alpha=0.0001, NN__hidden_layer_sizes=(50, 50) ...............\n",
      "[CV]  NN__alpha=0.0001, NN__hidden_layer_sizes=(50, 50), score=0.6403076923076924, total=   0.2s\n",
      "[CV] NN__alpha=0.0001, NN__hidden_layer_sizes=(50, 50) ...............\n",
      "[CV]  NN__alpha=0.0001, NN__hidden_layer_sizes=(50, 50), score=0.6013333333333334, total=   0.3s\n",
      "[CV] NN__alpha=0.0001, NN__hidden_layer_sizes=(50, 50) ...............\n",
      "[CV]  NN__alpha=0.0001, NN__hidden_layer_sizes=(50, 50), score=0.6465, total=   0.3s\n",
      "[CV] NN__alpha=0.0001, NN__hidden_layer_sizes=(50,) ..................\n",
      "[CV]  NN__alpha=0.0001, NN__hidden_layer_sizes=(50,), score=0.5878461538461538, total=   0.1s\n",
      "[CV] NN__alpha=0.0001, NN__hidden_layer_sizes=(50,) ..................\n",
      "[CV]  NN__alpha=0.0001, NN__hidden_layer_sizes=(50,), score=0.6760000000000002, total=   0.2s\n",
      "[CV] NN__alpha=0.0001, NN__hidden_layer_sizes=(50,) ..................\n",
      "[CV]  NN__alpha=0.0001, NN__hidden_layer_sizes=(50,), score=0.6364615384615384, total=   0.1s\n",
      "[CV] NN__alpha=0.0001, NN__hidden_layer_sizes=(50,) ..................\n",
      "[CV]  NN__alpha=0.0001, NN__hidden_layer_sizes=(50,), score=0.5960000000000001, total=   0.1s\n",
      "[CV] NN__alpha=0.0001, NN__hidden_layer_sizes=(50,) ..................\n",
      "[CV]  NN__alpha=0.0001, NN__hidden_layer_sizes=(50,), score=0.6338333333333332, total=   0.1s\n",
      "[CV] NN__alpha=0.0001, NN__hidden_layer_sizes=(25,) ..................\n",
      "[CV]  NN__alpha=0.0001, NN__hidden_layer_sizes=(25,), score=0.09999999999999998, total=   0.1s\n",
      "[CV] NN__alpha=0.0001, NN__hidden_layer_sizes=(25,) ..................\n",
      "[CV]  NN__alpha=0.0001, NN__hidden_layer_sizes=(25,), score=0.665846153846154, total=   0.2s\n",
      "[CV] NN__alpha=0.0001, NN__hidden_layer_sizes=(25,) ..................\n",
      "[CV]  NN__alpha=0.0001, NN__hidden_layer_sizes=(25,), score=0.1, total=   0.1s\n",
      "[CV] NN__alpha=0.0001, NN__hidden_layer_sizes=(25,) ..................\n",
      "[CV]  NN__alpha=0.0001, NN__hidden_layer_sizes=(25,), score=0.5535, total=   0.2s\n",
      "[CV] NN__alpha=0.0001, NN__hidden_layer_sizes=(25,) ..................\n",
      "[CV]  NN__alpha=0.0001, NN__hidden_layer_sizes=(25,), score=0.1, total=   0.1s\n",
      "[CV] NN__alpha=0.0001, NN__hidden_layer_sizes=(25, 25) ...............\n",
      "[CV]  NN__alpha=0.0001, NN__hidden_layer_sizes=(25, 25), score=0.5989230769230769, total=   0.2s\n",
      "[CV] NN__alpha=0.0001, NN__hidden_layer_sizes=(25, 25) ...............\n",
      "[CV]  NN__alpha=0.0001, NN__hidden_layer_sizes=(25, 25), score=0.6549230769230772, total=   0.2s\n",
      "[CV] NN__alpha=0.0001, NN__hidden_layer_sizes=(25, 25) ...............\n",
      "[CV]  NN__alpha=0.0001, NN__hidden_layer_sizes=(25, 25), score=0.6, total=   0.1s\n",
      "[CV] NN__alpha=0.0001, NN__hidden_layer_sizes=(25, 25) ...............\n",
      "[CV]  NN__alpha=0.0001, NN__hidden_layer_sizes=(25, 25), score=0.5695, total=   0.2s\n",
      "[CV] NN__alpha=0.0001, NN__hidden_layer_sizes=(25, 25) ...............\n",
      "[CV]  NN__alpha=0.0001, NN__hidden_layer_sizes=(25, 25), score=0.6346666666666667, total=   0.2s\n",
      "[CV] NN__alpha=0.0001, NN__hidden_layer_sizes=(100, 25, 100) .........\n",
      "[CV]  NN__alpha=0.0001, NN__hidden_layer_sizes=(100, 25, 100), score=0.6066153846153847, total=   0.3s\n",
      "[CV] NN__alpha=0.0001, NN__hidden_layer_sizes=(100, 25, 100) .........\n",
      "[CV]  NN__alpha=0.0001, NN__hidden_layer_sizes=(100, 25, 100), score=0.6676923076923078, total=   0.2s\n",
      "[CV] NN__alpha=0.0001, NN__hidden_layer_sizes=(100, 25, 100) .........\n",
      "[CV]  NN__alpha=0.0001, NN__hidden_layer_sizes=(100, 25, 100), score=0.6324615384615384, total=   0.2s\n",
      "[CV] NN__alpha=0.0001, NN__hidden_layer_sizes=(100, 25, 100) .........\n",
      "[CV]  NN__alpha=0.0001, NN__hidden_layer_sizes=(100, 25, 100), score=0.6490000000000001, total=   0.5s\n",
      "[CV] NN__alpha=0.0001, NN__hidden_layer_sizes=(100, 25, 100) .........\n",
      "[CV]  NN__alpha=0.0001, NN__hidden_layer_sizes=(100, 25, 100), score=0.6501666666666667, total=   0.3s\n"
     ]
    },
    {
     "name": "stderr",
     "output_type": "stream",
     "text": [
      "[Parallel(n_jobs=1)]: Done 100 out of 100 | elapsed:   21.9s finished\n",
      "/Users/frankz/anaconda3/lib/python3.7/site-packages/sklearn/model_selection/_search.py:841: DeprecationWarning: The default of the `iid` parameter will change from True to False in version 0.22 and will be removed in 0.24. This will change numeric results when test-set sizes are unequal.\n",
      "  DeprecationWarning)\n"
     ]
    }
   ],
   "source": [
    "pipe = Pipeline([('pca', pca), ('gmm', gmm), ('NN', mlp)])\n",
    "gs, best_estimator, final_estimator = gs_with_best_estimator(pipe, grid)"
   ]
  },
  {
   "cell_type": "code",
   "execution_count": 163,
   "metadata": {},
   "outputs": [
    {
     "data": {
      "text/plain": [
       "Pipeline(memory=None,\n",
       "     steps=[('pca', PCA(copy=True, iterated_power='auto', n_components=8, random_state=7,\n",
       "  svd_solver='auto', tol=0.0, whiten=False)), ('gmm', CustomGMM(covariance_type='full', init_params='kmeans', max_iter=100,\n",
       "     means_init=None, n_components=10, n_init=1, precisions_init=None,\n",
       "     random_state=7,...=True, solver='adam', tol=0.0001,\n",
       "       validation_fraction=0.1, verbose=False, warm_start=False))])"
      ]
     },
     "execution_count": 163,
     "metadata": {},
     "output_type": "execute_result"
    }
   ],
   "source": [
    "best_estimator"
   ]
  },
  {
   "cell_type": "code",
   "execution_count": 164,
   "metadata": {},
   "outputs": [
    {
     "data": {
      "text/plain": [
       "MLPClassifier(activation='relu', alpha=0.001, batch_size='auto', beta_1=0.9,\n",
       "       beta_2=0.999, early_stopping=True, epsilon=1e-08,\n",
       "       hidden_layer_sizes=(50, 50), learning_rate='constant',\n",
       "       learning_rate_init=0.001, max_iter=2000, momentum=0.9,\n",
       "       n_iter_no_change=10, nesterovs_momentum=True, power_t=0.5,\n",
       "       random_state=7, shuffle=True, solver='adam', tol=0.0001,\n",
       "       validation_fraction=0.1, verbose=False, warm_start=False)"
      ]
     },
     "execution_count": 164,
     "metadata": {},
     "output_type": "execute_result"
    }
   ],
   "source": [
    "final_estimator"
   ]
  },
  {
   "cell_type": "code",
   "execution_count": 165,
   "metadata": {
    "scrolled": true
   },
   "outputs": [
    {
     "data": {
      "text/plain": [
       "0.669848846459825"
      ]
     },
     "execution_count": 165,
     "metadata": {},
     "output_type": "execute_result"
    }
   ],
   "source": [
    "best_estimator.score(training_x, training_y)"
   ]
  },
  {
   "cell_type": "code",
   "execution_count": 166,
   "metadata": {
    "scrolled": true
   },
   "outputs": [
    {
     "data": {
      "text/plain": [
       "0.6481481481481481"
      ]
     },
     "execution_count": 166,
     "metadata": {},
     "output_type": "execute_result"
    }
   ],
   "source": [
    "best_estimator.score(testing_x, testing_y)"
   ]
  },
  {
   "cell_type": "markdown",
   "metadata": {},
   "source": [
    "### ICA"
   ]
  },
  {
   "cell_type": "code",
   "execution_count": 169,
   "metadata": {},
   "outputs": [],
   "source": [
    "from sklearn.decomposition import FastICA"
   ]
  },
  {
   "cell_type": "code",
   "execution_count": 170,
   "metadata": {},
   "outputs": [],
   "source": [
    "ica = FastICA(n_components=13, random_state=seed)"
   ]
  },
  {
   "cell_type": "code",
   "execution_count": 171,
   "metadata": {
    "scrolled": true
   },
   "outputs": [
    {
     "name": "stdout",
     "output_type": "stream",
     "text": [
      "Fitting 5 folds for each of 20 candidates, totalling 100 fits\n",
      "[CV] NN__alpha=0.1, NN__hidden_layer_sizes=(50, 50) ..................\n"
     ]
    },
    {
     "name": "stderr",
     "output_type": "stream",
     "text": [
      "[Parallel(n_jobs=1)]: Using backend SequentialBackend with 1 concurrent workers.\n",
      "/Users/frankz/anaconda3/lib/python3.7/site-packages/sklearn/decomposition/fastica_.py:121: ConvergenceWarning: FastICA did not converge. Consider increasing tolerance or the maximum number of iterations.\n",
      "  ConvergenceWarning)\n"
     ]
    },
    {
     "name": "stdout",
     "output_type": "stream",
     "text": [
      "[CV]  NN__alpha=0.1, NN__hidden_layer_sizes=(50, 50), score=0.45661538461538453, total=   0.5s\n",
      "[CV] NN__alpha=0.1, NN__hidden_layer_sizes=(50, 50) ..................\n"
     ]
    },
    {
     "name": "stderr",
     "output_type": "stream",
     "text": [
      "[Parallel(n_jobs=1)]: Done   1 out of   1 | elapsed:    0.5s remaining:    0.0s\n",
      "/Users/frankz/anaconda3/lib/python3.7/site-packages/sklearn/decomposition/fastica_.py:121: ConvergenceWarning: FastICA did not converge. Consider increasing tolerance or the maximum number of iterations.\n",
      "  ConvergenceWarning)\n"
     ]
    },
    {
     "name": "stdout",
     "output_type": "stream",
     "text": [
      "[CV]  NN__alpha=0.1, NN__hidden_layer_sizes=(50, 50), score=0.18061538461538462, total=   0.3s\n",
      "[CV] NN__alpha=0.1, NN__hidden_layer_sizes=(50, 50) ..................\n"
     ]
    },
    {
     "name": "stderr",
     "output_type": "stream",
     "text": [
      "[Parallel(n_jobs=1)]: Done   2 out of   2 | elapsed:    0.8s remaining:    0.0s\n",
      "/Users/frankz/anaconda3/lib/python3.7/site-packages/sklearn/decomposition/fastica_.py:121: ConvergenceWarning: FastICA did not converge. Consider increasing tolerance or the maximum number of iterations.\n",
      "  ConvergenceWarning)\n"
     ]
    },
    {
     "name": "stdout",
     "output_type": "stream",
     "text": [
      "[CV]  NN__alpha=0.1, NN__hidden_layer_sizes=(50, 50), score=0.42107692307692307, total=   0.4s\n",
      "[CV] NN__alpha=0.1, NN__hidden_layer_sizes=(50, 50) ..................\n"
     ]
    },
    {
     "name": "stderr",
     "output_type": "stream",
     "text": [
      "[Parallel(n_jobs=1)]: Done   3 out of   3 | elapsed:    1.2s remaining:    0.0s\n",
      "/Users/frankz/anaconda3/lib/python3.7/site-packages/sklearn/decomposition/fastica_.py:121: ConvergenceWarning: FastICA did not converge. Consider increasing tolerance or the maximum number of iterations.\n",
      "  ConvergenceWarning)\n"
     ]
    },
    {
     "name": "stdout",
     "output_type": "stream",
     "text": [
      "[CV]  NN__alpha=0.1, NN__hidden_layer_sizes=(50, 50), score=0.312, total=   0.4s\n",
      "[CV] NN__alpha=0.1, NN__hidden_layer_sizes=(50, 50) ..................\n"
     ]
    },
    {
     "name": "stderr",
     "output_type": "stream",
     "text": [
      "[Parallel(n_jobs=1)]: Done   4 out of   4 | elapsed:    1.6s remaining:    0.0s\n"
     ]
    },
    {
     "name": "stdout",
     "output_type": "stream",
     "text": [
      "[CV]  NN__alpha=0.1, NN__hidden_layer_sizes=(50, 50), score=0.4688333333333334, total=   0.6s\n",
      "[CV] NN__alpha=0.1, NN__hidden_layer_sizes=(50,) .....................\n"
     ]
    },
    {
     "name": "stderr",
     "output_type": "stream",
     "text": [
      "[Parallel(n_jobs=1)]: Done   5 out of   5 | elapsed:    2.1s remaining:    0.0s\n",
      "/Users/frankz/anaconda3/lib/python3.7/site-packages/sklearn/decomposition/fastica_.py:121: ConvergenceWarning: FastICA did not converge. Consider increasing tolerance or the maximum number of iterations.\n",
      "  ConvergenceWarning)\n"
     ]
    },
    {
     "name": "stdout",
     "output_type": "stream",
     "text": [
      "[CV]  NN__alpha=0.1, NN__hidden_layer_sizes=(50,), score=0.09999999999999998, total=   0.2s\n",
      "[CV] NN__alpha=0.1, NN__hidden_layer_sizes=(50,) .....................\n"
     ]
    },
    {
     "name": "stderr",
     "output_type": "stream",
     "text": [
      "[Parallel(n_jobs=1)]: Done   6 out of   6 | elapsed:    2.4s remaining:    0.0s\n",
      "/Users/frankz/anaconda3/lib/python3.7/site-packages/sklearn/decomposition/fastica_.py:121: ConvergenceWarning: FastICA did not converge. Consider increasing tolerance or the maximum number of iterations.\n",
      "  ConvergenceWarning)\n"
     ]
    },
    {
     "name": "stdout",
     "output_type": "stream",
     "text": [
      "[CV]  NN__alpha=0.1, NN__hidden_layer_sizes=(50,), score=0.14230769230769233, total=   0.3s\n",
      "[CV] NN__alpha=0.1, NN__hidden_layer_sizes=(50,) .....................\n"
     ]
    },
    {
     "name": "stderr",
     "output_type": "stream",
     "text": [
      "[Parallel(n_jobs=1)]: Done   7 out of   7 | elapsed:    2.6s remaining:    0.0s\n",
      "/Users/frankz/anaconda3/lib/python3.7/site-packages/sklearn/decomposition/fastica_.py:121: ConvergenceWarning: FastICA did not converge. Consider increasing tolerance or the maximum number of iterations.\n",
      "  ConvergenceWarning)\n"
     ]
    },
    {
     "name": "stdout",
     "output_type": "stream",
     "text": [
      "[CV]  NN__alpha=0.1, NN__hidden_layer_sizes=(50,), score=0.2916923076923077, total=   0.3s\n",
      "[CV] NN__alpha=0.1, NN__hidden_layer_sizes=(50,) .....................\n"
     ]
    },
    {
     "name": "stderr",
     "output_type": "stream",
     "text": [
      "[Parallel(n_jobs=1)]: Done   8 out of   8 | elapsed:    2.9s remaining:    0.0s\n",
      "/Users/frankz/anaconda3/lib/python3.7/site-packages/sklearn/decomposition/fastica_.py:121: ConvergenceWarning: FastICA did not converge. Consider increasing tolerance or the maximum number of iterations.\n",
      "  ConvergenceWarning)\n"
     ]
    },
    {
     "name": "stdout",
     "output_type": "stream",
     "text": [
      "[CV]  NN__alpha=0.1, NN__hidden_layer_sizes=(50,), score=0.18, total=   0.3s\n",
      "[CV] NN__alpha=0.1, NN__hidden_layer_sizes=(50,) .....................\n"
     ]
    },
    {
     "name": "stderr",
     "output_type": "stream",
     "text": [
      "[Parallel(n_jobs=1)]: Done   9 out of   9 | elapsed:    3.3s remaining:    0.0s\n"
     ]
    },
    {
     "name": "stdout",
     "output_type": "stream",
     "text": [
      "[CV]  NN__alpha=0.1, NN__hidden_layer_sizes=(50,), score=0.3771666666666667, total=   0.2s\n",
      "[CV] NN__alpha=0.1, NN__hidden_layer_sizes=(25,) .....................\n"
     ]
    },
    {
     "name": "stderr",
     "output_type": "stream",
     "text": [
      "/Users/frankz/anaconda3/lib/python3.7/site-packages/sklearn/decomposition/fastica_.py:121: ConvergenceWarning: FastICA did not converge. Consider increasing tolerance or the maximum number of iterations.\n",
      "  ConvergenceWarning)\n"
     ]
    },
    {
     "name": "stdout",
     "output_type": "stream",
     "text": [
      "[CV]  NN__alpha=0.1, NN__hidden_layer_sizes=(25,), score=0.09999999999999998, total=   0.2s\n",
      "[CV] NN__alpha=0.1, NN__hidden_layer_sizes=(25,) .....................\n"
     ]
    },
    {
     "name": "stderr",
     "output_type": "stream",
     "text": [
      "/Users/frankz/anaconda3/lib/python3.7/site-packages/sklearn/decomposition/fastica_.py:121: ConvergenceWarning: FastICA did not converge. Consider increasing tolerance or the maximum number of iterations.\n",
      "  ConvergenceWarning)\n"
     ]
    },
    {
     "name": "stdout",
     "output_type": "stream",
     "text": [
      "[CV]  NN__alpha=0.1, NN__hidden_layer_sizes=(25,), score=0.10000000000000002, total=   0.3s\n",
      "[CV] NN__alpha=0.1, NN__hidden_layer_sizes=(25,) .....................\n"
     ]
    },
    {
     "name": "stderr",
     "output_type": "stream",
     "text": [
      "/Users/frankz/anaconda3/lib/python3.7/site-packages/sklearn/decomposition/fastica_.py:121: ConvergenceWarning: FastICA did not converge. Consider increasing tolerance or the maximum number of iterations.\n",
      "  ConvergenceWarning)\n"
     ]
    },
    {
     "name": "stdout",
     "output_type": "stream",
     "text": [
      "[CV]  NN__alpha=0.1, NN__hidden_layer_sizes=(25,), score=0.1, total=   0.3s\n",
      "[CV] NN__alpha=0.1, NN__hidden_layer_sizes=(25,) .....................\n"
     ]
    },
    {
     "name": "stderr",
     "output_type": "stream",
     "text": [
      "/Users/frankz/anaconda3/lib/python3.7/site-packages/sklearn/decomposition/fastica_.py:121: ConvergenceWarning: FastICA did not converge. Consider increasing tolerance or the maximum number of iterations.\n",
      "  ConvergenceWarning)\n"
     ]
    },
    {
     "name": "stdout",
     "output_type": "stream",
     "text": [
      "[CV]  NN__alpha=0.1, NN__hidden_layer_sizes=(25,), score=0.09999999999999998, total=   0.3s\n",
      "[CV] NN__alpha=0.1, NN__hidden_layer_sizes=(25,) .....................\n",
      "[CV]  NN__alpha=0.1, NN__hidden_layer_sizes=(25,), score=0.1, total=   0.2s\n",
      "[CV] NN__alpha=0.1, NN__hidden_layer_sizes=(25, 25) ..................\n"
     ]
    },
    {
     "name": "stderr",
     "output_type": "stream",
     "text": [
      "/Users/frankz/anaconda3/lib/python3.7/site-packages/sklearn/decomposition/fastica_.py:121: ConvergenceWarning: FastICA did not converge. Consider increasing tolerance or the maximum number of iterations.\n",
      "  ConvergenceWarning)\n"
     ]
    },
    {
     "name": "stdout",
     "output_type": "stream",
     "text": [
      "[CV]  NN__alpha=0.1, NN__hidden_layer_sizes=(25, 25), score=0.3487692307692307, total=   0.3s\n",
      "[CV] NN__alpha=0.1, NN__hidden_layer_sizes=(25, 25) ..................\n"
     ]
    },
    {
     "name": "stderr",
     "output_type": "stream",
     "text": [
      "/Users/frankz/anaconda3/lib/python3.7/site-packages/sklearn/decomposition/fastica_.py:121: ConvergenceWarning: FastICA did not converge. Consider increasing tolerance or the maximum number of iterations.\n",
      "  ConvergenceWarning)\n"
     ]
    },
    {
     "name": "stdout",
     "output_type": "stream",
     "text": [
      "[CV]  NN__alpha=0.1, NN__hidden_layer_sizes=(25, 25), score=0.1, total=   0.3s\n",
      "[CV] NN__alpha=0.1, NN__hidden_layer_sizes=(25, 25) ..................\n"
     ]
    },
    {
     "name": "stderr",
     "output_type": "stream",
     "text": [
      "/Users/frankz/anaconda3/lib/python3.7/site-packages/sklearn/decomposition/fastica_.py:121: ConvergenceWarning: FastICA did not converge. Consider increasing tolerance or the maximum number of iterations.\n",
      "  ConvergenceWarning)\n"
     ]
    },
    {
     "name": "stdout",
     "output_type": "stream",
     "text": [
      "[CV]  NN__alpha=0.1, NN__hidden_layer_sizes=(25, 25), score=0.24, total=   0.3s\n",
      "[CV] NN__alpha=0.1, NN__hidden_layer_sizes=(25, 25) ..................\n"
     ]
    },
    {
     "name": "stderr",
     "output_type": "stream",
     "text": [
      "/Users/frankz/anaconda3/lib/python3.7/site-packages/sklearn/decomposition/fastica_.py:121: ConvergenceWarning: FastICA did not converge. Consider increasing tolerance or the maximum number of iterations.\n",
      "  ConvergenceWarning)\n"
     ]
    },
    {
     "name": "stdout",
     "output_type": "stream",
     "text": [
      "[CV]  NN__alpha=0.1, NN__hidden_layer_sizes=(25, 25), score=0.09999999999999999, total=   0.3s\n",
      "[CV] NN__alpha=0.1, NN__hidden_layer_sizes=(25, 25) ..................\n",
      "[CV]  NN__alpha=0.1, NN__hidden_layer_sizes=(25, 25), score=0.1, total=   0.2s\n",
      "[CV] NN__alpha=0.1, NN__hidden_layer_sizes=(100, 25, 100) ............\n"
     ]
    },
    {
     "name": "stderr",
     "output_type": "stream",
     "text": [
      "/Users/frankz/anaconda3/lib/python3.7/site-packages/sklearn/decomposition/fastica_.py:121: ConvergenceWarning: FastICA did not converge. Consider increasing tolerance or the maximum number of iterations.\n",
      "  ConvergenceWarning)\n"
     ]
    },
    {
     "name": "stdout",
     "output_type": "stream",
     "text": [
      "[CV]  NN__alpha=0.1, NN__hidden_layer_sizes=(100, 25, 100), score=0.23046153846153844, total=   0.4s\n",
      "[CV] NN__alpha=0.1, NN__hidden_layer_sizes=(100, 25, 100) ............\n"
     ]
    },
    {
     "name": "stderr",
     "output_type": "stream",
     "text": [
      "/Users/frankz/anaconda3/lib/python3.7/site-packages/sklearn/decomposition/fastica_.py:121: ConvergenceWarning: FastICA did not converge. Consider increasing tolerance or the maximum number of iterations.\n",
      "  ConvergenceWarning)\n"
     ]
    },
    {
     "name": "stdout",
     "output_type": "stream",
     "text": [
      "[CV]  NN__alpha=0.1, NN__hidden_layer_sizes=(100, 25, 100), score=0.2883076923076924, total=   0.4s\n",
      "[CV] NN__alpha=0.1, NN__hidden_layer_sizes=(100, 25, 100) ............\n"
     ]
    },
    {
     "name": "stderr",
     "output_type": "stream",
     "text": [
      "/Users/frankz/anaconda3/lib/python3.7/site-packages/sklearn/decomposition/fastica_.py:121: ConvergenceWarning: FastICA did not converge. Consider increasing tolerance or the maximum number of iterations.\n",
      "  ConvergenceWarning)\n"
     ]
    },
    {
     "name": "stdout",
     "output_type": "stream",
     "text": [
      "[CV]  NN__alpha=0.1, NN__hidden_layer_sizes=(100, 25, 100), score=0.5103461538461539, total=   0.9s\n",
      "[CV] NN__alpha=0.1, NN__hidden_layer_sizes=(100, 25, 100) ............\n"
     ]
    },
    {
     "name": "stderr",
     "output_type": "stream",
     "text": [
      "/Users/frankz/anaconda3/lib/python3.7/site-packages/sklearn/decomposition/fastica_.py:121: ConvergenceWarning: FastICA did not converge. Consider increasing tolerance or the maximum number of iterations.\n",
      "  ConvergenceWarning)\n"
     ]
    },
    {
     "name": "stdout",
     "output_type": "stream",
     "text": [
      "[CV]  NN__alpha=0.1, NN__hidden_layer_sizes=(100, 25, 100), score=0.208, total=   0.4s\n",
      "[CV] NN__alpha=0.1, NN__hidden_layer_sizes=(100, 25, 100) ............\n",
      "[CV]  NN__alpha=0.1, NN__hidden_layer_sizes=(100, 25, 100), score=0.4866666666666667, total=   0.9s\n",
      "[CV] NN__alpha=0.01, NN__hidden_layer_sizes=(50, 50) .................\n"
     ]
    },
    {
     "name": "stderr",
     "output_type": "stream",
     "text": [
      "/Users/frankz/anaconda3/lib/python3.7/site-packages/sklearn/decomposition/fastica_.py:121: ConvergenceWarning: FastICA did not converge. Consider increasing tolerance or the maximum number of iterations.\n",
      "  ConvergenceWarning)\n"
     ]
    },
    {
     "name": "stdout",
     "output_type": "stream",
     "text": [
      "[CV]  NN__alpha=0.01, NN__hidden_layer_sizes=(50, 50), score=0.44092307692307686, total=   0.4s\n",
      "[CV] NN__alpha=0.01, NN__hidden_layer_sizes=(50, 50) .................\n"
     ]
    },
    {
     "name": "stderr",
     "output_type": "stream",
     "text": [
      "/Users/frankz/anaconda3/lib/python3.7/site-packages/sklearn/decomposition/fastica_.py:121: ConvergenceWarning: FastICA did not converge. Consider increasing tolerance or the maximum number of iterations.\n",
      "  ConvergenceWarning)\n"
     ]
    },
    {
     "name": "stdout",
     "output_type": "stream",
     "text": [
      "[CV]  NN__alpha=0.01, NN__hidden_layer_sizes=(50, 50), score=0.18061538461538462, total=   0.3s\n",
      "[CV] NN__alpha=0.01, NN__hidden_layer_sizes=(50, 50) .................\n"
     ]
    },
    {
     "name": "stderr",
     "output_type": "stream",
     "text": [
      "/Users/frankz/anaconda3/lib/python3.7/site-packages/sklearn/decomposition/fastica_.py:121: ConvergenceWarning: FastICA did not converge. Consider increasing tolerance or the maximum number of iterations.\n",
      "  ConvergenceWarning)\n"
     ]
    },
    {
     "name": "stdout",
     "output_type": "stream",
     "text": [
      "[CV]  NN__alpha=0.01, NN__hidden_layer_sizes=(50, 50), score=0.43338461538461537, total=   0.4s\n",
      "[CV] NN__alpha=0.01, NN__hidden_layer_sizes=(50, 50) .................\n"
     ]
    },
    {
     "name": "stderr",
     "output_type": "stream",
     "text": [
      "/Users/frankz/anaconda3/lib/python3.7/site-packages/sklearn/decomposition/fastica_.py:121: ConvergenceWarning: FastICA did not converge. Consider increasing tolerance or the maximum number of iterations.\n",
      "  ConvergenceWarning)\n"
     ]
    },
    {
     "name": "stdout",
     "output_type": "stream",
     "text": [
      "[CV]  NN__alpha=0.01, NN__hidden_layer_sizes=(50, 50), score=0.308, total=   0.4s\n",
      "[CV] NN__alpha=0.01, NN__hidden_layer_sizes=(50, 50) .................\n",
      "[CV]  NN__alpha=0.01, NN__hidden_layer_sizes=(50, 50), score=0.543, total=   0.7s\n",
      "[CV] NN__alpha=0.01, NN__hidden_layer_sizes=(50,) ....................\n"
     ]
    },
    {
     "name": "stderr",
     "output_type": "stream",
     "text": [
      "/Users/frankz/anaconda3/lib/python3.7/site-packages/sklearn/decomposition/fastica_.py:121: ConvergenceWarning: FastICA did not converge. Consider increasing tolerance or the maximum number of iterations.\n",
      "  ConvergenceWarning)\n"
     ]
    },
    {
     "name": "stdout",
     "output_type": "stream",
     "text": [
      "[CV]  NN__alpha=0.01, NN__hidden_layer_sizes=(50,), score=0.09999999999999998, total=   0.2s\n",
      "[CV] NN__alpha=0.01, NN__hidden_layer_sizes=(50,) ....................\n"
     ]
    },
    {
     "name": "stderr",
     "output_type": "stream",
     "text": [
      "/Users/frankz/anaconda3/lib/python3.7/site-packages/sklearn/decomposition/fastica_.py:121: ConvergenceWarning: FastICA did not converge. Consider increasing tolerance or the maximum number of iterations.\n",
      "  ConvergenceWarning)\n"
     ]
    },
    {
     "name": "stdout",
     "output_type": "stream",
     "text": [
      "[CV]  NN__alpha=0.01, NN__hidden_layer_sizes=(50,), score=0.14230769230769233, total=   0.3s\n",
      "[CV] NN__alpha=0.01, NN__hidden_layer_sizes=(50,) ....................\n"
     ]
    },
    {
     "name": "stderr",
     "output_type": "stream",
     "text": [
      "/Users/frankz/anaconda3/lib/python3.7/site-packages/sklearn/decomposition/fastica_.py:121: ConvergenceWarning: FastICA did not converge. Consider increasing tolerance or the maximum number of iterations.\n",
      "  ConvergenceWarning)\n"
     ]
    },
    {
     "name": "stdout",
     "output_type": "stream",
     "text": [
      "[CV]  NN__alpha=0.01, NN__hidden_layer_sizes=(50,), score=0.288, total=   0.4s\n",
      "[CV] NN__alpha=0.01, NN__hidden_layer_sizes=(50,) ....................\n"
     ]
    },
    {
     "name": "stderr",
     "output_type": "stream",
     "text": [
      "/Users/frankz/anaconda3/lib/python3.7/site-packages/sklearn/decomposition/fastica_.py:121: ConvergenceWarning: FastICA did not converge. Consider increasing tolerance or the maximum number of iterations.\n",
      "  ConvergenceWarning)\n"
     ]
    },
    {
     "name": "stdout",
     "output_type": "stream",
     "text": [
      "[CV]  NN__alpha=0.01, NN__hidden_layer_sizes=(50,), score=0.47300000000000003, total=   0.5s\n",
      "[CV] NN__alpha=0.01, NN__hidden_layer_sizes=(50,) ....................\n",
      "[CV]  NN__alpha=0.01, NN__hidden_layer_sizes=(50,), score=0.5286666666666667, total=   0.4s\n",
      "[CV] NN__alpha=0.01, NN__hidden_layer_sizes=(25,) ....................\n"
     ]
    },
    {
     "name": "stderr",
     "output_type": "stream",
     "text": [
      "/Users/frankz/anaconda3/lib/python3.7/site-packages/sklearn/decomposition/fastica_.py:121: ConvergenceWarning: FastICA did not converge. Consider increasing tolerance or the maximum number of iterations.\n",
      "  ConvergenceWarning)\n"
     ]
    },
    {
     "name": "stdout",
     "output_type": "stream",
     "text": [
      "[CV]  NN__alpha=0.01, NN__hidden_layer_sizes=(25,), score=0.09999999999999998, total=   0.3s\n",
      "[CV] NN__alpha=0.01, NN__hidden_layer_sizes=(25,) ....................\n"
     ]
    },
    {
     "name": "stderr",
     "output_type": "stream",
     "text": [
      "/Users/frankz/anaconda3/lib/python3.7/site-packages/sklearn/decomposition/fastica_.py:121: ConvergenceWarning: FastICA did not converge. Consider increasing tolerance or the maximum number of iterations.\n",
      "  ConvergenceWarning)\n"
     ]
    },
    {
     "name": "stdout",
     "output_type": "stream",
     "text": [
      "[CV]  NN__alpha=0.01, NN__hidden_layer_sizes=(25,), score=0.10000000000000002, total=   0.3s\n",
      "[CV] NN__alpha=0.01, NN__hidden_layer_sizes=(25,) ....................\n"
     ]
    },
    {
     "name": "stderr",
     "output_type": "stream",
     "text": [
      "/Users/frankz/anaconda3/lib/python3.7/site-packages/sklearn/decomposition/fastica_.py:121: ConvergenceWarning: FastICA did not converge. Consider increasing tolerance or the maximum number of iterations.\n",
      "  ConvergenceWarning)\n"
     ]
    },
    {
     "name": "stdout",
     "output_type": "stream",
     "text": [
      "[CV]  NN__alpha=0.01, NN__hidden_layer_sizes=(25,), score=0.1, total=   0.3s\n",
      "[CV] NN__alpha=0.01, NN__hidden_layer_sizes=(25,) ....................\n"
     ]
    },
    {
     "name": "stderr",
     "output_type": "stream",
     "text": [
      "/Users/frankz/anaconda3/lib/python3.7/site-packages/sklearn/decomposition/fastica_.py:121: ConvergenceWarning: FastICA did not converge. Consider increasing tolerance or the maximum number of iterations.\n",
      "  ConvergenceWarning)\n"
     ]
    },
    {
     "name": "stdout",
     "output_type": "stream",
     "text": [
      "[CV]  NN__alpha=0.01, NN__hidden_layer_sizes=(25,), score=0.09999999999999998, total=   0.2s\n",
      "[CV] NN__alpha=0.01, NN__hidden_layer_sizes=(25,) ....................\n",
      "[CV]  NN__alpha=0.01, NN__hidden_layer_sizes=(25,), score=0.1, total=   0.2s\n",
      "[CV] NN__alpha=0.01, NN__hidden_layer_sizes=(25, 25) .................\n"
     ]
    },
    {
     "name": "stderr",
     "output_type": "stream",
     "text": [
      "/Users/frankz/anaconda3/lib/python3.7/site-packages/sklearn/decomposition/fastica_.py:121: ConvergenceWarning: FastICA did not converge. Consider increasing tolerance or the maximum number of iterations.\n",
      "  ConvergenceWarning)\n"
     ]
    },
    {
     "name": "stdout",
     "output_type": "stream",
     "text": [
      "[CV]  NN__alpha=0.01, NN__hidden_layer_sizes=(25, 25), score=0.38015384615384606, total=   0.4s\n",
      "[CV] NN__alpha=0.01, NN__hidden_layer_sizes=(25, 25) .................\n"
     ]
    },
    {
     "name": "stderr",
     "output_type": "stream",
     "text": [
      "/Users/frankz/anaconda3/lib/python3.7/site-packages/sklearn/decomposition/fastica_.py:121: ConvergenceWarning: FastICA did not converge. Consider increasing tolerance or the maximum number of iterations.\n",
      "  ConvergenceWarning)\n"
     ]
    },
    {
     "name": "stdout",
     "output_type": "stream",
     "text": [
      "[CV]  NN__alpha=0.01, NN__hidden_layer_sizes=(25, 25), score=0.1, total=   0.3s\n",
      "[CV] NN__alpha=0.01, NN__hidden_layer_sizes=(25, 25) .................\n"
     ]
    },
    {
     "name": "stderr",
     "output_type": "stream",
     "text": [
      "/Users/frankz/anaconda3/lib/python3.7/site-packages/sklearn/decomposition/fastica_.py:121: ConvergenceWarning: FastICA did not converge. Consider increasing tolerance or the maximum number of iterations.\n",
      "  ConvergenceWarning)\n"
     ]
    },
    {
     "name": "stdout",
     "output_type": "stream",
     "text": [
      "[CV]  NN__alpha=0.01, NN__hidden_layer_sizes=(25, 25), score=0.24, total=   0.3s\n",
      "[CV] NN__alpha=0.01, NN__hidden_layer_sizes=(25, 25) .................\n"
     ]
    },
    {
     "name": "stderr",
     "output_type": "stream",
     "text": [
      "/Users/frankz/anaconda3/lib/python3.7/site-packages/sklearn/decomposition/fastica_.py:121: ConvergenceWarning: FastICA did not converge. Consider increasing tolerance or the maximum number of iterations.\n",
      "  ConvergenceWarning)\n"
     ]
    },
    {
     "name": "stdout",
     "output_type": "stream",
     "text": [
      "[CV]  NN__alpha=0.01, NN__hidden_layer_sizes=(25, 25), score=0.09999999999999999, total=   0.2s\n",
      "[CV] NN__alpha=0.01, NN__hidden_layer_sizes=(25, 25) .................\n",
      "[CV]  NN__alpha=0.01, NN__hidden_layer_sizes=(25, 25), score=0.1, total=   0.2s\n",
      "[CV] NN__alpha=0.01, NN__hidden_layer_sizes=(100, 25, 100) ...........\n"
     ]
    },
    {
     "name": "stderr",
     "output_type": "stream",
     "text": [
      "/Users/frankz/anaconda3/lib/python3.7/site-packages/sklearn/decomposition/fastica_.py:121: ConvergenceWarning: FastICA did not converge. Consider increasing tolerance or the maximum number of iterations.\n",
      "  ConvergenceWarning)\n"
     ]
    },
    {
     "name": "stdout",
     "output_type": "stream",
     "text": [
      "[CV]  NN__alpha=0.01, NN__hidden_layer_sizes=(100, 25, 100), score=0.19276923076923072, total=   0.4s\n",
      "[CV] NN__alpha=0.01, NN__hidden_layer_sizes=(100, 25, 100) ...........\n"
     ]
    },
    {
     "name": "stderr",
     "output_type": "stream",
     "text": [
      "/Users/frankz/anaconda3/lib/python3.7/site-packages/sklearn/decomposition/fastica_.py:121: ConvergenceWarning: FastICA did not converge. Consider increasing tolerance or the maximum number of iterations.\n",
      "  ConvergenceWarning)\n"
     ]
    },
    {
     "name": "stdout",
     "output_type": "stream",
     "text": [
      "[CV]  NN__alpha=0.01, NN__hidden_layer_sizes=(100, 25, 100), score=0.6590769230769232, total=   1.2s\n",
      "[CV] NN__alpha=0.01, NN__hidden_layer_sizes=(100, 25, 100) ...........\n"
     ]
    },
    {
     "name": "stderr",
     "output_type": "stream",
     "text": [
      "/Users/frankz/anaconda3/lib/python3.7/site-packages/sklearn/decomposition/fastica_.py:121: ConvergenceWarning: FastICA did not converge. Consider increasing tolerance or the maximum number of iterations.\n",
      "  ConvergenceWarning)\n"
     ]
    },
    {
     "name": "stdout",
     "output_type": "stream",
     "text": [
      "[CV]  NN__alpha=0.01, NN__hidden_layer_sizes=(100, 25, 100), score=0.5466538461538462, total=   0.9s\n",
      "[CV] NN__alpha=0.01, NN__hidden_layer_sizes=(100, 25, 100) ...........\n"
     ]
    },
    {
     "name": "stderr",
     "output_type": "stream",
     "text": [
      "/Users/frankz/anaconda3/lib/python3.7/site-packages/sklearn/decomposition/fastica_.py:121: ConvergenceWarning: FastICA did not converge. Consider increasing tolerance or the maximum number of iterations.\n",
      "  ConvergenceWarning)\n"
     ]
    },
    {
     "name": "stdout",
     "output_type": "stream",
     "text": [
      "[CV]  NN__alpha=0.01, NN__hidden_layer_sizes=(100, 25, 100), score=0.19599999999999998, total=   0.4s\n",
      "[CV] NN__alpha=0.01, NN__hidden_layer_sizes=(100, 25, 100) ...........\n",
      "[CV]  NN__alpha=0.01, NN__hidden_layer_sizes=(100, 25, 100), score=0.7170000000000001, total=   1.4s\n",
      "[CV] NN__alpha=0.001, NN__hidden_layer_sizes=(50, 50) ................\n"
     ]
    },
    {
     "name": "stderr",
     "output_type": "stream",
     "text": [
      "/Users/frankz/anaconda3/lib/python3.7/site-packages/sklearn/decomposition/fastica_.py:121: ConvergenceWarning: FastICA did not converge. Consider increasing tolerance or the maximum number of iterations.\n",
      "  ConvergenceWarning)\n"
     ]
    },
    {
     "name": "stdout",
     "output_type": "stream",
     "text": [
      "[CV]  NN__alpha=0.001, NN__hidden_layer_sizes=(50, 50), score=0.4407692307692307, total=   0.5s\n",
      "[CV] NN__alpha=0.001, NN__hidden_layer_sizes=(50, 50) ................\n"
     ]
    },
    {
     "name": "stderr",
     "output_type": "stream",
     "text": [
      "/Users/frankz/anaconda3/lib/python3.7/site-packages/sklearn/decomposition/fastica_.py:121: ConvergenceWarning: FastICA did not converge. Consider increasing tolerance or the maximum number of iterations.\n",
      "  ConvergenceWarning)\n"
     ]
    },
    {
     "name": "stdout",
     "output_type": "stream",
     "text": [
      "[CV]  NN__alpha=0.001, NN__hidden_layer_sizes=(50, 50), score=0.4263076923076924, total=   0.5s\n",
      "[CV] NN__alpha=0.001, NN__hidden_layer_sizes=(50, 50) ................\n"
     ]
    },
    {
     "name": "stderr",
     "output_type": "stream",
     "text": [
      "/Users/frankz/anaconda3/lib/python3.7/site-packages/sklearn/decomposition/fastica_.py:121: ConvergenceWarning: FastICA did not converge. Consider increasing tolerance or the maximum number of iterations.\n",
      "  ConvergenceWarning)\n"
     ]
    },
    {
     "name": "stdout",
     "output_type": "stream",
     "text": [
      "[CV]  NN__alpha=0.001, NN__hidden_layer_sizes=(50, 50), score=0.44923076923076927, total=   0.5s\n",
      "[CV] NN__alpha=0.001, NN__hidden_layer_sizes=(50, 50) ................\n"
     ]
    },
    {
     "name": "stderr",
     "output_type": "stream",
     "text": [
      "/Users/frankz/anaconda3/lib/python3.7/site-packages/sklearn/decomposition/fastica_.py:121: ConvergenceWarning: FastICA did not converge. Consider increasing tolerance or the maximum number of iterations.\n",
      "  ConvergenceWarning)\n"
     ]
    },
    {
     "name": "stdout",
     "output_type": "stream",
     "text": [
      "[CV]  NN__alpha=0.001, NN__hidden_layer_sizes=(50, 50), score=0.31200000000000006, total=   0.5s\n",
      "[CV] NN__alpha=0.001, NN__hidden_layer_sizes=(50, 50) ................\n",
      "[CV]  NN__alpha=0.001, NN__hidden_layer_sizes=(50, 50), score=0.3275, total=   0.3s\n",
      "[CV] NN__alpha=0.001, NN__hidden_layer_sizes=(50,) ...................\n"
     ]
    },
    {
     "name": "stderr",
     "output_type": "stream",
     "text": [
      "/Users/frankz/anaconda3/lib/python3.7/site-packages/sklearn/decomposition/fastica_.py:121: ConvergenceWarning: FastICA did not converge. Consider increasing tolerance or the maximum number of iterations.\n",
      "  ConvergenceWarning)\n"
     ]
    },
    {
     "name": "stdout",
     "output_type": "stream",
     "text": [
      "[CV]  NN__alpha=0.001, NN__hidden_layer_sizes=(50,), score=0.09999999999999998, total=   0.3s\n",
      "[CV] NN__alpha=0.001, NN__hidden_layer_sizes=(50,) ...................\n"
     ]
    },
    {
     "name": "stderr",
     "output_type": "stream",
     "text": [
      "/Users/frankz/anaconda3/lib/python3.7/site-packages/sklearn/decomposition/fastica_.py:121: ConvergenceWarning: FastICA did not converge. Consider increasing tolerance or the maximum number of iterations.\n",
      "  ConvergenceWarning)\n"
     ]
    },
    {
     "name": "stdout",
     "output_type": "stream",
     "text": [
      "[CV]  NN__alpha=0.001, NN__hidden_layer_sizes=(50,), score=0.14230769230769233, total=   0.3s\n",
      "[CV] NN__alpha=0.001, NN__hidden_layer_sizes=(50,) ...................\n"
     ]
    },
    {
     "name": "stderr",
     "output_type": "stream",
     "text": [
      "/Users/frankz/anaconda3/lib/python3.7/site-packages/sklearn/decomposition/fastica_.py:121: ConvergenceWarning: FastICA did not converge. Consider increasing tolerance or the maximum number of iterations.\n",
      "  ConvergenceWarning)\n"
     ]
    },
    {
     "name": "stdout",
     "output_type": "stream",
     "text": [
      "[CV]  NN__alpha=0.001, NN__hidden_layer_sizes=(50,), score=0.288, total=   0.3s\n",
      "[CV] NN__alpha=0.001, NN__hidden_layer_sizes=(50,) ...................\n"
     ]
    },
    {
     "name": "stderr",
     "output_type": "stream",
     "text": [
      "/Users/frankz/anaconda3/lib/python3.7/site-packages/sklearn/decomposition/fastica_.py:121: ConvergenceWarning: FastICA did not converge. Consider increasing tolerance or the maximum number of iterations.\n",
      "  ConvergenceWarning)\n"
     ]
    },
    {
     "name": "stdout",
     "output_type": "stream",
     "text": [
      "[CV]  NN__alpha=0.001, NN__hidden_layer_sizes=(50,), score=0.47300000000000003, total=   0.4s\n",
      "[CV] NN__alpha=0.001, NN__hidden_layer_sizes=(50,) ...................\n",
      "[CV]  NN__alpha=0.001, NN__hidden_layer_sizes=(50,), score=0.44750000000000006, total=   0.3s\n",
      "[CV] NN__alpha=0.001, NN__hidden_layer_sizes=(25,) ...................\n"
     ]
    },
    {
     "name": "stderr",
     "output_type": "stream",
     "text": [
      "/Users/frankz/anaconda3/lib/python3.7/site-packages/sklearn/decomposition/fastica_.py:121: ConvergenceWarning: FastICA did not converge. Consider increasing tolerance or the maximum number of iterations.\n",
      "  ConvergenceWarning)\n"
     ]
    },
    {
     "name": "stdout",
     "output_type": "stream",
     "text": [
      "[CV]  NN__alpha=0.001, NN__hidden_layer_sizes=(25,), score=0.09999999999999998, total=   0.3s\n",
      "[CV] NN__alpha=0.001, NN__hidden_layer_sizes=(25,) ...................\n"
     ]
    },
    {
     "name": "stderr",
     "output_type": "stream",
     "text": [
      "/Users/frankz/anaconda3/lib/python3.7/site-packages/sklearn/decomposition/fastica_.py:121: ConvergenceWarning: FastICA did not converge. Consider increasing tolerance or the maximum number of iterations.\n",
      "  ConvergenceWarning)\n"
     ]
    },
    {
     "name": "stdout",
     "output_type": "stream",
     "text": [
      "[CV]  NN__alpha=0.001, NN__hidden_layer_sizes=(25,), score=0.10000000000000002, total=   0.3s\n",
      "[CV] NN__alpha=0.001, NN__hidden_layer_sizes=(25,) ...................\n"
     ]
    },
    {
     "name": "stderr",
     "output_type": "stream",
     "text": [
      "/Users/frankz/anaconda3/lib/python3.7/site-packages/sklearn/decomposition/fastica_.py:121: ConvergenceWarning: FastICA did not converge. Consider increasing tolerance or the maximum number of iterations.\n",
      "  ConvergenceWarning)\n"
     ]
    },
    {
     "name": "stdout",
     "output_type": "stream",
     "text": [
      "[CV]  NN__alpha=0.001, NN__hidden_layer_sizes=(25,), score=0.1, total=   0.3s\n",
      "[CV] NN__alpha=0.001, NN__hidden_layer_sizes=(25,) ...................\n"
     ]
    },
    {
     "name": "stderr",
     "output_type": "stream",
     "text": [
      "/Users/frankz/anaconda3/lib/python3.7/site-packages/sklearn/decomposition/fastica_.py:121: ConvergenceWarning: FastICA did not converge. Consider increasing tolerance or the maximum number of iterations.\n",
      "  ConvergenceWarning)\n"
     ]
    },
    {
     "name": "stdout",
     "output_type": "stream",
     "text": [
      "[CV]  NN__alpha=0.001, NN__hidden_layer_sizes=(25,), score=0.09999999999999998, total=   0.3s\n",
      "[CV] NN__alpha=0.001, NN__hidden_layer_sizes=(25,) ...................\n",
      "[CV]  NN__alpha=0.001, NN__hidden_layer_sizes=(25,), score=0.1, total=   0.2s\n",
      "[CV] NN__alpha=0.001, NN__hidden_layer_sizes=(25, 25) ................\n"
     ]
    },
    {
     "name": "stderr",
     "output_type": "stream",
     "text": [
      "/Users/frankz/anaconda3/lib/python3.7/site-packages/sklearn/decomposition/fastica_.py:121: ConvergenceWarning: FastICA did not converge. Consider increasing tolerance or the maximum number of iterations.\n",
      "  ConvergenceWarning)\n"
     ]
    },
    {
     "name": "stdout",
     "output_type": "stream",
     "text": [
      "[CV]  NN__alpha=0.001, NN__hidden_layer_sizes=(25, 25), score=0.36769230769230765, total=   0.4s\n",
      "[CV] NN__alpha=0.001, NN__hidden_layer_sizes=(25, 25) ................\n"
     ]
    },
    {
     "name": "stderr",
     "output_type": "stream",
     "text": [
      "/Users/frankz/anaconda3/lib/python3.7/site-packages/sklearn/decomposition/fastica_.py:121: ConvergenceWarning: FastICA did not converge. Consider increasing tolerance or the maximum number of iterations.\n",
      "  ConvergenceWarning)\n"
     ]
    },
    {
     "name": "stdout",
     "output_type": "stream",
     "text": [
      "[CV]  NN__alpha=0.001, NN__hidden_layer_sizes=(25, 25), score=0.1, total=   0.4s\n",
      "[CV] NN__alpha=0.001, NN__hidden_layer_sizes=(25, 25) ................\n"
     ]
    },
    {
     "name": "stderr",
     "output_type": "stream",
     "text": [
      "/Users/frankz/anaconda3/lib/python3.7/site-packages/sklearn/decomposition/fastica_.py:121: ConvergenceWarning: FastICA did not converge. Consider increasing tolerance or the maximum number of iterations.\n",
      "  ConvergenceWarning)\n"
     ]
    },
    {
     "name": "stdout",
     "output_type": "stream",
     "text": [
      "[CV]  NN__alpha=0.001, NN__hidden_layer_sizes=(25, 25), score=0.24, total=   0.4s\n",
      "[CV] NN__alpha=0.001, NN__hidden_layer_sizes=(25, 25) ................\n"
     ]
    },
    {
     "name": "stderr",
     "output_type": "stream",
     "text": [
      "/Users/frankz/anaconda3/lib/python3.7/site-packages/sklearn/decomposition/fastica_.py:121: ConvergenceWarning: FastICA did not converge. Consider increasing tolerance or the maximum number of iterations.\n",
      "  ConvergenceWarning)\n"
     ]
    },
    {
     "name": "stdout",
     "output_type": "stream",
     "text": [
      "[CV]  NN__alpha=0.001, NN__hidden_layer_sizes=(25, 25), score=0.09999999999999999, total=   0.3s\n",
      "[CV] NN__alpha=0.001, NN__hidden_layer_sizes=(25, 25) ................\n",
      "[CV]  NN__alpha=0.001, NN__hidden_layer_sizes=(25, 25), score=0.1, total=   0.2s\n",
      "[CV] NN__alpha=0.001, NN__hidden_layer_sizes=(100, 25, 100) ..........\n"
     ]
    },
    {
     "name": "stderr",
     "output_type": "stream",
     "text": [
      "/Users/frankz/anaconda3/lib/python3.7/site-packages/sklearn/decomposition/fastica_.py:121: ConvergenceWarning: FastICA did not converge. Consider increasing tolerance or the maximum number of iterations.\n",
      "  ConvergenceWarning)\n"
     ]
    },
    {
     "name": "stdout",
     "output_type": "stream",
     "text": [
      "[CV]  NN__alpha=0.001, NN__hidden_layer_sizes=(100, 25, 100), score=0.37523076923076915, total=   0.6s\n",
      "[CV] NN__alpha=0.001, NN__hidden_layer_sizes=(100, 25, 100) ..........\n"
     ]
    },
    {
     "name": "stderr",
     "output_type": "stream",
     "text": [
      "/Users/frankz/anaconda3/lib/python3.7/site-packages/sklearn/decomposition/fastica_.py:121: ConvergenceWarning: FastICA did not converge. Consider increasing tolerance or the maximum number of iterations.\n",
      "  ConvergenceWarning)\n"
     ]
    },
    {
     "name": "stdout",
     "output_type": "stream",
     "text": [
      "[CV]  NN__alpha=0.001, NN__hidden_layer_sizes=(100, 25, 100), score=0.6240000000000001, total=   1.0s\n",
      "[CV] NN__alpha=0.001, NN__hidden_layer_sizes=(100, 25, 100) ..........\n"
     ]
    },
    {
     "name": "stderr",
     "output_type": "stream",
     "text": [
      "/Users/frankz/anaconda3/lib/python3.7/site-packages/sklearn/decomposition/fastica_.py:121: ConvergenceWarning: FastICA did not converge. Consider increasing tolerance or the maximum number of iterations.\n",
      "  ConvergenceWarning)\n"
     ]
    },
    {
     "name": "stdout",
     "output_type": "stream",
     "text": [
      "[CV]  NN__alpha=0.001, NN__hidden_layer_sizes=(100, 25, 100), score=0.45, total=   0.7s\n",
      "[CV] NN__alpha=0.001, NN__hidden_layer_sizes=(100, 25, 100) ..........\n"
     ]
    },
    {
     "name": "stderr",
     "output_type": "stream",
     "text": [
      "/Users/frankz/anaconda3/lib/python3.7/site-packages/sklearn/decomposition/fastica_.py:121: ConvergenceWarning: FastICA did not converge. Consider increasing tolerance or the maximum number of iterations.\n",
      "  ConvergenceWarning)\n"
     ]
    },
    {
     "name": "stdout",
     "output_type": "stream",
     "text": [
      "[CV]  NN__alpha=0.001, NN__hidden_layer_sizes=(100, 25, 100), score=0.208, total=   0.4s\n",
      "[CV] NN__alpha=0.001, NN__hidden_layer_sizes=(100, 25, 100) ..........\n",
      "[CV]  NN__alpha=0.001, NN__hidden_layer_sizes=(100, 25, 100), score=0.6438333333333334, total=   1.2s\n",
      "[CV] NN__alpha=0.0001, NN__hidden_layer_sizes=(50, 50) ...............\n"
     ]
    },
    {
     "name": "stderr",
     "output_type": "stream",
     "text": [
      "/Users/frankz/anaconda3/lib/python3.7/site-packages/sklearn/decomposition/fastica_.py:121: ConvergenceWarning: FastICA did not converge. Consider increasing tolerance or the maximum number of iterations.\n",
      "  ConvergenceWarning)\n"
     ]
    },
    {
     "name": "stdout",
     "output_type": "stream",
     "text": [
      "[CV]  NN__alpha=0.0001, NN__hidden_layer_sizes=(50, 50), score=0.4407692307692307, total=   0.4s\n",
      "[CV] NN__alpha=0.0001, NN__hidden_layer_sizes=(50, 50) ...............\n"
     ]
    },
    {
     "name": "stderr",
     "output_type": "stream",
     "text": [
      "/Users/frankz/anaconda3/lib/python3.7/site-packages/sklearn/decomposition/fastica_.py:121: ConvergenceWarning: FastICA did not converge. Consider increasing tolerance or the maximum number of iterations.\n",
      "  ConvergenceWarning)\n"
     ]
    },
    {
     "name": "stdout",
     "output_type": "stream",
     "text": [
      "[CV]  NN__alpha=0.0001, NN__hidden_layer_sizes=(50, 50), score=0.18061538461538462, total=   0.3s\n",
      "[CV] NN__alpha=0.0001, NN__hidden_layer_sizes=(50, 50) ...............\n"
     ]
    },
    {
     "name": "stderr",
     "output_type": "stream",
     "text": [
      "/Users/frankz/anaconda3/lib/python3.7/site-packages/sklearn/decomposition/fastica_.py:121: ConvergenceWarning: FastICA did not converge. Consider increasing tolerance or the maximum number of iterations.\n",
      "  ConvergenceWarning)\n"
     ]
    },
    {
     "name": "stdout",
     "output_type": "stream",
     "text": [
      "[CV]  NN__alpha=0.0001, NN__hidden_layer_sizes=(50, 50), score=0.38661538461538464, total=   0.5s\n",
      "[CV] NN__alpha=0.0001, NN__hidden_layer_sizes=(50, 50) ...............\n"
     ]
    },
    {
     "name": "stderr",
     "output_type": "stream",
     "text": [
      "/Users/frankz/anaconda3/lib/python3.7/site-packages/sklearn/decomposition/fastica_.py:121: ConvergenceWarning: FastICA did not converge. Consider increasing tolerance or the maximum number of iterations.\n",
      "  ConvergenceWarning)\n"
     ]
    },
    {
     "name": "stdout",
     "output_type": "stream",
     "text": [
      "[CV]  NN__alpha=0.0001, NN__hidden_layer_sizes=(50, 50), score=0.316, total=   0.5s\n",
      "[CV] NN__alpha=0.0001, NN__hidden_layer_sizes=(50, 50) ...............\n",
      "[CV]  NN__alpha=0.0001, NN__hidden_layer_sizes=(50, 50), score=0.7400000000000001, total=   1.1s\n",
      "[CV] NN__alpha=0.0001, NN__hidden_layer_sizes=(50,) ..................\n"
     ]
    },
    {
     "name": "stderr",
     "output_type": "stream",
     "text": [
      "/Users/frankz/anaconda3/lib/python3.7/site-packages/sklearn/decomposition/fastica_.py:121: ConvergenceWarning: FastICA did not converge. Consider increasing tolerance or the maximum number of iterations.\n",
      "  ConvergenceWarning)\n"
     ]
    },
    {
     "name": "stdout",
     "output_type": "stream",
     "text": [
      "[CV]  NN__alpha=0.0001, NN__hidden_layer_sizes=(50,), score=0.09999999999999998, total=   0.3s\n",
      "[CV] NN__alpha=0.0001, NN__hidden_layer_sizes=(50,) ..................\n"
     ]
    },
    {
     "name": "stderr",
     "output_type": "stream",
     "text": [
      "/Users/frankz/anaconda3/lib/python3.7/site-packages/sklearn/decomposition/fastica_.py:121: ConvergenceWarning: FastICA did not converge. Consider increasing tolerance or the maximum number of iterations.\n",
      "  ConvergenceWarning)\n"
     ]
    },
    {
     "name": "stdout",
     "output_type": "stream",
     "text": [
      "[CV]  NN__alpha=0.0001, NN__hidden_layer_sizes=(50,), score=0.14230769230769233, total=   0.3s\n",
      "[CV] NN__alpha=0.0001, NN__hidden_layer_sizes=(50,) ..................\n"
     ]
    },
    {
     "name": "stderr",
     "output_type": "stream",
     "text": [
      "/Users/frankz/anaconda3/lib/python3.7/site-packages/sklearn/decomposition/fastica_.py:121: ConvergenceWarning: FastICA did not converge. Consider increasing tolerance or the maximum number of iterations.\n",
      "  ConvergenceWarning)\n"
     ]
    },
    {
     "name": "stdout",
     "output_type": "stream",
     "text": [
      "[CV]  NN__alpha=0.0001, NN__hidden_layer_sizes=(50,), score=0.288, total=   0.3s\n",
      "[CV] NN__alpha=0.0001, NN__hidden_layer_sizes=(50,) ..................\n"
     ]
    },
    {
     "name": "stderr",
     "output_type": "stream",
     "text": [
      "/Users/frankz/anaconda3/lib/python3.7/site-packages/sklearn/decomposition/fastica_.py:121: ConvergenceWarning: FastICA did not converge. Consider increasing tolerance or the maximum number of iterations.\n",
      "  ConvergenceWarning)\n"
     ]
    },
    {
     "name": "stdout",
     "output_type": "stream",
     "text": [
      "[CV]  NN__alpha=0.0001, NN__hidden_layer_sizes=(50,), score=0.4648333333333333, total=   0.5s\n",
      "[CV] NN__alpha=0.0001, NN__hidden_layer_sizes=(50,) ..................\n",
      "[CV]  NN__alpha=0.0001, NN__hidden_layer_sizes=(50,), score=0.47550000000000003, total=   0.4s\n",
      "[CV] NN__alpha=0.0001, NN__hidden_layer_sizes=(25,) ..................\n"
     ]
    },
    {
     "name": "stderr",
     "output_type": "stream",
     "text": [
      "/Users/frankz/anaconda3/lib/python3.7/site-packages/sklearn/decomposition/fastica_.py:121: ConvergenceWarning: FastICA did not converge. Consider increasing tolerance or the maximum number of iterations.\n",
      "  ConvergenceWarning)\n"
     ]
    },
    {
     "name": "stdout",
     "output_type": "stream",
     "text": [
      "[CV]  NN__alpha=0.0001, NN__hidden_layer_sizes=(25,), score=0.09999999999999998, total=   0.3s\n",
      "[CV] NN__alpha=0.0001, NN__hidden_layer_sizes=(25,) ..................\n"
     ]
    },
    {
     "name": "stderr",
     "output_type": "stream",
     "text": [
      "/Users/frankz/anaconda3/lib/python3.7/site-packages/sklearn/decomposition/fastica_.py:121: ConvergenceWarning: FastICA did not converge. Consider increasing tolerance or the maximum number of iterations.\n",
      "  ConvergenceWarning)\n"
     ]
    },
    {
     "name": "stdout",
     "output_type": "stream",
     "text": [
      "[CV]  NN__alpha=0.0001, NN__hidden_layer_sizes=(25,), score=0.10000000000000002, total=   0.3s\n",
      "[CV] NN__alpha=0.0001, NN__hidden_layer_sizes=(25,) ..................\n"
     ]
    },
    {
     "name": "stderr",
     "output_type": "stream",
     "text": [
      "/Users/frankz/anaconda3/lib/python3.7/site-packages/sklearn/decomposition/fastica_.py:121: ConvergenceWarning: FastICA did not converge. Consider increasing tolerance or the maximum number of iterations.\n",
      "  ConvergenceWarning)\n"
     ]
    },
    {
     "name": "stdout",
     "output_type": "stream",
     "text": [
      "[CV]  NN__alpha=0.0001, NN__hidden_layer_sizes=(25,), score=0.1, total=   0.3s\n",
      "[CV] NN__alpha=0.0001, NN__hidden_layer_sizes=(25,) ..................\n"
     ]
    },
    {
     "name": "stderr",
     "output_type": "stream",
     "text": [
      "/Users/frankz/anaconda3/lib/python3.7/site-packages/sklearn/decomposition/fastica_.py:121: ConvergenceWarning: FastICA did not converge. Consider increasing tolerance or the maximum number of iterations.\n",
      "  ConvergenceWarning)\n"
     ]
    },
    {
     "name": "stdout",
     "output_type": "stream",
     "text": [
      "[CV]  NN__alpha=0.0001, NN__hidden_layer_sizes=(25,), score=0.09999999999999998, total=   0.2s\n",
      "[CV] NN__alpha=0.0001, NN__hidden_layer_sizes=(25,) ..................\n",
      "[CV]  NN__alpha=0.0001, NN__hidden_layer_sizes=(25,), score=0.1, total=   0.2s\n",
      "[CV] NN__alpha=0.0001, NN__hidden_layer_sizes=(25, 25) ...............\n"
     ]
    },
    {
     "name": "stderr",
     "output_type": "stream",
     "text": [
      "/Users/frankz/anaconda3/lib/python3.7/site-packages/sklearn/decomposition/fastica_.py:121: ConvergenceWarning: FastICA did not converge. Consider increasing tolerance or the maximum number of iterations.\n",
      "  ConvergenceWarning)\n"
     ]
    },
    {
     "name": "stdout",
     "output_type": "stream",
     "text": [
      "[CV]  NN__alpha=0.0001, NN__hidden_layer_sizes=(25, 25), score=0.37169230769230766, total=   0.4s\n",
      "[CV] NN__alpha=0.0001, NN__hidden_layer_sizes=(25, 25) ...............\n"
     ]
    },
    {
     "name": "stderr",
     "output_type": "stream",
     "text": [
      "/Users/frankz/anaconda3/lib/python3.7/site-packages/sklearn/decomposition/fastica_.py:121: ConvergenceWarning: FastICA did not converge. Consider increasing tolerance or the maximum number of iterations.\n",
      "  ConvergenceWarning)\n"
     ]
    },
    {
     "name": "stdout",
     "output_type": "stream",
     "text": [
      "[CV]  NN__alpha=0.0001, NN__hidden_layer_sizes=(25, 25), score=0.1, total=   0.3s\n",
      "[CV] NN__alpha=0.0001, NN__hidden_layer_sizes=(25, 25) ...............\n"
     ]
    },
    {
     "name": "stderr",
     "output_type": "stream",
     "text": [
      "/Users/frankz/anaconda3/lib/python3.7/site-packages/sklearn/decomposition/fastica_.py:121: ConvergenceWarning: FastICA did not converge. Consider increasing tolerance or the maximum number of iterations.\n",
      "  ConvergenceWarning)\n"
     ]
    },
    {
     "name": "stdout",
     "output_type": "stream",
     "text": [
      "[CV]  NN__alpha=0.0001, NN__hidden_layer_sizes=(25, 25), score=0.24, total=   0.3s\n",
      "[CV] NN__alpha=0.0001, NN__hidden_layer_sizes=(25, 25) ...............\n"
     ]
    },
    {
     "name": "stderr",
     "output_type": "stream",
     "text": [
      "/Users/frankz/anaconda3/lib/python3.7/site-packages/sklearn/decomposition/fastica_.py:121: ConvergenceWarning: FastICA did not converge. Consider increasing tolerance or the maximum number of iterations.\n",
      "  ConvergenceWarning)\n"
     ]
    },
    {
     "name": "stdout",
     "output_type": "stream",
     "text": [
      "[CV]  NN__alpha=0.0001, NN__hidden_layer_sizes=(25, 25), score=0.09999999999999999, total=   0.3s\n",
      "[CV] NN__alpha=0.0001, NN__hidden_layer_sizes=(25, 25) ...............\n",
      "[CV]  NN__alpha=0.0001, NN__hidden_layer_sizes=(25, 25), score=0.1, total=   0.2s\n",
      "[CV] NN__alpha=0.0001, NN__hidden_layer_sizes=(100, 25, 100) .........\n"
     ]
    },
    {
     "name": "stderr",
     "output_type": "stream",
     "text": [
      "/Users/frankz/anaconda3/lib/python3.7/site-packages/sklearn/decomposition/fastica_.py:121: ConvergenceWarning: FastICA did not converge. Consider increasing tolerance or the maximum number of iterations.\n",
      "  ConvergenceWarning)\n"
     ]
    },
    {
     "name": "stdout",
     "output_type": "stream",
     "text": [
      "[CV]  NN__alpha=0.0001, NN__hidden_layer_sizes=(100, 25, 100), score=0.25399999999999995, total=   0.4s\n",
      "[CV] NN__alpha=0.0001, NN__hidden_layer_sizes=(100, 25, 100) .........\n"
     ]
    },
    {
     "name": "stderr",
     "output_type": "stream",
     "text": [
      "/Users/frankz/anaconda3/lib/python3.7/site-packages/sklearn/decomposition/fastica_.py:121: ConvergenceWarning: FastICA did not converge. Consider increasing tolerance or the maximum number of iterations.\n",
      "  ConvergenceWarning)\n"
     ]
    },
    {
     "name": "stdout",
     "output_type": "stream",
     "text": [
      "[CV]  NN__alpha=0.0001, NN__hidden_layer_sizes=(100, 25, 100), score=0.632, total=   1.4s\n",
      "[CV] NN__alpha=0.0001, NN__hidden_layer_sizes=(100, 25, 100) .........\n"
     ]
    },
    {
     "name": "stderr",
     "output_type": "stream",
     "text": [
      "/Users/frankz/anaconda3/lib/python3.7/site-packages/sklearn/decomposition/fastica_.py:121: ConvergenceWarning: FastICA did not converge. Consider increasing tolerance or the maximum number of iterations.\n",
      "  ConvergenceWarning)\n"
     ]
    },
    {
     "name": "stdout",
     "output_type": "stream",
     "text": [
      "[CV]  NN__alpha=0.0001, NN__hidden_layer_sizes=(100, 25, 100), score=0.5743461538461538, total=   1.1s\n",
      "[CV] NN__alpha=0.0001, NN__hidden_layer_sizes=(100, 25, 100) .........\n"
     ]
    },
    {
     "name": "stderr",
     "output_type": "stream",
     "text": [
      "/Users/frankz/anaconda3/lib/python3.7/site-packages/sklearn/decomposition/fastica_.py:121: ConvergenceWarning: FastICA did not converge. Consider increasing tolerance or the maximum number of iterations.\n",
      "  ConvergenceWarning)\n"
     ]
    },
    {
     "name": "stdout",
     "output_type": "stream",
     "text": [
      "[CV]  NN__alpha=0.0001, NN__hidden_layer_sizes=(100, 25, 100), score=0.212, total=   0.4s\n",
      "[CV] NN__alpha=0.0001, NN__hidden_layer_sizes=(100, 25, 100) .........\n",
      "[CV]  NN__alpha=0.0001, NN__hidden_layer_sizes=(100, 25, 100), score=0.6153333333333334, total=   1.0s\n"
     ]
    },
    {
     "name": "stderr",
     "output_type": "stream",
     "text": [
      "[Parallel(n_jobs=1)]: Done 100 out of 100 | elapsed:   42.9s finished\n",
      "/Users/frankz/anaconda3/lib/python3.7/site-packages/sklearn/model_selection/_search.py:841: DeprecationWarning: The default of the `iid` parameter will change from True to False in version 0.22 and will be removed in 0.24. This will change numeric results when test-set sizes are unequal.\n",
      "  DeprecationWarning)\n",
      "/Users/frankz/anaconda3/lib/python3.7/site-packages/sklearn/decomposition/fastica_.py:121: ConvergenceWarning: FastICA did not converge. Consider increasing tolerance or the maximum number of iterations.\n",
      "  ConvergenceWarning)\n",
      "/Users/frankz/anaconda3/lib/python3.7/site-packages/sklearn/decomposition/fastica_.py:121: ConvergenceWarning: FastICA did not converge. Consider increasing tolerance or the maximum number of iterations.\n",
      "  ConvergenceWarning)\n"
     ]
    }
   ],
   "source": [
    "pipe = Pipeline([('ica', ica), ('km', km), ('NN', mlp)])\n",
    "gs, best_estimator, final_estimator = gs_with_best_estimator(pipe, grid)"
   ]
  },
  {
   "cell_type": "code",
   "execution_count": 172,
   "metadata": {},
   "outputs": [
    {
     "data": {
      "text/plain": [
       "Pipeline(memory=None,\n",
       "     steps=[('ica', FastICA(algorithm='parallel', fun='logcosh', fun_args=None, max_iter=200,\n",
       "    n_components=13, random_state=7, tol=0.0001, w_init=None, whiten=True)), ('km', KMeans(algorithm='auto', copy_x=True, init='k-means++', max_iter=300,\n",
       "    n_clusters=10, n_init=10, n_jobs=None, precompute_dis...=True, solver='adam', tol=0.0001,\n",
       "       validation_fraction=0.1, verbose=False, warm_start=False))])"
      ]
     },
     "execution_count": 172,
     "metadata": {},
     "output_type": "execute_result"
    }
   ],
   "source": [
    "best_estimator"
   ]
  },
  {
   "cell_type": "code",
   "execution_count": 173,
   "metadata": {},
   "outputs": [
    {
     "data": {
      "text/plain": [
       "MLPClassifier(activation='relu', alpha=0.01, batch_size='auto', beta_1=0.9,\n",
       "       beta_2=0.999, early_stopping=True, epsilon=1e-08,\n",
       "       hidden_layer_sizes=(100, 25, 100), learning_rate='constant',\n",
       "       learning_rate_init=0.001, max_iter=2000, momentum=0.9,\n",
       "       n_iter_no_change=10, nesterovs_momentum=True, power_t=0.5,\n",
       "       random_state=7, shuffle=True, solver='adam', tol=0.0001,\n",
       "       validation_fraction=0.1, verbose=False, warm_start=False)"
      ]
     },
     "execution_count": 173,
     "metadata": {},
     "output_type": "execute_result"
    }
   ],
   "source": [
    "final_estimator"
   ]
  },
  {
   "cell_type": "code",
   "execution_count": 174,
   "metadata": {
    "scrolled": true
   },
   "outputs": [
    {
     "data": {
      "text/plain": [
       "0.10103420843277645"
      ]
     },
     "execution_count": 174,
     "metadata": {},
     "output_type": "execute_result"
    }
   ],
   "source": [
    "best_estimator.score(training_x, training_y)"
   ]
  },
  {
   "cell_type": "code",
   "execution_count": 175,
   "metadata": {
    "scrolled": true
   },
   "outputs": [
    {
     "data": {
      "text/plain": [
       "0.10185185185185185"
      ]
     },
     "execution_count": 175,
     "metadata": {},
     "output_type": "execute_result"
    }
   ],
   "source": [
    "best_estimator.score(testing_x, testing_y)"
   ]
  },
  {
   "cell_type": "code",
   "execution_count": 176,
   "metadata": {
    "scrolled": true
   },
   "outputs": [
    {
     "name": "stdout",
     "output_type": "stream",
     "text": [
      "Fitting 5 folds for each of 20 candidates, totalling 100 fits\n",
      "[CV] NN__alpha=0.1, NN__hidden_layer_sizes=(50, 50) ..................\n"
     ]
    },
    {
     "name": "stderr",
     "output_type": "stream",
     "text": [
      "[Parallel(n_jobs=1)]: Using backend SequentialBackend with 1 concurrent workers.\n",
      "/Users/frankz/anaconda3/lib/python3.7/site-packages/sklearn/decomposition/fastica_.py:121: ConvergenceWarning: FastICA did not converge. Consider increasing tolerance or the maximum number of iterations.\n",
      "  ConvergenceWarning)\n"
     ]
    },
    {
     "name": "stdout",
     "output_type": "stream",
     "text": [
      "[CV]  NN__alpha=0.1, NN__hidden_layer_sizes=(50, 50), score=0.621076923076923, total=   0.4s\n",
      "[CV] NN__alpha=0.1, NN__hidden_layer_sizes=(50, 50) ..................\n"
     ]
    },
    {
     "name": "stderr",
     "output_type": "stream",
     "text": [
      "[Parallel(n_jobs=1)]: Done   1 out of   1 | elapsed:    0.4s remaining:    0.0s\n",
      "/Users/frankz/anaconda3/lib/python3.7/site-packages/sklearn/decomposition/fastica_.py:121: ConvergenceWarning: FastICA did not converge. Consider increasing tolerance or the maximum number of iterations.\n",
      "  ConvergenceWarning)\n"
     ]
    },
    {
     "name": "stdout",
     "output_type": "stream",
     "text": [
      "[CV]  NN__alpha=0.1, NN__hidden_layer_sizes=(50, 50), score=0.6610769230769232, total=   0.4s\n",
      "[CV] NN__alpha=0.1, NN__hidden_layer_sizes=(50, 50) ..................\n"
     ]
    },
    {
     "name": "stderr",
     "output_type": "stream",
     "text": [
      "[Parallel(n_jobs=1)]: Done   2 out of   2 | elapsed:    0.8s remaining:    0.0s\n",
      "/Users/frankz/anaconda3/lib/python3.7/site-packages/sklearn/decomposition/fastica_.py:121: ConvergenceWarning: FastICA did not converge. Consider increasing tolerance or the maximum number of iterations.\n",
      "  ConvergenceWarning)\n"
     ]
    },
    {
     "name": "stdout",
     "output_type": "stream",
     "text": [
      "[CV]  NN__alpha=0.1, NN__hidden_layer_sizes=(50, 50), score=0.6450769230769231, total=   0.3s\n",
      "[CV] NN__alpha=0.1, NN__hidden_layer_sizes=(50, 50) ..................\n"
     ]
    },
    {
     "name": "stderr",
     "output_type": "stream",
     "text": [
      "[Parallel(n_jobs=1)]: Done   3 out of   3 | elapsed:    1.1s remaining:    0.0s\n",
      "/Users/frankz/anaconda3/lib/python3.7/site-packages/sklearn/decomposition/fastica_.py:121: ConvergenceWarning: FastICA did not converge. Consider increasing tolerance or the maximum number of iterations.\n",
      "  ConvergenceWarning)\n"
     ]
    },
    {
     "name": "stdout",
     "output_type": "stream",
     "text": [
      "[CV]  NN__alpha=0.1, NN__hidden_layer_sizes=(50, 50), score=0.6221666666666668, total=   0.5s\n",
      "[CV] NN__alpha=0.1, NN__hidden_layer_sizes=(50, 50) ..................\n"
     ]
    },
    {
     "name": "stderr",
     "output_type": "stream",
     "text": [
      "[Parallel(n_jobs=1)]: Done   4 out of   4 | elapsed:    1.6s remaining:    0.0s\n"
     ]
    },
    {
     "name": "stdout",
     "output_type": "stream",
     "text": [
      "[CV]  NN__alpha=0.1, NN__hidden_layer_sizes=(50, 50), score=0.6248333333333335, total=   0.3s\n",
      "[CV] NN__alpha=0.1, NN__hidden_layer_sizes=(50,) .....................\n"
     ]
    },
    {
     "name": "stderr",
     "output_type": "stream",
     "text": [
      "[Parallel(n_jobs=1)]: Done   5 out of   5 | elapsed:    1.8s remaining:    0.0s\n",
      "/Users/frankz/anaconda3/lib/python3.7/site-packages/sklearn/decomposition/fastica_.py:121: ConvergenceWarning: FastICA did not converge. Consider increasing tolerance or the maximum number of iterations.\n",
      "  ConvergenceWarning)\n"
     ]
    },
    {
     "name": "stdout",
     "output_type": "stream",
     "text": [
      "[CV]  NN__alpha=0.1, NN__hidden_layer_sizes=(50,), score=0.47261538461538455, total=   0.3s\n",
      "[CV] NN__alpha=0.1, NN__hidden_layer_sizes=(50,) .....................\n"
     ]
    },
    {
     "name": "stderr",
     "output_type": "stream",
     "text": [
      "[Parallel(n_jobs=1)]: Done   6 out of   6 | elapsed:    2.1s remaining:    0.0s\n",
      "/Users/frankz/anaconda3/lib/python3.7/site-packages/sklearn/decomposition/fastica_.py:121: ConvergenceWarning: FastICA did not converge. Consider increasing tolerance or the maximum number of iterations.\n",
      "  ConvergenceWarning)\n"
     ]
    },
    {
     "name": "stdout",
     "output_type": "stream",
     "text": [
      "[CV]  NN__alpha=0.1, NN__hidden_layer_sizes=(50,), score=0.6460000000000002, total=   0.2s\n",
      "[CV] NN__alpha=0.1, NN__hidden_layer_sizes=(50,) .....................\n"
     ]
    },
    {
     "name": "stderr",
     "output_type": "stream",
     "text": [
      "[Parallel(n_jobs=1)]: Done   7 out of   7 | elapsed:    2.4s remaining:    0.0s\n",
      "/Users/frankz/anaconda3/lib/python3.7/site-packages/sklearn/decomposition/fastica_.py:121: ConvergenceWarning: FastICA did not converge. Consider increasing tolerance or the maximum number of iterations.\n",
      "  ConvergenceWarning)\n"
     ]
    },
    {
     "name": "stdout",
     "output_type": "stream",
     "text": [
      "[CV]  NN__alpha=0.1, NN__hidden_layer_sizes=(50,), score=0.660923076923077, total=   0.3s\n",
      "[CV] NN__alpha=0.1, NN__hidden_layer_sizes=(50,) .....................\n"
     ]
    },
    {
     "name": "stderr",
     "output_type": "stream",
     "text": [
      "[Parallel(n_jobs=1)]: Done   8 out of   8 | elapsed:    2.6s remaining:    0.0s\n",
      "/Users/frankz/anaconda3/lib/python3.7/site-packages/sklearn/decomposition/fastica_.py:121: ConvergenceWarning: FastICA did not converge. Consider increasing tolerance or the maximum number of iterations.\n",
      "  ConvergenceWarning)\n"
     ]
    },
    {
     "name": "stdout",
     "output_type": "stream",
     "text": [
      "[CV]  NN__alpha=0.1, NN__hidden_layer_sizes=(50,), score=0.6043333333333333, total=   0.3s\n",
      "[CV] NN__alpha=0.1, NN__hidden_layer_sizes=(50,) .....................\n"
     ]
    },
    {
     "name": "stderr",
     "output_type": "stream",
     "text": [
      "[Parallel(n_jobs=1)]: Done   9 out of   9 | elapsed:    2.9s remaining:    0.0s\n"
     ]
    },
    {
     "name": "stdout",
     "output_type": "stream",
     "text": [
      "[CV]  NN__alpha=0.1, NN__hidden_layer_sizes=(50,), score=0.6370000000000001, total=   0.2s\n",
      "[CV] NN__alpha=0.1, NN__hidden_layer_sizes=(25,) .....................\n"
     ]
    },
    {
     "name": "stderr",
     "output_type": "stream",
     "text": [
      "/Users/frankz/anaconda3/lib/python3.7/site-packages/sklearn/decomposition/fastica_.py:121: ConvergenceWarning: FastICA did not converge. Consider increasing tolerance or the maximum number of iterations.\n",
      "  ConvergenceWarning)\n"
     ]
    },
    {
     "name": "stdout",
     "output_type": "stream",
     "text": [
      "[CV]  NN__alpha=0.1, NN__hidden_layer_sizes=(25,), score=0.565076923076923, total=   0.3s\n",
      "[CV] NN__alpha=0.1, NN__hidden_layer_sizes=(25,) .....................\n"
     ]
    },
    {
     "name": "stderr",
     "output_type": "stream",
     "text": [
      "/Users/frankz/anaconda3/lib/python3.7/site-packages/sklearn/decomposition/fastica_.py:121: ConvergenceWarning: FastICA did not converge. Consider increasing tolerance or the maximum number of iterations.\n",
      "  ConvergenceWarning)\n"
     ]
    },
    {
     "name": "stdout",
     "output_type": "stream",
     "text": [
      "[CV]  NN__alpha=0.1, NN__hidden_layer_sizes=(25,), score=0.6563076923076925, total=   0.3s\n",
      "[CV] NN__alpha=0.1, NN__hidden_layer_sizes=(25,) .....................\n"
     ]
    },
    {
     "name": "stderr",
     "output_type": "stream",
     "text": [
      "/Users/frankz/anaconda3/lib/python3.7/site-packages/sklearn/decomposition/fastica_.py:121: ConvergenceWarning: FastICA did not converge. Consider increasing tolerance or the maximum number of iterations.\n",
      "  ConvergenceWarning)\n"
     ]
    },
    {
     "name": "stdout",
     "output_type": "stream",
     "text": [
      "[CV]  NN__alpha=0.1, NN__hidden_layer_sizes=(25,), score=0.637576923076923, total=   0.3s\n",
      "[CV] NN__alpha=0.1, NN__hidden_layer_sizes=(25,) .....................\n"
     ]
    },
    {
     "name": "stderr",
     "output_type": "stream",
     "text": [
      "/Users/frankz/anaconda3/lib/python3.7/site-packages/sklearn/decomposition/fastica_.py:121: ConvergenceWarning: FastICA did not converge. Consider increasing tolerance or the maximum number of iterations.\n",
      "  ConvergenceWarning)\n"
     ]
    },
    {
     "name": "stdout",
     "output_type": "stream",
     "text": [
      "[CV]  NN__alpha=0.1, NN__hidden_layer_sizes=(25,), score=0.5903333333333333, total=   0.3s\n",
      "[CV] NN__alpha=0.1, NN__hidden_layer_sizes=(25,) .....................\n",
      "[CV]  NN__alpha=0.1, NN__hidden_layer_sizes=(25,), score=0.6171666666666669, total=   0.3s\n",
      "[CV] NN__alpha=0.1, NN__hidden_layer_sizes=(25, 25) ..................\n"
     ]
    },
    {
     "name": "stderr",
     "output_type": "stream",
     "text": [
      "/Users/frankz/anaconda3/lib/python3.7/site-packages/sklearn/decomposition/fastica_.py:121: ConvergenceWarning: FastICA did not converge. Consider increasing tolerance or the maximum number of iterations.\n",
      "  ConvergenceWarning)\n"
     ]
    },
    {
     "name": "stdout",
     "output_type": "stream",
     "text": [
      "[CV]  NN__alpha=0.1, NN__hidden_layer_sizes=(25, 25), score=0.5607692307692307, total=   0.4s\n",
      "[CV] NN__alpha=0.1, NN__hidden_layer_sizes=(25, 25) ..................\n"
     ]
    },
    {
     "name": "stderr",
     "output_type": "stream",
     "text": [
      "/Users/frankz/anaconda3/lib/python3.7/site-packages/sklearn/decomposition/fastica_.py:121: ConvergenceWarning: FastICA did not converge. Consider increasing tolerance or the maximum number of iterations.\n",
      "  ConvergenceWarning)\n"
     ]
    },
    {
     "name": "stdout",
     "output_type": "stream",
     "text": [
      "[CV]  NN__alpha=0.1, NN__hidden_layer_sizes=(25, 25), score=0.6770769230769232, total=   0.3s\n",
      "[CV] NN__alpha=0.1, NN__hidden_layer_sizes=(25, 25) ..................\n"
     ]
    },
    {
     "name": "stderr",
     "output_type": "stream",
     "text": [
      "/Users/frankz/anaconda3/lib/python3.7/site-packages/sklearn/decomposition/fastica_.py:121: ConvergenceWarning: FastICA did not converge. Consider increasing tolerance or the maximum number of iterations.\n",
      "  ConvergenceWarning)\n"
     ]
    },
    {
     "name": "stdout",
     "output_type": "stream",
     "text": [
      "[CV]  NN__alpha=0.1, NN__hidden_layer_sizes=(25, 25), score=0.6050769230769231, total=   0.3s\n",
      "[CV] NN__alpha=0.1, NN__hidden_layer_sizes=(25, 25) ..................\n"
     ]
    },
    {
     "name": "stderr",
     "output_type": "stream",
     "text": [
      "/Users/frankz/anaconda3/lib/python3.7/site-packages/sklearn/decomposition/fastica_.py:121: ConvergenceWarning: FastICA did not converge. Consider increasing tolerance or the maximum number of iterations.\n",
      "  ConvergenceWarning)\n"
     ]
    },
    {
     "name": "stdout",
     "output_type": "stream",
     "text": [
      "[CV]  NN__alpha=0.1, NN__hidden_layer_sizes=(25, 25), score=0.617, total=   0.3s\n",
      "[CV] NN__alpha=0.1, NN__hidden_layer_sizes=(25, 25) ..................\n",
      "[CV]  NN__alpha=0.1, NN__hidden_layer_sizes=(25, 25), score=0.5131666666666668, total=   0.2s\n",
      "[CV] NN__alpha=0.1, NN__hidden_layer_sizes=(100, 25, 100) ............\n"
     ]
    },
    {
     "name": "stderr",
     "output_type": "stream",
     "text": [
      "/Users/frankz/anaconda3/lib/python3.7/site-packages/sklearn/decomposition/fastica_.py:121: ConvergenceWarning: FastICA did not converge. Consider increasing tolerance or the maximum number of iterations.\n",
      "  ConvergenceWarning)\n"
     ]
    },
    {
     "name": "stdout",
     "output_type": "stream",
     "text": [
      "[CV]  NN__alpha=0.1, NN__hidden_layer_sizes=(100, 25, 100), score=0.6327692307692306, total=   0.5s\n",
      "[CV] NN__alpha=0.1, NN__hidden_layer_sizes=(100, 25, 100) ............\n"
     ]
    },
    {
     "name": "stderr",
     "output_type": "stream",
     "text": [
      "/Users/frankz/anaconda3/lib/python3.7/site-packages/sklearn/decomposition/fastica_.py:121: ConvergenceWarning: FastICA did not converge. Consider increasing tolerance or the maximum number of iterations.\n",
      "  ConvergenceWarning)\n"
     ]
    },
    {
     "name": "stdout",
     "output_type": "stream",
     "text": [
      "[CV]  NN__alpha=0.1, NN__hidden_layer_sizes=(100, 25, 100), score=0.6730769230769232, total=   0.5s\n",
      "[CV] NN__alpha=0.1, NN__hidden_layer_sizes=(100, 25, 100) ............\n"
     ]
    },
    {
     "name": "stderr",
     "output_type": "stream",
     "text": [
      "/Users/frankz/anaconda3/lib/python3.7/site-packages/sklearn/decomposition/fastica_.py:121: ConvergenceWarning: FastICA did not converge. Consider increasing tolerance or the maximum number of iterations.\n",
      "  ConvergenceWarning)\n"
     ]
    },
    {
     "name": "stdout",
     "output_type": "stream",
     "text": [
      "[CV]  NN__alpha=0.1, NN__hidden_layer_sizes=(100, 25, 100), score=0.6330769230769231, total=   0.5s\n",
      "[CV] NN__alpha=0.1, NN__hidden_layer_sizes=(100, 25, 100) ............\n"
     ]
    },
    {
     "name": "stderr",
     "output_type": "stream",
     "text": [
      "/Users/frankz/anaconda3/lib/python3.7/site-packages/sklearn/decomposition/fastica_.py:121: ConvergenceWarning: FastICA did not converge. Consider increasing tolerance or the maximum number of iterations.\n",
      "  ConvergenceWarning)\n"
     ]
    },
    {
     "name": "stdout",
     "output_type": "stream",
     "text": [
      "[CV]  NN__alpha=0.1, NN__hidden_layer_sizes=(100, 25, 100), score=0.6143333333333334, total=   0.7s\n",
      "[CV] NN__alpha=0.1, NN__hidden_layer_sizes=(100, 25, 100) ............\n",
      "[CV]  NN__alpha=0.1, NN__hidden_layer_sizes=(100, 25, 100), score=0.6130000000000001, total=   0.3s\n",
      "[CV] NN__alpha=0.01, NN__hidden_layer_sizes=(50, 50) .................\n"
     ]
    },
    {
     "name": "stderr",
     "output_type": "stream",
     "text": [
      "/Users/frankz/anaconda3/lib/python3.7/site-packages/sklearn/decomposition/fastica_.py:121: ConvergenceWarning: FastICA did not converge. Consider increasing tolerance or the maximum number of iterations.\n",
      "  ConvergenceWarning)\n"
     ]
    },
    {
     "name": "stdout",
     "output_type": "stream",
     "text": [
      "[CV]  NN__alpha=0.01, NN__hidden_layer_sizes=(50, 50), score=0.6018461538461538, total=   0.4s\n",
      "[CV] NN__alpha=0.01, NN__hidden_layer_sizes=(50, 50) .................\n"
     ]
    },
    {
     "name": "stderr",
     "output_type": "stream",
     "text": [
      "/Users/frankz/anaconda3/lib/python3.7/site-packages/sklearn/decomposition/fastica_.py:121: ConvergenceWarning: FastICA did not converge. Consider increasing tolerance or the maximum number of iterations.\n",
      "  ConvergenceWarning)\n"
     ]
    },
    {
     "name": "stdout",
     "output_type": "stream",
     "text": [
      "[CV]  NN__alpha=0.01, NN__hidden_layer_sizes=(50, 50), score=0.6649230769230771, total=   0.4s\n",
      "[CV] NN__alpha=0.01, NN__hidden_layer_sizes=(50, 50) .................\n"
     ]
    },
    {
     "name": "stderr",
     "output_type": "stream",
     "text": [
      "/Users/frankz/anaconda3/lib/python3.7/site-packages/sklearn/decomposition/fastica_.py:121: ConvergenceWarning: FastICA did not converge. Consider increasing tolerance or the maximum number of iterations.\n",
      "  ConvergenceWarning)\n"
     ]
    },
    {
     "name": "stdout",
     "output_type": "stream",
     "text": [
      "[CV]  NN__alpha=0.01, NN__hidden_layer_sizes=(50, 50), score=0.6290769230769231, total=   0.4s\n",
      "[CV] NN__alpha=0.01, NN__hidden_layer_sizes=(50, 50) .................\n"
     ]
    },
    {
     "name": "stderr",
     "output_type": "stream",
     "text": [
      "/Users/frankz/anaconda3/lib/python3.7/site-packages/sklearn/decomposition/fastica_.py:121: ConvergenceWarning: FastICA did not converge. Consider increasing tolerance or the maximum number of iterations.\n",
      "  ConvergenceWarning)\n"
     ]
    },
    {
     "name": "stdout",
     "output_type": "stream",
     "text": [
      "[CV]  NN__alpha=0.01, NN__hidden_layer_sizes=(50, 50), score=0.6143333333333334, total=   0.5s\n",
      "[CV] NN__alpha=0.01, NN__hidden_layer_sizes=(50, 50) .................\n",
      "[CV]  NN__alpha=0.01, NN__hidden_layer_sizes=(50, 50), score=0.6248333333333335, total=   0.3s\n",
      "[CV] NN__alpha=0.01, NN__hidden_layer_sizes=(50,) ....................\n"
     ]
    },
    {
     "name": "stderr",
     "output_type": "stream",
     "text": [
      "/Users/frankz/anaconda3/lib/python3.7/site-packages/sklearn/decomposition/fastica_.py:121: ConvergenceWarning: FastICA did not converge. Consider increasing tolerance or the maximum number of iterations.\n",
      "  ConvergenceWarning)\n"
     ]
    },
    {
     "name": "stdout",
     "output_type": "stream",
     "text": [
      "[CV]  NN__alpha=0.01, NN__hidden_layer_sizes=(50,), score=0.47261538461538455, total=   0.3s\n",
      "[CV] NN__alpha=0.01, NN__hidden_layer_sizes=(50,) ....................\n"
     ]
    },
    {
     "name": "stderr",
     "output_type": "stream",
     "text": [
      "/Users/frankz/anaconda3/lib/python3.7/site-packages/sklearn/decomposition/fastica_.py:121: ConvergenceWarning: FastICA did not converge. Consider increasing tolerance or the maximum number of iterations.\n",
      "  ConvergenceWarning)\n"
     ]
    },
    {
     "name": "stdout",
     "output_type": "stream",
     "text": [
      "[CV]  NN__alpha=0.01, NN__hidden_layer_sizes=(50,), score=0.6460000000000002, total=   0.3s\n",
      "[CV] NN__alpha=0.01, NN__hidden_layer_sizes=(50,) ....................\n"
     ]
    },
    {
     "name": "stderr",
     "output_type": "stream",
     "text": [
      "/Users/frankz/anaconda3/lib/python3.7/site-packages/sklearn/decomposition/fastica_.py:121: ConvergenceWarning: FastICA did not converge. Consider increasing tolerance or the maximum number of iterations.\n",
      "  ConvergenceWarning)\n"
     ]
    },
    {
     "name": "stdout",
     "output_type": "stream",
     "text": [
      "[CV]  NN__alpha=0.01, NN__hidden_layer_sizes=(50,), score=0.660923076923077, total=   0.3s\n",
      "[CV] NN__alpha=0.01, NN__hidden_layer_sizes=(50,) ....................\n"
     ]
    },
    {
     "name": "stderr",
     "output_type": "stream",
     "text": [
      "/Users/frankz/anaconda3/lib/python3.7/site-packages/sklearn/decomposition/fastica_.py:121: ConvergenceWarning: FastICA did not converge. Consider increasing tolerance or the maximum number of iterations.\n",
      "  ConvergenceWarning)\n"
     ]
    },
    {
     "name": "stdout",
     "output_type": "stream",
     "text": [
      "[CV]  NN__alpha=0.01, NN__hidden_layer_sizes=(50,), score=0.5959999999999999, total=   0.3s\n",
      "[CV] NN__alpha=0.01, NN__hidden_layer_sizes=(50,) ....................\n",
      "[CV]  NN__alpha=0.01, NN__hidden_layer_sizes=(50,), score=0.6370000000000001, total=   0.2s\n",
      "[CV] NN__alpha=0.01, NN__hidden_layer_sizes=(25,) ....................\n"
     ]
    },
    {
     "name": "stderr",
     "output_type": "stream",
     "text": [
      "/Users/frankz/anaconda3/lib/python3.7/site-packages/sklearn/decomposition/fastica_.py:121: ConvergenceWarning: FastICA did not converge. Consider increasing tolerance or the maximum number of iterations.\n",
      "  ConvergenceWarning)\n"
     ]
    },
    {
     "name": "stdout",
     "output_type": "stream",
     "text": [
      "[CV]  NN__alpha=0.01, NN__hidden_layer_sizes=(25,), score=0.565076923076923, total=   0.3s\n",
      "[CV] NN__alpha=0.01, NN__hidden_layer_sizes=(25,) ....................\n"
     ]
    },
    {
     "name": "stderr",
     "output_type": "stream",
     "text": [
      "/Users/frankz/anaconda3/lib/python3.7/site-packages/sklearn/decomposition/fastica_.py:121: ConvergenceWarning: FastICA did not converge. Consider increasing tolerance or the maximum number of iterations.\n",
      "  ConvergenceWarning)\n"
     ]
    },
    {
     "name": "stdout",
     "output_type": "stream",
     "text": [
      "[CV]  NN__alpha=0.01, NN__hidden_layer_sizes=(25,), score=0.6243076923076925, total=   0.3s\n",
      "[CV] NN__alpha=0.01, NN__hidden_layer_sizes=(25,) ....................\n"
     ]
    },
    {
     "name": "stderr",
     "output_type": "stream",
     "text": [
      "/Users/frankz/anaconda3/lib/python3.7/site-packages/sklearn/decomposition/fastica_.py:121: ConvergenceWarning: FastICA did not converge. Consider increasing tolerance or the maximum number of iterations.\n",
      "  ConvergenceWarning)\n"
     ]
    },
    {
     "name": "stdout",
     "output_type": "stream",
     "text": [
      "[CV]  NN__alpha=0.01, NN__hidden_layer_sizes=(25,), score=0.637576923076923, total=   0.3s\n",
      "[CV] NN__alpha=0.01, NN__hidden_layer_sizes=(25,) ....................\n"
     ]
    },
    {
     "name": "stderr",
     "output_type": "stream",
     "text": [
      "/Users/frankz/anaconda3/lib/python3.7/site-packages/sklearn/decomposition/fastica_.py:121: ConvergenceWarning: FastICA did not converge. Consider increasing tolerance or the maximum number of iterations.\n",
      "  ConvergenceWarning)\n"
     ]
    },
    {
     "name": "stdout",
     "output_type": "stream",
     "text": [
      "[CV]  NN__alpha=0.01, NN__hidden_layer_sizes=(25,), score=0.5903333333333333, total=   0.3s\n",
      "[CV] NN__alpha=0.01, NN__hidden_layer_sizes=(25,) ....................\n",
      "[CV]  NN__alpha=0.01, NN__hidden_layer_sizes=(25,), score=0.6171666666666669, total=   0.2s\n",
      "[CV] NN__alpha=0.01, NN__hidden_layer_sizes=(25, 25) .................\n"
     ]
    },
    {
     "name": "stderr",
     "output_type": "stream",
     "text": [
      "/Users/frankz/anaconda3/lib/python3.7/site-packages/sklearn/decomposition/fastica_.py:121: ConvergenceWarning: FastICA did not converge. Consider increasing tolerance or the maximum number of iterations.\n",
      "  ConvergenceWarning)\n"
     ]
    },
    {
     "name": "stdout",
     "output_type": "stream",
     "text": [
      "[CV]  NN__alpha=0.01, NN__hidden_layer_sizes=(25, 25), score=0.5607692307692307, total=   0.4s\n",
      "[CV] NN__alpha=0.01, NN__hidden_layer_sizes=(25, 25) .................\n"
     ]
    },
    {
     "name": "stderr",
     "output_type": "stream",
     "text": [
      "/Users/frankz/anaconda3/lib/python3.7/site-packages/sklearn/decomposition/fastica_.py:121: ConvergenceWarning: FastICA did not converge. Consider increasing tolerance or the maximum number of iterations.\n",
      "  ConvergenceWarning)\n"
     ]
    },
    {
     "name": "stdout",
     "output_type": "stream",
     "text": [
      "[CV]  NN__alpha=0.01, NN__hidden_layer_sizes=(25, 25), score=0.6770769230769232, total=   0.3s\n",
      "[CV] NN__alpha=0.01, NN__hidden_layer_sizes=(25, 25) .................\n"
     ]
    },
    {
     "name": "stderr",
     "output_type": "stream",
     "text": [
      "/Users/frankz/anaconda3/lib/python3.7/site-packages/sklearn/decomposition/fastica_.py:121: ConvergenceWarning: FastICA did not converge. Consider increasing tolerance or the maximum number of iterations.\n",
      "  ConvergenceWarning)\n"
     ]
    },
    {
     "name": "stdout",
     "output_type": "stream",
     "text": [
      "[CV]  NN__alpha=0.01, NN__hidden_layer_sizes=(25, 25), score=0.6092435897435897, total=   0.3s\n",
      "[CV] NN__alpha=0.01, NN__hidden_layer_sizes=(25, 25) .................\n"
     ]
    },
    {
     "name": "stderr",
     "output_type": "stream",
     "text": [
      "/Users/frankz/anaconda3/lib/python3.7/site-packages/sklearn/decomposition/fastica_.py:121: ConvergenceWarning: FastICA did not converge. Consider increasing tolerance or the maximum number of iterations.\n",
      "  ConvergenceWarning)\n"
     ]
    },
    {
     "name": "stdout",
     "output_type": "stream",
     "text": [
      "[CV]  NN__alpha=0.01, NN__hidden_layer_sizes=(25, 25), score=0.6128333333333333, total=   0.3s\n",
      "[CV] NN__alpha=0.01, NN__hidden_layer_sizes=(25, 25) .................\n",
      "[CV]  NN__alpha=0.01, NN__hidden_layer_sizes=(25, 25), score=0.5171666666666668, total=   0.2s\n",
      "[CV] NN__alpha=0.01, NN__hidden_layer_sizes=(100, 25, 100) ...........\n"
     ]
    },
    {
     "name": "stderr",
     "output_type": "stream",
     "text": [
      "/Users/frankz/anaconda3/lib/python3.7/site-packages/sklearn/decomposition/fastica_.py:121: ConvergenceWarning: FastICA did not converge. Consider increasing tolerance or the maximum number of iterations.\n",
      "  ConvergenceWarning)\n"
     ]
    },
    {
     "name": "stdout",
     "output_type": "stream",
     "text": [
      "[CV]  NN__alpha=0.01, NN__hidden_layer_sizes=(100, 25, 100), score=0.6404615384615383, total=   0.5s\n",
      "[CV] NN__alpha=0.01, NN__hidden_layer_sizes=(100, 25, 100) ...........\n"
     ]
    },
    {
     "name": "stderr",
     "output_type": "stream",
     "text": [
      "/Users/frankz/anaconda3/lib/python3.7/site-packages/sklearn/decomposition/fastica_.py:121: ConvergenceWarning: FastICA did not converge. Consider increasing tolerance or the maximum number of iterations.\n",
      "  ConvergenceWarning)\n"
     ]
    },
    {
     "name": "stdout",
     "output_type": "stream",
     "text": [
      "[CV]  NN__alpha=0.01, NN__hidden_layer_sizes=(100, 25, 100), score=0.6770769230769232, total=   0.4s\n",
      "[CV] NN__alpha=0.01, NN__hidden_layer_sizes=(100, 25, 100) ...........\n"
     ]
    },
    {
     "name": "stderr",
     "output_type": "stream",
     "text": [
      "/Users/frankz/anaconda3/lib/python3.7/site-packages/sklearn/decomposition/fastica_.py:121: ConvergenceWarning: FastICA did not converge. Consider increasing tolerance or the maximum number of iterations.\n",
      "  ConvergenceWarning)\n"
     ]
    },
    {
     "name": "stdout",
     "output_type": "stream",
     "text": [
      "[CV]  NN__alpha=0.01, NN__hidden_layer_sizes=(100, 25, 100), score=0.6574102564102563, total=   0.6s\n",
      "[CV] NN__alpha=0.01, NN__hidden_layer_sizes=(100, 25, 100) ...........\n"
     ]
    },
    {
     "name": "stderr",
     "output_type": "stream",
     "text": [
      "/Users/frankz/anaconda3/lib/python3.7/site-packages/sklearn/decomposition/fastica_.py:121: ConvergenceWarning: FastICA did not converge. Consider increasing tolerance or the maximum number of iterations.\n",
      "  ConvergenceWarning)\n"
     ]
    },
    {
     "name": "stdout",
     "output_type": "stream",
     "text": [
      "[CV]  NN__alpha=0.01, NN__hidden_layer_sizes=(100, 25, 100), score=0.6183333333333334, total=   0.6s\n",
      "[CV] NN__alpha=0.01, NN__hidden_layer_sizes=(100, 25, 100) ...........\n",
      "[CV]  NN__alpha=0.01, NN__hidden_layer_sizes=(100, 25, 100), score=0.6130000000000001, total=   0.3s\n",
      "[CV] NN__alpha=0.001, NN__hidden_layer_sizes=(50, 50) ................\n"
     ]
    },
    {
     "name": "stderr",
     "output_type": "stream",
     "text": [
      "/Users/frankz/anaconda3/lib/python3.7/site-packages/sklearn/decomposition/fastica_.py:121: ConvergenceWarning: FastICA did not converge. Consider increasing tolerance or the maximum number of iterations.\n",
      "  ConvergenceWarning)\n"
     ]
    },
    {
     "name": "stdout",
     "output_type": "stream",
     "text": [
      "[CV]  NN__alpha=0.001, NN__hidden_layer_sizes=(50, 50), score=0.6018461538461538, total=   0.4s\n",
      "[CV] NN__alpha=0.001, NN__hidden_layer_sizes=(50, 50) ................\n"
     ]
    },
    {
     "name": "stderr",
     "output_type": "stream",
     "text": [
      "/Users/frankz/anaconda3/lib/python3.7/site-packages/sklearn/decomposition/fastica_.py:121: ConvergenceWarning: FastICA did not converge. Consider increasing tolerance or the maximum number of iterations.\n",
      "  ConvergenceWarning)\n"
     ]
    },
    {
     "name": "stdout",
     "output_type": "stream",
     "text": [
      "[CV]  NN__alpha=0.001, NN__hidden_layer_sizes=(50, 50), score=0.6256923076923079, total=   0.3s\n",
      "[CV] NN__alpha=0.001, NN__hidden_layer_sizes=(50, 50) ................\n"
     ]
    },
    {
     "name": "stderr",
     "output_type": "stream",
     "text": [
      "/Users/frankz/anaconda3/lib/python3.7/site-packages/sklearn/decomposition/fastica_.py:121: ConvergenceWarning: FastICA did not converge. Consider increasing tolerance or the maximum number of iterations.\n",
      "  ConvergenceWarning)\n"
     ]
    },
    {
     "name": "stdout",
     "output_type": "stream",
     "text": [
      "[CV]  NN__alpha=0.001, NN__hidden_layer_sizes=(50, 50), score=0.6290769230769231, total=   0.3s\n",
      "[CV] NN__alpha=0.001, NN__hidden_layer_sizes=(50, 50) ................\n"
     ]
    },
    {
     "name": "stderr",
     "output_type": "stream",
     "text": [
      "/Users/frankz/anaconda3/lib/python3.7/site-packages/sklearn/decomposition/fastica_.py:121: ConvergenceWarning: FastICA did not converge. Consider increasing tolerance or the maximum number of iterations.\n",
      "  ConvergenceWarning)\n"
     ]
    },
    {
     "name": "stdout",
     "output_type": "stream",
     "text": [
      "[CV]  NN__alpha=0.001, NN__hidden_layer_sizes=(50, 50), score=0.6183333333333334, total=   0.5s\n",
      "[CV] NN__alpha=0.001, NN__hidden_layer_sizes=(50, 50) ................\n",
      "[CV]  NN__alpha=0.001, NN__hidden_layer_sizes=(50, 50), score=0.6288333333333335, total=   0.3s\n",
      "[CV] NN__alpha=0.001, NN__hidden_layer_sizes=(50,) ...................\n"
     ]
    },
    {
     "name": "stderr",
     "output_type": "stream",
     "text": [
      "/Users/frankz/anaconda3/lib/python3.7/site-packages/sklearn/decomposition/fastica_.py:121: ConvergenceWarning: FastICA did not converge. Consider increasing tolerance or the maximum number of iterations.\n",
      "  ConvergenceWarning)\n"
     ]
    },
    {
     "name": "stdout",
     "output_type": "stream",
     "text": [
      "[CV]  NN__alpha=0.001, NN__hidden_layer_sizes=(50,), score=0.47261538461538455, total=   0.3s\n",
      "[CV] NN__alpha=0.001, NN__hidden_layer_sizes=(50,) ...................\n"
     ]
    },
    {
     "name": "stderr",
     "output_type": "stream",
     "text": [
      "/Users/frankz/anaconda3/lib/python3.7/site-packages/sklearn/decomposition/fastica_.py:121: ConvergenceWarning: FastICA did not converge. Consider increasing tolerance or the maximum number of iterations.\n",
      "  ConvergenceWarning)\n"
     ]
    },
    {
     "name": "stdout",
     "output_type": "stream",
     "text": [
      "[CV]  NN__alpha=0.001, NN__hidden_layer_sizes=(50,), score=0.6460000000000002, total=   0.3s\n",
      "[CV] NN__alpha=0.001, NN__hidden_layer_sizes=(50,) ...................\n"
     ]
    },
    {
     "name": "stderr",
     "output_type": "stream",
     "text": [
      "/Users/frankz/anaconda3/lib/python3.7/site-packages/sklearn/decomposition/fastica_.py:121: ConvergenceWarning: FastICA did not converge. Consider increasing tolerance or the maximum number of iterations.\n",
      "  ConvergenceWarning)\n"
     ]
    },
    {
     "name": "stdout",
     "output_type": "stream",
     "text": [
      "[CV]  NN__alpha=0.001, NN__hidden_layer_sizes=(50,), score=0.660923076923077, total=   0.3s\n",
      "[CV] NN__alpha=0.001, NN__hidden_layer_sizes=(50,) ...................\n"
     ]
    },
    {
     "name": "stderr",
     "output_type": "stream",
     "text": [
      "/Users/frankz/anaconda3/lib/python3.7/site-packages/sklearn/decomposition/fastica_.py:121: ConvergenceWarning: FastICA did not converge. Consider increasing tolerance or the maximum number of iterations.\n",
      "  ConvergenceWarning)\n"
     ]
    },
    {
     "name": "stdout",
     "output_type": "stream",
     "text": [
      "[CV]  NN__alpha=0.001, NN__hidden_layer_sizes=(50,), score=0.5959999999999999, total=   0.3s\n",
      "[CV] NN__alpha=0.001, NN__hidden_layer_sizes=(50,) ...................\n",
      "[CV]  NN__alpha=0.001, NN__hidden_layer_sizes=(50,), score=0.6370000000000001, total=   0.2s\n",
      "[CV] NN__alpha=0.001, NN__hidden_layer_sizes=(25,) ...................\n"
     ]
    },
    {
     "name": "stderr",
     "output_type": "stream",
     "text": [
      "/Users/frankz/anaconda3/lib/python3.7/site-packages/sklearn/decomposition/fastica_.py:121: ConvergenceWarning: FastICA did not converge. Consider increasing tolerance or the maximum number of iterations.\n",
      "  ConvergenceWarning)\n"
     ]
    },
    {
     "name": "stdout",
     "output_type": "stream",
     "text": [
      "[CV]  NN__alpha=0.001, NN__hidden_layer_sizes=(25,), score=0.561076923076923, total=   0.4s\n",
      "[CV] NN__alpha=0.001, NN__hidden_layer_sizes=(25,) ...................\n"
     ]
    },
    {
     "name": "stderr",
     "output_type": "stream",
     "text": [
      "/Users/frankz/anaconda3/lib/python3.7/site-packages/sklearn/decomposition/fastica_.py:121: ConvergenceWarning: FastICA did not converge. Consider increasing tolerance or the maximum number of iterations.\n",
      "  ConvergenceWarning)\n"
     ]
    },
    {
     "name": "stdout",
     "output_type": "stream",
     "text": [
      "[CV]  NN__alpha=0.001, NN__hidden_layer_sizes=(25,), score=0.6563076923076925, total=   0.3s\n",
      "[CV] NN__alpha=0.001, NN__hidden_layer_sizes=(25,) ...................\n"
     ]
    },
    {
     "name": "stderr",
     "output_type": "stream",
     "text": [
      "/Users/frankz/anaconda3/lib/python3.7/site-packages/sklearn/decomposition/fastica_.py:121: ConvergenceWarning: FastICA did not converge. Consider increasing tolerance or the maximum number of iterations.\n",
      "  ConvergenceWarning)\n"
     ]
    },
    {
     "name": "stdout",
     "output_type": "stream",
     "text": [
      "[CV]  NN__alpha=0.001, NN__hidden_layer_sizes=(25,), score=0.637576923076923, total=   0.4s\n",
      "[CV] NN__alpha=0.001, NN__hidden_layer_sizes=(25,) ...................\n"
     ]
    },
    {
     "name": "stderr",
     "output_type": "stream",
     "text": [
      "/Users/frankz/anaconda3/lib/python3.7/site-packages/sklearn/decomposition/fastica_.py:121: ConvergenceWarning: FastICA did not converge. Consider increasing tolerance or the maximum number of iterations.\n",
      "  ConvergenceWarning)\n"
     ]
    },
    {
     "name": "stdout",
     "output_type": "stream",
     "text": [
      "[CV]  NN__alpha=0.001, NN__hidden_layer_sizes=(25,), score=0.5943333333333334, total=   0.4s\n",
      "[CV] NN__alpha=0.001, NN__hidden_layer_sizes=(25,) ...................\n",
      "[CV]  NN__alpha=0.001, NN__hidden_layer_sizes=(25,), score=0.6130000000000001, total=   0.2s\n",
      "[CV] NN__alpha=0.001, NN__hidden_layer_sizes=(25, 25) ................\n"
     ]
    },
    {
     "name": "stderr",
     "output_type": "stream",
     "text": [
      "/Users/frankz/anaconda3/lib/python3.7/site-packages/sklearn/decomposition/fastica_.py:121: ConvergenceWarning: FastICA did not converge. Consider increasing tolerance or the maximum number of iterations.\n",
      "  ConvergenceWarning)\n"
     ]
    },
    {
     "name": "stdout",
     "output_type": "stream",
     "text": [
      "[CV]  NN__alpha=0.001, NN__hidden_layer_sizes=(25, 25), score=0.6329230769230768, total=   0.4s\n",
      "[CV] NN__alpha=0.001, NN__hidden_layer_sizes=(25, 25) ................\n"
     ]
    },
    {
     "name": "stderr",
     "output_type": "stream",
     "text": [
      "/Users/frankz/anaconda3/lib/python3.7/site-packages/sklearn/decomposition/fastica_.py:121: ConvergenceWarning: FastICA did not converge. Consider increasing tolerance or the maximum number of iterations.\n",
      "  ConvergenceWarning)\n"
     ]
    },
    {
     "name": "stdout",
     "output_type": "stream",
     "text": [
      "[CV]  NN__alpha=0.001, NN__hidden_layer_sizes=(25, 25), score=0.6770769230769232, total=   0.3s\n",
      "[CV] NN__alpha=0.001, NN__hidden_layer_sizes=(25, 25) ................\n"
     ]
    },
    {
     "name": "stderr",
     "output_type": "stream",
     "text": [
      "/Users/frankz/anaconda3/lib/python3.7/site-packages/sklearn/decomposition/fastica_.py:121: ConvergenceWarning: FastICA did not converge. Consider increasing tolerance or the maximum number of iterations.\n",
      "  ConvergenceWarning)\n"
     ]
    },
    {
     "name": "stdout",
     "output_type": "stream",
     "text": [
      "[CV]  NN__alpha=0.001, NN__hidden_layer_sizes=(25, 25), score=0.6092435897435897, total=   0.3s\n",
      "[CV] NN__alpha=0.001, NN__hidden_layer_sizes=(25, 25) ................\n"
     ]
    },
    {
     "name": "stderr",
     "output_type": "stream",
     "text": [
      "/Users/frankz/anaconda3/lib/python3.7/site-packages/sklearn/decomposition/fastica_.py:121: ConvergenceWarning: FastICA did not converge. Consider increasing tolerance or the maximum number of iterations.\n",
      "  ConvergenceWarning)\n"
     ]
    },
    {
     "name": "stdout",
     "output_type": "stream",
     "text": [
      "[CV]  NN__alpha=0.001, NN__hidden_layer_sizes=(25, 25), score=0.617, total=   0.3s\n",
      "[CV] NN__alpha=0.001, NN__hidden_layer_sizes=(25, 25) ................\n",
      "[CV]  NN__alpha=0.001, NN__hidden_layer_sizes=(25, 25), score=0.5171666666666668, total=   0.2s\n",
      "[CV] NN__alpha=0.001, NN__hidden_layer_sizes=(100, 25, 100) ..........\n"
     ]
    },
    {
     "name": "stderr",
     "output_type": "stream",
     "text": [
      "/Users/frankz/anaconda3/lib/python3.7/site-packages/sklearn/decomposition/fastica_.py:121: ConvergenceWarning: FastICA did not converge. Consider increasing tolerance or the maximum number of iterations.\n",
      "  ConvergenceWarning)\n"
     ]
    },
    {
     "name": "stdout",
     "output_type": "stream",
     "text": [
      "[CV]  NN__alpha=0.001, NN__hidden_layer_sizes=(100, 25, 100), score=0.6327692307692306, total=   0.6s\n",
      "[CV] NN__alpha=0.001, NN__hidden_layer_sizes=(100, 25, 100) ..........\n"
     ]
    },
    {
     "name": "stderr",
     "output_type": "stream",
     "text": [
      "/Users/frankz/anaconda3/lib/python3.7/site-packages/sklearn/decomposition/fastica_.py:121: ConvergenceWarning: FastICA did not converge. Consider increasing tolerance or the maximum number of iterations.\n",
      "  ConvergenceWarning)\n"
     ]
    },
    {
     "name": "stdout",
     "output_type": "stream",
     "text": [
      "[CV]  NN__alpha=0.001, NN__hidden_layer_sizes=(100, 25, 100), score=0.6770769230769232, total=   0.4s\n",
      "[CV] NN__alpha=0.001, NN__hidden_layer_sizes=(100, 25, 100) ..........\n"
     ]
    },
    {
     "name": "stderr",
     "output_type": "stream",
     "text": [
      "/Users/frankz/anaconda3/lib/python3.7/site-packages/sklearn/decomposition/fastica_.py:121: ConvergenceWarning: FastICA did not converge. Consider increasing tolerance or the maximum number of iterations.\n",
      "  ConvergenceWarning)\n"
     ]
    },
    {
     "name": "stdout",
     "output_type": "stream",
     "text": [
      "[CV]  NN__alpha=0.001, NN__hidden_layer_sizes=(100, 25, 100), score=0.6574102564102563, total=   0.7s\n",
      "[CV] NN__alpha=0.001, NN__hidden_layer_sizes=(100, 25, 100) ..........\n"
     ]
    },
    {
     "name": "stderr",
     "output_type": "stream",
     "text": [
      "/Users/frankz/anaconda3/lib/python3.7/site-packages/sklearn/decomposition/fastica_.py:121: ConvergenceWarning: FastICA did not converge. Consider increasing tolerance or the maximum number of iterations.\n",
      "  ConvergenceWarning)\n"
     ]
    },
    {
     "name": "stdout",
     "output_type": "stream",
     "text": [
      "[CV]  NN__alpha=0.001, NN__hidden_layer_sizes=(100, 25, 100), score=0.6223333333333333, total=   0.7s\n",
      "[CV] NN__alpha=0.001, NN__hidden_layer_sizes=(100, 25, 100) ..........\n",
      "[CV]  NN__alpha=0.001, NN__hidden_layer_sizes=(100, 25, 100), score=0.6130000000000001, total=   0.3s\n",
      "[CV] NN__alpha=0.0001, NN__hidden_layer_sizes=(50, 50) ...............\n"
     ]
    },
    {
     "name": "stderr",
     "output_type": "stream",
     "text": [
      "/Users/frankz/anaconda3/lib/python3.7/site-packages/sklearn/decomposition/fastica_.py:121: ConvergenceWarning: FastICA did not converge. Consider increasing tolerance or the maximum number of iterations.\n",
      "  ConvergenceWarning)\n"
     ]
    },
    {
     "name": "stdout",
     "output_type": "stream",
     "text": [
      "[CV]  NN__alpha=0.0001, NN__hidden_layer_sizes=(50, 50), score=0.6133846153846153, total=   0.4s\n",
      "[CV] NN__alpha=0.0001, NN__hidden_layer_sizes=(50, 50) ...............\n"
     ]
    },
    {
     "name": "stderr",
     "output_type": "stream",
     "text": [
      "/Users/frankz/anaconda3/lib/python3.7/site-packages/sklearn/decomposition/fastica_.py:121: ConvergenceWarning: FastICA did not converge. Consider increasing tolerance or the maximum number of iterations.\n",
      "  ConvergenceWarning)\n"
     ]
    },
    {
     "name": "stdout",
     "output_type": "stream",
     "text": [
      "[CV]  NN__alpha=0.0001, NN__hidden_layer_sizes=(50, 50), score=0.6256923076923079, total=   0.3s\n",
      "[CV] NN__alpha=0.0001, NN__hidden_layer_sizes=(50, 50) ...............\n"
     ]
    },
    {
     "name": "stderr",
     "output_type": "stream",
     "text": [
      "/Users/frankz/anaconda3/lib/python3.7/site-packages/sklearn/decomposition/fastica_.py:121: ConvergenceWarning: FastICA did not converge. Consider increasing tolerance or the maximum number of iterations.\n",
      "  ConvergenceWarning)\n"
     ]
    },
    {
     "name": "stdout",
     "output_type": "stream",
     "text": [
      "[CV]  NN__alpha=0.0001, NN__hidden_layer_sizes=(50, 50), score=0.6450769230769231, total=   0.3s\n",
      "[CV] NN__alpha=0.0001, NN__hidden_layer_sizes=(50, 50) ...............\n"
     ]
    },
    {
     "name": "stderr",
     "output_type": "stream",
     "text": [
      "/Users/frankz/anaconda3/lib/python3.7/site-packages/sklearn/decomposition/fastica_.py:121: ConvergenceWarning: FastICA did not converge. Consider increasing tolerance or the maximum number of iterations.\n",
      "  ConvergenceWarning)\n"
     ]
    },
    {
     "name": "stdout",
     "output_type": "stream",
     "text": [
      "[CV]  NN__alpha=0.0001, NN__hidden_layer_sizes=(50, 50), score=0.6183333333333334, total=   0.5s\n",
      "[CV] NN__alpha=0.0001, NN__hidden_layer_sizes=(50, 50) ...............\n",
      "[CV]  NN__alpha=0.0001, NN__hidden_layer_sizes=(50, 50), score=0.6571666666666668, total=   0.3s\n",
      "[CV] NN__alpha=0.0001, NN__hidden_layer_sizes=(50,) ..................\n"
     ]
    },
    {
     "name": "stderr",
     "output_type": "stream",
     "text": [
      "/Users/frankz/anaconda3/lib/python3.7/site-packages/sklearn/decomposition/fastica_.py:121: ConvergenceWarning: FastICA did not converge. Consider increasing tolerance or the maximum number of iterations.\n",
      "  ConvergenceWarning)\n"
     ]
    },
    {
     "name": "stdout",
     "output_type": "stream",
     "text": [
      "[CV]  NN__alpha=0.0001, NN__hidden_layer_sizes=(50,), score=0.4764615384615384, total=   0.3s\n",
      "[CV] NN__alpha=0.0001, NN__hidden_layer_sizes=(50,) ..................\n"
     ]
    },
    {
     "name": "stderr",
     "output_type": "stream",
     "text": [
      "/Users/frankz/anaconda3/lib/python3.7/site-packages/sklearn/decomposition/fastica_.py:121: ConvergenceWarning: FastICA did not converge. Consider increasing tolerance or the maximum number of iterations.\n",
      "  ConvergenceWarning)\n"
     ]
    },
    {
     "name": "stdout",
     "output_type": "stream",
     "text": [
      "[CV]  NN__alpha=0.0001, NN__hidden_layer_sizes=(50,), score=0.6460000000000002, total=   0.2s\n",
      "[CV] NN__alpha=0.0001, NN__hidden_layer_sizes=(50,) ..................\n"
     ]
    },
    {
     "name": "stderr",
     "output_type": "stream",
     "text": [
      "/Users/frankz/anaconda3/lib/python3.7/site-packages/sklearn/decomposition/fastica_.py:121: ConvergenceWarning: FastICA did not converge. Consider increasing tolerance or the maximum number of iterations.\n",
      "  ConvergenceWarning)\n"
     ]
    },
    {
     "name": "stdout",
     "output_type": "stream",
     "text": [
      "[CV]  NN__alpha=0.0001, NN__hidden_layer_sizes=(50,), score=0.660923076923077, total=   0.3s\n",
      "[CV] NN__alpha=0.0001, NN__hidden_layer_sizes=(50,) ..................\n"
     ]
    },
    {
     "name": "stderr",
     "output_type": "stream",
     "text": [
      "/Users/frankz/anaconda3/lib/python3.7/site-packages/sklearn/decomposition/fastica_.py:121: ConvergenceWarning: FastICA did not converge. Consider increasing tolerance or the maximum number of iterations.\n",
      "  ConvergenceWarning)\n"
     ]
    },
    {
     "name": "stdout",
     "output_type": "stream",
     "text": [
      "[CV]  NN__alpha=0.0001, NN__hidden_layer_sizes=(50,), score=0.5963333333333334, total=   0.3s\n",
      "[CV] NN__alpha=0.0001, NN__hidden_layer_sizes=(50,) ..................\n",
      "[CV]  NN__alpha=0.0001, NN__hidden_layer_sizes=(50,), score=0.6330000000000001, total=   0.2s\n",
      "[CV] NN__alpha=0.0001, NN__hidden_layer_sizes=(25,) ..................\n"
     ]
    },
    {
     "name": "stderr",
     "output_type": "stream",
     "text": [
      "/Users/frankz/anaconda3/lib/python3.7/site-packages/sklearn/decomposition/fastica_.py:121: ConvergenceWarning: FastICA did not converge. Consider increasing tolerance or the maximum number of iterations.\n",
      "  ConvergenceWarning)\n"
     ]
    },
    {
     "name": "stdout",
     "output_type": "stream",
     "text": [
      "[CV]  NN__alpha=0.0001, NN__hidden_layer_sizes=(25,), score=0.561076923076923, total=   0.4s\n",
      "[CV] NN__alpha=0.0001, NN__hidden_layer_sizes=(25,) ..................\n"
     ]
    },
    {
     "name": "stderr",
     "output_type": "stream",
     "text": [
      "/Users/frankz/anaconda3/lib/python3.7/site-packages/sklearn/decomposition/fastica_.py:121: ConvergenceWarning: FastICA did not converge. Consider increasing tolerance or the maximum number of iterations.\n",
      "  ConvergenceWarning)\n"
     ]
    },
    {
     "name": "stdout",
     "output_type": "stream",
     "text": [
      "[CV]  NN__alpha=0.0001, NN__hidden_layer_sizes=(25,), score=0.6203076923076924, total=   0.3s\n",
      "[CV] NN__alpha=0.0001, NN__hidden_layer_sizes=(25,) ..................\n"
     ]
    },
    {
     "name": "stderr",
     "output_type": "stream",
     "text": [
      "/Users/frankz/anaconda3/lib/python3.7/site-packages/sklearn/decomposition/fastica_.py:121: ConvergenceWarning: FastICA did not converge. Consider increasing tolerance or the maximum number of iterations.\n",
      "  ConvergenceWarning)\n"
     ]
    },
    {
     "name": "stdout",
     "output_type": "stream",
     "text": [
      "[CV]  NN__alpha=0.0001, NN__hidden_layer_sizes=(25,), score=0.6334102564102564, total=   0.3s\n",
      "[CV] NN__alpha=0.0001, NN__hidden_layer_sizes=(25,) ..................\n"
     ]
    },
    {
     "name": "stderr",
     "output_type": "stream",
     "text": [
      "/Users/frankz/anaconda3/lib/python3.7/site-packages/sklearn/decomposition/fastica_.py:121: ConvergenceWarning: FastICA did not converge. Consider increasing tolerance or the maximum number of iterations.\n",
      "  ConvergenceWarning)\n"
     ]
    },
    {
     "name": "stdout",
     "output_type": "stream",
     "text": [
      "[CV]  NN__alpha=0.0001, NN__hidden_layer_sizes=(25,), score=0.5943333333333334, total=   0.4s\n",
      "[CV] NN__alpha=0.0001, NN__hidden_layer_sizes=(25,) ..................\n",
      "[CV]  NN__alpha=0.0001, NN__hidden_layer_sizes=(25,), score=0.6130000000000001, total=   0.3s\n",
      "[CV] NN__alpha=0.0001, NN__hidden_layer_sizes=(25, 25) ...............\n"
     ]
    },
    {
     "name": "stderr",
     "output_type": "stream",
     "text": [
      "/Users/frankz/anaconda3/lib/python3.7/site-packages/sklearn/decomposition/fastica_.py:121: ConvergenceWarning: FastICA did not converge. Consider increasing tolerance or the maximum number of iterations.\n",
      "  ConvergenceWarning)\n"
     ]
    },
    {
     "name": "stdout",
     "output_type": "stream",
     "text": [
      "[CV]  NN__alpha=0.0001, NN__hidden_layer_sizes=(25, 25), score=0.6329230769230768, total=   0.5s\n",
      "[CV] NN__alpha=0.0001, NN__hidden_layer_sizes=(25, 25) ...............\n"
     ]
    },
    {
     "name": "stderr",
     "output_type": "stream",
     "text": [
      "/Users/frankz/anaconda3/lib/python3.7/site-packages/sklearn/decomposition/fastica_.py:121: ConvergenceWarning: FastICA did not converge. Consider increasing tolerance or the maximum number of iterations.\n",
      "  ConvergenceWarning)\n"
     ]
    },
    {
     "name": "stdout",
     "output_type": "stream",
     "text": [
      "[CV]  NN__alpha=0.0001, NN__hidden_layer_sizes=(25, 25), score=0.6730769230769232, total=   0.3s\n",
      "[CV] NN__alpha=0.0001, NN__hidden_layer_sizes=(25, 25) ...............\n"
     ]
    },
    {
     "name": "stderr",
     "output_type": "stream",
     "text": [
      "/Users/frankz/anaconda3/lib/python3.7/site-packages/sklearn/decomposition/fastica_.py:121: ConvergenceWarning: FastICA did not converge. Consider increasing tolerance or the maximum number of iterations.\n",
      "  ConvergenceWarning)\n"
     ]
    },
    {
     "name": "stdout",
     "output_type": "stream",
     "text": [
      "[CV]  NN__alpha=0.0001, NN__hidden_layer_sizes=(25, 25), score=0.6092435897435897, total=   0.3s\n",
      "[CV] NN__alpha=0.0001, NN__hidden_layer_sizes=(25, 25) ...............\n"
     ]
    },
    {
     "name": "stderr",
     "output_type": "stream",
     "text": [
      "/Users/frankz/anaconda3/lib/python3.7/site-packages/sklearn/decomposition/fastica_.py:121: ConvergenceWarning: FastICA did not converge. Consider increasing tolerance or the maximum number of iterations.\n",
      "  ConvergenceWarning)\n"
     ]
    },
    {
     "name": "stdout",
     "output_type": "stream",
     "text": [
      "[CV]  NN__alpha=0.0001, NN__hidden_layer_sizes=(25, 25), score=0.6130000000000001, total=   0.3s\n",
      "[CV] NN__alpha=0.0001, NN__hidden_layer_sizes=(25, 25) ...............\n",
      "[CV]  NN__alpha=0.0001, NN__hidden_layer_sizes=(25, 25), score=0.5171666666666668, total=   0.2s\n",
      "[CV] NN__alpha=0.0001, NN__hidden_layer_sizes=(100, 25, 100) .........\n"
     ]
    },
    {
     "name": "stderr",
     "output_type": "stream",
     "text": [
      "/Users/frankz/anaconda3/lib/python3.7/site-packages/sklearn/decomposition/fastica_.py:121: ConvergenceWarning: FastICA did not converge. Consider increasing tolerance or the maximum number of iterations.\n",
      "  ConvergenceWarning)\n"
     ]
    },
    {
     "name": "stdout",
     "output_type": "stream",
     "text": [
      "[CV]  NN__alpha=0.0001, NN__hidden_layer_sizes=(100, 25, 100), score=0.6289230769230768, total=   0.5s\n",
      "[CV] NN__alpha=0.0001, NN__hidden_layer_sizes=(100, 25, 100) .........\n"
     ]
    },
    {
     "name": "stderr",
     "output_type": "stream",
     "text": [
      "/Users/frankz/anaconda3/lib/python3.7/site-packages/sklearn/decomposition/fastica_.py:121: ConvergenceWarning: FastICA did not converge. Consider increasing tolerance or the maximum number of iterations.\n",
      "  ConvergenceWarning)\n"
     ]
    },
    {
     "name": "stdout",
     "output_type": "stream",
     "text": [
      "[CV]  NN__alpha=0.0001, NN__hidden_layer_sizes=(100, 25, 100), score=0.6770769230769232, total=   0.4s\n",
      "[CV] NN__alpha=0.0001, NN__hidden_layer_sizes=(100, 25, 100) .........\n"
     ]
    },
    {
     "name": "stderr",
     "output_type": "stream",
     "text": [
      "/Users/frankz/anaconda3/lib/python3.7/site-packages/sklearn/decomposition/fastica_.py:121: ConvergenceWarning: FastICA did not converge. Consider increasing tolerance or the maximum number of iterations.\n",
      "  ConvergenceWarning)\n"
     ]
    },
    {
     "name": "stdout",
     "output_type": "stream",
     "text": [
      "[CV]  NN__alpha=0.0001, NN__hidden_layer_sizes=(100, 25, 100), score=0.6490769230769231, total=   0.5s\n",
      "[CV] NN__alpha=0.0001, NN__hidden_layer_sizes=(100, 25, 100) .........\n"
     ]
    },
    {
     "name": "stderr",
     "output_type": "stream",
     "text": [
      "/Users/frankz/anaconda3/lib/python3.7/site-packages/sklearn/decomposition/fastica_.py:121: ConvergenceWarning: FastICA did not converge. Consider increasing tolerance or the maximum number of iterations.\n",
      "  ConvergenceWarning)\n"
     ]
    },
    {
     "name": "stdout",
     "output_type": "stream",
     "text": [
      "[CV]  NN__alpha=0.0001, NN__hidden_layer_sizes=(100, 25, 100), score=0.6183333333333334, total=   0.7s\n",
      "[CV] NN__alpha=0.0001, NN__hidden_layer_sizes=(100, 25, 100) .........\n",
      "[CV]  NN__alpha=0.0001, NN__hidden_layer_sizes=(100, 25, 100), score=0.6570000000000001, total=   0.3s\n"
     ]
    },
    {
     "name": "stderr",
     "output_type": "stream",
     "text": [
      "[Parallel(n_jobs=1)]: Done 100 out of 100 | elapsed:   35.7s finished\n",
      "/Users/frankz/anaconda3/lib/python3.7/site-packages/sklearn/model_selection/_search.py:841: DeprecationWarning: The default of the `iid` parameter will change from True to False in version 0.22 and will be removed in 0.24. This will change numeric results when test-set sizes are unequal.\n",
      "  DeprecationWarning)\n",
      "/Users/frankz/anaconda3/lib/python3.7/site-packages/sklearn/decomposition/fastica_.py:121: ConvergenceWarning: FastICA did not converge. Consider increasing tolerance or the maximum number of iterations.\n",
      "  ConvergenceWarning)\n",
      "/Users/frankz/anaconda3/lib/python3.7/site-packages/sklearn/decomposition/fastica_.py:121: ConvergenceWarning: FastICA did not converge. Consider increasing tolerance or the maximum number of iterations.\n",
      "  ConvergenceWarning)\n"
     ]
    }
   ],
   "source": [
    "pipe = Pipeline([('ica', ica), ('gmm', gmm), ('NN', mlp)])\n",
    "gs, best_estimator, final_estimator = gs_with_best_estimator(pipe, grid)"
   ]
  },
  {
   "cell_type": "code",
   "execution_count": 177,
   "metadata": {},
   "outputs": [
    {
     "data": {
      "text/plain": [
       "Pipeline(memory=None,\n",
       "     steps=[('ica', FastICA(algorithm='parallel', fun='logcosh', fun_args=None, max_iter=200,\n",
       "    n_components=13, random_state=7, tol=0.0001, w_init=None, whiten=True)), ('gmm', CustomGMM(covariance_type='full', init_params='kmeans', max_iter=100,\n",
       "     means_init=None, n_components=10, n_init=1, precisi...=True, solver='adam', tol=0.0001,\n",
       "       validation_fraction=0.1, verbose=False, warm_start=False))])"
      ]
     },
     "execution_count": 177,
     "metadata": {},
     "output_type": "execute_result"
    }
   ],
   "source": [
    "best_estimator"
   ]
  },
  {
   "cell_type": "code",
   "execution_count": 178,
   "metadata": {},
   "outputs": [
    {
     "data": {
      "text/plain": [
       "MLPClassifier(activation='relu', alpha=0.0001, batch_size='auto', beta_1=0.9,\n",
       "       beta_2=0.999, early_stopping=True, epsilon=1e-08,\n",
       "       hidden_layer_sizes=(100, 25, 100), learning_rate='constant',\n",
       "       learning_rate_init=0.001, max_iter=2000, momentum=0.9,\n",
       "       n_iter_no_change=10, nesterovs_momentum=True, power_t=0.5,\n",
       "       random_state=7, shuffle=True, solver='adam', tol=0.0001,\n",
       "       validation_fraction=0.1, verbose=False, warm_start=False)"
      ]
     },
     "execution_count": 178,
     "metadata": {},
     "output_type": "execute_result"
    }
   ],
   "source": [
    "final_estimator"
   ]
  },
  {
   "cell_type": "code",
   "execution_count": 179,
   "metadata": {
    "scrolled": true
   },
   "outputs": [
    {
     "data": {
      "text/plain": [
       "0.6292760540970564"
      ]
     },
     "execution_count": 179,
     "metadata": {},
     "output_type": "execute_result"
    }
   ],
   "source": [
    "best_estimator.score(training_x, training_y)"
   ]
  },
  {
   "cell_type": "code",
   "execution_count": 180,
   "metadata": {
    "scrolled": true
   },
   "outputs": [
    {
     "data": {
      "text/plain": [
       "0.6481481481481481"
      ]
     },
     "execution_count": 180,
     "metadata": {},
     "output_type": "execute_result"
    }
   ],
   "source": [
    "best_estimator.score(testing_x, testing_y)"
   ]
  },
  {
   "cell_type": "markdown",
   "metadata": {},
   "source": [
    "### RP"
   ]
  },
  {
   "cell_type": "code",
   "execution_count": 123,
   "metadata": {},
   "outputs": [],
   "source": [
    "from sklearn.random_projection import SparseRandomProjection, GaussianRandomProjection"
   ]
  },
  {
   "cell_type": "code",
   "execution_count": 124,
   "metadata": {},
   "outputs": [],
   "source": [
    "rp = SparseRandomProjection(n_components=9, random_state=seed)"
   ]
  },
  {
   "cell_type": "code",
   "execution_count": 181,
   "metadata": {
    "scrolled": true
   },
   "outputs": [
    {
     "name": "stdout",
     "output_type": "stream",
     "text": [
      "Fitting 5 folds for each of 20 candidates, totalling 100 fits\n",
      "[CV] NN__alpha=0.1, NN__hidden_layer_sizes=(50, 50) ..................\n"
     ]
    },
    {
     "name": "stderr",
     "output_type": "stream",
     "text": [
      "[Parallel(n_jobs=1)]: Using backend SequentialBackend with 1 concurrent workers.\n"
     ]
    },
    {
     "name": "stdout",
     "output_type": "stream",
     "text": [
      "[CV]  NN__alpha=0.1, NN__hidden_layer_sizes=(50, 50), score=0.5863076923076923, total=   0.6s\n",
      "[CV] NN__alpha=0.1, NN__hidden_layer_sizes=(50, 50) ..................\n"
     ]
    },
    {
     "name": "stderr",
     "output_type": "stream",
     "text": [
      "[Parallel(n_jobs=1)]: Done   1 out of   1 | elapsed:    0.6s remaining:    0.0s\n"
     ]
    },
    {
     "name": "stdout",
     "output_type": "stream",
     "text": [
      "[CV]  NN__alpha=0.1, NN__hidden_layer_sizes=(50, 50), score=0.6218461538461539, total=   0.5s\n",
      "[CV] NN__alpha=0.1, NN__hidden_layer_sizes=(50, 50) ..................\n"
     ]
    },
    {
     "name": "stderr",
     "output_type": "stream",
     "text": [
      "[Parallel(n_jobs=1)]: Done   2 out of   2 | elapsed:    1.2s remaining:    0.0s\n"
     ]
    },
    {
     "name": "stdout",
     "output_type": "stream",
     "text": [
      "[CV]  NN__alpha=0.1, NN__hidden_layer_sizes=(50, 50), score=0.6201666666666668, total=   0.5s\n",
      "[CV] NN__alpha=0.1, NN__hidden_layer_sizes=(50, 50) ..................\n"
     ]
    },
    {
     "name": "stderr",
     "output_type": "stream",
     "text": [
      "[Parallel(n_jobs=1)]: Done   3 out of   3 | elapsed:    1.7s remaining:    0.0s\n"
     ]
    },
    {
     "name": "stdout",
     "output_type": "stream",
     "text": [
      "[CV]  NN__alpha=0.1, NN__hidden_layer_sizes=(50, 50), score=0.5018333333333334, total=   0.5s\n",
      "[CV] NN__alpha=0.1, NN__hidden_layer_sizes=(50, 50) ..................\n"
     ]
    },
    {
     "name": "stderr",
     "output_type": "stream",
     "text": [
      "[Parallel(n_jobs=1)]: Done   4 out of   4 | elapsed:    2.1s remaining:    0.0s\n"
     ]
    },
    {
     "name": "stdout",
     "output_type": "stream",
     "text": [
      "[CV]  NN__alpha=0.1, NN__hidden_layer_sizes=(50, 50), score=0.42900000000000005, total=   0.4s\n",
      "[CV] NN__alpha=0.1, NN__hidden_layer_sizes=(50,) .....................\n"
     ]
    },
    {
     "name": "stderr",
     "output_type": "stream",
     "text": [
      "[Parallel(n_jobs=1)]: Done   5 out of   5 | elapsed:    2.5s remaining:    0.0s\n"
     ]
    },
    {
     "name": "stdout",
     "output_type": "stream",
     "text": [
      "[CV]  NN__alpha=0.1, NN__hidden_layer_sizes=(50,), score=0.4933846153846153, total=   0.3s\n",
      "[CV] NN__alpha=0.1, NN__hidden_layer_sizes=(50,) .....................\n"
     ]
    },
    {
     "name": "stderr",
     "output_type": "stream",
     "text": [
      "[Parallel(n_jobs=1)]: Done   6 out of   6 | elapsed:    2.8s remaining:    0.0s\n"
     ]
    },
    {
     "name": "stdout",
     "output_type": "stream",
     "text": [
      "[CV]  NN__alpha=0.1, NN__hidden_layer_sizes=(50,), score=0.512923076923077, total=   0.3s\n",
      "[CV] NN__alpha=0.1, NN__hidden_layer_sizes=(50,) .....................\n"
     ]
    },
    {
     "name": "stderr",
     "output_type": "stream",
     "text": [
      "[Parallel(n_jobs=1)]: Done   7 out of   7 | elapsed:    3.1s remaining:    0.0s\n"
     ]
    },
    {
     "name": "stdout",
     "output_type": "stream",
     "text": [
      "[CV]  NN__alpha=0.1, NN__hidden_layer_sizes=(50,), score=0.5635384615384617, total=   0.4s\n",
      "[CV] NN__alpha=0.1, NN__hidden_layer_sizes=(50,) .....................\n"
     ]
    },
    {
     "name": "stderr",
     "output_type": "stream",
     "text": [
      "[Parallel(n_jobs=1)]: Done   8 out of   8 | elapsed:    3.5s remaining:    0.0s\n"
     ]
    },
    {
     "name": "stdout",
     "output_type": "stream",
     "text": [
      "[CV]  NN__alpha=0.1, NN__hidden_layer_sizes=(50,), score=0.48566666666666664, total=   0.3s\n",
      "[CV] NN__alpha=0.1, NN__hidden_layer_sizes=(50,) .....................\n"
     ]
    },
    {
     "name": "stderr",
     "output_type": "stream",
     "text": [
      "[Parallel(n_jobs=1)]: Done   9 out of   9 | elapsed:    3.8s remaining:    0.0s\n"
     ]
    },
    {
     "name": "stdout",
     "output_type": "stream",
     "text": [
      "[CV]  NN__alpha=0.1, NN__hidden_layer_sizes=(50,), score=0.5315, total=   0.4s\n",
      "[CV] NN__alpha=0.1, NN__hidden_layer_sizes=(25,) .....................\n",
      "[CV]  NN__alpha=0.1, NN__hidden_layer_sizes=(25,), score=0.15584615384615383, total=   0.2s\n",
      "[CV] NN__alpha=0.1, NN__hidden_layer_sizes=(25,) .....................\n",
      "[CV]  NN__alpha=0.1, NN__hidden_layer_sizes=(25,), score=0.32030769230769235, total=   0.3s\n",
      "[CV] NN__alpha=0.1, NN__hidden_layer_sizes=(25,) .....................\n",
      "[CV]  NN__alpha=0.1, NN__hidden_layer_sizes=(25,), score=0.12016666666666667, total=   0.2s\n",
      "[CV] NN__alpha=0.1, NN__hidden_layer_sizes=(25,) .....................\n",
      "[CV]  NN__alpha=0.1, NN__hidden_layer_sizes=(25,), score=0.14316666666666664, total=   0.1s\n",
      "[CV] NN__alpha=0.1, NN__hidden_layer_sizes=(25,) .....................\n",
      "[CV]  NN__alpha=0.1, NN__hidden_layer_sizes=(25,), score=0.15333333333333335, total=   0.2s\n",
      "[CV] NN__alpha=0.1, NN__hidden_layer_sizes=(25, 25) ..................\n",
      "[CV]  NN__alpha=0.1, NN__hidden_layer_sizes=(25, 25), score=0.5087692307692308, total=   0.3s\n",
      "[CV] NN__alpha=0.1, NN__hidden_layer_sizes=(25, 25) ..................\n",
      "[CV]  NN__alpha=0.1, NN__hidden_layer_sizes=(25, 25), score=0.10000000000000002, total=   0.2s\n",
      "[CV] NN__alpha=0.1, NN__hidden_layer_sizes=(25, 25) ..................\n",
      "[CV]  NN__alpha=0.1, NN__hidden_layer_sizes=(25, 25), score=0.475423076923077, total=   0.4s\n",
      "[CV] NN__alpha=0.1, NN__hidden_layer_sizes=(25, 25) ..................\n",
      "[CV]  NN__alpha=0.1, NN__hidden_layer_sizes=(25, 25), score=0.352, total=   0.3s\n",
      "[CV] NN__alpha=0.1, NN__hidden_layer_sizes=(25, 25) ..................\n",
      "[CV]  NN__alpha=0.1, NN__hidden_layer_sizes=(25, 25), score=0.30250000000000005, total=   0.2s\n",
      "[CV] NN__alpha=0.1, NN__hidden_layer_sizes=(100, 25, 100) ............\n",
      "[CV]  NN__alpha=0.1, NN__hidden_layer_sizes=(100, 25, 100), score=0.6136923076923076, total=   0.5s\n",
      "[CV] NN__alpha=0.1, NN__hidden_layer_sizes=(100, 25, 100) ............\n",
      "[CV]  NN__alpha=0.1, NN__hidden_layer_sizes=(100, 25, 100), score=0.5355384615384616, total=   0.5s\n",
      "[CV] NN__alpha=0.1, NN__hidden_layer_sizes=(100, 25, 100) ............\n",
      "[CV]  NN__alpha=0.1, NN__hidden_layer_sizes=(100, 25, 100), score=0.6235512820512821, total=   0.8s\n",
      "[CV] NN__alpha=0.1, NN__hidden_layer_sizes=(100, 25, 100) ............\n",
      "[CV]  NN__alpha=0.1, NN__hidden_layer_sizes=(100, 25, 100), score=0.5141666666666667, total=   0.4s\n",
      "[CV] NN__alpha=0.1, NN__hidden_layer_sizes=(100, 25, 100) ............\n",
      "[CV]  NN__alpha=0.1, NN__hidden_layer_sizes=(100, 25, 100), score=0.5986666666666667, total=   0.5s\n",
      "[CV] NN__alpha=0.01, NN__hidden_layer_sizes=(50, 50) .................\n",
      "[CV]  NN__alpha=0.01, NN__hidden_layer_sizes=(50, 50), score=0.5823076923076922, total=   0.5s\n",
      "[CV] NN__alpha=0.01, NN__hidden_layer_sizes=(50, 50) .................\n",
      "[CV]  NN__alpha=0.01, NN__hidden_layer_sizes=(50, 50), score=0.5672307692307693, total=   0.3s\n",
      "[CV] NN__alpha=0.01, NN__hidden_layer_sizes=(50, 50) .................\n",
      "[CV]  NN__alpha=0.01, NN__hidden_layer_sizes=(50, 50), score=0.5115, total=   0.4s\n",
      "[CV] NN__alpha=0.01, NN__hidden_layer_sizes=(50, 50) .................\n",
      "[CV]  NN__alpha=0.01, NN__hidden_layer_sizes=(50, 50), score=0.5815, total=   0.6s\n",
      "[CV] NN__alpha=0.01, NN__hidden_layer_sizes=(50, 50) .................\n",
      "[CV]  NN__alpha=0.01, NN__hidden_layer_sizes=(50, 50), score=0.43700000000000006, total=   0.4s\n",
      "[CV] NN__alpha=0.01, NN__hidden_layer_sizes=(50,) ....................\n",
      "[CV]  NN__alpha=0.01, NN__hidden_layer_sizes=(50,), score=0.4456923076923076, total=   0.3s\n",
      "[CV] NN__alpha=0.01, NN__hidden_layer_sizes=(50,) ....................\n",
      "[CV]  NN__alpha=0.01, NN__hidden_layer_sizes=(50,), score=0.5013846153846154, total=   0.3s\n",
      "[CV] NN__alpha=0.01, NN__hidden_layer_sizes=(50,) ....................\n",
      "[CV]  NN__alpha=0.01, NN__hidden_layer_sizes=(50,), score=0.5235384615384615, total=   0.4s\n",
      "[CV] NN__alpha=0.01, NN__hidden_layer_sizes=(50,) ....................\n",
      "[CV]  NN__alpha=0.01, NN__hidden_layer_sizes=(50,), score=0.4691666666666666, total=   0.3s\n",
      "[CV] NN__alpha=0.01, NN__hidden_layer_sizes=(50,) ....................\n",
      "[CV]  NN__alpha=0.01, NN__hidden_layer_sizes=(50,), score=0.5315, total=   0.4s\n",
      "[CV] NN__alpha=0.01, NN__hidden_layer_sizes=(25,) ....................\n",
      "[CV]  NN__alpha=0.01, NN__hidden_layer_sizes=(25,), score=0.09830769230769229, total=   0.2s\n",
      "[CV] NN__alpha=0.01, NN__hidden_layer_sizes=(25,) ....................\n",
      "[CV]  NN__alpha=0.01, NN__hidden_layer_sizes=(25,), score=0.3163076923076924, total=   0.3s\n",
      "[CV] NN__alpha=0.01, NN__hidden_layer_sizes=(25,) ....................\n",
      "[CV]  NN__alpha=0.01, NN__hidden_layer_sizes=(25,), score=0.12016666666666667, total=   0.2s\n",
      "[CV] NN__alpha=0.01, NN__hidden_layer_sizes=(25,) ....................\n",
      "[CV]  NN__alpha=0.01, NN__hidden_layer_sizes=(25,), score=0.14316666666666664, total=   0.2s\n",
      "[CV] NN__alpha=0.01, NN__hidden_layer_sizes=(25,) ....................\n",
      "[CV]  NN__alpha=0.01, NN__hidden_layer_sizes=(25,), score=0.15333333333333335, total=   0.2s\n",
      "[CV] NN__alpha=0.01, NN__hidden_layer_sizes=(25, 25) .................\n",
      "[CV]  NN__alpha=0.01, NN__hidden_layer_sizes=(25, 25), score=0.5556923076923076, total=   0.5s\n",
      "[CV] NN__alpha=0.01, NN__hidden_layer_sizes=(25, 25) .................\n",
      "[CV]  NN__alpha=0.01, NN__hidden_layer_sizes=(25, 25), score=0.10000000000000002, total=   0.2s\n",
      "[CV] NN__alpha=0.01, NN__hidden_layer_sizes=(25, 25) .................\n",
      "[CV]  NN__alpha=0.01, NN__hidden_layer_sizes=(25, 25), score=0.46260256410256406, total=   0.3s\n",
      "[CV] NN__alpha=0.01, NN__hidden_layer_sizes=(25, 25) .................\n",
      "[CV]  NN__alpha=0.01, NN__hidden_layer_sizes=(25, 25), score=0.32, total=   0.3s\n",
      "[CV] NN__alpha=0.01, NN__hidden_layer_sizes=(25, 25) .................\n",
      "[CV]  NN__alpha=0.01, NN__hidden_layer_sizes=(25, 25), score=0.2985000000000001, total=   0.2s\n",
      "[CV] NN__alpha=0.01, NN__hidden_layer_sizes=(100, 25, 100) ...........\n",
      "[CV]  NN__alpha=0.01, NN__hidden_layer_sizes=(100, 25, 100), score=0.6676923076923077, total=   1.0s\n",
      "[CV] NN__alpha=0.01, NN__hidden_layer_sizes=(100, 25, 100) ...........\n",
      "[CV]  NN__alpha=0.01, NN__hidden_layer_sizes=(100, 25, 100), score=0.5195384615384617, total=   0.6s\n",
      "[CV] NN__alpha=0.01, NN__hidden_layer_sizes=(100, 25, 100) ...........\n",
      "[CV]  NN__alpha=0.01, NN__hidden_layer_sizes=(100, 25, 100), score=0.5555128205128206, total=   0.7s\n",
      "[CV] NN__alpha=0.01, NN__hidden_layer_sizes=(100, 25, 100) ...........\n",
      "[CV]  NN__alpha=0.01, NN__hidden_layer_sizes=(100, 25, 100), score=0.48216666666666663, total=   0.5s\n",
      "[CV] NN__alpha=0.01, NN__hidden_layer_sizes=(100, 25, 100) ...........\n",
      "[CV]  NN__alpha=0.01, NN__hidden_layer_sizes=(100, 25, 100), score=0.6025000000000001, total=   0.6s\n",
      "[CV] NN__alpha=0.001, NN__hidden_layer_sizes=(50, 50) ................\n",
      "[CV]  NN__alpha=0.001, NN__hidden_layer_sizes=(50, 50), score=0.5629230769230769, total=   0.6s\n",
      "[CV] NN__alpha=0.001, NN__hidden_layer_sizes=(50, 50) ................\n",
      "[CV]  NN__alpha=0.001, NN__hidden_layer_sizes=(50, 50), score=0.5670769230769233, total=   0.4s\n",
      "[CV] NN__alpha=0.001, NN__hidden_layer_sizes=(50, 50) ................\n",
      "[CV]  NN__alpha=0.001, NN__hidden_layer_sizes=(50, 50), score=0.6158333333333332, total=   0.5s\n",
      "[CV] NN__alpha=0.001, NN__hidden_layer_sizes=(50, 50) ................\n",
      "[CV]  NN__alpha=0.001, NN__hidden_layer_sizes=(50, 50), score=0.5735000000000001, total=   0.8s\n",
      "[CV] NN__alpha=0.001, NN__hidden_layer_sizes=(50, 50) ................\n",
      "[CV]  NN__alpha=0.001, NN__hidden_layer_sizes=(50, 50), score=0.5111666666666667, total=   0.5s\n",
      "[CV] NN__alpha=0.001, NN__hidden_layer_sizes=(50,) ...................\n",
      "[CV]  NN__alpha=0.001, NN__hidden_layer_sizes=(50,), score=0.5053846153846153, total=   0.3s\n",
      "[CV] NN__alpha=0.001, NN__hidden_layer_sizes=(50,) ...................\n",
      "[CV]  NN__alpha=0.001, NN__hidden_layer_sizes=(50,), score=0.5052307692307693, total=   0.3s\n",
      "[CV] NN__alpha=0.001, NN__hidden_layer_sizes=(50,) ...................\n",
      "[CV]  NN__alpha=0.001, NN__hidden_layer_sizes=(50,), score=0.5395384615384616, total=   0.4s\n",
      "[CV] NN__alpha=0.001, NN__hidden_layer_sizes=(50,) ...................\n",
      "[CV]  NN__alpha=0.001, NN__hidden_layer_sizes=(50,), score=0.48566666666666664, total=   0.3s\n",
      "[CV] NN__alpha=0.001, NN__hidden_layer_sizes=(50,) ...................\n"
     ]
    },
    {
     "name": "stdout",
     "output_type": "stream",
     "text": [
      "[CV]  NN__alpha=0.001, NN__hidden_layer_sizes=(50,), score=0.5275, total=   0.3s\n",
      "[CV] NN__alpha=0.001, NN__hidden_layer_sizes=(25,) ...................\n",
      "[CV]  NN__alpha=0.001, NN__hidden_layer_sizes=(25,), score=0.09430769230769229, total=   0.1s\n",
      "[CV] NN__alpha=0.001, NN__hidden_layer_sizes=(25,) ...................\n",
      "[CV]  NN__alpha=0.001, NN__hidden_layer_sizes=(25,), score=0.32030769230769235, total=   0.2s\n",
      "[CV] NN__alpha=0.001, NN__hidden_layer_sizes=(25,) ...................\n",
      "[CV]  NN__alpha=0.001, NN__hidden_layer_sizes=(25,), score=0.12016666666666667, total=   0.2s\n",
      "[CV] NN__alpha=0.001, NN__hidden_layer_sizes=(25,) ...................\n",
      "[CV]  NN__alpha=0.001, NN__hidden_layer_sizes=(25,), score=0.14316666666666664, total=   0.1s\n",
      "[CV] NN__alpha=0.001, NN__hidden_layer_sizes=(25,) ...................\n",
      "[CV]  NN__alpha=0.001, NN__hidden_layer_sizes=(25,), score=0.15333333333333335, total=   0.2s\n",
      "[CV] NN__alpha=0.001, NN__hidden_layer_sizes=(25, 25) ................\n",
      "[CV]  NN__alpha=0.001, NN__hidden_layer_sizes=(25, 25), score=0.5276923076923076, total=   0.4s\n",
      "[CV] NN__alpha=0.001, NN__hidden_layer_sizes=(25, 25) ................\n",
      "[CV]  NN__alpha=0.001, NN__hidden_layer_sizes=(25, 25), score=0.10000000000000002, total=   0.1s\n",
      "[CV] NN__alpha=0.001, NN__hidden_layer_sizes=(25, 25) ................\n",
      "[CV]  NN__alpha=0.001, NN__hidden_layer_sizes=(25, 25), score=0.454923076923077, total=   0.4s\n",
      "[CV] NN__alpha=0.001, NN__hidden_layer_sizes=(25, 25) ................\n",
      "[CV]  NN__alpha=0.001, NN__hidden_layer_sizes=(25, 25), score=0.396, total=   0.3s\n",
      "[CV] NN__alpha=0.001, NN__hidden_layer_sizes=(25, 25) ................\n",
      "[CV]  NN__alpha=0.001, NN__hidden_layer_sizes=(25, 25), score=0.26600000000000007, total=   0.2s\n",
      "[CV] NN__alpha=0.001, NN__hidden_layer_sizes=(100, 25, 100) ..........\n",
      "[CV]  NN__alpha=0.001, NN__hidden_layer_sizes=(100, 25, 100), score=0.6564615384615383, total=   0.7s\n",
      "[CV] NN__alpha=0.001, NN__hidden_layer_sizes=(100, 25, 100) ..........\n",
      "[CV]  NN__alpha=0.001, NN__hidden_layer_sizes=(100, 25, 100), score=0.5046153846153847, total=   0.4s\n",
      "[CV] NN__alpha=0.001, NN__hidden_layer_sizes=(100, 25, 100) ..........\n",
      "[CV]  NN__alpha=0.001, NN__hidden_layer_sizes=(100, 25, 100), score=0.6430769230769231, total=   0.8s\n",
      "[CV] NN__alpha=0.001, NN__hidden_layer_sizes=(100, 25, 100) ..........\n",
      "[CV]  NN__alpha=0.001, NN__hidden_layer_sizes=(100, 25, 100), score=0.5221666666666666, total=   0.4s\n",
      "[CV] NN__alpha=0.001, NN__hidden_layer_sizes=(100, 25, 100) ..........\n",
      "[CV]  NN__alpha=0.001, NN__hidden_layer_sizes=(100, 25, 100), score=0.5706666666666667, total=   0.5s\n",
      "[CV] NN__alpha=0.0001, NN__hidden_layer_sizes=(50, 50) ...............\n",
      "[CV]  NN__alpha=0.0001, NN__hidden_layer_sizes=(50, 50), score=0.5744615384615384, total=   0.5s\n",
      "[CV] NN__alpha=0.0001, NN__hidden_layer_sizes=(50, 50) ...............\n",
      "[CV]  NN__alpha=0.0001, NN__hidden_layer_sizes=(50, 50), score=0.5672307692307693, total=   0.5s\n",
      "[CV] NN__alpha=0.0001, NN__hidden_layer_sizes=(50, 50) ...............\n",
      "[CV]  NN__alpha=0.0001, NN__hidden_layer_sizes=(50, 50), score=0.5076538461538461, total=   0.5s\n",
      "[CV] NN__alpha=0.0001, NN__hidden_layer_sizes=(50, 50) ...............\n",
      "[CV]  NN__alpha=0.0001, NN__hidden_layer_sizes=(50, 50), score=0.4731666666666666, total=   0.5s\n",
      "[CV] NN__alpha=0.0001, NN__hidden_layer_sizes=(50, 50) ...............\n",
      "[CV]  NN__alpha=0.0001, NN__hidden_layer_sizes=(50, 50), score=0.4783333333333334, total=   0.4s\n",
      "[CV] NN__alpha=0.0001, NN__hidden_layer_sizes=(50,) ..................\n",
      "[CV]  NN__alpha=0.0001, NN__hidden_layer_sizes=(50,), score=0.497076923076923, total=   0.3s\n",
      "[CV] NN__alpha=0.0001, NN__hidden_layer_sizes=(50,) ..................\n",
      "[CV]  NN__alpha=0.0001, NN__hidden_layer_sizes=(50,), score=0.5092307692307694, total=   0.3s\n",
      "[CV] NN__alpha=0.0001, NN__hidden_layer_sizes=(50,) ..................\n",
      "[CV]  NN__alpha=0.0001, NN__hidden_layer_sizes=(50,), score=0.5397051282051282, total=   0.4s\n",
      "[CV] NN__alpha=0.0001, NN__hidden_layer_sizes=(50,) ..................\n",
      "[CV]  NN__alpha=0.0001, NN__hidden_layer_sizes=(50,), score=0.48566666666666664, total=   0.3s\n",
      "[CV] NN__alpha=0.0001, NN__hidden_layer_sizes=(50,) ..................\n",
      "[CV]  NN__alpha=0.0001, NN__hidden_layer_sizes=(50,), score=0.5348333333333334, total=   0.3s\n",
      "[CV] NN__alpha=0.0001, NN__hidden_layer_sizes=(25,) ..................\n",
      "[CV]  NN__alpha=0.0001, NN__hidden_layer_sizes=(25,), score=0.09430769230769229, total=   0.2s\n",
      "[CV] NN__alpha=0.0001, NN__hidden_layer_sizes=(25,) ..................\n",
      "[CV]  NN__alpha=0.0001, NN__hidden_layer_sizes=(25,), score=0.3320000000000001, total=   0.3s\n",
      "[CV] NN__alpha=0.0001, NN__hidden_layer_sizes=(25,) ..................\n",
      "[CV]  NN__alpha=0.0001, NN__hidden_layer_sizes=(25,), score=0.12016666666666667, total=   0.2s\n",
      "[CV] NN__alpha=0.0001, NN__hidden_layer_sizes=(25,) ..................\n",
      "[CV]  NN__alpha=0.0001, NN__hidden_layer_sizes=(25,), score=0.14316666666666664, total=   0.2s\n",
      "[CV] NN__alpha=0.0001, NN__hidden_layer_sizes=(25,) ..................\n",
      "[CV]  NN__alpha=0.0001, NN__hidden_layer_sizes=(25,), score=0.15333333333333335, total=   0.2s\n",
      "[CV] NN__alpha=0.0001, NN__hidden_layer_sizes=(25, 25) ...............\n",
      "[CV]  NN__alpha=0.0001, NN__hidden_layer_sizes=(25, 25), score=0.5279999999999999, total=   0.4s\n",
      "[CV] NN__alpha=0.0001, NN__hidden_layer_sizes=(25, 25) ...............\n",
      "[CV]  NN__alpha=0.0001, NN__hidden_layer_sizes=(25, 25), score=0.10000000000000002, total=   0.2s\n",
      "[CV] NN__alpha=0.0001, NN__hidden_layer_sizes=(25, 25) ...............\n",
      "[CV]  NN__alpha=0.0001, NN__hidden_layer_sizes=(25, 25), score=0.31375641025641027, total=   0.3s\n",
      "[CV] NN__alpha=0.0001, NN__hidden_layer_sizes=(25, 25) ...............\n",
      "[CV]  NN__alpha=0.0001, NN__hidden_layer_sizes=(25, 25), score=0.372, total=   0.3s\n",
      "[CV] NN__alpha=0.0001, NN__hidden_layer_sizes=(25, 25) ...............\n",
      "[CV]  NN__alpha=0.0001, NN__hidden_layer_sizes=(25, 25), score=0.24966666666666673, total=   0.2s\n",
      "[CV] NN__alpha=0.0001, NN__hidden_layer_sizes=(100, 25, 100) .........\n",
      "[CV]  NN__alpha=0.0001, NN__hidden_layer_sizes=(100, 25, 100), score=0.6947692307692307, total=   0.9s\n",
      "[CV] NN__alpha=0.0001, NN__hidden_layer_sizes=(100, 25, 100) .........\n",
      "[CV]  NN__alpha=0.0001, NN__hidden_layer_sizes=(100, 25, 100), score=0.4810769230769232, total=   0.4s\n",
      "[CV] NN__alpha=0.0001, NN__hidden_layer_sizes=(100, 25, 100) .........\n",
      "[CV]  NN__alpha=0.0001, NN__hidden_layer_sizes=(100, 25, 100), score=0.535551282051282, total=   0.5s\n",
      "[CV] NN__alpha=0.0001, NN__hidden_layer_sizes=(100, 25, 100) .........\n",
      "[CV]  NN__alpha=0.0001, NN__hidden_layer_sizes=(100, 25, 100), score=0.5301666666666667, total=   0.5s\n",
      "[CV] NN__alpha=0.0001, NN__hidden_layer_sizes=(100, 25, 100) .........\n",
      "[CV]  NN__alpha=0.0001, NN__hidden_layer_sizes=(100, 25, 100), score=0.5910000000000001, total=   0.7s\n"
     ]
    },
    {
     "name": "stderr",
     "output_type": "stream",
     "text": [
      "[Parallel(n_jobs=1)]: Done 100 out of 100 | elapsed:   37.7s finished\n",
      "/Users/frankz/anaconda3/lib/python3.7/site-packages/sklearn/model_selection/_search.py:841: DeprecationWarning: The default of the `iid` parameter will change from True to False in version 0.22 and will be removed in 0.24. This will change numeric results when test-set sizes are unequal.\n",
      "  DeprecationWarning)\n"
     ]
    }
   ],
   "source": [
    "pipe = Pipeline([('rp', rp), ('km', km), ('NN', mlp)])\n",
    "gs, best_estimator, final_estimator = gs_with_best_estimator(pipe, grid)"
   ]
  },
  {
   "cell_type": "code",
   "execution_count": 182,
   "metadata": {},
   "outputs": [
    {
     "data": {
      "text/plain": [
       "Pipeline(memory=None,\n",
       "     steps=[('rp', SparseRandomProjection(dense_output=False, density='auto', eps=0.1,\n",
       "            n_components=9, random_state=7)), ('km', KMeans(algorithm='auto', copy_x=True, init='k-means++', max_iter=300,\n",
       "    n_clusters=10, n_init=10, n_jobs=None, precompute_distances='auto',\n",
       "    random_state=7, tol...=True, solver='adam', tol=0.0001,\n",
       "       validation_fraction=0.1, verbose=False, warm_start=False))])"
      ]
     },
     "execution_count": 182,
     "metadata": {},
     "output_type": "execute_result"
    }
   ],
   "source": [
    "best_estimator"
   ]
  },
  {
   "cell_type": "code",
   "execution_count": 183,
   "metadata": {},
   "outputs": [
    {
     "data": {
      "text/plain": [
       "MLPClassifier(activation='relu', alpha=0.001, batch_size='auto', beta_1=0.9,\n",
       "       beta_2=0.999, early_stopping=True, epsilon=1e-08,\n",
       "       hidden_layer_sizes=(100, 25, 100), learning_rate='constant',\n",
       "       learning_rate_init=0.001, max_iter=2000, momentum=0.9,\n",
       "       n_iter_no_change=10, nesterovs_momentum=True, power_t=0.5,\n",
       "       random_state=7, shuffle=True, solver='adam', tol=0.0001,\n",
       "       validation_fraction=0.1, verbose=False, warm_start=False)"
      ]
     },
     "execution_count": 183,
     "metadata": {},
     "output_type": "execute_result"
    }
   ],
   "source": [
    "final_estimator"
   ]
  },
  {
   "cell_type": "code",
   "execution_count": 184,
   "metadata": {
    "scrolled": true
   },
   "outputs": [
    {
     "data": {
      "text/plain": [
       "0.6523468575974543"
      ]
     },
     "execution_count": 184,
     "metadata": {},
     "output_type": "execute_result"
    }
   ],
   "source": [
    "best_estimator.score(training_x, training_y)"
   ]
  },
  {
   "cell_type": "code",
   "execution_count": 185,
   "metadata": {
    "scrolled": true
   },
   "outputs": [
    {
     "data": {
      "text/plain": [
       "0.6166666666666667"
      ]
     },
     "execution_count": 185,
     "metadata": {},
     "output_type": "execute_result"
    }
   ],
   "source": [
    "best_estimator.score(testing_x, testing_y)"
   ]
  },
  {
   "cell_type": "code",
   "execution_count": 186,
   "metadata": {
    "scrolled": true
   },
   "outputs": [
    {
     "name": "stdout",
     "output_type": "stream",
     "text": [
      "Fitting 5 folds for each of 20 candidates, totalling 100 fits\n",
      "[CV] NN__alpha=0.1, NN__hidden_layer_sizes=(50, 50) ..................\n"
     ]
    },
    {
     "name": "stderr",
     "output_type": "stream",
     "text": [
      "[Parallel(n_jobs=1)]: Using backend SequentialBackend with 1 concurrent workers.\n"
     ]
    },
    {
     "name": "stdout",
     "output_type": "stream",
     "text": [
      "[CV]  NN__alpha=0.1, NN__hidden_layer_sizes=(50, 50), score=0.5455384615384614, total=   0.4s\n",
      "[CV] NN__alpha=0.1, NN__hidden_layer_sizes=(50, 50) ..................\n"
     ]
    },
    {
     "name": "stderr",
     "output_type": "stream",
     "text": [
      "[Parallel(n_jobs=1)]: Done   1 out of   1 | elapsed:    0.4s remaining:    0.0s\n"
     ]
    },
    {
     "name": "stdout",
     "output_type": "stream",
     "text": [
      "[CV]  NN__alpha=0.1, NN__hidden_layer_sizes=(50, 50), score=0.5226153846153848, total=   0.5s\n",
      "[CV] NN__alpha=0.1, NN__hidden_layer_sizes=(50, 50) ..................\n"
     ]
    },
    {
     "name": "stderr",
     "output_type": "stream",
     "text": [
      "[Parallel(n_jobs=1)]: Done   2 out of   2 | elapsed:    1.0s remaining:    0.0s\n"
     ]
    },
    {
     "name": "stdout",
     "output_type": "stream",
     "text": [
      "[CV]  NN__alpha=0.1, NN__hidden_layer_sizes=(50, 50), score=0.548, total=   0.3s\n",
      "[CV] NN__alpha=0.1, NN__hidden_layer_sizes=(50, 50) ..................\n"
     ]
    },
    {
     "name": "stderr",
     "output_type": "stream",
     "text": [
      "[Parallel(n_jobs=1)]: Done   3 out of   3 | elapsed:    1.3s remaining:    0.0s\n"
     ]
    },
    {
     "name": "stdout",
     "output_type": "stream",
     "text": [
      "[CV]  NN__alpha=0.1, NN__hidden_layer_sizes=(50, 50), score=0.48016666666666663, total=   0.4s\n",
      "[CV] NN__alpha=0.1, NN__hidden_layer_sizes=(50, 50) ..................\n"
     ]
    },
    {
     "name": "stderr",
     "output_type": "stream",
     "text": [
      "[Parallel(n_jobs=1)]: Done   4 out of   4 | elapsed:    1.6s remaining:    0.0s\n"
     ]
    },
    {
     "name": "stdout",
     "output_type": "stream",
     "text": [
      "[CV]  NN__alpha=0.1, NN__hidden_layer_sizes=(50, 50), score=0.49966666666666676, total=   0.6s\n",
      "[CV] NN__alpha=0.1, NN__hidden_layer_sizes=(50,) .....................\n"
     ]
    },
    {
     "name": "stderr",
     "output_type": "stream",
     "text": [
      "[Parallel(n_jobs=1)]: Done   5 out of   5 | elapsed:    2.2s remaining:    0.0s\n"
     ]
    },
    {
     "name": "stdout",
     "output_type": "stream",
     "text": [
      "[CV]  NN__alpha=0.1, NN__hidden_layer_sizes=(50,), score=0.5095384615384614, total=   0.2s\n",
      "[CV] NN__alpha=0.1, NN__hidden_layer_sizes=(50,) .....................\n"
     ]
    },
    {
     "name": "stderr",
     "output_type": "stream",
     "text": [
      "[Parallel(n_jobs=1)]: Done   6 out of   6 | elapsed:    2.4s remaining:    0.0s\n"
     ]
    },
    {
     "name": "stdout",
     "output_type": "stream",
     "text": [
      "[CV]  NN__alpha=0.1, NN__hidden_layer_sizes=(50,), score=0.4707692307692309, total=   0.2s\n",
      "[CV] NN__alpha=0.1, NN__hidden_layer_sizes=(50,) .....................\n"
     ]
    },
    {
     "name": "stderr",
     "output_type": "stream",
     "text": [
      "[Parallel(n_jobs=1)]: Done   7 out of   7 | elapsed:    2.7s remaining:    0.0s\n"
     ]
    },
    {
     "name": "stdout",
     "output_type": "stream",
     "text": [
      "[CV]  NN__alpha=0.1, NN__hidden_layer_sizes=(50,), score=0.5535769230769231, total=   0.3s\n",
      "[CV] NN__alpha=0.1, NN__hidden_layer_sizes=(50,) .....................\n"
     ]
    },
    {
     "name": "stderr",
     "output_type": "stream",
     "text": [
      "[Parallel(n_jobs=1)]: Done   8 out of   8 | elapsed:    2.9s remaining:    0.0s\n"
     ]
    },
    {
     "name": "stdout",
     "output_type": "stream",
     "text": [
      "[CV]  NN__alpha=0.1, NN__hidden_layer_sizes=(50,), score=0.472, total=   0.3s\n",
      "[CV] NN__alpha=0.1, NN__hidden_layer_sizes=(50,) .....................\n",
      "[CV]  NN__alpha=0.1, NN__hidden_layer_sizes=(50,), score=0.45366666666666666, total=   0.2s\n",
      "[CV] NN__alpha=0.1, NN__hidden_layer_sizes=(25,) .....................\n"
     ]
    },
    {
     "name": "stderr",
     "output_type": "stream",
     "text": [
      "[Parallel(n_jobs=1)]: Done   9 out of   9 | elapsed:    3.2s remaining:    0.0s\n"
     ]
    },
    {
     "name": "stdout",
     "output_type": "stream",
     "text": [
      "[CV]  NN__alpha=0.1, NN__hidden_layer_sizes=(25,), score=0.5186153846153846, total=   0.3s\n",
      "[CV] NN__alpha=0.1, NN__hidden_layer_sizes=(25,) .....................\n",
      "[CV]  NN__alpha=0.1, NN__hidden_layer_sizes=(25,), score=0.49307692307692325, total=   0.3s\n",
      "[CV] NN__alpha=0.1, NN__hidden_layer_sizes=(25,) .....................\n",
      "[CV]  NN__alpha=0.1, NN__hidden_layer_sizes=(25,), score=0.45621794871794874, total=   0.2s\n",
      "[CV] NN__alpha=0.1, NN__hidden_layer_sizes=(25,) .....................\n",
      "[CV]  NN__alpha=0.1, NN__hidden_layer_sizes=(25,), score=0.5208333333333333, total=   0.2s\n",
      "[CV] NN__alpha=0.1, NN__hidden_layer_sizes=(25,) .....................\n",
      "[CV]  NN__alpha=0.1, NN__hidden_layer_sizes=(25,), score=0.13550000000000004, total=   0.1s\n",
      "[CV] NN__alpha=0.1, NN__hidden_layer_sizes=(25, 25) ..................\n",
      "[CV]  NN__alpha=0.1, NN__hidden_layer_sizes=(25, 25), score=0.5109230769230769, total=   0.3s\n",
      "[CV] NN__alpha=0.1, NN__hidden_layer_sizes=(25, 25) ..................\n",
      "[CV]  NN__alpha=0.1, NN__hidden_layer_sizes=(25, 25), score=0.4881538461538463, total=   0.3s\n",
      "[CV] NN__alpha=0.1, NN__hidden_layer_sizes=(25, 25) ..................\n",
      "[CV]  NN__alpha=0.1, NN__hidden_layer_sizes=(25, 25), score=0.5077307692307693, total=   0.3s\n",
      "[CV] NN__alpha=0.1, NN__hidden_layer_sizes=(25, 25) ..................\n",
      "[CV]  NN__alpha=0.1, NN__hidden_layer_sizes=(25, 25), score=0.09999999999999999, total=   0.1s\n",
      "[CV] NN__alpha=0.1, NN__hidden_layer_sizes=(25, 25) ..................\n",
      "[CV]  NN__alpha=0.1, NN__hidden_layer_sizes=(25, 25), score=0.43033333333333335, total=   0.2s\n",
      "[CV] NN__alpha=0.1, NN__hidden_layer_sizes=(100, 25, 100) ............\n",
      "[CV]  NN__alpha=0.1, NN__hidden_layer_sizes=(100, 25, 100), score=0.5226153846153846, total=   0.5s\n",
      "[CV] NN__alpha=0.1, NN__hidden_layer_sizes=(100, 25, 100) ............\n",
      "[CV]  NN__alpha=0.1, NN__hidden_layer_sizes=(100, 25, 100), score=0.5163076923076925, total=   0.6s\n",
      "[CV] NN__alpha=0.1, NN__hidden_layer_sizes=(100, 25, 100) ............\n",
      "[CV]  NN__alpha=0.1, NN__hidden_layer_sizes=(100, 25, 100), score=0.5661923076923078, total=   0.5s\n",
      "[CV] NN__alpha=0.1, NN__hidden_layer_sizes=(100, 25, 100) ............\n",
      "[CV]  NN__alpha=0.1, NN__hidden_layer_sizes=(100, 25, 100), score=0.456, total=   0.3s\n",
      "[CV] NN__alpha=0.1, NN__hidden_layer_sizes=(100, 25, 100) ............\n",
      "[CV]  NN__alpha=0.1, NN__hidden_layer_sizes=(100, 25, 100), score=0.4108333333333334, total=   0.4s\n",
      "[CV] NN__alpha=0.01, NN__hidden_layer_sizes=(50, 50) .................\n",
      "[CV]  NN__alpha=0.01, NN__hidden_layer_sizes=(50, 50), score=0.5493846153846152, total=   0.4s\n",
      "[CV] NN__alpha=0.01, NN__hidden_layer_sizes=(50, 50) .................\n",
      "[CV]  NN__alpha=0.01, NN__hidden_layer_sizes=(50, 50), score=0.5147692307692309, total=   0.5s\n",
      "[CV] NN__alpha=0.01, NN__hidden_layer_sizes=(50, 50) .................\n",
      "[CV]  NN__alpha=0.01, NN__hidden_layer_sizes=(50, 50), score=0.54, total=   0.3s\n",
      "[CV] NN__alpha=0.01, NN__hidden_layer_sizes=(50, 50) .................\n",
      "[CV]  NN__alpha=0.01, NN__hidden_layer_sizes=(50, 50), score=0.4881666666666667, total=   0.4s\n",
      "[CV] NN__alpha=0.01, NN__hidden_layer_sizes=(50, 50) .................\n",
      "[CV]  NN__alpha=0.01, NN__hidden_layer_sizes=(50, 50), score=0.49966666666666676, total=   0.6s\n",
      "[CV] NN__alpha=0.01, NN__hidden_layer_sizes=(50,) ....................\n",
      "[CV]  NN__alpha=0.01, NN__hidden_layer_sizes=(50,), score=0.5095384615384614, total=   0.2s\n",
      "[CV] NN__alpha=0.01, NN__hidden_layer_sizes=(50,) ....................\n",
      "[CV]  NN__alpha=0.01, NN__hidden_layer_sizes=(50,), score=0.4707692307692309, total=   0.3s\n",
      "[CV] NN__alpha=0.01, NN__hidden_layer_sizes=(50,) ....................\n",
      "[CV]  NN__alpha=0.01, NN__hidden_layer_sizes=(50,), score=0.5604102564102564, total=   0.3s\n",
      "[CV] NN__alpha=0.01, NN__hidden_layer_sizes=(50,) ....................\n",
      "[CV]  NN__alpha=0.01, NN__hidden_layer_sizes=(50,), score=0.46799999999999997, total=   0.2s\n",
      "[CV] NN__alpha=0.01, NN__hidden_layer_sizes=(50,) ....................\n",
      "[CV]  NN__alpha=0.01, NN__hidden_layer_sizes=(50,), score=0.43383333333333335, total=   0.2s\n",
      "[CV] NN__alpha=0.01, NN__hidden_layer_sizes=(25,) ....................\n",
      "[CV]  NN__alpha=0.01, NN__hidden_layer_sizes=(25,), score=0.5226153846153846, total=   0.3s\n",
      "[CV] NN__alpha=0.01, NN__hidden_layer_sizes=(25,) ....................\n",
      "[CV]  NN__alpha=0.01, NN__hidden_layer_sizes=(25,), score=0.4926153846153848, total=   0.2s\n",
      "[CV] NN__alpha=0.01, NN__hidden_layer_sizes=(25,) ....................\n",
      "[CV]  NN__alpha=0.01, NN__hidden_layer_sizes=(25,), score=0.5717435897435899, total=   0.3s\n",
      "[CV] NN__alpha=0.01, NN__hidden_layer_sizes=(25,) ....................\n",
      "[CV]  NN__alpha=0.01, NN__hidden_layer_sizes=(25,), score=0.501, total=   0.2s\n",
      "[CV] NN__alpha=0.01, NN__hidden_layer_sizes=(25,) ....................\n",
      "[CV]  NN__alpha=0.01, NN__hidden_layer_sizes=(25,), score=0.13550000000000004, total=   0.1s\n",
      "[CV] NN__alpha=0.01, NN__hidden_layer_sizes=(25, 25) .................\n",
      "[CV]  NN__alpha=0.01, NN__hidden_layer_sizes=(25, 25), score=0.5224615384615384, total=   0.3s\n",
      "[CV] NN__alpha=0.01, NN__hidden_layer_sizes=(25, 25) .................\n",
      "[CV]  NN__alpha=0.01, NN__hidden_layer_sizes=(25, 25), score=0.48430769230769244, total=   0.3s\n",
      "[CV] NN__alpha=0.01, NN__hidden_layer_sizes=(25, 25) .................\n",
      "[CV]  NN__alpha=0.01, NN__hidden_layer_sizes=(25, 25), score=0.5077307692307693, total=   0.2s\n",
      "[CV] NN__alpha=0.01, NN__hidden_layer_sizes=(25, 25) .................\n",
      "[CV]  NN__alpha=0.01, NN__hidden_layer_sizes=(25, 25), score=0.09999999999999999, total=   0.1s\n",
      "[CV] NN__alpha=0.01, NN__hidden_layer_sizes=(25, 25) .................\n",
      "[CV]  NN__alpha=0.01, NN__hidden_layer_sizes=(25, 25), score=0.43033333333333335, total=   0.2s\n",
      "[CV] NN__alpha=0.01, NN__hidden_layer_sizes=(100, 25, 100) ...........\n",
      "[CV]  NN__alpha=0.01, NN__hidden_layer_sizes=(100, 25, 100), score=0.5226153846153846, total=   0.4s\n",
      "[CV] NN__alpha=0.01, NN__hidden_layer_sizes=(100, 25, 100) ...........\n",
      "[CV]  NN__alpha=0.01, NN__hidden_layer_sizes=(100, 25, 100), score=0.5040000000000001, total=   0.4s\n",
      "[CV] NN__alpha=0.01, NN__hidden_layer_sizes=(100, 25, 100) ...........\n",
      "[CV]  NN__alpha=0.01, NN__hidden_layer_sizes=(100, 25, 100), score=0.5620256410256411, total=   0.5s\n",
      "[CV] NN__alpha=0.01, NN__hidden_layer_sizes=(100, 25, 100) ...........\n",
      "[CV]  NN__alpha=0.01, NN__hidden_layer_sizes=(100, 25, 100), score=0.456, total=   0.3s\n",
      "[CV] NN__alpha=0.01, NN__hidden_layer_sizes=(100, 25, 100) ...........\n",
      "[CV]  NN__alpha=0.01, NN__hidden_layer_sizes=(100, 25, 100), score=0.41066666666666674, total=   0.3s\n",
      "[CV] NN__alpha=0.001, NN__hidden_layer_sizes=(50, 50) ................\n",
      "[CV]  NN__alpha=0.001, NN__hidden_layer_sizes=(50, 50), score=0.5493846153846152, total=   0.4s\n",
      "[CV] NN__alpha=0.001, NN__hidden_layer_sizes=(50, 50) ................\n",
      "[CV]  NN__alpha=0.001, NN__hidden_layer_sizes=(50, 50), score=0.5147692307692309, total=   0.4s\n",
      "[CV] NN__alpha=0.001, NN__hidden_layer_sizes=(50, 50) ................\n",
      "[CV]  NN__alpha=0.001, NN__hidden_layer_sizes=(50, 50), score=0.552, total=   0.3s\n",
      "[CV] NN__alpha=0.001, NN__hidden_layer_sizes=(50, 50) ................\n",
      "[CV]  NN__alpha=0.001, NN__hidden_layer_sizes=(50, 50), score=0.4881666666666667, total=   0.3s\n",
      "[CV] NN__alpha=0.001, NN__hidden_layer_sizes=(50, 50) ................\n",
      "[CV]  NN__alpha=0.001, NN__hidden_layer_sizes=(50, 50), score=0.49966666666666676, total=   0.4s\n",
      "[CV] NN__alpha=0.001, NN__hidden_layer_sizes=(50,) ...................\n",
      "[CV]  NN__alpha=0.001, NN__hidden_layer_sizes=(50,), score=0.5095384615384614, total=   0.2s\n",
      "[CV] NN__alpha=0.001, NN__hidden_layer_sizes=(50,) ...................\n",
      "[CV]  NN__alpha=0.001, NN__hidden_layer_sizes=(50,), score=0.4707692307692309, total=   0.2s\n",
      "[CV] NN__alpha=0.001, NN__hidden_layer_sizes=(50,) ...................\n",
      "[CV]  NN__alpha=0.001, NN__hidden_layer_sizes=(50,), score=0.5577435897435897, total=   0.2s\n",
      "[CV] NN__alpha=0.001, NN__hidden_layer_sizes=(50,) ...................\n",
      "[CV]  NN__alpha=0.001, NN__hidden_layer_sizes=(50,), score=0.46799999999999997, total=   0.2s\n",
      "[CV] NN__alpha=0.001, NN__hidden_layer_sizes=(50,) ...................\n",
      "[CV]  NN__alpha=0.001, NN__hidden_layer_sizes=(50,), score=0.43383333333333335, total=   0.2s\n",
      "[CV] NN__alpha=0.001, NN__hidden_layer_sizes=(25,) ...................\n"
     ]
    },
    {
     "name": "stdout",
     "output_type": "stream",
     "text": [
      "[CV]  NN__alpha=0.001, NN__hidden_layer_sizes=(25,), score=0.5226153846153846, total=   0.2s\n",
      "[CV] NN__alpha=0.001, NN__hidden_layer_sizes=(25,) ...................\n",
      "[CV]  NN__alpha=0.001, NN__hidden_layer_sizes=(25,), score=0.5004615384615386, total=   0.2s\n",
      "[CV] NN__alpha=0.001, NN__hidden_layer_sizes=(25,) ...................\n",
      "[CV]  NN__alpha=0.001, NN__hidden_layer_sizes=(25,), score=0.46006410256410263, total=   0.2s\n",
      "[CV] NN__alpha=0.001, NN__hidden_layer_sizes=(25,) ...................\n",
      "[CV]  NN__alpha=0.001, NN__hidden_layer_sizes=(25,), score=0.501, total=   0.2s\n",
      "[CV] NN__alpha=0.001, NN__hidden_layer_sizes=(25,) ...................\n",
      "[CV]  NN__alpha=0.001, NN__hidden_layer_sizes=(25,), score=0.13550000000000004, total=   0.1s\n",
      "[CV] NN__alpha=0.001, NN__hidden_layer_sizes=(25, 25) ................\n",
      "[CV]  NN__alpha=0.001, NN__hidden_layer_sizes=(25, 25), score=0.5149230769230769, total=   0.3s\n",
      "[CV] NN__alpha=0.001, NN__hidden_layer_sizes=(25, 25) ................\n",
      "[CV]  NN__alpha=0.001, NN__hidden_layer_sizes=(25, 25), score=0.4881538461538463, total=   0.4s\n",
      "[CV] NN__alpha=0.001, NN__hidden_layer_sizes=(25, 25) ................\n",
      "[CV]  NN__alpha=0.001, NN__hidden_layer_sizes=(25, 25), score=0.5117307692307693, total=   0.2s\n",
      "[CV] NN__alpha=0.001, NN__hidden_layer_sizes=(25, 25) ................\n",
      "[CV]  NN__alpha=0.001, NN__hidden_layer_sizes=(25, 25), score=0.09999999999999999, total=   0.1s\n",
      "[CV] NN__alpha=0.001, NN__hidden_layer_sizes=(25, 25) ................\n",
      "[CV]  NN__alpha=0.001, NN__hidden_layer_sizes=(25, 25), score=0.43033333333333335, total=   0.2s\n",
      "[CV] NN__alpha=0.001, NN__hidden_layer_sizes=(100, 25, 100) ..........\n",
      "[CV]  NN__alpha=0.001, NN__hidden_layer_sizes=(100, 25, 100), score=0.5186153846153846, total=   0.4s\n",
      "[CV] NN__alpha=0.001, NN__hidden_layer_sizes=(100, 25, 100) ..........\n",
      "[CV]  NN__alpha=0.001, NN__hidden_layer_sizes=(100, 25, 100), score=0.5080000000000002, total=   0.5s\n",
      "[CV] NN__alpha=0.001, NN__hidden_layer_sizes=(100, 25, 100) ..........\n",
      "[CV]  NN__alpha=0.001, NN__hidden_layer_sizes=(100, 25, 100), score=0.5581794871794873, total=   0.5s\n",
      "[CV] NN__alpha=0.001, NN__hidden_layer_sizes=(100, 25, 100) ..........\n",
      "[CV]  NN__alpha=0.001, NN__hidden_layer_sizes=(100, 25, 100), score=0.456, total=   0.3s\n",
      "[CV] NN__alpha=0.001, NN__hidden_layer_sizes=(100, 25, 100) ..........\n",
      "[CV]  NN__alpha=0.001, NN__hidden_layer_sizes=(100, 25, 100), score=0.40666666666666673, total=   0.4s\n",
      "[CV] NN__alpha=0.0001, NN__hidden_layer_sizes=(50, 50) ...............\n",
      "[CV]  NN__alpha=0.0001, NN__hidden_layer_sizes=(50, 50), score=0.5493846153846152, total=   0.4s\n",
      "[CV] NN__alpha=0.0001, NN__hidden_layer_sizes=(50, 50) ...............\n",
      "[CV]  NN__alpha=0.0001, NN__hidden_layer_sizes=(50, 50), score=0.518769230769231, total=   0.4s\n",
      "[CV] NN__alpha=0.0001, NN__hidden_layer_sizes=(50, 50) ...............\n",
      "[CV]  NN__alpha=0.0001, NN__hidden_layer_sizes=(50, 50), score=0.552, total=   0.4s\n",
      "[CV] NN__alpha=0.0001, NN__hidden_layer_sizes=(50, 50) ...............\n",
      "[CV]  NN__alpha=0.0001, NN__hidden_layer_sizes=(50, 50), score=0.48416666666666663, total=   0.3s\n",
      "[CV] NN__alpha=0.0001, NN__hidden_layer_sizes=(50, 50) ...............\n",
      "[CV]  NN__alpha=0.0001, NN__hidden_layer_sizes=(50, 50), score=0.49966666666666676, total=   0.5s\n",
      "[CV] NN__alpha=0.0001, NN__hidden_layer_sizes=(50,) ..................\n",
      "[CV]  NN__alpha=0.0001, NN__hidden_layer_sizes=(50,), score=0.5095384615384614, total=   0.2s\n",
      "[CV] NN__alpha=0.0001, NN__hidden_layer_sizes=(50,) ..................\n",
      "[CV]  NN__alpha=0.0001, NN__hidden_layer_sizes=(50,), score=0.4667692307692309, total=   0.2s\n",
      "[CV] NN__alpha=0.0001, NN__hidden_layer_sizes=(50,) ..................\n",
      "[CV]  NN__alpha=0.0001, NN__hidden_layer_sizes=(50,), score=0.5617435897435897, total=   0.2s\n",
      "[CV] NN__alpha=0.0001, NN__hidden_layer_sizes=(50,) ..................\n",
      "[CV]  NN__alpha=0.0001, NN__hidden_layer_sizes=(50,), score=0.4759999999999999, total=   0.3s\n",
      "[CV] NN__alpha=0.0001, NN__hidden_layer_sizes=(50,) ..................\n",
      "[CV]  NN__alpha=0.0001, NN__hidden_layer_sizes=(50,), score=0.43383333333333335, total=   0.2s\n",
      "[CV] NN__alpha=0.0001, NN__hidden_layer_sizes=(25,) ..................\n",
      "[CV]  NN__alpha=0.0001, NN__hidden_layer_sizes=(25,), score=0.5226153846153846, total=   0.2s\n",
      "[CV] NN__alpha=0.0001, NN__hidden_layer_sizes=(25,) ..................\n",
      "[CV]  NN__alpha=0.0001, NN__hidden_layer_sizes=(25,), score=0.5004615384615386, total=   0.3s\n",
      "[CV] NN__alpha=0.0001, NN__hidden_layer_sizes=(25,) ..................\n",
      "[CV]  NN__alpha=0.0001, NN__hidden_layer_sizes=(25,), score=0.46406410256410263, total=   0.2s\n",
      "[CV] NN__alpha=0.0001, NN__hidden_layer_sizes=(25,) ..................\n",
      "[CV]  NN__alpha=0.0001, NN__hidden_layer_sizes=(25,), score=0.501, total=   0.2s\n",
      "[CV] NN__alpha=0.0001, NN__hidden_layer_sizes=(25,) ..................\n",
      "[CV]  NN__alpha=0.0001, NN__hidden_layer_sizes=(25,), score=0.13550000000000004, total=   0.1s\n",
      "[CV] NN__alpha=0.0001, NN__hidden_layer_sizes=(25, 25) ...............\n",
      "[CV]  NN__alpha=0.0001, NN__hidden_layer_sizes=(25, 25), score=0.5147692307692308, total=   0.3s\n",
      "[CV] NN__alpha=0.0001, NN__hidden_layer_sizes=(25, 25) ...............\n",
      "[CV]  NN__alpha=0.0001, NN__hidden_layer_sizes=(25, 25), score=0.48430769230769244, total=   0.3s\n",
      "[CV] NN__alpha=0.0001, NN__hidden_layer_sizes=(25, 25) ...............\n",
      "[CV]  NN__alpha=0.0001, NN__hidden_layer_sizes=(25, 25), score=0.5117307692307693, total=   0.2s\n",
      "[CV] NN__alpha=0.0001, NN__hidden_layer_sizes=(25, 25) ...............\n",
      "[CV]  NN__alpha=0.0001, NN__hidden_layer_sizes=(25, 25), score=0.09999999999999999, total=   0.1s\n",
      "[CV] NN__alpha=0.0001, NN__hidden_layer_sizes=(25, 25) ...............\n",
      "[CV]  NN__alpha=0.0001, NN__hidden_layer_sizes=(25, 25), score=0.43033333333333335, total=   0.2s\n",
      "[CV] NN__alpha=0.0001, NN__hidden_layer_sizes=(100, 25, 100) .........\n",
      "[CV]  NN__alpha=0.0001, NN__hidden_layer_sizes=(100, 25, 100), score=0.5224615384615384, total=   0.5s\n",
      "[CV] NN__alpha=0.0001, NN__hidden_layer_sizes=(100, 25, 100) .........\n",
      "[CV]  NN__alpha=0.0001, NN__hidden_layer_sizes=(100, 25, 100), score=0.5120000000000002, total=   0.5s\n",
      "[CV] NN__alpha=0.0001, NN__hidden_layer_sizes=(100, 25, 100) .........\n",
      "[CV]  NN__alpha=0.0001, NN__hidden_layer_sizes=(100, 25, 100), score=0.5581794871794873, total=   0.5s\n",
      "[CV] NN__alpha=0.0001, NN__hidden_layer_sizes=(100, 25, 100) .........\n",
      "[CV]  NN__alpha=0.0001, NN__hidden_layer_sizes=(100, 25, 100), score=0.46, total=   0.3s\n",
      "[CV] NN__alpha=0.0001, NN__hidden_layer_sizes=(100, 25, 100) .........\n",
      "[CV]  NN__alpha=0.0001, NN__hidden_layer_sizes=(100, 25, 100), score=0.4108333333333334, total=   0.3s\n"
     ]
    },
    {
     "name": "stderr",
     "output_type": "stream",
     "text": [
      "[Parallel(n_jobs=1)]: Done 100 out of 100 | elapsed:   30.3s finished\n",
      "/Users/frankz/anaconda3/lib/python3.7/site-packages/sklearn/model_selection/_search.py:841: DeprecationWarning: The default of the `iid` parameter will change from True to False in version 0.22 and will be removed in 0.24. This will change numeric results when test-set sizes are unequal.\n",
      "  DeprecationWarning)\n"
     ]
    }
   ],
   "source": [
    "pipe = Pipeline([('rp', rp), ('gmm', gmm), ('NN', mlp)])\n",
    "gs, best_estimator, final_estimator = gs_with_best_estimator(pipe, grid)"
   ]
  },
  {
   "cell_type": "code",
   "execution_count": 187,
   "metadata": {},
   "outputs": [
    {
     "data": {
      "text/plain": [
       "Pipeline(memory=None,\n",
       "     steps=[('rp', SparseRandomProjection(dense_output=False, density='auto', eps=0.1,\n",
       "            n_components=9, random_state=7)), ('gmm', CustomGMM(covariance_type='full', init_params='kmeans', max_iter=100,\n",
       "     means_init=None, n_components=10, n_init=1, precisions_init=None,\n",
       "     random_state=7, re...=True, solver='adam', tol=0.0001,\n",
       "       validation_fraction=0.1, verbose=False, warm_start=False))])"
      ]
     },
     "execution_count": 187,
     "metadata": {},
     "output_type": "execute_result"
    }
   ],
   "source": [
    "best_estimator"
   ]
  },
  {
   "cell_type": "code",
   "execution_count": 188,
   "metadata": {},
   "outputs": [
    {
     "data": {
      "text/plain": [
       "MLPClassifier(activation='relu', alpha=0.0001, batch_size='auto', beta_1=0.9,\n",
       "       beta_2=0.999, early_stopping=True, epsilon=1e-08,\n",
       "       hidden_layer_sizes=(50, 50), learning_rate='constant',\n",
       "       learning_rate_init=0.001, max_iter=2000, momentum=0.9,\n",
       "       n_iter_no_change=10, nesterovs_momentum=True, power_t=0.5,\n",
       "       random_state=7, shuffle=True, solver='adam', tol=0.0001,\n",
       "       validation_fraction=0.1, verbose=False, warm_start=False)"
      ]
     },
     "execution_count": 188,
     "metadata": {},
     "output_type": "execute_result"
    }
   ],
   "source": [
    "final_estimator"
   ]
  },
  {
   "cell_type": "code",
   "execution_count": 189,
   "metadata": {
    "scrolled": true
   },
   "outputs": [
    {
     "data": {
      "text/plain": [
       "0.5608591885441527"
      ]
     },
     "execution_count": 189,
     "metadata": {},
     "output_type": "execute_result"
    }
   ],
   "source": [
    "best_estimator.score(training_x, training_y)"
   ]
  },
  {
   "cell_type": "code",
   "execution_count": 190,
   "metadata": {
    "scrolled": true
   },
   "outputs": [
    {
     "data": {
      "text/plain": [
       "0.5574074074074075"
      ]
     },
     "execution_count": 190,
     "metadata": {},
     "output_type": "execute_result"
    }
   ],
   "source": [
    "best_estimator.score(testing_x, testing_y)"
   ]
  },
  {
   "cell_type": "markdown",
   "metadata": {},
   "source": [
    "### RF"
   ]
  },
  {
   "cell_type": "code",
   "execution_count": 191,
   "metadata": {},
   "outputs": [],
   "source": [
    "from sklearn.ensemble import RandomForestClassifier"
   ]
  },
  {
   "cell_type": "code",
   "execution_count": 192,
   "metadata": {},
   "outputs": [],
   "source": [
    "from sklearn.base import TransformerMixin,BaseEstimator"
   ]
  },
  {
   "cell_type": "code",
   "execution_count": 193,
   "metadata": {},
   "outputs": [],
   "source": [
    "class ImportanceSelect(BaseEstimator, TransformerMixin):\n",
    "    def __init__(self, model, n=1):\n",
    "        self.model = model\n",
    "        self.n = n\n",
    "\n",
    "    def fit(self, *args, **kwargs):\n",
    "        self.model.fit(*args, **kwargs)\n",
    "        return self\n",
    "\n",
    "    def transform(self, X):\n",
    "        return X[:, self.model.feature_importances_.argsort()[::-1][:self.n]]"
   ]
  },
  {
   "cell_type": "code",
   "execution_count": 194,
   "metadata": {},
   "outputs": [],
   "source": [
    "rfc = RandomForestClassifier(n_estimators=100, class_weight='balanced', random_state=seed)\n",
    "filtr = ImportanceSelect(rfc, 11)"
   ]
  },
  {
   "cell_type": "code",
   "execution_count": 195,
   "metadata": {
    "scrolled": true
   },
   "outputs": [
    {
     "name": "stdout",
     "output_type": "stream",
     "text": [
      "Fitting 5 folds for each of 20 candidates, totalling 100 fits\n",
      "[CV] NN__alpha=0.1, NN__hidden_layer_sizes=(50, 50) ..................\n"
     ]
    },
    {
     "name": "stderr",
     "output_type": "stream",
     "text": [
      "[Parallel(n_jobs=1)]: Using backend SequentialBackend with 1 concurrent workers.\n"
     ]
    },
    {
     "name": "stdout",
     "output_type": "stream",
     "text": [
      "[CV]  NN__alpha=0.1, NN__hidden_layer_sizes=(50, 50), score=0.793076923076923, total=   0.9s\n",
      "[CV] NN__alpha=0.1, NN__hidden_layer_sizes=(50, 50) ..................\n"
     ]
    },
    {
     "name": "stderr",
     "output_type": "stream",
     "text": [
      "[Parallel(n_jobs=1)]: Done   1 out of   1 | elapsed:    0.9s remaining:    0.0s\n"
     ]
    },
    {
     "name": "stdout",
     "output_type": "stream",
     "text": [
      "[CV]  NN__alpha=0.1, NN__hidden_layer_sizes=(50, 50), score=0.7613846153846155, total=   0.6s\n",
      "[CV] NN__alpha=0.1, NN__hidden_layer_sizes=(50, 50) ..................\n"
     ]
    },
    {
     "name": "stderr",
     "output_type": "stream",
     "text": [
      "[Parallel(n_jobs=1)]: Done   2 out of   2 | elapsed:    1.5s remaining:    0.0s\n"
     ]
    },
    {
     "name": "stdout",
     "output_type": "stream",
     "text": [
      "[CV]  NN__alpha=0.1, NN__hidden_layer_sizes=(50, 50), score=0.7949615384615385, total=   0.6s\n",
      "[CV] NN__alpha=0.1, NN__hidden_layer_sizes=(50, 50) ..................\n"
     ]
    },
    {
     "name": "stderr",
     "output_type": "stream",
     "text": [
      "[Parallel(n_jobs=1)]: Done   3 out of   3 | elapsed:    2.1s remaining:    0.0s\n"
     ]
    },
    {
     "name": "stdout",
     "output_type": "stream",
     "text": [
      "[CV]  NN__alpha=0.1, NN__hidden_layer_sizes=(50, 50), score=0.7458333333333332, total=   0.6s\n",
      "[CV] NN__alpha=0.1, NN__hidden_layer_sizes=(50, 50) ..................\n"
     ]
    },
    {
     "name": "stderr",
     "output_type": "stream",
     "text": [
      "[Parallel(n_jobs=1)]: Done   4 out of   4 | elapsed:    2.7s remaining:    0.0s\n"
     ]
    },
    {
     "name": "stdout",
     "output_type": "stream",
     "text": [
      "[CV]  NN__alpha=0.1, NN__hidden_layer_sizes=(50, 50), score=0.6818333333333334, total=   0.5s\n",
      "[CV] NN__alpha=0.1, NN__hidden_layer_sizes=(50,) .....................\n"
     ]
    },
    {
     "name": "stderr",
     "output_type": "stream",
     "text": [
      "[Parallel(n_jobs=1)]: Done   5 out of   5 | elapsed:    3.2s remaining:    0.0s\n"
     ]
    },
    {
     "name": "stdout",
     "output_type": "stream",
     "text": [
      "[CV]  NN__alpha=0.1, NN__hidden_layer_sizes=(50,), score=0.6878461538461539, total=   0.5s\n",
      "[CV] NN__alpha=0.1, NN__hidden_layer_sizes=(50,) .....................\n"
     ]
    },
    {
     "name": "stderr",
     "output_type": "stream",
     "text": [
      "[Parallel(n_jobs=1)]: Done   6 out of   6 | elapsed:    3.7s remaining:    0.0s\n"
     ]
    },
    {
     "name": "stdout",
     "output_type": "stream",
     "text": [
      "[CV]  NN__alpha=0.1, NN__hidden_layer_sizes=(50,), score=0.7306153846153847, total=   0.5s\n",
      "[CV] NN__alpha=0.1, NN__hidden_layer_sizes=(50,) .....................\n"
     ]
    },
    {
     "name": "stderr",
     "output_type": "stream",
     "text": [
      "[Parallel(n_jobs=1)]: Done   7 out of   7 | elapsed:    4.2s remaining:    0.0s\n"
     ]
    },
    {
     "name": "stdout",
     "output_type": "stream",
     "text": [
      "[CV]  NN__alpha=0.1, NN__hidden_layer_sizes=(50,), score=0.7992948717948718, total=   0.6s\n",
      "[CV] NN__alpha=0.1, NN__hidden_layer_sizes=(50,) .....................\n"
     ]
    },
    {
     "name": "stderr",
     "output_type": "stream",
     "text": [
      "[Parallel(n_jobs=1)]: Done   8 out of   8 | elapsed:    4.8s remaining:    0.0s\n"
     ]
    },
    {
     "name": "stdout",
     "output_type": "stream",
     "text": [
      "[CV]  NN__alpha=0.1, NN__hidden_layer_sizes=(50,), score=0.7581666666666667, total=   0.5s\n",
      "[CV] NN__alpha=0.1, NN__hidden_layer_sizes=(50,) .....................\n"
     ]
    },
    {
     "name": "stderr",
     "output_type": "stream",
     "text": [
      "[Parallel(n_jobs=1)]: Done   9 out of   9 | elapsed:    5.3s remaining:    0.0s\n"
     ]
    },
    {
     "name": "stdout",
     "output_type": "stream",
     "text": [
      "[CV]  NN__alpha=0.1, NN__hidden_layer_sizes=(50,), score=0.6633333333333333, total=   0.4s\n",
      "[CV] NN__alpha=0.1, NN__hidden_layer_sizes=(25,) .....................\n",
      "[CV]  NN__alpha=0.1, NN__hidden_layer_sizes=(25,), score=0.09999999999999998, total=   0.4s\n",
      "[CV] NN__alpha=0.1, NN__hidden_layer_sizes=(25,) .....................\n",
      "[CV]  NN__alpha=0.1, NN__hidden_layer_sizes=(25,), score=0.19200000000000003, total=   0.4s\n",
      "[CV] NN__alpha=0.1, NN__hidden_layer_sizes=(25,) .....................\n",
      "[CV]  NN__alpha=0.1, NN__hidden_layer_sizes=(25,), score=0.2915, total=   0.4s\n",
      "[CV] NN__alpha=0.1, NN__hidden_layer_sizes=(25,) .....................\n",
      "[CV]  NN__alpha=0.1, NN__hidden_layer_sizes=(25,), score=0.6735, total=   0.6s\n",
      "[CV] NN__alpha=0.1, NN__hidden_layer_sizes=(25,) .....................\n",
      "[CV]  NN__alpha=0.1, NN__hidden_layer_sizes=(25,), score=0.19166666666666665, total=   0.4s\n",
      "[CV] NN__alpha=0.1, NN__hidden_layer_sizes=(25, 25) ..................\n",
      "[CV]  NN__alpha=0.1, NN__hidden_layer_sizes=(25, 25), score=0.643076923076923, total=   0.5s\n",
      "[CV] NN__alpha=0.1, NN__hidden_layer_sizes=(25, 25) ..................\n",
      "[CV]  NN__alpha=0.1, NN__hidden_layer_sizes=(25, 25), score=0.7056923076923078, total=   0.5s\n",
      "[CV] NN__alpha=0.1, NN__hidden_layer_sizes=(25, 25) ..................\n",
      "[CV]  NN__alpha=0.1, NN__hidden_layer_sizes=(25, 25), score=0.7627692307692308, total=   0.5s\n",
      "[CV] NN__alpha=0.1, NN__hidden_layer_sizes=(25, 25) ..................\n",
      "[CV]  NN__alpha=0.1, NN__hidden_layer_sizes=(25, 25), score=0.698, total=   0.5s\n",
      "[CV] NN__alpha=0.1, NN__hidden_layer_sizes=(25, 25) ..................\n",
      "[CV]  NN__alpha=0.1, NN__hidden_layer_sizes=(25, 25), score=0.6671666666666667, total=   0.5s\n",
      "[CV] NN__alpha=0.1, NN__hidden_layer_sizes=(100, 25, 100) ............\n",
      "[CV]  NN__alpha=0.1, NN__hidden_layer_sizes=(100, 25, 100), score=0.7376923076923078, total=   0.7s\n",
      "[CV] NN__alpha=0.1, NN__hidden_layer_sizes=(100, 25, 100) ............\n",
      "[CV]  NN__alpha=0.1, NN__hidden_layer_sizes=(100, 25, 100), score=0.7652307692307694, total=   0.8s\n",
      "[CV] NN__alpha=0.1, NN__hidden_layer_sizes=(100, 25, 100) ............\n",
      "[CV]  NN__alpha=0.1, NN__hidden_layer_sizes=(100, 25, 100), score=0.8201025641025641, total=   1.0s\n",
      "[CV] NN__alpha=0.1, NN__hidden_layer_sizes=(100, 25, 100) ............\n",
      "[CV]  NN__alpha=0.1, NN__hidden_layer_sizes=(100, 25, 100), score=0.7705000000000001, total=   1.0s\n",
      "[CV] NN__alpha=0.1, NN__hidden_layer_sizes=(100, 25, 100) ............\n",
      "[CV]  NN__alpha=0.1, NN__hidden_layer_sizes=(100, 25, 100), score=0.7731666666666668, total=   0.9s\n",
      "[CV] NN__alpha=0.01, NN__hidden_layer_sizes=(50, 50) .................\n",
      "[CV]  NN__alpha=0.01, NN__hidden_layer_sizes=(50, 50), score=0.7855384615384615, total=   0.8s\n",
      "[CV] NN__alpha=0.01, NN__hidden_layer_sizes=(50, 50) .................\n",
      "[CV]  NN__alpha=0.01, NN__hidden_layer_sizes=(50, 50), score=0.7575384615384617, total=   0.6s\n",
      "[CV] NN__alpha=0.01, NN__hidden_layer_sizes=(50, 50) .................\n",
      "[CV]  NN__alpha=0.01, NN__hidden_layer_sizes=(50, 50), score=0.7909615384615385, total=   0.6s\n",
      "[CV] NN__alpha=0.01, NN__hidden_layer_sizes=(50, 50) .................\n",
      "[CV]  NN__alpha=0.01, NN__hidden_layer_sizes=(50, 50), score=0.7456666666666667, total=   0.6s\n",
      "[CV] NN__alpha=0.01, NN__hidden_layer_sizes=(50, 50) .................\n",
      "[CV]  NN__alpha=0.01, NN__hidden_layer_sizes=(50, 50), score=0.7556666666666667, total=   0.6s\n",
      "[CV] NN__alpha=0.01, NN__hidden_layer_sizes=(50,) ....................\n",
      "[CV]  NN__alpha=0.01, NN__hidden_layer_sizes=(50,), score=0.6878461538461539, total=   0.5s\n",
      "[CV] NN__alpha=0.01, NN__hidden_layer_sizes=(50,) ....................\n",
      "[CV]  NN__alpha=0.01, NN__hidden_layer_sizes=(50,), score=0.7306153846153847, total=   0.5s\n",
      "[CV] NN__alpha=0.01, NN__hidden_layer_sizes=(50,) ....................\n",
      "[CV]  NN__alpha=0.01, NN__hidden_layer_sizes=(50,), score=0.7912948717948718, total=   0.5s\n",
      "[CV] NN__alpha=0.01, NN__hidden_layer_sizes=(50,) ....................\n",
      "[CV]  NN__alpha=0.01, NN__hidden_layer_sizes=(50,), score=0.7016666666666667, total=   0.4s\n",
      "[CV] NN__alpha=0.01, NN__hidden_layer_sizes=(50,) ....................\n",
      "[CV]  NN__alpha=0.01, NN__hidden_layer_sizes=(50,), score=0.6553333333333333, total=   0.4s\n",
      "[CV] NN__alpha=0.01, NN__hidden_layer_sizes=(25,) ....................\n",
      "[CV]  NN__alpha=0.01, NN__hidden_layer_sizes=(25,), score=0.09999999999999998, total=   0.3s\n",
      "[CV] NN__alpha=0.01, NN__hidden_layer_sizes=(25,) ....................\n",
      "[CV]  NN__alpha=0.01, NN__hidden_layer_sizes=(25,), score=0.19200000000000003, total=   0.4s\n",
      "[CV] NN__alpha=0.01, NN__hidden_layer_sizes=(25,) ....................\n",
      "[CV]  NN__alpha=0.01, NN__hidden_layer_sizes=(25,), score=0.2915, total=   0.4s\n",
      "[CV] NN__alpha=0.01, NN__hidden_layer_sizes=(25,) ....................\n",
      "[CV]  NN__alpha=0.01, NN__hidden_layer_sizes=(25,), score=0.6735, total=   0.5s\n",
      "[CV] NN__alpha=0.01, NN__hidden_layer_sizes=(25,) ....................\n",
      "[CV]  NN__alpha=0.01, NN__hidden_layer_sizes=(25,), score=0.19166666666666665, total=   0.3s\n",
      "[CV] NN__alpha=0.01, NN__hidden_layer_sizes=(25, 25) .................\n",
      "[CV]  NN__alpha=0.01, NN__hidden_layer_sizes=(25, 25), score=0.643076923076923, total=   0.5s\n",
      "[CV] NN__alpha=0.01, NN__hidden_layer_sizes=(25, 25) .................\n",
      "[CV]  NN__alpha=0.01, NN__hidden_layer_sizes=(25, 25), score=0.7690769230769232, total=   0.6s\n",
      "[CV] NN__alpha=0.01, NN__hidden_layer_sizes=(25, 25) .................\n",
      "[CV]  NN__alpha=0.01, NN__hidden_layer_sizes=(25, 25), score=0.7791153846153845, total=   0.5s\n",
      "[CV] NN__alpha=0.01, NN__hidden_layer_sizes=(25, 25) .................\n",
      "[CV]  NN__alpha=0.01, NN__hidden_layer_sizes=(25, 25), score=0.6535, total=   0.4s\n",
      "[CV] NN__alpha=0.01, NN__hidden_layer_sizes=(25, 25) .................\n",
      "[CV]  NN__alpha=0.01, NN__hidden_layer_sizes=(25, 25), score=0.6508333333333334, total=   0.4s\n",
      "[CV] NN__alpha=0.01, NN__hidden_layer_sizes=(100, 25, 100) ...........\n",
      "[CV]  NN__alpha=0.01, NN__hidden_layer_sizes=(100, 25, 100), score=0.7376923076923078, total=   0.6s\n",
      "[CV] NN__alpha=0.01, NN__hidden_layer_sizes=(100, 25, 100) ...........\n",
      "[CV]  NN__alpha=0.01, NN__hidden_layer_sizes=(100, 25, 100), score=0.7456923076923078, total=   0.6s\n",
      "[CV] NN__alpha=0.01, NN__hidden_layer_sizes=(100, 25, 100) ...........\n",
      "[CV]  NN__alpha=0.01, NN__hidden_layer_sizes=(100, 25, 100), score=0.8201025641025641, total=   1.0s\n",
      "[CV] NN__alpha=0.01, NN__hidden_layer_sizes=(100, 25, 100) ...........\n",
      "[CV]  NN__alpha=0.01, NN__hidden_layer_sizes=(100, 25, 100), score=0.7785, total=   0.9s\n",
      "[CV] NN__alpha=0.01, NN__hidden_layer_sizes=(100, 25, 100) ...........\n",
      "[CV]  NN__alpha=0.01, NN__hidden_layer_sizes=(100, 25, 100), score=0.7770000000000001, total=   0.9s\n",
      "[CV] NN__alpha=0.001, NN__hidden_layer_sizes=(50, 50) ................\n",
      "[CV]  NN__alpha=0.001, NN__hidden_layer_sizes=(50, 50), score=0.7816923076923077, total=   0.7s\n",
      "[CV] NN__alpha=0.001, NN__hidden_layer_sizes=(50, 50) ................\n",
      "[CV]  NN__alpha=0.001, NN__hidden_layer_sizes=(50, 50), score=0.7575384615384617, total=   0.6s\n",
      "[CV] NN__alpha=0.001, NN__hidden_layer_sizes=(50, 50) ................\n",
      "[CV]  NN__alpha=0.001, NN__hidden_layer_sizes=(50, 50), score=0.7949615384615385, total=   0.6s\n",
      "[CV] NN__alpha=0.001, NN__hidden_layer_sizes=(50, 50) ................\n",
      "[CV]  NN__alpha=0.001, NN__hidden_layer_sizes=(50, 50), score=0.7335, total=   0.5s\n",
      "[CV] NN__alpha=0.001, NN__hidden_layer_sizes=(50, 50) ................\n",
      "[CV]  NN__alpha=0.001, NN__hidden_layer_sizes=(50, 50), score=0.7556666666666667, total=   0.5s\n",
      "[CV] NN__alpha=0.001, NN__hidden_layer_sizes=(50,) ...................\n",
      "[CV]  NN__alpha=0.001, NN__hidden_layer_sizes=(50,), score=0.6918461538461539, total=   0.4s\n",
      "[CV] NN__alpha=0.001, NN__hidden_layer_sizes=(50,) ...................\n",
      "[CV]  NN__alpha=0.001, NN__hidden_layer_sizes=(50,), score=0.7306153846153847, total=   0.5s\n",
      "[CV] NN__alpha=0.001, NN__hidden_layer_sizes=(50,) ...................\n",
      "[CV]  NN__alpha=0.001, NN__hidden_layer_sizes=(50,), score=0.7992948717948718, total=   0.5s\n",
      "[CV] NN__alpha=0.001, NN__hidden_layer_sizes=(50,) ...................\n",
      "[CV]  NN__alpha=0.001, NN__hidden_layer_sizes=(50,), score=0.7058333333333334, total=   0.5s\n",
      "[CV] NN__alpha=0.001, NN__hidden_layer_sizes=(50,) ...................\n"
     ]
    },
    {
     "name": "stdout",
     "output_type": "stream",
     "text": [
      "[CV]  NN__alpha=0.001, NN__hidden_layer_sizes=(50,), score=0.6673333333333333, total=   0.5s\n",
      "[CV] NN__alpha=0.001, NN__hidden_layer_sizes=(25,) ...................\n",
      "[CV]  NN__alpha=0.001, NN__hidden_layer_sizes=(25,), score=0.09999999999999998, total=   0.3s\n",
      "[CV] NN__alpha=0.001, NN__hidden_layer_sizes=(25,) ...................\n",
      "[CV]  NN__alpha=0.001, NN__hidden_layer_sizes=(25,), score=0.19200000000000003, total=   0.4s\n",
      "[CV] NN__alpha=0.001, NN__hidden_layer_sizes=(25,) ...................\n",
      "[CV]  NN__alpha=0.001, NN__hidden_layer_sizes=(25,), score=0.2915, total=   0.4s\n",
      "[CV] NN__alpha=0.001, NN__hidden_layer_sizes=(25,) ...................\n",
      "[CV]  NN__alpha=0.001, NN__hidden_layer_sizes=(25,), score=0.653, total=   0.6s\n",
      "[CV] NN__alpha=0.001, NN__hidden_layer_sizes=(25,) ...................\n",
      "[CV]  NN__alpha=0.001, NN__hidden_layer_sizes=(25,), score=0.19166666666666665, total=   0.4s\n",
      "[CV] NN__alpha=0.001, NN__hidden_layer_sizes=(25, 25) ................\n",
      "[CV]  NN__alpha=0.001, NN__hidden_layer_sizes=(25, 25), score=0.6903076923076923, total=   0.6s\n",
      "[CV] NN__alpha=0.001, NN__hidden_layer_sizes=(25, 25) ................\n",
      "[CV]  NN__alpha=0.001, NN__hidden_layer_sizes=(25, 25), score=0.701846153846154, total=   0.5s\n",
      "[CV] NN__alpha=0.001, NN__hidden_layer_sizes=(25, 25) ................\n",
      "[CV]  NN__alpha=0.001, NN__hidden_layer_sizes=(25, 25), score=0.7669358974358974, total=   0.5s\n",
      "[CV] NN__alpha=0.001, NN__hidden_layer_sizes=(25, 25) ................\n",
      "[CV]  NN__alpha=0.001, NN__hidden_layer_sizes=(25, 25), score=0.7178333333333334, total=   0.5s\n",
      "[CV] NN__alpha=0.001, NN__hidden_layer_sizes=(25, 25) ................\n",
      "[CV]  NN__alpha=0.001, NN__hidden_layer_sizes=(25, 25), score=0.6753333333333333, total=   0.4s\n",
      "[CV] NN__alpha=0.001, NN__hidden_layer_sizes=(100, 25, 100) ..........\n",
      "[CV]  NN__alpha=0.001, NN__hidden_layer_sizes=(100, 25, 100), score=0.7376923076923078, total=   0.7s\n",
      "[CV] NN__alpha=0.001, NN__hidden_layer_sizes=(100, 25, 100) ..........\n",
      "[CV]  NN__alpha=0.001, NN__hidden_layer_sizes=(100, 25, 100), score=0.7141538461538463, total=   0.5s\n",
      "[CV] NN__alpha=0.001, NN__hidden_layer_sizes=(100, 25, 100) ..........\n",
      "[CV]  NN__alpha=0.001, NN__hidden_layer_sizes=(100, 25, 100), score=0.7951410256410256, total=   0.8s\n",
      "[CV] NN__alpha=0.001, NN__hidden_layer_sizes=(100, 25, 100) ..........\n",
      "[CV]  NN__alpha=0.001, NN__hidden_layer_sizes=(100, 25, 100), score=0.778, total=   0.9s\n",
      "[CV] NN__alpha=0.001, NN__hidden_layer_sizes=(100, 25, 100) ..........\n",
      "[CV]  NN__alpha=0.001, NN__hidden_layer_sizes=(100, 25, 100), score=0.7766666666666667, total=   1.1s\n",
      "[CV] NN__alpha=0.0001, NN__hidden_layer_sizes=(50, 50) ...............\n",
      "[CV]  NN__alpha=0.0001, NN__hidden_layer_sizes=(50, 50), score=0.7813846153846153, total=   0.8s\n",
      "[CV] NN__alpha=0.0001, NN__hidden_layer_sizes=(50, 50) ...............\n",
      "[CV]  NN__alpha=0.0001, NN__hidden_layer_sizes=(50, 50), score=0.7613846153846155, total=   0.6s\n",
      "[CV] NN__alpha=0.0001, NN__hidden_layer_sizes=(50, 50) ...............\n",
      "[CV]  NN__alpha=0.0001, NN__hidden_layer_sizes=(50, 50), score=0.8114615384615386, total=   0.6s\n",
      "[CV] NN__alpha=0.0001, NN__hidden_layer_sizes=(50, 50) ...............\n",
      "[CV]  NN__alpha=0.0001, NN__hidden_layer_sizes=(50, 50), score=0.7495, total=   0.6s\n",
      "[CV] NN__alpha=0.0001, NN__hidden_layer_sizes=(50, 50) ...............\n",
      "[CV]  NN__alpha=0.0001, NN__hidden_layer_sizes=(50, 50), score=0.7195, total=   0.5s\n",
      "[CV] NN__alpha=0.0001, NN__hidden_layer_sizes=(50,) ..................\n",
      "[CV]  NN__alpha=0.0001, NN__hidden_layer_sizes=(50,), score=0.6918461538461539, total=   0.5s\n",
      "[CV] NN__alpha=0.0001, NN__hidden_layer_sizes=(50,) ..................\n",
      "[CV]  NN__alpha=0.0001, NN__hidden_layer_sizes=(50,), score=0.713846153846154, total=   0.4s\n",
      "[CV] NN__alpha=0.0001, NN__hidden_layer_sizes=(50,) ..................\n",
      "[CV]  NN__alpha=0.0001, NN__hidden_layer_sizes=(50,), score=0.7952948717948718, total=   0.5s\n",
      "[CV] NN__alpha=0.0001, NN__hidden_layer_sizes=(50,) ..................\n",
      "[CV]  NN__alpha=0.0001, NN__hidden_layer_sizes=(50,), score=0.7058333333333334, total=   0.4s\n",
      "[CV] NN__alpha=0.0001, NN__hidden_layer_sizes=(50,) ..................\n",
      "[CV]  NN__alpha=0.0001, NN__hidden_layer_sizes=(50,), score=0.7038333333333334, total=   0.4s\n",
      "[CV] NN__alpha=0.0001, NN__hidden_layer_sizes=(25,) ..................\n",
      "[CV]  NN__alpha=0.0001, NN__hidden_layer_sizes=(25,), score=0.09999999999999998, total=   0.4s\n",
      "[CV] NN__alpha=0.0001, NN__hidden_layer_sizes=(25,) ..................\n",
      "[CV]  NN__alpha=0.0001, NN__hidden_layer_sizes=(25,), score=0.19200000000000003, total=   0.3s\n",
      "[CV] NN__alpha=0.0001, NN__hidden_layer_sizes=(25,) ..................\n",
      "[CV]  NN__alpha=0.0001, NN__hidden_layer_sizes=(25,), score=0.2915, total=   0.4s\n",
      "[CV] NN__alpha=0.0001, NN__hidden_layer_sizes=(25,) ..................\n",
      "[CV]  NN__alpha=0.0001, NN__hidden_layer_sizes=(25,), score=0.653, total=   0.5s\n",
      "[CV] NN__alpha=0.0001, NN__hidden_layer_sizes=(25,) ..................\n",
      "[CV]  NN__alpha=0.0001, NN__hidden_layer_sizes=(25,), score=0.19166666666666665, total=   0.3s\n",
      "[CV] NN__alpha=0.0001, NN__hidden_layer_sizes=(25, 25) ...............\n",
      "[CV]  NN__alpha=0.0001, NN__hidden_layer_sizes=(25, 25), score=0.7138461538461538, total=   0.6s\n",
      "[CV] NN__alpha=0.0001, NN__hidden_layer_sizes=(25, 25) ...............\n",
      "[CV]  NN__alpha=0.0001, NN__hidden_layer_sizes=(25, 25), score=0.725846153846154, total=   0.5s\n",
      "[CV] NN__alpha=0.0001, NN__hidden_layer_sizes=(25, 25) ...............\n",
      "[CV]  NN__alpha=0.0001, NN__hidden_layer_sizes=(25, 25), score=0.803128205128205, total=   0.6s\n",
      "[CV] NN__alpha=0.0001, NN__hidden_layer_sizes=(25, 25) ...............\n",
      "[CV]  NN__alpha=0.0001, NN__hidden_layer_sizes=(25, 25), score=0.7258333333333333, total=   0.5s\n",
      "[CV] NN__alpha=0.0001, NN__hidden_layer_sizes=(25, 25) ...............\n",
      "[CV]  NN__alpha=0.0001, NN__hidden_layer_sizes=(25, 25), score=0.6795, total=   0.4s\n",
      "[CV] NN__alpha=0.0001, NN__hidden_layer_sizes=(100, 25, 100) .........\n",
      "[CV]  NN__alpha=0.0001, NN__hidden_layer_sizes=(100, 25, 100), score=0.7416923076923078, total=   0.7s\n",
      "[CV] NN__alpha=0.0001, NN__hidden_layer_sizes=(100, 25, 100) .........\n",
      "[CV]  NN__alpha=0.0001, NN__hidden_layer_sizes=(100, 25, 100), score=0.7456923076923078, total=   0.8s\n",
      "[CV] NN__alpha=0.0001, NN__hidden_layer_sizes=(100, 25, 100) .........\n",
      "[CV]  NN__alpha=0.0001, NN__hidden_layer_sizes=(100, 25, 100), score=0.8161025641025641, total=   1.0s\n",
      "[CV] NN__alpha=0.0001, NN__hidden_layer_sizes=(100, 25, 100) .........\n",
      "[CV]  NN__alpha=0.0001, NN__hidden_layer_sizes=(100, 25, 100), score=0.7621666666666668, total=   0.8s\n",
      "[CV] NN__alpha=0.0001, NN__hidden_layer_sizes=(100, 25, 100) .........\n",
      "[CV]  NN__alpha=0.0001, NN__hidden_layer_sizes=(100, 25, 100), score=0.7730000000000001, total=   0.9s\n"
     ]
    },
    {
     "name": "stderr",
     "output_type": "stream",
     "text": [
      "[Parallel(n_jobs=1)]: Done 100 out of 100 | elapsed:   57.3s finished\n",
      "/Users/frankz/anaconda3/lib/python3.7/site-packages/sklearn/model_selection/_search.py:841: DeprecationWarning: The default of the `iid` parameter will change from True to False in version 0.22 and will be removed in 0.24. This will change numeric results when test-set sizes are unequal.\n",
      "  DeprecationWarning)\n"
     ]
    }
   ],
   "source": [
    "pipe = Pipeline([('filtr', filtr), ('km', km), ('NN', mlp)])\n",
    "gs, best_estimator, final_estimator = gs_with_best_estimator(pipe, grid)"
   ]
  },
  {
   "cell_type": "code",
   "execution_count": 196,
   "metadata": {},
   "outputs": [
    {
     "data": {
      "text/plain": [
       "Pipeline(memory=None,\n",
       "     steps=[('filtr', ImportanceSelect(model=RandomForestClassifier(bootstrap=True, class_weight='balanced',\n",
       "            criterion='gini', max_depth=None, max_features='auto',\n",
       "            max_leaf_nodes=None, min_impurity_decrease=0.0,\n",
       "            min_impurity_split=None, min_samples_leaf=1,\n",
       "            ...=True, solver='adam', tol=0.0001,\n",
       "       validation_fraction=0.1, verbose=False, warm_start=False))])"
      ]
     },
     "execution_count": 196,
     "metadata": {},
     "output_type": "execute_result"
    }
   ],
   "source": [
    "best_estimator"
   ]
  },
  {
   "cell_type": "code",
   "execution_count": 197,
   "metadata": {},
   "outputs": [
    {
     "data": {
      "text/plain": [
       "MLPClassifier(activation='relu', alpha=0.1, batch_size='auto', beta_1=0.9,\n",
       "       beta_2=0.999, early_stopping=True, epsilon=1e-08,\n",
       "       hidden_layer_sizes=(100, 25, 100), learning_rate='constant',\n",
       "       learning_rate_init=0.001, max_iter=2000, momentum=0.9,\n",
       "       n_iter_no_change=10, nesterovs_momentum=True, power_t=0.5,\n",
       "       random_state=7, shuffle=True, solver='adam', tol=0.0001,\n",
       "       validation_fraction=0.1, verbose=False, warm_start=False)"
      ]
     },
     "execution_count": 197,
     "metadata": {},
     "output_type": "execute_result"
    }
   ],
   "source": [
    "final_estimator"
   ]
  },
  {
   "cell_type": "code",
   "execution_count": 198,
   "metadata": {
    "scrolled": true
   },
   "outputs": [
    {
     "data": {
      "text/plain": [
       "0.8687350835322196"
      ]
     },
     "execution_count": 198,
     "metadata": {},
     "output_type": "execute_result"
    }
   ],
   "source": [
    "best_estimator.score(training_x, training_y)"
   ]
  },
  {
   "cell_type": "code",
   "execution_count": 199,
   "metadata": {
    "scrolled": true
   },
   "outputs": [
    {
     "data": {
      "text/plain": [
       "0.8611111111111112"
      ]
     },
     "execution_count": 199,
     "metadata": {},
     "output_type": "execute_result"
    }
   ],
   "source": [
    "best_estimator.score(testing_x, testing_y)"
   ]
  },
  {
   "cell_type": "code",
   "execution_count": 200,
   "metadata": {
    "scrolled": true
   },
   "outputs": [
    {
     "name": "stdout",
     "output_type": "stream",
     "text": [
      "Fitting 5 folds for each of 20 candidates, totalling 100 fits\n",
      "[CV] NN__alpha=0.1, NN__hidden_layer_sizes=(50, 50) ..................\n"
     ]
    },
    {
     "name": "stderr",
     "output_type": "stream",
     "text": [
      "[Parallel(n_jobs=1)]: Using backend SequentialBackend with 1 concurrent workers.\n"
     ]
    },
    {
     "name": "stdout",
     "output_type": "stream",
     "text": [
      "[CV]  NN__alpha=0.1, NN__hidden_layer_sizes=(50, 50), score=0.5758461538461538, total=   0.5s\n",
      "[CV] NN__alpha=0.1, NN__hidden_layer_sizes=(50, 50) ..................\n"
     ]
    },
    {
     "name": "stderr",
     "output_type": "stream",
     "text": [
      "[Parallel(n_jobs=1)]: Done   1 out of   1 | elapsed:    0.5s remaining:    0.0s\n"
     ]
    },
    {
     "name": "stdout",
     "output_type": "stream",
     "text": [
      "[CV]  NN__alpha=0.1, NN__hidden_layer_sizes=(50, 50), score=0.6001538461538463, total=   0.5s\n",
      "[CV] NN__alpha=0.1, NN__hidden_layer_sizes=(50, 50) ..................\n"
     ]
    },
    {
     "name": "stderr",
     "output_type": "stream",
     "text": [
      "[Parallel(n_jobs=1)]: Done   2 out of   2 | elapsed:    1.0s remaining:    0.0s\n"
     ]
    },
    {
     "name": "stdout",
     "output_type": "stream",
     "text": [
      "[CV]  NN__alpha=0.1, NN__hidden_layer_sizes=(50, 50), score=0.508, total=   0.5s\n",
      "[CV] NN__alpha=0.1, NN__hidden_layer_sizes=(50, 50) ..................\n"
     ]
    },
    {
     "name": "stderr",
     "output_type": "stream",
     "text": [
      "[Parallel(n_jobs=1)]: Done   3 out of   3 | elapsed:    1.5s remaining:    0.0s\n"
     ]
    },
    {
     "name": "stdout",
     "output_type": "stream",
     "text": [
      "[CV]  NN__alpha=0.1, NN__hidden_layer_sizes=(50, 50), score=0.5488333333333334, total=   0.5s\n",
      "[CV] NN__alpha=0.1, NN__hidden_layer_sizes=(50, 50) ..................\n"
     ]
    },
    {
     "name": "stderr",
     "output_type": "stream",
     "text": [
      "[Parallel(n_jobs=1)]: Done   4 out of   4 | elapsed:    2.0s remaining:    0.0s\n"
     ]
    },
    {
     "name": "stdout",
     "output_type": "stream",
     "text": [
      "[CV]  NN__alpha=0.1, NN__hidden_layer_sizes=(50, 50), score=0.5643333333333335, total=   0.6s\n",
      "[CV] NN__alpha=0.1, NN__hidden_layer_sizes=(50,) .....................\n"
     ]
    },
    {
     "name": "stderr",
     "output_type": "stream",
     "text": [
      "[Parallel(n_jobs=1)]: Done   5 out of   5 | elapsed:    2.6s remaining:    0.0s\n"
     ]
    },
    {
     "name": "stdout",
     "output_type": "stream",
     "text": [
      "[CV]  NN__alpha=0.1, NN__hidden_layer_sizes=(50,), score=0.5763076923076923, total=   0.4s\n",
      "[CV] NN__alpha=0.1, NN__hidden_layer_sizes=(50,) .....................\n"
     ]
    },
    {
     "name": "stderr",
     "output_type": "stream",
     "text": [
      "[Parallel(n_jobs=1)]: Done   6 out of   6 | elapsed:    3.0s remaining:    0.0s\n"
     ]
    },
    {
     "name": "stdout",
     "output_type": "stream",
     "text": [
      "[CV]  NN__alpha=0.1, NN__hidden_layer_sizes=(50,), score=0.6040000000000001, total=   0.4s\n",
      "[CV] NN__alpha=0.1, NN__hidden_layer_sizes=(50,) .....................\n"
     ]
    },
    {
     "name": "stderr",
     "output_type": "stream",
     "text": [
      "[Parallel(n_jobs=1)]: Done   7 out of   7 | elapsed:    3.4s remaining:    0.0s\n"
     ]
    },
    {
     "name": "stdout",
     "output_type": "stream",
     "text": [
      "[CV]  NN__alpha=0.1, NN__hidden_layer_sizes=(50,), score=0.536923076923077, total=   0.4s\n",
      "[CV] NN__alpha=0.1, NN__hidden_layer_sizes=(50,) .....................\n"
     ]
    },
    {
     "name": "stderr",
     "output_type": "stream",
     "text": [
      "[Parallel(n_jobs=1)]: Done   8 out of   8 | elapsed:    3.8s remaining:    0.0s\n"
     ]
    },
    {
     "name": "stdout",
     "output_type": "stream",
     "text": [
      "[CV]  NN__alpha=0.1, NN__hidden_layer_sizes=(50,), score=0.5128333333333334, total=   0.3s\n",
      "[CV] NN__alpha=0.1, NN__hidden_layer_sizes=(50,) .....................\n"
     ]
    },
    {
     "name": "stderr",
     "output_type": "stream",
     "text": [
      "[Parallel(n_jobs=1)]: Done   9 out of   9 | elapsed:    4.1s remaining:    0.0s\n"
     ]
    },
    {
     "name": "stdout",
     "output_type": "stream",
     "text": [
      "[CV]  NN__alpha=0.1, NN__hidden_layer_sizes=(50,), score=0.516, total=   0.4s\n",
      "[CV] NN__alpha=0.1, NN__hidden_layer_sizes=(25,) .....................\n",
      "[CV]  NN__alpha=0.1, NN__hidden_layer_sizes=(25,), score=0.4193846153846153, total=   0.4s\n",
      "[CV] NN__alpha=0.1, NN__hidden_layer_sizes=(25,) .....................\n",
      "[CV]  NN__alpha=0.1, NN__hidden_layer_sizes=(25,), score=0.6050769230769232, total=   0.4s\n",
      "[CV] NN__alpha=0.1, NN__hidden_layer_sizes=(25,) .....................\n",
      "[CV]  NN__alpha=0.1, NN__hidden_layer_sizes=(25,), score=0.4878333333333334, total=   0.4s\n",
      "[CV] NN__alpha=0.1, NN__hidden_layer_sizes=(25,) .....................\n",
      "[CV]  NN__alpha=0.1, NN__hidden_layer_sizes=(25,), score=0.09999999999999998, total=   0.3s\n",
      "[CV] NN__alpha=0.1, NN__hidden_layer_sizes=(25,) .....................\n",
      "[CV]  NN__alpha=0.1, NN__hidden_layer_sizes=(25,), score=0.15950000000000003, total=   0.5s\n",
      "[CV] NN__alpha=0.1, NN__hidden_layer_sizes=(25, 25) ..................\n",
      "[CV]  NN__alpha=0.1, NN__hidden_layer_sizes=(25, 25), score=0.5835384615384615, total=   0.4s\n",
      "[CV] NN__alpha=0.1, NN__hidden_layer_sizes=(25, 25) ..................\n",
      "[CV]  NN__alpha=0.1, NN__hidden_layer_sizes=(25, 25), score=0.6210769230769233, total=   0.4s\n",
      "[CV] NN__alpha=0.1, NN__hidden_layer_sizes=(25, 25) ..................\n",
      "[CV]  NN__alpha=0.1, NN__hidden_layer_sizes=(25, 25), score=0.4753333333333334, total=   0.4s\n",
      "[CV] NN__alpha=0.1, NN__hidden_layer_sizes=(25, 25) ..................\n",
      "[CV]  NN__alpha=0.1, NN__hidden_layer_sizes=(25, 25), score=0.5169999999999999, total=   0.4s\n",
      "[CV] NN__alpha=0.1, NN__hidden_layer_sizes=(25, 25) ..................\n",
      "[CV]  NN__alpha=0.1, NN__hidden_layer_sizes=(25, 25), score=0.5645, total=   0.5s\n",
      "[CV] NN__alpha=0.1, NN__hidden_layer_sizes=(100, 25, 100) ............\n",
      "[CV]  NN__alpha=0.1, NN__hidden_layer_sizes=(100, 25, 100), score=0.5646153846153845, total=   0.5s\n",
      "[CV] NN__alpha=0.1, NN__hidden_layer_sizes=(100, 25, 100) ............\n",
      "[CV]  NN__alpha=0.1, NN__hidden_layer_sizes=(100, 25, 100), score=0.6201538461538463, total=   0.5s\n",
      "[CV] NN__alpha=0.1, NN__hidden_layer_sizes=(100, 25, 100) ............\n",
      "[CV]  NN__alpha=0.1, NN__hidden_layer_sizes=(100, 25, 100), score=0.5328333333333334, total=   0.6s\n",
      "[CV] NN__alpha=0.1, NN__hidden_layer_sizes=(100, 25, 100) ............\n",
      "[CV]  NN__alpha=0.1, NN__hidden_layer_sizes=(100, 25, 100), score=0.549, total=   0.5s\n",
      "[CV] NN__alpha=0.1, NN__hidden_layer_sizes=(100, 25, 100) ............\n",
      "[CV]  NN__alpha=0.1, NN__hidden_layer_sizes=(100, 25, 100), score=0.5643333333333334, total=   0.6s\n",
      "[CV] NN__alpha=0.01, NN__hidden_layer_sizes=(50, 50) .................\n",
      "[CV]  NN__alpha=0.01, NN__hidden_layer_sizes=(50, 50), score=0.5758461538461538, total=   0.4s\n",
      "[CV] NN__alpha=0.01, NN__hidden_layer_sizes=(50, 50) .................\n",
      "[CV]  NN__alpha=0.01, NN__hidden_layer_sizes=(50, 50), score=0.6001538461538463, total=   0.5s\n",
      "[CV] NN__alpha=0.01, NN__hidden_layer_sizes=(50, 50) .................\n",
      "[CV]  NN__alpha=0.01, NN__hidden_layer_sizes=(50, 50), score=0.508, total=   0.5s\n",
      "[CV] NN__alpha=0.01, NN__hidden_layer_sizes=(50, 50) .................\n",
      "[CV]  NN__alpha=0.01, NN__hidden_layer_sizes=(50, 50), score=0.5488333333333334, total=   0.5s\n",
      "[CV] NN__alpha=0.01, NN__hidden_layer_sizes=(50, 50) .................\n",
      "[CV]  NN__alpha=0.01, NN__hidden_layer_sizes=(50, 50), score=0.5643333333333335, total=   0.5s\n",
      "[CV] NN__alpha=0.01, NN__hidden_layer_sizes=(50,) ....................\n",
      "[CV]  NN__alpha=0.01, NN__hidden_layer_sizes=(50,), score=0.5723076923076923, total=   0.3s\n",
      "[CV] NN__alpha=0.01, NN__hidden_layer_sizes=(50,) ....................\n",
      "[CV]  NN__alpha=0.01, NN__hidden_layer_sizes=(50,), score=0.6040000000000001, total=   0.3s\n",
      "[CV] NN__alpha=0.01, NN__hidden_layer_sizes=(50,) ....................\n",
      "[CV]  NN__alpha=0.01, NN__hidden_layer_sizes=(50,), score=0.536923076923077, total=   0.4s\n",
      "[CV] NN__alpha=0.01, NN__hidden_layer_sizes=(50,) ....................\n",
      "[CV]  NN__alpha=0.01, NN__hidden_layer_sizes=(50,), score=0.5128333333333334, total=   0.3s\n",
      "[CV] NN__alpha=0.01, NN__hidden_layer_sizes=(50,) ....................\n",
      "[CV]  NN__alpha=0.01, NN__hidden_layer_sizes=(50,), score=0.5805, total=   0.4s\n",
      "[CV] NN__alpha=0.01, NN__hidden_layer_sizes=(25,) ....................\n",
      "[CV]  NN__alpha=0.01, NN__hidden_layer_sizes=(25,), score=0.4193846153846153, total=   0.3s\n",
      "[CV] NN__alpha=0.01, NN__hidden_layer_sizes=(25,) ....................\n",
      "[CV]  NN__alpha=0.01, NN__hidden_layer_sizes=(25,), score=0.6050769230769232, total=   0.4s\n",
      "[CV] NN__alpha=0.01, NN__hidden_layer_sizes=(25,) ....................\n",
      "[CV]  NN__alpha=0.01, NN__hidden_layer_sizes=(25,), score=0.49183333333333334, total=   0.4s\n",
      "[CV] NN__alpha=0.01, NN__hidden_layer_sizes=(25,) ....................\n",
      "[CV]  NN__alpha=0.01, NN__hidden_layer_sizes=(25,), score=0.09999999999999998, total=   0.4s\n",
      "[CV] NN__alpha=0.01, NN__hidden_layer_sizes=(25,) ....................\n",
      "[CV]  NN__alpha=0.01, NN__hidden_layer_sizes=(25,), score=0.15950000000000003, total=   0.4s\n",
      "[CV] NN__alpha=0.01, NN__hidden_layer_sizes=(25, 25) .................\n",
      "[CV]  NN__alpha=0.01, NN__hidden_layer_sizes=(25, 25), score=0.5835384615384615, total=   0.4s\n",
      "[CV] NN__alpha=0.01, NN__hidden_layer_sizes=(25, 25) .................\n",
      "[CV]  NN__alpha=0.01, NN__hidden_layer_sizes=(25, 25), score=0.6250769230769233, total=   0.4s\n",
      "[CV] NN__alpha=0.01, NN__hidden_layer_sizes=(25, 25) .................\n",
      "[CV]  NN__alpha=0.01, NN__hidden_layer_sizes=(25, 25), score=0.4753333333333334, total=   0.3s\n",
      "[CV] NN__alpha=0.01, NN__hidden_layer_sizes=(25, 25) .................\n",
      "[CV]  NN__alpha=0.01, NN__hidden_layer_sizes=(25, 25), score=0.5169999999999999, total=   0.4s\n",
      "[CV] NN__alpha=0.01, NN__hidden_layer_sizes=(25, 25) .................\n",
      "[CV]  NN__alpha=0.01, NN__hidden_layer_sizes=(25, 25), score=0.5645, total=   0.5s\n",
      "[CV] NN__alpha=0.01, NN__hidden_layer_sizes=(100, 25, 100) ...........\n",
      "[CV]  NN__alpha=0.01, NN__hidden_layer_sizes=(100, 25, 100), score=0.5646153846153845, total=   0.4s\n",
      "[CV] NN__alpha=0.01, NN__hidden_layer_sizes=(100, 25, 100) ...........\n",
      "[CV]  NN__alpha=0.01, NN__hidden_layer_sizes=(100, 25, 100), score=0.6203076923076924, total=   0.6s\n",
      "[CV] NN__alpha=0.01, NN__hidden_layer_sizes=(100, 25, 100) ...........\n",
      "[CV]  NN__alpha=0.01, NN__hidden_layer_sizes=(100, 25, 100), score=0.5291666666666668, total=   0.6s\n",
      "[CV] NN__alpha=0.01, NN__hidden_layer_sizes=(100, 25, 100) ...........\n",
      "[CV]  NN__alpha=0.01, NN__hidden_layer_sizes=(100, 25, 100), score=0.5406666666666667, total=   0.5s\n",
      "[CV] NN__alpha=0.01, NN__hidden_layer_sizes=(100, 25, 100) ...........\n",
      "[CV]  NN__alpha=0.01, NN__hidden_layer_sizes=(100, 25, 100), score=0.5643333333333334, total=   0.6s\n",
      "[CV] NN__alpha=0.001, NN__hidden_layer_sizes=(50, 50) ................\n",
      "[CV]  NN__alpha=0.001, NN__hidden_layer_sizes=(50, 50), score=0.5758461538461538, total=   0.4s\n",
      "[CV] NN__alpha=0.001, NN__hidden_layer_sizes=(50, 50) ................\n",
      "[CV]  NN__alpha=0.001, NN__hidden_layer_sizes=(50, 50), score=0.5809230769230771, total=   0.4s\n",
      "[CV] NN__alpha=0.001, NN__hidden_layer_sizes=(50, 50) ................\n",
      "[CV]  NN__alpha=0.001, NN__hidden_layer_sizes=(50, 50), score=0.508, total=   0.5s\n",
      "[CV] NN__alpha=0.001, NN__hidden_layer_sizes=(50, 50) ................\n",
      "[CV]  NN__alpha=0.001, NN__hidden_layer_sizes=(50, 50), score=0.5488333333333334, total=   0.5s\n",
      "[CV] NN__alpha=0.001, NN__hidden_layer_sizes=(50, 50) ................\n",
      "[CV]  NN__alpha=0.001, NN__hidden_layer_sizes=(50, 50), score=0.5643333333333335, total=   0.5s\n",
      "[CV] NN__alpha=0.001, NN__hidden_layer_sizes=(50,) ...................\n",
      "[CV]  NN__alpha=0.001, NN__hidden_layer_sizes=(50,), score=0.5801538461538461, total=   0.4s\n",
      "[CV] NN__alpha=0.001, NN__hidden_layer_sizes=(50,) ...................\n",
      "[CV]  NN__alpha=0.001, NN__hidden_layer_sizes=(50,), score=0.6040000000000001, total=   0.3s\n",
      "[CV] NN__alpha=0.001, NN__hidden_layer_sizes=(50,) ...................\n",
      "[CV]  NN__alpha=0.001, NN__hidden_layer_sizes=(50,), score=0.536923076923077, total=   0.4s\n",
      "[CV] NN__alpha=0.001, NN__hidden_layer_sizes=(50,) ...................\n",
      "[CV]  NN__alpha=0.001, NN__hidden_layer_sizes=(50,), score=0.5128333333333334, total=   0.3s\n",
      "[CV] NN__alpha=0.001, NN__hidden_layer_sizes=(50,) ...................\n"
     ]
    },
    {
     "name": "stdout",
     "output_type": "stream",
     "text": [
      "[CV]  NN__alpha=0.001, NN__hidden_layer_sizes=(50,), score=0.5805, total=   0.5s\n",
      "[CV] NN__alpha=0.001, NN__hidden_layer_sizes=(25,) ...................\n",
      "[CV]  NN__alpha=0.001, NN__hidden_layer_sizes=(25,), score=0.4193846153846153, total=   0.4s\n",
      "[CV] NN__alpha=0.001, NN__hidden_layer_sizes=(25,) ...................\n",
      "[CV]  NN__alpha=0.001, NN__hidden_layer_sizes=(25,), score=0.6050769230769232, total=   0.4s\n",
      "[CV] NN__alpha=0.001, NN__hidden_layer_sizes=(25,) ...................\n",
      "[CV]  NN__alpha=0.001, NN__hidden_layer_sizes=(25,), score=0.49183333333333334, total=   0.4s\n",
      "[CV] NN__alpha=0.001, NN__hidden_layer_sizes=(25,) ...................\n",
      "[CV]  NN__alpha=0.001, NN__hidden_layer_sizes=(25,), score=0.09999999999999998, total=   0.3s\n",
      "[CV] NN__alpha=0.001, NN__hidden_layer_sizes=(25,) ...................\n",
      "[CV]  NN__alpha=0.001, NN__hidden_layer_sizes=(25,), score=0.15950000000000003, total=   0.3s\n",
      "[CV] NN__alpha=0.001, NN__hidden_layer_sizes=(25, 25) ................\n",
      "[CV]  NN__alpha=0.001, NN__hidden_layer_sizes=(25, 25), score=0.5835384615384615, total=   0.4s\n",
      "[CV] NN__alpha=0.001, NN__hidden_layer_sizes=(25, 25) ................\n",
      "[CV]  NN__alpha=0.001, NN__hidden_layer_sizes=(25, 25), score=0.6250769230769233, total=   0.4s\n",
      "[CV] NN__alpha=0.001, NN__hidden_layer_sizes=(25, 25) ................\n",
      "[CV]  NN__alpha=0.001, NN__hidden_layer_sizes=(25, 25), score=0.4753333333333334, total=   0.4s\n",
      "[CV] NN__alpha=0.001, NN__hidden_layer_sizes=(25, 25) ................\n",
      "[CV]  NN__alpha=0.001, NN__hidden_layer_sizes=(25, 25), score=0.5169999999999999, total=   0.4s\n",
      "[CV] NN__alpha=0.001, NN__hidden_layer_sizes=(25, 25) ................\n",
      "[CV]  NN__alpha=0.001, NN__hidden_layer_sizes=(25, 25), score=0.5645, total=   0.5s\n",
      "[CV] NN__alpha=0.001, NN__hidden_layer_sizes=(100, 25, 100) ..........\n",
      "[CV]  NN__alpha=0.001, NN__hidden_layer_sizes=(100, 25, 100), score=0.5646153846153845, total=   0.4s\n",
      "[CV] NN__alpha=0.001, NN__hidden_layer_sizes=(100, 25, 100) ..........\n",
      "[CV]  NN__alpha=0.001, NN__hidden_layer_sizes=(100, 25, 100), score=0.6243076923076925, total=   0.6s\n",
      "[CV] NN__alpha=0.001, NN__hidden_layer_sizes=(100, 25, 100) ..........\n",
      "[CV]  NN__alpha=0.001, NN__hidden_layer_sizes=(100, 25, 100), score=0.5291666666666668, total=   0.6s\n",
      "[CV] NN__alpha=0.001, NN__hidden_layer_sizes=(100, 25, 100) ..........\n",
      "[CV]  NN__alpha=0.001, NN__hidden_layer_sizes=(100, 25, 100), score=0.5406666666666667, total=   0.5s\n",
      "[CV] NN__alpha=0.001, NN__hidden_layer_sizes=(100, 25, 100) ..........\n",
      "[CV]  NN__alpha=0.001, NN__hidden_layer_sizes=(100, 25, 100), score=0.5643333333333334, total=   0.7s\n",
      "[CV] NN__alpha=0.0001, NN__hidden_layer_sizes=(50, 50) ...............\n",
      "[CV]  NN__alpha=0.0001, NN__hidden_layer_sizes=(50, 50), score=0.5758461538461538, total=   0.5s\n",
      "[CV] NN__alpha=0.0001, NN__hidden_layer_sizes=(50, 50) ...............\n",
      "[CV]  NN__alpha=0.0001, NN__hidden_layer_sizes=(50, 50), score=0.5809230769230771, total=   0.5s\n",
      "[CV] NN__alpha=0.0001, NN__hidden_layer_sizes=(50, 50) ...............\n",
      "[CV]  NN__alpha=0.0001, NN__hidden_layer_sizes=(50, 50), score=0.508, total=   0.5s\n",
      "[CV] NN__alpha=0.0001, NN__hidden_layer_sizes=(50, 50) ...............\n",
      "[CV]  NN__alpha=0.0001, NN__hidden_layer_sizes=(50, 50), score=0.5488333333333334, total=   0.6s\n",
      "[CV] NN__alpha=0.0001, NN__hidden_layer_sizes=(50, 50) ...............\n",
      "[CV]  NN__alpha=0.0001, NN__hidden_layer_sizes=(50, 50), score=0.5643333333333335, total=   0.6s\n",
      "[CV] NN__alpha=0.0001, NN__hidden_layer_sizes=(50,) ..................\n",
      "[CV]  NN__alpha=0.0001, NN__hidden_layer_sizes=(50,), score=0.5801538461538461, total=   0.4s\n",
      "[CV] NN__alpha=0.0001, NN__hidden_layer_sizes=(50,) ..................\n",
      "[CV]  NN__alpha=0.0001, NN__hidden_layer_sizes=(50,), score=0.6040000000000001, total=   0.4s\n",
      "[CV] NN__alpha=0.0001, NN__hidden_layer_sizes=(50,) ..................\n",
      "[CV]  NN__alpha=0.0001, NN__hidden_layer_sizes=(50,), score=0.536923076923077, total=   0.4s\n",
      "[CV] NN__alpha=0.0001, NN__hidden_layer_sizes=(50,) ..................\n",
      "[CV]  NN__alpha=0.0001, NN__hidden_layer_sizes=(50,), score=0.5128333333333334, total=   0.3s\n",
      "[CV] NN__alpha=0.0001, NN__hidden_layer_sizes=(50,) ..................\n",
      "[CV]  NN__alpha=0.0001, NN__hidden_layer_sizes=(50,), score=0.5805, total=   0.5s\n",
      "[CV] NN__alpha=0.0001, NN__hidden_layer_sizes=(25,) ..................\n",
      "[CV]  NN__alpha=0.0001, NN__hidden_layer_sizes=(25,), score=0.4193846153846153, total=   0.3s\n",
      "[CV] NN__alpha=0.0001, NN__hidden_layer_sizes=(25,) ..................\n",
      "[CV]  NN__alpha=0.0001, NN__hidden_layer_sizes=(25,), score=0.6050769230769232, total=   0.4s\n",
      "[CV] NN__alpha=0.0001, NN__hidden_layer_sizes=(25,) ..................\n",
      "[CV]  NN__alpha=0.0001, NN__hidden_layer_sizes=(25,), score=0.49583333333333335, total=   0.4s\n",
      "[CV] NN__alpha=0.0001, NN__hidden_layer_sizes=(25,) ..................\n",
      "[CV]  NN__alpha=0.0001, NN__hidden_layer_sizes=(25,), score=0.09999999999999998, total=   0.3s\n",
      "[CV] NN__alpha=0.0001, NN__hidden_layer_sizes=(25,) ..................\n",
      "[CV]  NN__alpha=0.0001, NN__hidden_layer_sizes=(25,), score=0.15950000000000003, total=   0.4s\n",
      "[CV] NN__alpha=0.0001, NN__hidden_layer_sizes=(25, 25) ...............\n",
      "[CV]  NN__alpha=0.0001, NN__hidden_layer_sizes=(25, 25), score=0.5835384615384615, total=   0.4s\n",
      "[CV] NN__alpha=0.0001, NN__hidden_layer_sizes=(25, 25) ...............\n",
      "[CV]  NN__alpha=0.0001, NN__hidden_layer_sizes=(25, 25), score=0.6250769230769233, total=   0.4s\n",
      "[CV] NN__alpha=0.0001, NN__hidden_layer_sizes=(25, 25) ...............\n",
      "[CV]  NN__alpha=0.0001, NN__hidden_layer_sizes=(25, 25), score=0.4753333333333334, total=   0.4s\n",
      "[CV] NN__alpha=0.0001, NN__hidden_layer_sizes=(25, 25) ...............\n",
      "[CV]  NN__alpha=0.0001, NN__hidden_layer_sizes=(25, 25), score=0.5169999999999999, total=   0.4s\n",
      "[CV] NN__alpha=0.0001, NN__hidden_layer_sizes=(25, 25) ...............\n",
      "[CV]  NN__alpha=0.0001, NN__hidden_layer_sizes=(25, 25), score=0.5645, total=   0.5s\n",
      "[CV] NN__alpha=0.0001, NN__hidden_layer_sizes=(100, 25, 100) .........\n",
      "[CV]  NN__alpha=0.0001, NN__hidden_layer_sizes=(100, 25, 100), score=0.5646153846153845, total=   0.4s\n",
      "[CV] NN__alpha=0.0001, NN__hidden_layer_sizes=(100, 25, 100) .........\n",
      "[CV]  NN__alpha=0.0001, NN__hidden_layer_sizes=(100, 25, 100), score=0.6170769230769232, total=   0.5s\n",
      "[CV] NN__alpha=0.0001, NN__hidden_layer_sizes=(100, 25, 100) .........\n",
      "[CV]  NN__alpha=0.0001, NN__hidden_layer_sizes=(100, 25, 100), score=0.5291666666666668, total=   0.6s\n",
      "[CV] NN__alpha=0.0001, NN__hidden_layer_sizes=(100, 25, 100) .........\n",
      "[CV]  NN__alpha=0.0001, NN__hidden_layer_sizes=(100, 25, 100), score=0.549, total=   0.5s\n",
      "[CV] NN__alpha=0.0001, NN__hidden_layer_sizes=(100, 25, 100) .........\n",
      "[CV]  NN__alpha=0.0001, NN__hidden_layer_sizes=(100, 25, 100), score=0.5643333333333334, total=   0.5s\n"
     ]
    },
    {
     "name": "stderr",
     "output_type": "stream",
     "text": [
      "[Parallel(n_jobs=1)]: Done 100 out of 100 | elapsed:   44.8s finished\n",
      "/Users/frankz/anaconda3/lib/python3.7/site-packages/sklearn/model_selection/_search.py:841: DeprecationWarning: The default of the `iid` parameter will change from True to False in version 0.22 and will be removed in 0.24. This will change numeric results when test-set sizes are unequal.\n",
      "  DeprecationWarning)\n"
     ]
    }
   ],
   "source": [
    "pipe = Pipeline([('filtr', filtr), ('gmm', gmm), ('NN', mlp)])\n",
    "gs, best_estimator, final_estimator = gs_with_best_estimator(pipe, grid)"
   ]
  },
  {
   "cell_type": "code",
   "execution_count": 201,
   "metadata": {},
   "outputs": [
    {
     "data": {
      "text/plain": [
       "Pipeline(memory=None,\n",
       "     steps=[('filtr', ImportanceSelect(model=RandomForestClassifier(bootstrap=True, class_weight='balanced',\n",
       "            criterion='gini', max_depth=None, max_features='auto',\n",
       "            max_leaf_nodes=None, min_impurity_decrease=0.0,\n",
       "            min_impurity_split=None, min_samples_leaf=1,\n",
       "            ...=True, solver='adam', tol=0.0001,\n",
       "       validation_fraction=0.1, verbose=False, warm_start=False))])"
      ]
     },
     "execution_count": 201,
     "metadata": {},
     "output_type": "execute_result"
    }
   ],
   "source": [
    "best_estimator"
   ]
  },
  {
   "cell_type": "code",
   "execution_count": 202,
   "metadata": {},
   "outputs": [
    {
     "data": {
      "text/plain": [
       "MLPClassifier(activation='relu', alpha=0.1, batch_size='auto', beta_1=0.9,\n",
       "       beta_2=0.999, early_stopping=True, epsilon=1e-08,\n",
       "       hidden_layer_sizes=(100, 25, 100), learning_rate='constant',\n",
       "       learning_rate_init=0.001, max_iter=2000, momentum=0.9,\n",
       "       n_iter_no_change=10, nesterovs_momentum=True, power_t=0.5,\n",
       "       random_state=7, shuffle=True, solver='adam', tol=0.0001,\n",
       "       validation_fraction=0.1, verbose=False, warm_start=False)"
      ]
     },
     "execution_count": 202,
     "metadata": {},
     "output_type": "execute_result"
    }
   ],
   "source": [
    "final_estimator"
   ]
  },
  {
   "cell_type": "code",
   "execution_count": 203,
   "metadata": {
    "scrolled": true
   },
   "outputs": [
    {
     "data": {
      "text/plain": [
       "0.5600636435958631"
      ]
     },
     "execution_count": 203,
     "metadata": {},
     "output_type": "execute_result"
    }
   ],
   "source": [
    "best_estimator.score(training_x, training_y)"
   ]
  },
  {
   "cell_type": "code",
   "execution_count": 204,
   "metadata": {
    "scrolled": true
   },
   "outputs": [
    {
     "data": {
      "text/plain": [
       "0.5037037037037037"
      ]
     },
     "execution_count": 204,
     "metadata": {},
     "output_type": "execute_result"
    }
   ],
   "source": [
    "best_estimator.score(testing_x, testing_y)"
   ]
  },
  {
   "cell_type": "code",
   "execution_count": null,
   "metadata": {},
   "outputs": [],
   "source": []
  },
  {
   "cell_type": "code",
   "execution_count": null,
   "metadata": {},
   "outputs": [],
   "source": []
  },
  {
   "cell_type": "code",
   "execution_count": null,
   "metadata": {},
   "outputs": [],
   "source": []
  },
  {
   "cell_type": "code",
   "execution_count": null,
   "metadata": {},
   "outputs": [],
   "source": []
  },
  {
   "cell_type": "code",
   "execution_count": null,
   "metadata": {},
   "outputs": [],
   "source": []
  },
  {
   "cell_type": "code",
   "execution_count": null,
   "metadata": {},
   "outputs": [],
   "source": []
  },
  {
   "cell_type": "code",
   "execution_count": null,
   "metadata": {},
   "outputs": [],
   "source": []
  }
 ],
 "metadata": {
  "kernelspec": {
   "display_name": "Python 3",
   "language": "python",
   "name": "python3"
  },
  "language_info": {
   "codemirror_mode": {
    "name": "ipython",
    "version": 3
   },
   "file_extension": ".py",
   "mimetype": "text/x-python",
   "name": "python",
   "nbconvert_exporter": "python",
   "pygments_lexer": "ipython3",
   "version": "3.7.3"
  }
 },
 "nbformat": 4,
 "nbformat_minor": 2
}
